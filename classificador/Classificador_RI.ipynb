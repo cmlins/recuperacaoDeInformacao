{
  "nbformat": 4,
  "nbformat_minor": 0,
  "metadata": {
    "colab": {
      "name": "Copy of Classificador RI - bag of words",
      "provenance": [],
      "collapsed_sections": []
    },
    "kernelspec": {
      "name": "python3",
      "display_name": "Python 3"
    }
  },
  "cells": [
    {
      "cell_type": "code",
      "metadata": {
        "id": "ykQVbrbTPTcx",
        "colab_type": "code",
        "outputId": "3908b303-32a2-4215-f147-25bacc83c716",
        "colab": {
          "base_uri": "https://localhost:8080/",
          "height": 34
        }
      },
      "source": [
        "!pip install beautifulsoup4"
      ],
      "execution_count": 1,
      "outputs": [
        {
          "output_type": "stream",
          "text": [
            "Requirement already satisfied: beautifulsoup4 in /usr/local/lib/python3.6/dist-packages (4.6.3)\n"
          ],
          "name": "stdout"
        }
      ]
    },
    {
      "cell_type": "code",
      "metadata": {
        "id": "YfOflacEoPId",
        "colab_type": "code",
        "outputId": "4a3aeabd-a2f1-4346-ea26-1d2d7923260c",
        "colab": {
          "base_uri": "https://localhost:8080/",
          "height": 124
        }
      },
      "source": [
        "from google.colab import drive\n",
        "drive.mount('/content/drive')"
      ],
      "execution_count": 2,
      "outputs": [
        {
          "output_type": "stream",
          "text": [
            "Go to this URL in a browser: https://accounts.google.com/o/oauth2/auth?client_id=947318989803-6bn6qk8qdgf4n4g3pfee6491hc0brc4i.apps.googleusercontent.com&redirect_uri=urn%3Aietf%3Awg%3Aoauth%3A2.0%3Aoob&scope=email%20https%3A%2F%2Fwww.googleapis.com%2Fauth%2Fdocs.test%20https%3A%2F%2Fwww.googleapis.com%2Fauth%2Fdrive%20https%3A%2F%2Fwww.googleapis.com%2Fauth%2Fdrive.photos.readonly%20https%3A%2F%2Fwww.googleapis.com%2Fauth%2Fpeopleapi.readonly&response_type=code\n",
            "\n",
            "Enter your authorization code:\n",
            "··········\n",
            "Mounted at /content/drive\n"
          ],
          "name": "stdout"
        }
      ]
    },
    {
      "cell_type": "code",
      "metadata": {
        "id": "K9RJ2V57oLoW",
        "colab_type": "code",
        "colab": {}
      },
      "source": [
        "from bs4 import BeautifulSoup\n",
        "from bs4 import UnicodeDammit\n",
        "import glob"
      ],
      "execution_count": 0,
      "outputs": []
    },
    {
      "cell_type": "code",
      "metadata": {
        "id": "CmUjIyVIRenM",
        "colab_type": "code",
        "colab": {}
      },
      "source": [
        "pagesLocation = '/content/drive/My Drive/SITES BAIXADOS (Cris)/'"
      ],
      "execution_count": 0,
      "outputs": []
    },
    {
      "cell_type": "code",
      "metadata": {
        "id": "AeZ4bvvchGbN",
        "colab_type": "code",
        "colab": {}
      },
      "source": [
        "symbolsToReplace = [\n",
        "    '(', ')', '!', '?', ':', ';', '*', '.', ',', '★', '|', '+', '[', ']', '{', '}', '/', 'ª', 'º', '°', '-',\n",
        "    '%', '—', '@', '#',  '\\\"','\\'', '<', '>', '=', '´', '`', '“', '$', '&', '’', '¡', '€', 'µ', '¦',\n",
        "    '\\\\', '®', '™', '”', '…', '‘', '•', '😍','😙', '❤', '–', '⭐️', '_', '️⭐', '😉', '👏', '¹', '²', '³',\n",
        "    \"£\", '¢', '¬', '§', '~', '^', '×', '÷',\n",
        "    '\\u200c', '\\u200f', '\\u200e', '\\t', '\\xa0', '\\x03', '\\u0301', '\\u0303'\n",
        "]\n",
        "\n",
        "allowedSmallTokens = [\n",
        "  'fio', 'box', 'god', 'key', 'bit', 'led', 'faq', 'dog', 'sim', 'ovo', 'pão', 'aba', 'new'\n",
        "]"
      ],
      "execution_count": 0,
      "outputs": []
    },
    {
      "cell_type": "code",
      "metadata": {
        "id": "UdqbuYmjj2Yn",
        "colab_type": "code",
        "colab": {}
      },
      "source": [
        "stopwords = []\n",
        "with open(pagesLocation + 'stopwords.txt', 'r') as f:\n",
        "    stopwords = [line.strip() for line in f]"
      ],
      "execution_count": 0,
      "outputs": []
    },
    {
      "cell_type": "code",
      "metadata": {
        "colab_type": "code",
        "id": "Rf2e-vMjkI9v",
        "colab": {}
      },
      "source": [
        "def getAndCleanHTML(filepath):\n",
        "  \n",
        "  page = open(filepath, \"rb\")\n",
        "\n",
        "  page = page.read()\n",
        "\n",
        "  clearPage = UnicodeDammit.detwingle(page)\n",
        "  \n",
        "  doc = BeautifulSoup(clearPage, 'lxml')\n",
        "  \n",
        "  for script in doc([\"script\", \"style\"]):\n",
        "    script.extract()\n",
        "  \n",
        "  docText = doc.get_text(' ')\n",
        "  \n",
        "  docText = docText.translate({ord(ch): None for ch in '0123456789'})\n",
        "  \n",
        "  docText = docText.lower()\n",
        "  \n",
        "  docText = docText.replace(\"e-book\", \"ebook\")\n",
        "\n",
        "  docText = docText.replace(\"blu-ray\", \"bluray\")\n",
        "  \n",
        "  for symbol in symbolsToReplace:\n",
        "    docText = docText.replace(symbol, ' ')\n",
        "  \n",
        "  docText = docText.replace(\"  \", ' ')\n",
        "  \n",
        "  lines = (line.strip() for line in docText.splitlines())\n",
        "  \n",
        "  chunks = (phrase.strip() for line in lines for phrase in line.split(' '))\n",
        "\n",
        "  text = ' '.join(chunk for chunk in chunks if chunk)\n",
        "  \n",
        "  return text"
      ],
      "execution_count": 0,
      "outputs": []
    },
    {
      "cell_type": "code",
      "metadata": {
        "id": "59Q_LUuoR4Re",
        "colab_type": "code",
        "colab": {}
      },
      "source": [
        ""
      ],
      "execution_count": 0,
      "outputs": []
    },
    {
      "cell_type": "code",
      "metadata": {
        "id": "vFbAXlHepAr_",
        "colab_type": "code",
        "colab": {}
      },
      "source": [
        "allPositiveTexts = []\n",
        "allNegativeTexts = []"
      ],
      "execution_count": 0,
      "outputs": []
    },
    {
      "cell_type": "code",
      "metadata": {
        "id": "8HC6Vw210iHh",
        "colab_type": "code",
        "colab": {}
      },
      "source": [
        ""
      ],
      "execution_count": 0,
      "outputs": []
    },
    {
      "cell_type": "code",
      "metadata": {
        "id": "tPDt7_ClR4X8",
        "colab_type": "code",
        "colab": {}
      },
      "source": [
        "positiveFilesList = [f for f in glob.glob(pagesLocation + \"**/Positivas/*.html\", recursive=True)]\n",
        "negativeFilesList = [f for f in glob.glob(pagesLocation + \"**/Negativas/*.html\", recursive=True)]"
      ],
      "execution_count": 0,
      "outputs": []
    },
    {
      "cell_type": "code",
      "metadata": {
        "id": "RUIMHWPaR4bK",
        "colab_type": "code",
        "colab": {}
      },
      "source": [
        ""
      ],
      "execution_count": 0,
      "outputs": []
    },
    {
      "cell_type": "code",
      "metadata": {
        "id": "CDm-_-yDR4d0",
        "colab_type": "code",
        "outputId": "5b99a7a3-d46b-46bc-c27a-096816a1252d",
        "colab": {
          "base_uri": "https://localhost:8080/",
          "height": 34
        }
      },
      "source": [
        "\n",
        "  \n",
        "def extractText(filesList, allTexts):\n",
        "  for file in filesList:\n",
        "    cleanText = getAndCleanHTML(file)\n",
        "    allTexts.append(cleanText)\n",
        "\n",
        "extractText(positiveFilesList, allPositiveTexts)\n",
        "extractText(negativeFilesList, allNegativeTexts)\n",
        "\n",
        "print(len(positiveFilesList), len(allPositiveTexts))"
      ],
      "execution_count": 17,
      "outputs": [
        {
          "output_type": "stream",
          "text": [
            "244 244\n"
          ],
          "name": "stdout"
        }
      ]
    },
    {
      "cell_type": "code",
      "metadata": {
        "id": "caaWfn-IRe8t",
        "colab_type": "code",
        "colab": {}
      },
      "source": [
        "##import pprint"
      ],
      "execution_count": 0,
      "outputs": []
    },
    {
      "cell_type": "code",
      "metadata": {
        "id": "h8ARCeDh-Mv1",
        "colab_type": "code",
        "colab": {}
      },
      "source": [
        "##%pprint"
      ],
      "execution_count": 0,
      "outputs": []
    },
    {
      "cell_type": "code",
      "metadata": {
        "id": "Or6rNI_oEPvA",
        "colab_type": "code",
        "colab": {}
      },
      "source": [
        "positiveVocab = dict()\n",
        "negativeVocab = dict()"
      ],
      "execution_count": 0,
      "outputs": []
    },
    {
      "cell_type": "code",
      "metadata": {
        "id": "La-PgM_3EP_o",
        "colab_type": "code",
        "colab": {}
      },
      "source": [
        "def textToTokenList(text):\n",
        "  return text.split(' ')\n",
        "\n",
        "def removeStopwords(list):\n",
        "  return [word for word in list if word not in stopwords]\n",
        "\n",
        "def removeSmallTokens(list):\n",
        "  return [word for word in list if len(word)>3 or word in allowedSmallTokens ]\n",
        "\n",
        "def updateVocabulary(token, vocab):\n",
        "  if token in vocab:\n",
        "    vocab.update({token: vocab.get(token) + 1})\n",
        "  else:\n",
        "    vocab[token] = 1\n",
        "\n",
        "def buildUnorderedDict(allTexts, vocab):\n",
        "  for text in allTexts:\n",
        "    tokens = textToTokenList(text)\n",
        "    tokens = removeStopwords(tokens)\n",
        "    tokens = removeSmallTokens(tokens)\n",
        "    for token in tokens:\n",
        "      updateVocabulary(token, vocab)\n",
        "\n",
        "def orderDictToTuplesList(unorderedDict):\n",
        "  return sorted(unorderedDict.items(), key = lambda kv: kv[1], reverse=True)"
      ],
      "execution_count": 0,
      "outputs": []
    },
    {
      "cell_type": "code",
      "metadata": {
        "id": "gidloNnRlglr",
        "colab_type": "code",
        "colab": {}
      },
      "source": [
        ""
      ],
      "execution_count": 0,
      "outputs": []
    },
    {
      "cell_type": "code",
      "metadata": {
        "id": "Cnl5yayFYotL",
        "colab_type": "code",
        "colab": {}
      },
      "source": [
        "buildUnorderedDict(allPositiveTexts, positiveVocab)\n",
        "buildUnorderedDict(allNegativeTexts, negativeVocab)"
      ],
      "execution_count": 0,
      "outputs": []
    },
    {
      "cell_type": "code",
      "metadata": {
        "id": "HIdZ9PwTty9z",
        "colab_type": "code",
        "colab": {}
      },
      "source": [
        "##print(positiveVocab)"
      ],
      "execution_count": 0,
      "outputs": []
    },
    {
      "cell_type": "code",
      "metadata": {
        "id": "71wJuapttysc",
        "colab_type": "code",
        "colab": {}
      },
      "source": [
        "##print(negativeVocab)"
      ],
      "execution_count": 0,
      "outputs": []
    },
    {
      "cell_type": "code",
      "metadata": {
        "id": "fDtGu94rEQHz",
        "colab_type": "code",
        "colab": {}
      },
      "source": [
        "common = positiveVocab.keys() & negativeVocab.keys()\n",
        "\n",
        "def removeCommonTokens():\n",
        "  for k in common:\n",
        "    if positiveVocab.get(k) > negativeVocab.get(k):\n",
        "      negativeVocab.pop(k, None)\n",
        "    else:\n",
        "      positiveVocab.pop(k, None)\n",
        "\n",
        "removeCommonTokens()"
      ],
      "execution_count": 0,
      "outputs": []
    },
    {
      "cell_type": "code",
      "metadata": {
        "id": "FpCQp7D70-X8",
        "colab_type": "code",
        "colab": {}
      },
      "source": [
        ""
      ],
      "execution_count": 0,
      "outputs": []
    },
    {
      "cell_type": "code",
      "metadata": {
        "id": "FncRs72gNp0D",
        "colab_type": "code",
        "colab": {}
      },
      "source": [
        "def pluralToSingular(token):\n",
        "  length = len(token)\n",
        "  lastChar = token[length - 1]\n",
        "  \n",
        "  if lastChar != 's':\n",
        "    return token\n",
        "  \n",
        "  last2Chars = token[length - 2] + lastChar\n",
        "  last3Chars = token[length - 3] + last2Chars\n",
        "  \n",
        "  ## z   -> zes\n",
        "  ## r   -> res\n",
        "  ## m   -> ns ****\n",
        "  ##*al  -> *ais\n",
        "  ##*el  -> *eis ***\n",
        "  ##*ol  -> *ois\n",
        "  ##*ul  -> *uis\n",
        "  ##*il  -> *is\n",
        "  ##*s   -> *ses\n",
        "  \n",
        "  ##*ões <- ão\n",
        "  ##*ães <- ão\n",
        "  ##*ões <- ão\n",
        "  \n",
        "  singular = token\n",
        "  \n",
        "  if last3Chars == 'uis':\n",
        "    #ul\n",
        "    return token[0 : length - 2] + 'l'\n",
        "  \n",
        "  elif last3Chars == 'éis':\n",
        "    #el\n",
        "    return token[0 : length - 3] + 'el'\n",
        "  \n",
        "  elif last3Chars == 'óis':\n",
        "    #ol\n",
        "    return token[0 : length - 3] + 'ol'\n",
        "    \n",
        "  elif last3Chars == 'zes' or last3Chars == 'res' or last3Chars == 'ses':\n",
        "    #z r s\n",
        "    return token[0 : length - 2]\n",
        "    \n",
        "  elif last3Chars == 'ãos' or last3Chars == 'ães' or last3Chars == 'ões':\n",
        "    #ão\n",
        "    return token[0 : length - 3] + 'ão'\n",
        "    \n",
        "  elif last3Chars == 'ais' or last2Chars == 'ns' or last3Chars == 'eis' or last3Chars == 'ois' or last2Chars == 'ís':\n",
        "    #ignorar\n",
        "    return singular\n",
        "  \n",
        "  elif last2Chars == 'is':\n",
        "    #il\n",
        "    return token[0 : length - 1] + 'l'\n",
        "  \n",
        "  else:\n",
        "    #tira o s\n",
        "    return token[0 : length - 1]\n"
      ],
      "execution_count": 0,
      "outputs": []
    },
    {
      "cell_type": "code",
      "metadata": {
        "id": "eVlbxJSxAUcE",
        "colab_type": "code",
        "colab": {}
      },
      "source": [
        "def pluralOnlyStemming(vocab):\n",
        "  d = vocab.copy()\n",
        "  tokens = vocab.keys()\n",
        "  \n",
        "  for token in tokens:\n",
        "    singular = pluralToSingular(token)\n",
        "    if token != singular and singular in tokens:\n",
        "      \"\"\"print(\"Token: \" + token)\n",
        "      print(\"Singular: \" + singular)\"\"\"\n",
        "      d[singular] = d[singular] + d[token]\n",
        "      ##print(\"Merged: \" + singular + \" + \"  + token)\n",
        "      d.pop(token)\n",
        "      ##print(\"Popped: \" + token)\n",
        "      \n",
        "  return d"
      ],
      "execution_count": 0,
      "outputs": []
    },
    {
      "cell_type": "code",
      "metadata": {
        "id": "lrXYek4oB5Sf",
        "colab_type": "code",
        "colab": {}
      },
      "source": [
        "stemmedPV = pluralOnlyStemming(positiveVocab)\n",
        "stemmedNV = pluralOnlyStemming(negativeVocab)"
      ],
      "execution_count": 0,
      "outputs": []
    },
    {
      "cell_type": "code",
      "metadata": {
        "id": "MxcnhK0_HtYf",
        "colab_type": "code",
        "colab": {}
      },
      "source": [
        "##print(stemmedPV)"
      ],
      "execution_count": 0,
      "outputs": []
    },
    {
      "cell_type": "code",
      "metadata": {
        "id": "9iBZsAJkHyms",
        "colab_type": "code",
        "colab": {}
      },
      "source": [
        "##print(stemmedNV)"
      ],
      "execution_count": 0,
      "outputs": []
    },
    {
      "cell_type": "code",
      "metadata": {
        "id": "Q1HuDJGrP0Kf",
        "colab_type": "code",
        "colab": {}
      },
      "source": [
        "def removeLeastOccurringTokens(vocab):\n",
        "  newVocab = vocab.copy()\n",
        "  keys = vocab.keys()\n",
        "  \n",
        "  for key in keys:\n",
        "    if vocab[key] < 50:\n",
        "      newVocab.pop(key)\n",
        "  \n",
        "  return newVocab\n",
        "\n",
        "finalPV = removeLeastOccurringTokens(stemmedPV)\n",
        "finalNV = removeLeastOccurringTokens(stemmedNV)"
      ],
      "execution_count": 0,
      "outputs": []
    },
    {
      "cell_type": "code",
      "metadata": {
        "id": "jtd2x0T7QGB0",
        "colab_type": "code",
        "colab": {}
      },
      "source": [
        "orderedPositiveVocab = orderDictToTuplesList(finalPV)\n"
      ],
      "execution_count": 0,
      "outputs": []
    },
    {
      "cell_type": "code",
      "metadata": {
        "id": "UEGoiIQoFeMH",
        "colab_type": "code",
        "colab": {}
      },
      "source": [
        "##print(orderedPositiveVocab)"
      ],
      "execution_count": 0,
      "outputs": []
    },
    {
      "cell_type": "code",
      "metadata": {
        "id": "z_dQ1zEPEQGg",
        "colab_type": "code",
        "colab": {}
      },
      "source": [
        "orderedNegativeVocab = orderDictToTuplesList(finalNV)\n"
      ],
      "execution_count": 0,
      "outputs": []
    },
    {
      "cell_type": "code",
      "metadata": {
        "id": "zGZVrPzLFhCk",
        "colab_type": "code",
        "colab": {}
      },
      "source": [
        "##print(orderedNegativeVocab)"
      ],
      "execution_count": 0,
      "outputs": []
    },
    {
      "cell_type": "code",
      "metadata": {
        "id": "bHIH1CV2Whrv",
        "colab_type": "code",
        "colab": {}
      },
      "source": [
        "##print(common)"
      ],
      "execution_count": 0,
      "outputs": []
    },
    {
      "cell_type": "code",
      "metadata": {
        "id": "YZSNb-lO_1PF",
        "colab_type": "code",
        "colab": {}
      },
      "source": [
        "##len(orderedNegativeVocab)"
      ],
      "execution_count": 0,
      "outputs": []
    },
    {
      "cell_type": "code",
      "metadata": {
        "id": "M-94sR4j_14W",
        "colab_type": "code",
        "colab": {}
      },
      "source": [
        ""
      ],
      "execution_count": 0,
      "outputs": []
    },
    {
      "cell_type": "code",
      "metadata": {
        "id": "GljEnlQi_0_F",
        "colab_type": "code",
        "colab": {}
      },
      "source": [
        ""
      ],
      "execution_count": 0,
      "outputs": []
    },
    {
      "cell_type": "markdown",
      "metadata": {
        "id": "3z3fUuOOXe1g",
        "colab_type": "text"
      },
      "source": [
        "# **CLASSIFICAÇÃO**"
      ]
    },
    {
      "cell_type": "code",
      "metadata": {
        "id": "obTExXrEXw5I",
        "colab_type": "code",
        "colab": {}
      },
      "source": [
        "##allPagesPath = '/content/drive/My Drive/html misturado/'\n",
        "##filesList = [f for f in glob.glob(pagesLocation + \"*.html\")]"
      ],
      "execution_count": 0,
      "outputs": []
    },
    {
      "cell_type": "code",
      "metadata": {
        "id": "KUl8acLzZAJe",
        "colab_type": "code",
        "outputId": "b533038e-af43-4919-d377-4454450f3d2c",
        "colab": {
          "base_uri": "https://localhost:8080/",
          "height": 1000
        }
      },
      "source": [
        "!pip install joblib\n",
        "!pip install numpy scipy matplotlib ipython jupyter pandas sympy nose\n",
        "!pip install scikit-learn\n",
        "!pip install scikit-plot\n",
        "\n",
        "import pandas as pd\n",
        "import numpy as np\n",
        "\n",
        "from sklearn.metrics import confusion_matrix\n",
        "from sklearn.metrics import accuracy_score, recall_score, precision_score\n",
        "\n",
        "import scikitplot as skplt\n",
        "import matplotlib\n",
        "import matplotlib.pyplot as plt"
      ],
      "execution_count": 39,
      "outputs": [
        {
          "output_type": "stream",
          "text": [
            "Requirement already satisfied: joblib in /usr/local/lib/python3.6/dist-packages (0.13.2)\n",
            "Requirement already satisfied: numpy in /usr/local/lib/python3.6/dist-packages (1.16.5)\n",
            "Requirement already satisfied: scipy in /usr/local/lib/python3.6/dist-packages (1.3.1)\n",
            "Requirement already satisfied: matplotlib in /usr/local/lib/python3.6/dist-packages (3.0.3)\n",
            "Requirement already satisfied: ipython in /usr/local/lib/python3.6/dist-packages (5.5.0)\n",
            "Requirement already satisfied: jupyter in /usr/local/lib/python3.6/dist-packages (1.0.0)\n",
            "Requirement already satisfied: pandas in /usr/local/lib/python3.6/dist-packages (0.24.2)\n",
            "Requirement already satisfied: sympy in /usr/local/lib/python3.6/dist-packages (1.1.1)\n",
            "Collecting nose\n",
            "\u001b[?25l  Downloading https://files.pythonhosted.org/packages/15/d8/dd071918c040f50fa1cf80da16423af51ff8ce4a0f2399b7bf8de45ac3d9/nose-1.3.7-py3-none-any.whl (154kB)\n",
            "\u001b[K     |████████████████████████████████| 163kB 2.8MB/s \n",
            "\u001b[?25hRequirement already satisfied: python-dateutil>=2.1 in /usr/local/lib/python3.6/dist-packages (from matplotlib) (2.5.3)\n",
            "Requirement already satisfied: pyparsing!=2.0.4,!=2.1.2,!=2.1.6,>=2.0.1 in /usr/local/lib/python3.6/dist-packages (from matplotlib) (2.4.2)\n",
            "Requirement already satisfied: cycler>=0.10 in /usr/local/lib/python3.6/dist-packages (from matplotlib) (0.10.0)\n",
            "Requirement already satisfied: kiwisolver>=1.0.1 in /usr/local/lib/python3.6/dist-packages (from matplotlib) (1.1.0)\n",
            "Requirement already satisfied: decorator in /usr/local/lib/python3.6/dist-packages (from ipython) (4.4.0)\n",
            "Requirement already satisfied: prompt-toolkit<2.0.0,>=1.0.4 in /usr/local/lib/python3.6/dist-packages (from ipython) (1.0.16)\n",
            "Requirement already satisfied: pickleshare in /usr/local/lib/python3.6/dist-packages (from ipython) (0.7.5)\n",
            "Requirement already satisfied: traitlets>=4.2 in /usr/local/lib/python3.6/dist-packages (from ipython) (4.3.2)\n",
            "Requirement already satisfied: pexpect; sys_platform != \"win32\" in /usr/local/lib/python3.6/dist-packages (from ipython) (4.7.0)\n",
            "Requirement already satisfied: setuptools>=18.5 in /usr/local/lib/python3.6/dist-packages (from ipython) (41.2.0)\n",
            "Requirement already satisfied: pygments in /usr/local/lib/python3.6/dist-packages (from ipython) (2.1.3)\n",
            "Requirement already satisfied: simplegeneric>0.8 in /usr/local/lib/python3.6/dist-packages (from ipython) (0.8.1)\n",
            "Requirement already satisfied: notebook in /usr/local/lib/python3.6/dist-packages (from jupyter) (5.2.2)\n",
            "Requirement already satisfied: jupyter-console in /usr/local/lib/python3.6/dist-packages (from jupyter) (5.2.0)\n",
            "Requirement already satisfied: ipykernel in /usr/local/lib/python3.6/dist-packages (from jupyter) (4.6.1)\n",
            "Requirement already satisfied: ipywidgets in /usr/local/lib/python3.6/dist-packages (from jupyter) (7.5.1)\n",
            "Requirement already satisfied: nbconvert in /usr/local/lib/python3.6/dist-packages (from jupyter) (5.6.0)\n",
            "Requirement already satisfied: qtconsole in /usr/local/lib/python3.6/dist-packages (from jupyter) (4.5.5)\n",
            "Requirement already satisfied: pytz>=2011k in /usr/local/lib/python3.6/dist-packages (from pandas) (2018.9)\n",
            "Requirement already satisfied: mpmath>=0.19 in /usr/local/lib/python3.6/dist-packages (from sympy) (1.1.0)\n",
            "Requirement already satisfied: six>=1.5 in /usr/local/lib/python3.6/dist-packages (from python-dateutil>=2.1->matplotlib) (1.12.0)\n",
            "Requirement already satisfied: wcwidth in /usr/local/lib/python3.6/dist-packages (from prompt-toolkit<2.0.0,>=1.0.4->ipython) (0.1.7)\n",
            "Requirement already satisfied: ipython-genutils in /usr/local/lib/python3.6/dist-packages (from traitlets>=4.2->ipython) (0.2.0)\n",
            "Requirement already satisfied: ptyprocess>=0.5 in /usr/local/lib/python3.6/dist-packages (from pexpect; sys_platform != \"win32\"->ipython) (0.6.0)\n",
            "Requirement already satisfied: tornado>=4 in /usr/local/lib/python3.6/dist-packages (from notebook->jupyter) (4.5.3)\n",
            "Requirement already satisfied: jupyter-client in /usr/local/lib/python3.6/dist-packages (from notebook->jupyter) (5.3.3)\n",
            "Requirement already satisfied: nbformat in /usr/local/lib/python3.6/dist-packages (from notebook->jupyter) (4.4.0)\n",
            "Requirement already satisfied: terminado>=0.3.3; sys_platform != \"win32\" in /usr/local/lib/python3.6/dist-packages (from notebook->jupyter) (0.8.2)\n",
            "Requirement already satisfied: jupyter-core in /usr/local/lib/python3.6/dist-packages (from notebook->jupyter) (4.5.0)\n",
            "Requirement already satisfied: jinja2 in /usr/local/lib/python3.6/dist-packages (from notebook->jupyter) (2.10.1)\n",
            "Requirement already satisfied: widgetsnbextension~=3.5.0 in /usr/local/lib/python3.6/dist-packages (from ipywidgets->jupyter) (3.5.1)\n",
            "Requirement already satisfied: pandocfilters>=1.4.1 in /usr/local/lib/python3.6/dist-packages (from nbconvert->jupyter) (1.4.2)\n",
            "Requirement already satisfied: defusedxml in /usr/local/lib/python3.6/dist-packages (from nbconvert->jupyter) (0.6.0)\n",
            "Requirement already satisfied: testpath in /usr/local/lib/python3.6/dist-packages (from nbconvert->jupyter) (0.4.2)\n",
            "Requirement already satisfied: bleach in /usr/local/lib/python3.6/dist-packages (from nbconvert->jupyter) (3.1.0)\n",
            "Requirement already satisfied: entrypoints>=0.2.2 in /usr/local/lib/python3.6/dist-packages (from nbconvert->jupyter) (0.3)\n",
            "Requirement already satisfied: mistune<2,>=0.8.1 in /usr/local/lib/python3.6/dist-packages (from nbconvert->jupyter) (0.8.4)\n",
            "Requirement already satisfied: pyzmq>=13 in /usr/local/lib/python3.6/dist-packages (from jupyter-client->notebook->jupyter) (17.0.0)\n",
            "Requirement already satisfied: jsonschema!=2.5.0,>=2.4 in /usr/local/lib/python3.6/dist-packages (from nbformat->notebook->jupyter) (2.6.0)\n",
            "Requirement already satisfied: MarkupSafe>=0.23 in /usr/local/lib/python3.6/dist-packages (from jinja2->notebook->jupyter) (1.1.1)\n",
            "Requirement already satisfied: webencodings in /usr/local/lib/python3.6/dist-packages (from bleach->nbconvert->jupyter) (0.5.1)\n",
            "Installing collected packages: nose\n",
            "Successfully installed nose-1.3.7\n",
            "Requirement already satisfied: scikit-learn in /usr/local/lib/python3.6/dist-packages (0.21.3)\n",
            "Requirement already satisfied: joblib>=0.11 in /usr/local/lib/python3.6/dist-packages (from scikit-learn) (0.13.2)\n",
            "Requirement already satisfied: scipy>=0.17.0 in /usr/local/lib/python3.6/dist-packages (from scikit-learn) (1.3.1)\n",
            "Requirement already satisfied: numpy>=1.11.0 in /usr/local/lib/python3.6/dist-packages (from scikit-learn) (1.16.5)\n",
            "Collecting scikit-plot\n",
            "  Downloading https://files.pythonhosted.org/packages/7c/47/32520e259340c140a4ad27c1b97050dd3254fdc517b1d59974d47037510e/scikit_plot-0.3.7-py3-none-any.whl\n",
            "Requirement already satisfied: matplotlib>=1.4.0 in /usr/local/lib/python3.6/dist-packages (from scikit-plot) (3.0.3)\n",
            "Requirement already satisfied: scipy>=0.9 in /usr/local/lib/python3.6/dist-packages (from scikit-plot) (1.3.1)\n",
            "Requirement already satisfied: scikit-learn>=0.18 in /usr/local/lib/python3.6/dist-packages (from scikit-plot) (0.21.3)\n",
            "Requirement already satisfied: joblib>=0.10 in /usr/local/lib/python3.6/dist-packages (from scikit-plot) (0.13.2)\n",
            "Requirement already satisfied: kiwisolver>=1.0.1 in /usr/local/lib/python3.6/dist-packages (from matplotlib>=1.4.0->scikit-plot) (1.1.0)\n",
            "Requirement already satisfied: cycler>=0.10 in /usr/local/lib/python3.6/dist-packages (from matplotlib>=1.4.0->scikit-plot) (0.10.0)\n",
            "Requirement already satisfied: numpy>=1.10.0 in /usr/local/lib/python3.6/dist-packages (from matplotlib>=1.4.0->scikit-plot) (1.16.5)\n",
            "Requirement already satisfied: python-dateutil>=2.1 in /usr/local/lib/python3.6/dist-packages (from matplotlib>=1.4.0->scikit-plot) (2.5.3)\n",
            "Requirement already satisfied: pyparsing!=2.0.4,!=2.1.2,!=2.1.6,>=2.0.1 in /usr/local/lib/python3.6/dist-packages (from matplotlib>=1.4.0->scikit-plot) (2.4.2)\n",
            "Requirement already satisfied: setuptools in /usr/local/lib/python3.6/dist-packages (from kiwisolver>=1.0.1->matplotlib>=1.4.0->scikit-plot) (41.2.0)\n",
            "Requirement already satisfied: six in /usr/local/lib/python3.6/dist-packages (from cycler>=0.10->matplotlib>=1.4.0->scikit-plot) (1.12.0)\n",
            "Installing collected packages: scikit-plot\n",
            "Successfully installed scikit-plot-0.3.7\n"
          ],
          "name": "stdout"
        }
      ]
    },
    {
      "cell_type": "code",
      "metadata": {
        "id": "8nShb1iRc-LE",
        "colab_type": "code",
        "colab": {}
      },
      "source": [
        "allTokens = set()\n",
        "allTokens = allTokens.union(finalPV.keys())\n",
        "allTokens = allTokens.union(finalNV.keys())"
      ],
      "execution_count": 0,
      "outputs": []
    },
    {
      "cell_type": "code",
      "metadata": {
        "id": "mZY__DDyuZzz",
        "colab_type": "code",
        "colab": {}
      },
      "source": [
        "##print(allTokens)"
      ],
      "execution_count": 0,
      "outputs": []
    },
    {
      "cell_type": "code",
      "metadata": {
        "id": "cKBOHIBVus1N",
        "colab_type": "code",
        "colab": {}
      },
      "source": [
        "#print(type(allTokens))"
      ],
      "execution_count": 0,
      "outputs": []
    },
    {
      "cell_type": "code",
      "metadata": {
        "id": "qih34L9OcKME",
        "colab_type": "code",
        "colab": {}
      },
      "source": [
        "numDocs = len(positiveFilesList) + len(negativeFilesList)\n",
        "numTokens = len(allTokens)\n",
        "\n",
        "dados = np.zeros(shape=(numDocs, numTokens))\n",
        "dataframe = pd.DataFrame(data=dados, columns=allTokens)\n",
        "dataframe['CLASS'] = np.zeros(shape=(numDocs, 1))"
      ],
      "execution_count": 0,
      "outputs": []
    },
    {
      "cell_type": "code",
      "metadata": {
        "id": "sYoj0dvS2Ex6",
        "colab_type": "code",
        "colab": {}
      },
      "source": [
        "##print(dataframe)"
      ],
      "execution_count": 0,
      "outputs": []
    },
    {
      "cell_type": "code",
      "metadata": {
        "id": "DHUwkuChk2xM",
        "colab_type": "code",
        "colab": {}
      },
      "source": [
        ""
      ],
      "execution_count": 0,
      "outputs": []
    },
    {
      "cell_type": "code",
      "metadata": {
        "id": "FAZVaGlegPL5",
        "colab_type": "code",
        "colab": {}
      },
      "source": [
        "##df.columns\n",
        "###Selecionando a primeira linha da coluna país: df.loc[0, 'País']\n",
        "\n",
        "##print(len(allPositiveTexts))\n",
        "everything = allPositiveTexts + allNegativeTexts\n",
        "pLen = len(allPositiveTexts)\n",
        "isBook = 1\n",
        "\n",
        "def populateDataframe(isBook):\n",
        "  for i,row in dataframe.iterrows():\n",
        "    \n",
        "    if i==pLen:\n",
        "      isBook = 0\n",
        "      ##print(isBook)\n",
        "      \n",
        "    dataframe.at[i, 'CLASS'] = isBook\n",
        "    \n",
        "    tokens = textToTokenList(everything[i])\n",
        "    tokens = removeStopwords(tokens)\n",
        "    tokens = removeSmallTokens(tokens)\n",
        "    \n",
        "    for token in tokens:\n",
        "      s = pluralToSingular(token)\n",
        "      \n",
        "      if s in dataframe.columns:\n",
        "        dataframe.at[i, s] += 1\n",
        "        \n",
        "      elif token in dataframe.columns:\n",
        "        dataframe.at[i, token] += 1\n",
        "\n",
        "\n",
        "\n",
        "populateDataframe(isBook)"
      ],
      "execution_count": 0,
      "outputs": []
    },
    {
      "cell_type": "code",
      "metadata": {
        "id": "vQF3VCXP1VNn",
        "colab_type": "code",
        "colab": {}
      },
      "source": [
        "##len(everything)"
      ],
      "execution_count": 0,
      "outputs": []
    },
    {
      "cell_type": "code",
      "metadata": {
        "id": "GGOXsgx11b5X",
        "colab_type": "code",
        "colab": {}
      },
      "source": [
        "##len(allPositiveTexts)"
      ],
      "execution_count": 0,
      "outputs": []
    },
    {
      "cell_type": "code",
      "metadata": {
        "id": "ypp7xVl24bNs",
        "colab_type": "code",
        "colab": {}
      },
      "source": [
        "##len(positiveFilesList)"
      ],
      "execution_count": 0,
      "outputs": []
    },
    {
      "cell_type": "code",
      "metadata": {
        "id": "7IpEike01f4s",
        "colab_type": "code",
        "colab": {}
      },
      "source": [
        "##len(allNegativeTexts)"
      ],
      "execution_count": 0,
      "outputs": []
    },
    {
      "cell_type": "code",
      "metadata": {
        "id": "7wctbOw31kM9",
        "colab_type": "code",
        "colab": {}
      },
      "source": [
        "##len(negativeFilesList)"
      ],
      "execution_count": 0,
      "outputs": []
    },
    {
      "cell_type": "code",
      "metadata": {
        "id": "lmu8vxjTOSsh",
        "colab_type": "code",
        "colab": {}
      },
      "source": [
        "import time\n",
        "timeNow = str(round(time.time() * 1000))"
      ],
      "execution_count": 0,
      "outputs": []
    },
    {
      "cell_type": "code",
      "metadata": {
        "id": "YJ7rIEQdkAzl",
        "colab_type": "code",
        "colab": {}
      },
      "source": [
        "dataframe.to_csv(pagesLocation + 'PaginasClassificadas' + timeNow + '.csv', index = False)"
      ],
      "execution_count": 0,
      "outputs": []
    },
    {
      "cell_type": "code",
      "metadata": {
        "id": "VMZ9DUPitfBa",
        "colab_type": "code",
        "colab": {}
      },
      "source": [
        "##print(dataframe.columns)"
      ],
      "execution_count": 0,
      "outputs": []
    },
    {
      "cell_type": "code",
      "metadata": {
        "id": "OIpWHnAcVRWW",
        "colab_type": "code",
        "colab": {}
      },
      "source": [
        "##print(dataframe)"
      ],
      "execution_count": 0,
      "outputs": []
    },
    {
      "cell_type": "code",
      "metadata": {
        "id": "KGhJh0ESX005",
        "colab_type": "code",
        "colab": {}
      },
      "source": [
        "##print(dataframe.head())"
      ],
      "execution_count": 0,
      "outputs": []
    },
    {
      "cell_type": "code",
      "metadata": {
        "id": "mkIMo10DX0X1",
        "colab_type": "code",
        "colab": {}
      },
      "source": [
        "csvPath = pagesLocation + 'PaginasClassificadas' + timeNow + '.csv'\n",
        "csvData = np.genfromtxt(csvPath, delimiter=',', encoding='utf-8', dtype=None)"
      ],
      "execution_count": 0,
      "outputs": []
    },
    {
      "cell_type": "code",
      "metadata": {
        "id": "PZ_wADsjd1Z-",
        "colab_type": "code",
        "colab": {}
      },
      "source": [
        "##print(csvData)"
      ],
      "execution_count": 0,
      "outputs": []
    },
    {
      "cell_type": "code",
      "metadata": {
        "id": "vWS0SL50kjht",
        "colab_type": "code",
        "outputId": "d57349b0-ddae-436b-d6a6-5c827e5f683e",
        "colab": {
          "base_uri": "https://localhost:8080/",
          "height": 34
        }
      },
      "source": [
        "numDocs2 = len(positiveFilesList) + len(negativeFilesList)\n",
        "numTokens2 = len(allTokens)\n",
        "\n",
        "dados2 = np.zeros(shape=(numDocs2, numTokens2))\n",
        "dataframe2 = pd.DataFrame(data=dados2, columns=allTokens)\n",
        "dataframe2['CLASS'] = np.zeros(shape=(numDocs2, 1))\n",
        "\n",
        "\n",
        "print(len(allPositiveTexts))\n",
        "everything2 = allPositiveTexts + allNegativeTexts\n",
        "pLen2 = len(allPositiveTexts)\n",
        "isBook2 = 1\n",
        "\n",
        "def populateDataframeAbs(isBook2):\n",
        "  for i,row in dataframe2.iterrows():\n",
        "    \n",
        "    if i==pLen2:\n",
        "      isBook2 = 0\n",
        "      ##print(isBook)\n",
        "      \n",
        "    dataframe2.at[i, 'CLASS'] = isBook2\n",
        "    \n",
        "    tokens = textToTokenList(everything2[i])\n",
        "    tokens = removeStopwords(tokens)\n",
        "    tokens = removeSmallTokens(tokens)\n",
        "    \n",
        "    for token in tokens:\n",
        "      s = pluralToSingular(token)\n",
        "      \n",
        "      if s in dataframe2.columns:\n",
        "        dataframe2.at[i, s] = 1\n",
        "        \n",
        "      elif token in dataframe2.columns:\n",
        "        dataframe2.at[i, token] = 1\n",
        "\n",
        "populateDataframeAbs(isBook2)\n",
        "\n",
        "timeNow2 = str(round(time.time() * 1000))\n",
        "dataframe2.to_csv(pagesLocation + 'PaginasClassificadas_0e1_' + timeNow2 + '.csv', index = False)"
      ],
      "execution_count": 58,
      "outputs": [
        {
          "output_type": "stream",
          "text": [
            "244\n"
          ],
          "name": "stdout"
        }
      ]
    },
    {
      "cell_type": "code",
      "metadata": {
        "id": "hmDK6dIJvcwO",
        "colab_type": "code",
        "colab": {}
      },
      "source": [
        "##print(dataframe2)"
      ],
      "execution_count": 0,
      "outputs": []
    },
    {
      "cell_type": "code",
      "metadata": {
        "id": "-TrhPAtMqAzR",
        "colab_type": "code",
        "outputId": "6577b62b-c89a-40a0-e3c0-a327f4a42874",
        "colab": {
          "base_uri": "https://localhost:8080/",
          "height": 34
        }
      },
      "source": [
        "from sklearn.naive_bayes import GaussianNB\n",
        "\n",
        "csvPath2 = pagesLocation + 'PaginasClassificadas_0e1_' + timeNow2 + '.csv'\n",
        "csvData2 = np.genfromtxt(csvPath2, delimiter=',', encoding='utf-8', dtype=None)\n",
        "\n",
        "nb = GaussianNB()\n",
        "\n",
        "##print(\"Shape: \", csvData2.shape)\n"
      ],
      "execution_count": 63,
      "outputs": [
        {
          "output_type": "stream",
          "text": [
            "Shape:  (489, 1386)\n"
          ],
          "name": "stdout"
        }
      ]
    },
    {
      "cell_type": "code",
      "metadata": {
        "id": "qbpwkMTgDhL1",
        "colab_type": "code",
        "colab": {
          "base_uri": "https://localhost:8080/",
          "height": 34
        },
        "outputId": "03e00d30-e834-405b-c8fa-eb73a14a3e4d"
      },
      "source": [
        "##print(\"Type: \", type(csvData2))"
      ],
      "execution_count": 64,
      "outputs": [
        {
          "output_type": "stream",
          "text": [
            "Type:  <class 'numpy.ndarray'>\n"
          ],
          "name": "stdout"
        }
      ]
    },
    {
      "cell_type": "code",
      "metadata": {
        "id": "CAHSNZ6zERXn",
        "colab_type": "code",
        "colab": {}
      },
      "source": [
        "dataSize = csvData.shape[1] - 1\n",
        "dataColumns = csvData[1:, :dataSize - 1]\n",
        "dataClasses = csvData[1:, dataSize]\n",
        "dataColumnsF = dataColumns.astype(np.float)\n",
        "dataClassesF = dataClasses.astype(np.float)"
      ],
      "execution_count": 0,
      "outputs": []
    },
    {
      "cell_type": "code",
      "metadata": {
        "id": "OYtkv-nFGcIR",
        "colab_type": "code",
        "colab": {
          "base_uri": "https://localhost:8080/",
          "height": 34
        },
        "outputId": "e8493f23-2258-41dd-f88f-123dae429826"
      },
      "source": [
        "nb.fit(dataColumnsF, dataClassesF)"
      ],
      "execution_count": 77,
      "outputs": [
        {
          "output_type": "execute_result",
          "data": {
            "text/plain": [
              "GaussianNB(priors=None, var_smoothing=1e-09)"
            ]
          },
          "metadata": {
            "tags": []
          },
          "execution_count": 77
        }
      ]
    },
    {
      "cell_type": "code",
      "metadata": {
        "id": "8ozeh1o3eRNQ",
        "colab_type": "code",
        "colab": {}
      },
      "source": [
        "from sklearn.model_selection import train_test_split\n",
        "\n",
        "X_train, X_test, y_train, y_test = train_test_split(dataColumnsF, dataClassesF, test_size=0.3, random_state=42)"
      ],
      "execution_count": 0,
      "outputs": []
    },
    {
      "cell_type": "code",
      "metadata": {
        "id": "BO6UOXx2eQoz",
        "colab_type": "code",
        "colab": {}
      },
      "source": [
        ""
      ],
      "execution_count": 0,
      "outputs": []
    },
    {
      "cell_type": "code",
      "metadata": {
        "id": "_gBR00PCHyOm",
        "colab_type": "code",
        "colab": {
          "base_uri": "https://localhost:8080/",
          "height": 34
        },
        "outputId": "c72be973-86b9-43be-c79f-465d0f0b5222"
      },
      "source": [
        "from sklearn.naive_bayes import GaussianNB\n",
        "nb = GaussianNB()\n",
        "nb.fit(X_train, y_train)\n",
        "classification = nb.predict(X_test)\n",
        "score = nb.score(X_test, y_test)\n",
        "print(score)"
      ],
      "execution_count": 121,
      "outputs": [
        {
          "output_type": "stream",
          "text": [
            "0.8163265306122449\n"
          ],
          "name": "stdout"
        }
      ]
    },
    {
      "cell_type": "code",
      "metadata": {
        "id": "5jcTUEtlJAfb",
        "colab_type": "code",
        "colab": {
          "base_uri": "https://localhost:8080/",
          "height": 34
        },
        "outputId": "6df2f8bc-5e3e-4208-ab36-d5bafe74b408"
      },
      "source": [
        "accuracyNB1 = accuracy_score(y_test, classification)\n",
        "print(accuracyNB1)"
      ],
      "execution_count": 167,
      "outputs": [
        {
          "output_type": "stream",
          "text": [
            "0.8163265306122449\n"
          ],
          "name": "stdout"
        }
      ]
    },
    {
      "cell_type": "code",
      "metadata": {
        "id": "GFoCXXspN3Kl",
        "colab_type": "code",
        "colab": {
          "base_uri": "https://localhost:8080/",
          "height": 34
        },
        "outputId": "2f7d5cb9-b45b-4929-bc99-880ba9cfe49e"
      },
      "source": [
        "from sklearn import tree\n",
        "dt = tree.DecisionTreeClassifier()\n",
        "dt.fit(X_train, y_train)\n",
        "classfDT = dt.predict(X_test)\n",
        "scoreDT = dt.score(X_test, y_test)\n",
        "\n",
        "print(scoreDT)"
      ],
      "execution_count": 122,
      "outputs": [
        {
          "output_type": "stream",
          "text": [
            "0.9455782312925171\n"
          ],
          "name": "stdout"
        }
      ]
    },
    {
      "cell_type": "code",
      "metadata": {
        "id": "z8_iSgN4z3gi",
        "colab_type": "code",
        "colab": {
          "base_uri": "https://localhost:8080/",
          "height": 34
        },
        "outputId": "1e36e0b9-bee1-4231-9e0a-667fd03d2d1a"
      },
      "source": [
        "accuracyDT1 = accuracy_score(y_test, classfDT)\n",
        "print(accuracyDT1)"
      ],
      "execution_count": 161,
      "outputs": [
        {
          "output_type": "stream",
          "text": [
            "0.9455782312925171\n"
          ],
          "name": "stdout"
        }
      ]
    },
    {
      "cell_type": "code",
      "metadata": {
        "id": "cqqZhB-ER3rc",
        "colab_type": "code",
        "colab": {
          "base_uri": "https://localhost:8080/",
          "height": 34
        },
        "outputId": "1cb81ab4-4756-4bfa-9cc6-0d3e1b33aa9f"
      },
      "source": [
        "from sklearn.linear_model import LogisticRegressionCV\n",
        "lr = LogisticRegressionCV(solver='sag', cv=5, max_iter=4000)\n",
        "lr.fit(X_train, y_train)\n",
        "classfLR = lr.predict(X_test)\n",
        "scoreLR = lr.score(X_test, y_test)\n",
        "\n",
        "print(scoreLR)"
      ],
      "execution_count": 132,
      "outputs": [
        {
          "output_type": "stream",
          "text": [
            "0.9387755102040817\n"
          ],
          "name": "stdout"
        }
      ]
    },
    {
      "cell_type": "code",
      "metadata": {
        "id": "ES1P7QI2X5es",
        "colab_type": "code",
        "colab": {
          "base_uri": "https://localhost:8080/",
          "height": 34
        },
        "outputId": "b20de72f-386c-4228-a1ff-0be1e7c6665b"
      },
      "source": [
        "accuracyLR1 = accuracy_score(y_test, classfLR)\n",
        "print(accuracyLR1)"
      ],
      "execution_count": 163,
      "outputs": [
        {
          "output_type": "stream",
          "text": [
            "0.9387755102040817\n"
          ],
          "name": "stdout"
        }
      ]
    },
    {
      "cell_type": "markdown",
      "metadata": {
        "id": "u-wCXf4mYQ8V",
        "colab_type": "text"
      },
      "source": [
        "0 e 1"
      ]
    },
    {
      "cell_type": "code",
      "metadata": {
        "id": "WKGErqVkX7EO",
        "colab_type": "code",
        "colab": {}
      },
      "source": [
        "dataSize2 = csvData2.shape[1] - 1\n",
        "dataColumns2 = csvData2[1:, :dataSize2 - 1]\n",
        "dataClasses2 = csvData2[1:, dataSize2]\n",
        "dataColumnsF2 = dataColumns2.astype(np.float)\n",
        "dataClassesF2 = dataClasses2.astype(np.float)"
      ],
      "execution_count": 0,
      "outputs": []
    },
    {
      "cell_type": "code",
      "metadata": {
        "id": "ilSw9kxXiPOw",
        "colab_type": "code",
        "colab": {}
      },
      "source": [
        "X_train2, X_test2, y_train2, y_test2 = train_test_split(dataColumnsF2, dataClassesF2, test_size=0.3, random_state=42)"
      ],
      "execution_count": 0,
      "outputs": []
    },
    {
      "cell_type": "code",
      "metadata": {
        "id": "M7H9KT1EX6jB",
        "colab_type": "code",
        "colab": {
          "base_uri": "https://localhost:8080/",
          "height": 34
        },
        "outputId": "06148f0f-5732-4d5b-bdbe-26eeb01915eb"
      },
      "source": [
        "nb2 = GaussianNB()\n",
        "nb2.fit(X_train2, y_train2)\n",
        "classification2 = nb2.predict(X_test2)\n",
        "score2 = nb2.score(X_test2, y_test2)\n",
        "print(score2)"
      ],
      "execution_count": 134,
      "outputs": [
        {
          "output_type": "stream",
          "text": [
            "0.7891156462585034\n"
          ],
          "name": "stdout"
        }
      ]
    },
    {
      "cell_type": "code",
      "metadata": {
        "id": "BYJ5b5tVxtTm",
        "colab_type": "code",
        "colab": {
          "base_uri": "https://localhost:8080/",
          "height": 34
        },
        "outputId": "cab72281-94b4-44a1-b855-facc7fdf8262"
      },
      "source": [
        "accuracyNB2 = accuracy_score(y_test2, classification2)\n",
        "print(accuracyNB2)"
      ],
      "execution_count": 164,
      "outputs": [
        {
          "output_type": "stream",
          "text": [
            "0.7891156462585034\n"
          ],
          "name": "stdout"
        }
      ]
    },
    {
      "cell_type": "code",
      "metadata": {
        "id": "lBsiXMdZX6B1",
        "colab_type": "code",
        "colab": {
          "base_uri": "https://localhost:8080/",
          "height": 34
        },
        "outputId": "4adf3710-123d-4eaa-b47b-1d223910d612"
      },
      "source": [
        "dt2 = tree.DecisionTreeClassifier()\n",
        "dt2.fit(X_train2, y_train2)\n",
        "classfDT2 = dt2.predict(X_test2)\n",
        "scoreDT2 = dt2.score(X_test2, y_test2)\n",
        "\n",
        "print(scoreDT2)"
      ],
      "execution_count": 135,
      "outputs": [
        {
          "output_type": "stream",
          "text": [
            "0.9455782312925171\n"
          ],
          "name": "stdout"
        }
      ]
    },
    {
      "cell_type": "code",
      "metadata": {
        "id": "RRR9Y6ojygPU",
        "colab_type": "code",
        "colab": {
          "base_uri": "https://localhost:8080/",
          "height": 34
        },
        "outputId": "c20c0a4b-81ae-4d08-919d-ac446aec755a"
      },
      "source": [
        "accuracyDT2 = accuracy_score(y_test2, classfDT2)\n",
        "print(accuracyDT2)"
      ],
      "execution_count": 165,
      "outputs": [
        {
          "output_type": "stream",
          "text": [
            "0.9455782312925171\n"
          ],
          "name": "stdout"
        }
      ]
    },
    {
      "cell_type": "code",
      "metadata": {
        "id": "Xyui42_3X48F",
        "colab_type": "code",
        "colab": {
          "base_uri": "https://localhost:8080/",
          "height": 34
        },
        "outputId": "6de55ac0-e894-4527-fdae-319b18fb34ea"
      },
      "source": [
        "lr2 = LogisticRegressionCV(solver='sag', cv=5, max_iter=4000)\n",
        "lr2.fit(X_train2, y_train2)\n",
        "classfLR2 = lr2.predict(X_test2)\n",
        "scoreLR2 = lr2.score(X_test2, y_test2)\n",
        "\n",
        "print(scoreLR2)"
      ],
      "execution_count": 136,
      "outputs": [
        {
          "output_type": "stream",
          "text": [
            "0.9795918367346939\n"
          ],
          "name": "stdout"
        }
      ]
    },
    {
      "cell_type": "code",
      "metadata": {
        "id": "L877Yeyay1AF",
        "colab_type": "code",
        "colab": {
          "base_uri": "https://localhost:8080/",
          "height": 34
        },
        "outputId": "fb6dd9a5-c72f-4330-a775-e872595de4f9"
      },
      "source": [
        "accuracyLR2 = accuracy_score(y_test2, classfLR2)\n",
        "print(accuracyLR2)"
      ],
      "execution_count": 166,
      "outputs": [
        {
          "output_type": "stream",
          "text": [
            "0.9795918367346939\n"
          ],
          "name": "stdout"
        }
      ]
    }
  ]
}