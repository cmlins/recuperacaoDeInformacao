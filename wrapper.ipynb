{
  "nbformat": 4,
  "nbformat_minor": 0,
  "metadata": {
    "colab": {
      "name": "wrapper.ipynb",
      "provenance": [],
      "collapsed_sections": [
        "txPhFcFSDqYz",
        "jTCEiDOGyxxe",
        "j2juZY3o-m5l",
        "9RGNLy-nPJby",
        "2s5-RsrjsHFa",
        "OPi4_ILS1mwH",
        "UAcv90pUjF_Q",
        "aajCiOfZxuK_"
      ],
      "include_colab_link": true
    },
    "kernelspec": {
      "name": "python3",
      "display_name": "Python 3"
    },
    "accelerator": "GPU"
  },
  "cells": [
    {
      "cell_type": "markdown",
      "metadata": {
        "id": "view-in-github",
        "colab_type": "text"
      },
      "source": [
        "<a href=\"https://colab.research.google.com/github/cmlins/recuperacaoDeInformacao/blob/master/wrapper.ipynb\" target=\"_parent\"><img src=\"https://colab.research.google.com/assets/colab-badge.svg\" alt=\"Open In Colab\"/></a>"
      ]
    },
    {
      "cell_type": "code",
      "metadata": {
        "id": "NAIV006BGuhB",
        "colab_type": "code",
        "colab": {}
      },
      "source": [
        "import pandas as pd\n",
        "import numpy as np\n",
        "from bs4 import BeautifulSoup as bs\n",
        "import requests as rq\n",
        "import re"
      ],
      "execution_count": 0,
      "outputs": []
    },
    {
      "cell_type": "code",
      "metadata": {
        "id": "sQjNbC-gQogk",
        "colab_type": "code",
        "outputId": "2293f636-7780-4750-c73e-3858527eccbd",
        "colab": {
          "base_uri": "https://localhost:8080/",
          "height": 34
        }
      },
      "source": [
        "from google.colab import drive\n",
        "drive.mount('/content/drive')"
      ],
      "execution_count": 38,
      "outputs": [
        {
          "output_type": "stream",
          "text": [
            "Drive already mounted at /content/drive; to attempt to forcibly remount, call drive.mount(\"/content/drive\", force_remount=True).\n"
          ],
          "name": "stdout"
        }
      ]
    },
    {
      "cell_type": "code",
      "metadata": {
        "id": "rQiuKEzpUCHn",
        "colab_type": "code",
        "colab": {}
      },
      "source": [
        " def create_df(host, title, author, n_pages, publishing, language, binding, isbn):\n",
        "  cols = ['Loja', 'Título', 'Autor', 'Nº Páginas', 'Editora', 'Idioma', 'Acabamento', 'ISBN']\n",
        "\n",
        "  list_info = [host, title, author, n_pages, publishing, language, binding, isbn]\n",
        "  list_info\n",
        "  book_pd = pd.DataFrame([list_info],\\\n",
        "                        columns=cols)\n",
        "  \n",
        "  return display(book_pd)\n"
      ],
      "execution_count": 0,
      "outputs": []
    },
    {
      "cell_type": "markdown",
      "metadata": {
        "id": "fCQayc2mCTAT",
        "colab_type": "text"
      },
      "source": [
        "## Sites Livros\n",
        "\n",
        "1.   https://www.amazon.com.br/\n",
        "2.   https://www.submarino.com.br/\n",
        "3.   https://www.saraiva.com.br/\n",
        "4.   https://www.travessa.com.br/\n",
        "5.   https://www.americanas.com.br/\n",
        "6.   https://www.ciadoslivros.com.br/\n",
        "7.   https://www.traca.com.br/\n",
        "8.   https://www.livrariacultura.com.br\n",
        "9.   https://www.disal.com.br/\n",
        "10.  https://www.extra.com.br/livros/"
      ]
    },
    {
      "cell_type": "markdown",
      "metadata": {
        "id": "txPhFcFSDqYz",
        "colab_type": "text"
      },
      "source": [
        "## 1. AMAZON"
      ]
    },
    {
      "cell_type": "markdown",
      "metadata": {
        "id": "XnfbQ41MEZ3D",
        "colab_type": "text"
      },
      "source": [
        "### All books in one page"
      ]
    },
    {
      "cell_type": "code",
      "metadata": {
        "id": "1yw2JYi-keCj",
        "colab_type": "code",
        "colab": {}
      },
      "source": [
        "def Amazon_col(site):\n",
        "  page = rq.get(url)\n",
        "\n",
        "  soup = bs(page.text,\"html.parser\")\n",
        "\n",
        "  books = soup.find_all('li', {'class':'a-carousel-card acswidget-carousel__card'})\n",
        "\n",
        "  books_list = []\n",
        "\n",
        "  for book in books:\n",
        "    book = re.sub(\"\\n|\\t|\\xa0|[R][$]\", \" \", (book.text.strip()))\n",
        "    book = re.sub(\"[,]\", '.', book)\n",
        "    books_list.append(book)\n",
        "    \n",
        "  for i in range(len(books_list)):\n",
        "    books_list[i] = books_list[i].split('    ')\n",
        "    books_list[i] = list(filter(None, books_list[i]))\n",
        "    books_list[i] = [item.strip() for item in books_list[i]]\n",
        "    if (len(books_list[i]) > 4):\n",
        "      books_list[i] = [books_list[i][0],books_list[i][1],books_list[i][2],books_list[i][4]]\n",
        "\n",
        "  book_list = []\n",
        "  \n",
        "  for book in books_list:\n",
        "    if len(book) == 4:\n",
        "      book_list.append(book)\n",
        "\n",
        "  col = ['Título', 'Autor', 'Acabamento', 'Preço']\n",
        "\n",
        "  books_pd = pd.DataFrame(book_list,\\\n",
        "                        columns=col)\n",
        "  \n",
        "  return display(books_pd.head())"
      ],
      "execution_count": 0,
      "outputs": []
    },
    {
      "cell_type": "code",
      "metadata": {
        "id": "-hSHvPPvp_is",
        "colab_type": "code",
        "colab": {}
      },
      "source": [
        "url_list = ['https://www.amazon.com.br/Livros/b?ie=UTF8&node=6740748011&ref_=nav_books_all',\n",
        "            'https://www.amazon.com.br/b/ref=s9_acss_bw_cg_livros_3a1_w?node=7872689011&pf_rd_m=A3RN7G7QC5MWSZ&pf_rd_s=merchandised-search-13&pf_rd_r=QVZ9EYBNWVBAX5VRE6KH&pf_rd_t=101&pf_rd_p=ef6255a0-96c8-4931-bc85-1e4d682f1064&pf_rd_i=6740748011',\n",
        "            'https://www.amazon.com.br/b/ref=s9_acss_bw_cg_livros_2a1_w?node=16495864011&pf_rd_m=A3RN7G7QC5MWSZ&pf_rd_s=merchandised-search-13&pf_rd_r=G9RQPBBW9G6ZQ5XX82M8&pf_rd_t=101&pf_rd_p=ef6255a0-96c8-4931-bc85-1e4d682f1064&pf_rd_i=6740748011',\n",
        "            'https://www.amazon.com.br/b/ref=s9_acss_bw_cg_livros_2d1_w?node=11443295011&pf_rd_m=A3RN7G7QC5MWSZ&pf_rd_s=merchandised-search-13&pf_rd_r=0AC9WCXZN61JJGX49F4H&pf_rd_t=101&pf_rd_p=ef6255a0-96c8-4931-bc85-1e4d682f1064&pf_rd_i=6740748011',\n",
        "            'https://www.amazon.com.br/b/ref=s9_acss_bw_cg_livros_4b1_w?node=17021500011&pf_rd_m=A3RN7G7QC5MWSZ&pf_rd_s=merchandised-search-13&pf_rd_r=0JX9SAGKQ4QCZ7DET92M&pf_rd_t=101&pf_rd_p=ef6255a0-96c8-4931-bc85-1e4d682f1064&pf_rd_i=6740748011',\n",
        "            'https://www.amazon.com.br/b/ref=s9_acss_bw_cg_livros_2c1_w?node=7882627011&pf_rd_m=A3RN7G7QC5MWSZ&pf_rd_s=merchandised-search-13&pf_rd_r=068FWS2KD5K5K0RGNXRY&pf_rd_t=101&pf_rd_p=ef6255a0-96c8-4931-bc85-1e4d682f1064&pf_rd_i=6740748011',\n",
        "            'https://www.amazon.com.br/b/ref=s9_acss_bw_cg_livros_2b1_w?node=16271670011&pf_rd_m=A3RN7G7QC5MWSZ&pf_rd_s=merchandised-search-13&pf_rd_r=068FWS2KD5K5K0RGNXRY&pf_rd_t=101&pf_rd_p=ef6255a0-96c8-4931-bc85-1e4d682f1064&pf_rd_i=6740748011',\n",
        "            'https://www.amazon.com.br/b/ref=s9_acss_bw_cg_livros_3b1_w?node=7842710011&pf_rd_m=A3RN7G7QC5MWSZ&pf_rd_s=merchandised-search-13&pf_rd_r=068FWS2KD5K5K0RGNXRY&pf_rd_t=101&pf_rd_p=ef6255a0-96c8-4931-bc85-1e4d682f1064&pf_rd_i=6740748011',\n",
        "            'https://www.amazon.com.br/b/ref=s9_acss_bw_cg_livros_3d1_w?node=7872552011&pf_rd_m=A3RN7G7QC5MWSZ&pf_rd_s=merchandised-search-13&pf_rd_r=068FWS2KD5K5K0RGNXRY&pf_rd_t=101&pf_rd_p=ef6255a0-96c8-4931-bc85-1e4d682f1064&pf_rd_i=6740748011',\n",
        "            'https://www.amazon.com.br/b/ref=s9_acss_bw_cg_livros_4d1_w?node=5475882011&pf_rd_m=A3RN7G7QC5MWSZ&pf_rd_s=merchandised-search-13&pf_rd_r=068FWS2KD5K5K0RGNXRY&pf_rd_t=101&pf_rd_p=ef6255a0-96c8-4931-bc85-1e4d682f1064&pf_rd_i=6740748011']"
      ],
      "execution_count": 0,
      "outputs": []
    },
    {
      "cell_type": "code",
      "metadata": {
        "id": "_0Hy5vWGrCTk",
        "colab_type": "code",
        "outputId": "d101a8c0-a14b-4ca9-b197-67ef29f8a628",
        "colab": {
          "base_uri": "https://localhost:8080/",
          "height": 1000
        }
      },
      "source": [
        "for url in url_list:\n",
        "  print(url)\n",
        "  Amazon_col(url)\n",
        "  print('\\n')"
      ],
      "execution_count": 0,
      "outputs": [
        {
          "output_type": "stream",
          "text": [
            "https://www.amazon.com.br/Livros/b?ie=UTF8&node=6740748011&ref_=nav_books_all\n"
          ],
          "name": "stdout"
        },
        {
          "output_type": "display_data",
          "data": {
            "text/html": [
              "<div>\n",
              "<style scoped>\n",
              "    .dataframe tbody tr th:only-of-type {\n",
              "        vertical-align: middle;\n",
              "    }\n",
              "\n",
              "    .dataframe tbody tr th {\n",
              "        vertical-align: top;\n",
              "    }\n",
              "\n",
              "    .dataframe thead th {\n",
              "        text-align: right;\n",
              "    }\n",
              "</style>\n",
              "<table border=\"1\" class=\"dataframe\">\n",
              "  <thead>\n",
              "    <tr style=\"text-align: right;\">\n",
              "      <th></th>\n",
              "      <th>Título</th>\n",
              "      <th>Autor</th>\n",
              "      <th>Acabamento</th>\n",
              "      <th>Preço</th>\n",
              "    </tr>\n",
              "  </thead>\n",
              "  <tbody>\n",
              "    <tr>\n",
              "      <th>0</th>\n",
              "      <td>Do Mil ao Milhão. Sem Cortar o...</td>\n",
              "      <td>Thiago Nigro</td>\n",
              "      <td>Capa comum</td>\n",
              "      <td>34.90</td>\n",
              "    </tr>\n",
              "    <tr>\n",
              "      <th>1</th>\n",
              "      <td>O milagre da manhã</td>\n",
              "      <td>Hal Elrod. Marcelo Schild</td>\n",
              "      <td>Capa comum</td>\n",
              "      <td>39.90</td>\n",
              "    </tr>\n",
              "    <tr>\n",
              "      <th>2</th>\n",
              "      <td>A Sutil Arte de Ligar o F*da-Se: Uma...</td>\n",
              "      <td>Mark Manson. Joana Faro</td>\n",
              "      <td>Capa comum</td>\n",
              "      <td>34.90</td>\n",
              "    </tr>\n",
              "    <tr>\n",
              "      <th>3</th>\n",
              "      <td>Mais esperto que o Diabo: O mistério...</td>\n",
              "      <td>Napoleon Hill</td>\n",
              "      <td>Capa comum</td>\n",
              "      <td>42.90</td>\n",
              "    </tr>\n",
              "    <tr>\n",
              "      <th>4</th>\n",
              "      <td>Os segredos da mente milionária</td>\n",
              "      <td>T. Harv Eker. Pedro Jorgensen Junior</td>\n",
              "      <td>Capa comum</td>\n",
              "      <td>34.90</td>\n",
              "    </tr>\n",
              "  </tbody>\n",
              "</table>\n",
              "</div>"
            ],
            "text/plain": [
              "                                    Título  ...  Preço\n",
              "0        Do Mil ao Milhão. Sem Cortar o...  ...  34.90\n",
              "1                       O milagre da manhã  ...  39.90\n",
              "2  A Sutil Arte de Ligar o F*da-Se: Uma...  ...  34.90\n",
              "3  Mais esperto que o Diabo: O mistério...  ...  42.90\n",
              "4          Os segredos da mente milionária  ...  34.90\n",
              "\n",
              "[5 rows x 4 columns]"
            ]
          },
          "metadata": {
            "tags": []
          }
        },
        {
          "output_type": "stream",
          "text": [
            "\n",
            "\n",
            "https://www.amazon.com.br/b/ref=s9_acss_bw_cg_livros_3a1_w?node=7872689011&pf_rd_m=A3RN7G7QC5MWSZ&pf_rd_s=merchandised-search-13&pf_rd_r=QVZ9EYBNWVBAX5VRE6KH&pf_rd_t=101&pf_rd_p=ef6255a0-96c8-4931-bc85-1e4d682f1064&pf_rd_i=6740748011\n"
          ],
          "name": "stdout"
        },
        {
          "output_type": "display_data",
          "data": {
            "text/html": [
              "<div>\n",
              "<style scoped>\n",
              "    .dataframe tbody tr th:only-of-type {\n",
              "        vertical-align: middle;\n",
              "    }\n",
              "\n",
              "    .dataframe tbody tr th {\n",
              "        vertical-align: top;\n",
              "    }\n",
              "\n",
              "    .dataframe thead th {\n",
              "        text-align: right;\n",
              "    }\n",
              "</style>\n",
              "<table border=\"1\" class=\"dataframe\">\n",
              "  <thead>\n",
              "    <tr style=\"text-align: right;\">\n",
              "      <th></th>\n",
              "      <th>Título</th>\n",
              "      <th>Autor</th>\n",
              "      <th>Acabamento</th>\n",
              "      <th>Preço</th>\n",
              "    </tr>\n",
              "  </thead>\n",
              "  <tbody>\n",
              "  </tbody>\n",
              "</table>\n",
              "</div>"
            ],
            "text/plain": [
              "Empty DataFrame\n",
              "Columns: [Título, Autor, Acabamento, Preço]\n",
              "Index: []"
            ]
          },
          "metadata": {
            "tags": []
          }
        },
        {
          "output_type": "stream",
          "text": [
            "\n",
            "\n",
            "https://www.amazon.com.br/b/ref=s9_acss_bw_cg_livros_2a1_w?node=16495864011&pf_rd_m=A3RN7G7QC5MWSZ&pf_rd_s=merchandised-search-13&pf_rd_r=G9RQPBBW9G6ZQ5XX82M8&pf_rd_t=101&pf_rd_p=ef6255a0-96c8-4931-bc85-1e4d682f1064&pf_rd_i=6740748011\n"
          ],
          "name": "stdout"
        },
        {
          "output_type": "display_data",
          "data": {
            "text/html": [
              "<div>\n",
              "<style scoped>\n",
              "    .dataframe tbody tr th:only-of-type {\n",
              "        vertical-align: middle;\n",
              "    }\n",
              "\n",
              "    .dataframe tbody tr th {\n",
              "        vertical-align: top;\n",
              "    }\n",
              "\n",
              "    .dataframe thead th {\n",
              "        text-align: right;\n",
              "    }\n",
              "</style>\n",
              "<table border=\"1\" class=\"dataframe\">\n",
              "  <thead>\n",
              "    <tr style=\"text-align: right;\">\n",
              "      <th></th>\n",
              "      <th>Título</th>\n",
              "      <th>Autor</th>\n",
              "      <th>Acabamento</th>\n",
              "      <th>Preço</th>\n",
              "    </tr>\n",
              "  </thead>\n",
              "  <tbody>\n",
              "  </tbody>\n",
              "</table>\n",
              "</div>"
            ],
            "text/plain": [
              "Empty DataFrame\n",
              "Columns: [Título, Autor, Acabamento, Preço]\n",
              "Index: []"
            ]
          },
          "metadata": {
            "tags": []
          }
        },
        {
          "output_type": "stream",
          "text": [
            "\n",
            "\n",
            "https://www.amazon.com.br/b/ref=s9_acss_bw_cg_livros_2d1_w?node=11443295011&pf_rd_m=A3RN7G7QC5MWSZ&pf_rd_s=merchandised-search-13&pf_rd_r=0AC9WCXZN61JJGX49F4H&pf_rd_t=101&pf_rd_p=ef6255a0-96c8-4931-bc85-1e4d682f1064&pf_rd_i=6740748011\n"
          ],
          "name": "stdout"
        },
        {
          "output_type": "display_data",
          "data": {
            "text/html": [
              "<div>\n",
              "<style scoped>\n",
              "    .dataframe tbody tr th:only-of-type {\n",
              "        vertical-align: middle;\n",
              "    }\n",
              "\n",
              "    .dataframe tbody tr th {\n",
              "        vertical-align: top;\n",
              "    }\n",
              "\n",
              "    .dataframe thead th {\n",
              "        text-align: right;\n",
              "    }\n",
              "</style>\n",
              "<table border=\"1\" class=\"dataframe\">\n",
              "  <thead>\n",
              "    <tr style=\"text-align: right;\">\n",
              "      <th></th>\n",
              "      <th>Título</th>\n",
              "      <th>Autor</th>\n",
              "      <th>Acabamento</th>\n",
              "      <th>Preço</th>\n",
              "    </tr>\n",
              "  </thead>\n",
              "  <tbody>\n",
              "    <tr>\n",
              "      <th>0</th>\n",
              "      <td>O conto da aia</td>\n",
              "      <td>Margaret Atwood. Ana Deiró</td>\n",
              "      <td>Capa comum</td>\n",
              "      <td>44.50</td>\n",
              "    </tr>\n",
              "    <tr>\n",
              "      <th>1</th>\n",
              "      <td>Fahrenheit 451</td>\n",
              "      <td>Ray Bradbury. Cid Knipel</td>\n",
              "      <td>Capa comum</td>\n",
              "      <td>39.90</td>\n",
              "    </tr>\n",
              "    <tr>\n",
              "      <th>2</th>\n",
              "      <td>A revolução dos bichos</td>\n",
              "      <td>George Orwell. Heitor Aquino Ferreira</td>\n",
              "      <td>Capa comum</td>\n",
              "      <td>39.90</td>\n",
              "    </tr>\n",
              "    <tr>\n",
              "      <th>3</th>\n",
              "      <td>O Hobbit + pôster</td>\n",
              "      <td>J.R.R. Tolkien. Reinaldo José Lopes</td>\n",
              "      <td>Capa dura</td>\n",
              "      <td>59.90</td>\n",
              "    </tr>\n",
              "    <tr>\n",
              "      <th>4</th>\n",
              "      <td>Sandman: Edição Especial De 30 Anos...</td>\n",
              "      <td>Neil Gaiman</td>\n",
              "      <td>Capa comum</td>\n",
              "      <td>35.90</td>\n",
              "    </tr>\n",
              "  </tbody>\n",
              "</table>\n",
              "</div>"
            ],
            "text/plain": [
              "                                   Título  ...  Preço\n",
              "0                          O conto da aia  ...  44.50\n",
              "1                          Fahrenheit 451  ...  39.90\n",
              "2                  A revolução dos bichos  ...  39.90\n",
              "3                       O Hobbit + pôster  ...  59.90\n",
              "4  Sandman: Edição Especial De 30 Anos...  ...  35.90\n",
              "\n",
              "[5 rows x 4 columns]"
            ]
          },
          "metadata": {
            "tags": []
          }
        },
        {
          "output_type": "stream",
          "text": [
            "\n",
            "\n",
            "https://www.amazon.com.br/b/ref=s9_acss_bw_cg_livros_4b1_w?node=17021500011&pf_rd_m=A3RN7G7QC5MWSZ&pf_rd_s=merchandised-search-13&pf_rd_r=0JX9SAGKQ4QCZ7DET92M&pf_rd_t=101&pf_rd_p=ef6255a0-96c8-4931-bc85-1e4d682f1064&pf_rd_i=6740748011\n"
          ],
          "name": "stdout"
        },
        {
          "output_type": "display_data",
          "data": {
            "text/html": [
              "<div>\n",
              "<style scoped>\n",
              "    .dataframe tbody tr th:only-of-type {\n",
              "        vertical-align: middle;\n",
              "    }\n",
              "\n",
              "    .dataframe tbody tr th {\n",
              "        vertical-align: top;\n",
              "    }\n",
              "\n",
              "    .dataframe thead th {\n",
              "        text-align: right;\n",
              "    }\n",
              "</style>\n",
              "<table border=\"1\" class=\"dataframe\">\n",
              "  <thead>\n",
              "    <tr style=\"text-align: right;\">\n",
              "      <th></th>\n",
              "      <th>Título</th>\n",
              "      <th>Autor</th>\n",
              "      <th>Acabamento</th>\n",
              "      <th>Preço</th>\n",
              "    </tr>\n",
              "  </thead>\n",
              "  <tbody>\n",
              "  </tbody>\n",
              "</table>\n",
              "</div>"
            ],
            "text/plain": [
              "Empty DataFrame\n",
              "Columns: [Título, Autor, Acabamento, Preço]\n",
              "Index: []"
            ]
          },
          "metadata": {
            "tags": []
          }
        },
        {
          "output_type": "stream",
          "text": [
            "\n",
            "\n",
            "https://www.amazon.com.br/b/ref=s9_acss_bw_cg_livros_2c1_w?node=7882627011&pf_rd_m=A3RN7G7QC5MWSZ&pf_rd_s=merchandised-search-13&pf_rd_r=068FWS2KD5K5K0RGNXRY&pf_rd_t=101&pf_rd_p=ef6255a0-96c8-4931-bc85-1e4d682f1064&pf_rd_i=6740748011\n"
          ],
          "name": "stdout"
        },
        {
          "output_type": "display_data",
          "data": {
            "text/html": [
              "<div>\n",
              "<style scoped>\n",
              "    .dataframe tbody tr th:only-of-type {\n",
              "        vertical-align: middle;\n",
              "    }\n",
              "\n",
              "    .dataframe tbody tr th {\n",
              "        vertical-align: top;\n",
              "    }\n",
              "\n",
              "    .dataframe thead th {\n",
              "        text-align: right;\n",
              "    }\n",
              "</style>\n",
              "<table border=\"1\" class=\"dataframe\">\n",
              "  <thead>\n",
              "    <tr style=\"text-align: right;\">\n",
              "      <th></th>\n",
              "      <th>Título</th>\n",
              "      <th>Autor</th>\n",
              "      <th>Acabamento</th>\n",
              "      <th>Preço</th>\n",
              "    </tr>\n",
              "  </thead>\n",
              "  <tbody>\n",
              "    <tr>\n",
              "      <th>0</th>\n",
              "      <td>Wayward Son</td>\n",
              "      <td>Rainbow Rowell</td>\n",
              "      <td>Capa comum</td>\n",
              "      <td>45.82</td>\n",
              "    </tr>\n",
              "    <tr>\n",
              "      <th>1</th>\n",
              "      <td>English Grammar in Use Students Book...</td>\n",
              "      <td>Raymond Murphy</td>\n",
              "      <td>Capa comum</td>\n",
              "      <td>46</td>\n",
              "    </tr>\n",
              "    <tr>\n",
              "      <th>2</th>\n",
              "      <td>Little Women: Puffin in Bloom</td>\n",
              "      <td>Louisa May Alcott</td>\n",
              "      <td>Capa dura</td>\n",
              "      <td>56.56</td>\n",
              "    </tr>\n",
              "    <tr>\n",
              "      <th>3</th>\n",
              "      <td>Alter Ego + 1 - Cahier D'activites</td>\n",
              "      <td>Hachette Livre</td>\n",
              "      <td>Capa comum</td>\n",
              "      <td>79.39</td>\n",
              "    </tr>\n",
              "    <tr>\n",
              "      <th>4</th>\n",
              "      <td>The Little Book That Still Beats the...</td>\n",
              "      <td>Andrew Tobias. Joel Greenblatt</td>\n",
              "      <td>Capa dura</td>\n",
              "      <td>109.59</td>\n",
              "    </tr>\n",
              "  </tbody>\n",
              "</table>\n",
              "</div>"
            ],
            "text/plain": [
              "                                    Título  ...   Preço\n",
              "0                              Wayward Son  ...   45.82\n",
              "1  English Grammar in Use Students Book...  ...      46\n",
              "2            Little Women: Puffin in Bloom  ...   56.56\n",
              "3       Alter Ego + 1 - Cahier D'activites  ...   79.39\n",
              "4  The Little Book That Still Beats the...  ...  109.59\n",
              "\n",
              "[5 rows x 4 columns]"
            ]
          },
          "metadata": {
            "tags": []
          }
        },
        {
          "output_type": "stream",
          "text": [
            "\n",
            "\n",
            "https://www.amazon.com.br/b/ref=s9_acss_bw_cg_livros_2b1_w?node=16271670011&pf_rd_m=A3RN7G7QC5MWSZ&pf_rd_s=merchandised-search-13&pf_rd_r=068FWS2KD5K5K0RGNXRY&pf_rd_t=101&pf_rd_p=ef6255a0-96c8-4931-bc85-1e4d682f1064&pf_rd_i=6740748011\n"
          ],
          "name": "stdout"
        },
        {
          "output_type": "display_data",
          "data": {
            "text/html": [
              "<div>\n",
              "<style scoped>\n",
              "    .dataframe tbody tr th:only-of-type {\n",
              "        vertical-align: middle;\n",
              "    }\n",
              "\n",
              "    .dataframe tbody tr th {\n",
              "        vertical-align: top;\n",
              "    }\n",
              "\n",
              "    .dataframe thead th {\n",
              "        text-align: right;\n",
              "    }\n",
              "</style>\n",
              "<table border=\"1\" class=\"dataframe\">\n",
              "  <thead>\n",
              "    <tr style=\"text-align: right;\">\n",
              "      <th></th>\n",
              "      <th>Título</th>\n",
              "      <th>Autor</th>\n",
              "      <th>Acabamento</th>\n",
              "      <th>Preço</th>\n",
              "    </tr>\n",
              "  </thead>\n",
              "  <tbody>\n",
              "    <tr>\n",
              "      <th>0</th>\n",
              "      <td>Os segredos da mente milionária</td>\n",
              "      <td>T. Harv Eker. Pedro Jorgensen Junior</td>\n",
              "      <td>Capa comum</td>\n",
              "      <td>34.90</td>\n",
              "    </tr>\n",
              "    <tr>\n",
              "      <th>1</th>\n",
              "      <td>O poder da ação</td>\n",
              "      <td>Paulo Vieira</td>\n",
              "      <td>Capa comum</td>\n",
              "      <td>34.90</td>\n",
              "    </tr>\n",
              "    <tr>\n",
              "      <th>2</th>\n",
              "      <td>O conto da aia</td>\n",
              "      <td>Margaret Atwood. Ana Deiró</td>\n",
              "      <td>Capa comum</td>\n",
              "      <td>44.50</td>\n",
              "    </tr>\n",
              "    <tr>\n",
              "      <th>3</th>\n",
              "      <td>Mindset</td>\n",
              "      <td>Carol S. Dweck. S. Duarte</td>\n",
              "      <td>Capa comum</td>\n",
              "      <td>49.90</td>\n",
              "    </tr>\n",
              "    <tr>\n",
              "      <th>4</th>\n",
              "      <td>Fahrenheit 451</td>\n",
              "      <td>Ray Bradbury. Cid Knipel</td>\n",
              "      <td>Capa comum</td>\n",
              "      <td>39.90</td>\n",
              "    </tr>\n",
              "  </tbody>\n",
              "</table>\n",
              "</div>"
            ],
            "text/plain": [
              "                            Título  ...  Preço\n",
              "0  Os segredos da mente milionária  ...  34.90\n",
              "1                  O poder da ação  ...  34.90\n",
              "2                   O conto da aia  ...  44.50\n",
              "3                          Mindset  ...  49.90\n",
              "4                   Fahrenheit 451  ...  39.90\n",
              "\n",
              "[5 rows x 4 columns]"
            ]
          },
          "metadata": {
            "tags": []
          }
        },
        {
          "output_type": "stream",
          "text": [
            "\n",
            "\n",
            "https://www.amazon.com.br/b/ref=s9_acss_bw_cg_livros_3b1_w?node=7842710011&pf_rd_m=A3RN7G7QC5MWSZ&pf_rd_s=merchandised-search-13&pf_rd_r=068FWS2KD5K5K0RGNXRY&pf_rd_t=101&pf_rd_p=ef6255a0-96c8-4931-bc85-1e4d682f1064&pf_rd_i=6740748011\n"
          ],
          "name": "stdout"
        },
        {
          "output_type": "display_data",
          "data": {
            "text/html": [
              "<div>\n",
              "<style scoped>\n",
              "    .dataframe tbody tr th:only-of-type {\n",
              "        vertical-align: middle;\n",
              "    }\n",
              "\n",
              "    .dataframe tbody tr th {\n",
              "        vertical-align: top;\n",
              "    }\n",
              "\n",
              "    .dataframe thead th {\n",
              "        text-align: right;\n",
              "    }\n",
              "</style>\n",
              "<table border=\"1\" class=\"dataframe\">\n",
              "  <thead>\n",
              "    <tr style=\"text-align: right;\">\n",
              "      <th></th>\n",
              "      <th>Título</th>\n",
              "      <th>Autor</th>\n",
              "      <th>Acabamento</th>\n",
              "      <th>Preço</th>\n",
              "    </tr>\n",
              "  </thead>\n",
              "  <tbody>\n",
              "  </tbody>\n",
              "</table>\n",
              "</div>"
            ],
            "text/plain": [
              "Empty DataFrame\n",
              "Columns: [Título, Autor, Acabamento, Preço]\n",
              "Index: []"
            ]
          },
          "metadata": {
            "tags": []
          }
        },
        {
          "output_type": "stream",
          "text": [
            "\n",
            "\n",
            "https://www.amazon.com.br/b/ref=s9_acss_bw_cg_livros_3d1_w?node=7872552011&pf_rd_m=A3RN7G7QC5MWSZ&pf_rd_s=merchandised-search-13&pf_rd_r=068FWS2KD5K5K0RGNXRY&pf_rd_t=101&pf_rd_p=ef6255a0-96c8-4931-bc85-1e4d682f1064&pf_rd_i=6740748011\n"
          ],
          "name": "stdout"
        },
        {
          "output_type": "display_data",
          "data": {
            "text/html": [
              "<div>\n",
              "<style scoped>\n",
              "    .dataframe tbody tr th:only-of-type {\n",
              "        vertical-align: middle;\n",
              "    }\n",
              "\n",
              "    .dataframe tbody tr th {\n",
              "        vertical-align: top;\n",
              "    }\n",
              "\n",
              "    .dataframe thead th {\n",
              "        text-align: right;\n",
              "    }\n",
              "</style>\n",
              "<table border=\"1\" class=\"dataframe\">\n",
              "  <thead>\n",
              "    <tr style=\"text-align: right;\">\n",
              "      <th></th>\n",
              "      <th>Título</th>\n",
              "      <th>Autor</th>\n",
              "      <th>Acabamento</th>\n",
              "      <th>Preço</th>\n",
              "    </tr>\n",
              "  </thead>\n",
              "  <tbody>\n",
              "    <tr>\n",
              "      <th>0</th>\n",
              "      <td>Confeitaria escalafobética...</td>\n",
              "      <td>Raiza Costa</td>\n",
              "      <td>Capa dura</td>\n",
              "      <td>98.00</td>\n",
              "    </tr>\n",
              "    <tr>\n",
              "      <th>1</th>\n",
              "      <td>A química dos bolos: Receitas e...</td>\n",
              "      <td>Joyce Galvão</td>\n",
              "      <td>Capa dura</td>\n",
              "      <td>129.90</td>\n",
              "    </tr>\n",
              "    <tr>\n",
              "      <th>2</th>\n",
              "      <td>Le Cordon Bleu : Todas as técnicas...</td>\n",
              "      <td>Jeni Wright. Eric Treuille</td>\n",
              "      <td>Capa dura</td>\n",
              "      <td>249.90</td>\n",
              "    </tr>\n",
              "    <tr>\n",
              "      <th>3</th>\n",
              "      <td>O Que Tem na Geladeira? 30 Legumes e...</td>\n",
              "      <td>Rita Lobo</td>\n",
              "      <td>Capa dura</td>\n",
              "      <td>86.00</td>\n",
              "    </tr>\n",
              "    <tr>\n",
              "      <th>4</th>\n",
              "      <td>Cozinha prática</td>\n",
              "      <td>Rita Lobo</td>\n",
              "      <td>Capa dura</td>\n",
              "      <td>90.00</td>\n",
              "    </tr>\n",
              "  </tbody>\n",
              "</table>\n",
              "</div>"
            ],
            "text/plain": [
              "                                    Título  ...   Preço\n",
              "0            Confeitaria escalafobética...  ...   98.00\n",
              "1       A química dos bolos: Receitas e...  ...  129.90\n",
              "2    Le Cordon Bleu : Todas as técnicas...  ...  249.90\n",
              "3  O Que Tem na Geladeira? 30 Legumes e...  ...   86.00\n",
              "4                          Cozinha prática  ...   90.00\n",
              "\n",
              "[5 rows x 4 columns]"
            ]
          },
          "metadata": {
            "tags": []
          }
        },
        {
          "output_type": "stream",
          "text": [
            "\n",
            "\n",
            "https://www.amazon.com.br/b/ref=s9_acss_bw_cg_livros_4d1_w?node=5475882011&pf_rd_m=A3RN7G7QC5MWSZ&pf_rd_s=merchandised-search-13&pf_rd_r=068FWS2KD5K5K0RGNXRY&pf_rd_t=101&pf_rd_p=ef6255a0-96c8-4931-bc85-1e4d682f1064&pf_rd_i=6740748011\n"
          ],
          "name": "stdout"
        },
        {
          "output_type": "display_data",
          "data": {
            "text/html": [
              "<div>\n",
              "<style scoped>\n",
              "    .dataframe tbody tr th:only-of-type {\n",
              "        vertical-align: middle;\n",
              "    }\n",
              "\n",
              "    .dataframe tbody tr th {\n",
              "        vertical-align: top;\n",
              "    }\n",
              "\n",
              "    .dataframe thead th {\n",
              "        text-align: right;\n",
              "    }\n",
              "</style>\n",
              "<table border=\"1\" class=\"dataframe\">\n",
              "  <thead>\n",
              "    <tr style=\"text-align: right;\">\n",
              "      <th></th>\n",
              "      <th>Título</th>\n",
              "      <th>Autor</th>\n",
              "      <th>Acabamento</th>\n",
              "      <th>Preço</th>\n",
              "    </tr>\n",
              "  </thead>\n",
              "  <tbody>\n",
              "  </tbody>\n",
              "</table>\n",
              "</div>"
            ],
            "text/plain": [
              "Empty DataFrame\n",
              "Columns: [Título, Autor, Acabamento, Preço]\n",
              "Index: []"
            ]
          },
          "metadata": {
            "tags": []
          }
        },
        {
          "output_type": "stream",
          "text": [
            "\n",
            "\n"
          ],
          "name": "stdout"
        }
      ]
    },
    {
      "cell_type": "markdown",
      "metadata": {
        "id": "EaPK2h3wEfVb",
        "colab_type": "text"
      },
      "source": [
        "### Information from a single book"
      ]
    },
    {
      "cell_type": "code",
      "metadata": {
        "id": "n8agT_oB3Ovt",
        "colab_type": "code",
        "colab": {}
      },
      "source": [
        "ama_down_list = [ r'/content/drive/My Drive/9periodo/Recuperação de Informação/SITES BAIXADOS (Cris)/Amazon/Positivas/1808.html',\n",
        "                  r'/content/drive/My Drive/9periodo/Recuperação de Informação/SITES BAIXADOS (Cris)/Amazon/Positivas/Box - As Melhores Aventuras Do Sítio Do Picapau Amarelo Monteiro Lobato Amazon.com.br.html',\n",
        "                  r'/content/drive/My Drive/9periodo/Recuperação de Informação/SITES BAIXADOS (Cris)/Amazon/Positivas/Cotoco. O Diário De Um Garoto De 13 Anos - Livros na Amazon Brasil- 9788598078854.html',\n",
        "                  r'/content/drive/My Drive/9periodo/Recuperação de Informação/SITES BAIXADOS (Cris)/Amazon/Positivas/Do Mil ao Milhão. Sem Cortar o Cafezinho. - 9788595083271 - Livros na Amazon Brasil.html',\n",
        "                  r'/content/drive/My Drive/9periodo/Recuperação de Informação/SITES BAIXADOS (Cris)/Amazon/Positivas/Doctor Who, Neil Gaiman e vários - Livros na Amazon.com.br.html',\n",
        "                  r'/content/drive/My Drive/9periodo/Recuperação de Informação/SITES BAIXADOS (Cris)/Amazon/Positivas/Freud (1900) A interpretação dos sonhos Obras completas volume 4 - 9788535932218 - Livros na Amazon Brasil.html',\n",
        "                  r'/content/drive/My Drive/9periodo/Recuperação de Informação/SITES BAIXADOS (Cris)/Amazon/Positivas/Good Omens Belas Maldições - Livros na Amazon Brasil- 9788528624021.html',\n",
        "                  r'/content/drive/My Drive/9periodo/Recuperação de Informação/SITES BAIXADOS (Cris)/Amazon/Positivas/Os Mitos de Cthulhu - Volume Único (Exclusivo Amazon) Livros.html',\n",
        "                  r'/content/drive/My Drive/9periodo/Recuperação de Informação/SITES BAIXADOS (Cris)/Amazon/Positivas/Redes de Computadores e a Internet Uma Abordagem Top-Down - 9788581436777 - Livros na Amazon Brasil.html',\n",
        "                  r'/content/drive/My Drive/9periodo/Recuperação de Informação/SITES BAIXADOS (Cris)/Amazon/Positivas/Sobotta - Atlas de Anatomia Humana - 3 Volumes - 9788527732376 - Livros na Amazon Brasil.html']\n",
        "\n"
      ],
      "execution_count": 0,
      "outputs": []
    },
    {
      "cell_type": "code",
      "metadata": {
        "id": "lZ-dhdGq7V8T",
        "colab_type": "code",
        "colab": {}
      },
      "source": [
        "def amazon_single(site):\n",
        "\n",
        "  soup = bs(open(site),\"html.parser\")\n",
        "\n",
        "  title = (soup.find('span', {'id':'productTitle'})).text\n",
        "  \n",
        "  author = (soup.find('span', {'class':'author notFaded'})).find('a',{'class':'a-link-normal'}).text\n",
        "  \n",
        "  book = soup.find('div', {'class':'content'}).find_all('li')[:5]\n",
        " \n",
        "  n_pages = book[0].contents[1].strip().split(' ')[0]\n",
        "  \n",
        "  publishing = book[1].contents[1].strip().split(';')[0]\n",
        "  \n",
        "  language = book[2].contents[1].strip()\n",
        "  \n",
        "  cols = ['Título', 'Autor', 'Nº Páginas', 'Editora', 'Idioma']\n",
        "\n",
        "  list_info = [title, author, n_pages, publishing, language]\n",
        "  list_info\n",
        "  book_pd = pd.DataFrame([list_info],\\\n",
        "                        columns=cols)\n",
        "  \n",
        "  return display(book_pd)"
      ],
      "execution_count": 0,
      "outputs": []
    },
    {
      "cell_type": "code",
      "metadata": {
        "id": "a-dFiM9BR44A",
        "colab_type": "code",
        "outputId": "5c2fbc52-5dd7-4b5d-d629-abd6cc20f9e5",
        "colab": {
          "base_uri": "https://localhost:8080/",
          "height": 1000
        }
      },
      "source": [
        "for url in ama_down_list:\n",
        "  print(url)\n",
        "  amazon_single(url)\n",
        "  print('\\n')"
      ],
      "execution_count": 0,
      "outputs": [
        {
          "output_type": "stream",
          "text": [
            "/content/drive/My Drive/9periodo/Recuperação de Informação/SITES BAIXADOS (Cris)/Amazon/Positivas/1808.html\n"
          ],
          "name": "stdout"
        },
        {
          "output_type": "display_data",
          "data": {
            "text/html": [
              "<div>\n",
              "<style scoped>\n",
              "    .dataframe tbody tr th:only-of-type {\n",
              "        vertical-align: middle;\n",
              "    }\n",
              "\n",
              "    .dataframe tbody tr th {\n",
              "        vertical-align: top;\n",
              "    }\n",
              "\n",
              "    .dataframe thead th {\n",
              "        text-align: right;\n",
              "    }\n",
              "</style>\n",
              "<table border=\"1\" class=\"dataframe\">\n",
              "  <thead>\n",
              "    <tr style=\"text-align: right;\">\n",
              "      <th></th>\n",
              "      <th>Título</th>\n",
              "      <th>Autor</th>\n",
              "      <th>Nº Páginas</th>\n",
              "      <th>Editora</th>\n",
              "      <th>Idioma</th>\n",
              "    </tr>\n",
              "  </thead>\n",
              "  <tbody>\n",
              "    <tr>\n",
              "      <th>0</th>\n",
              "      <td>1808: Como uma rainha\\n louca, um príncipe med...</td>\n",
              "      <td>Laurentino Gomes</td>\n",
              "      <td>384</td>\n",
              "      <td>Globo Livros</td>\n",
              "      <td>Português</td>\n",
              "    </tr>\n",
              "  </tbody>\n",
              "</table>\n",
              "</div>"
            ],
            "text/plain": [
              "                                              Título  ...     Idioma\n",
              "0  1808: Como uma rainha\\n louca, um príncipe med...  ...  Português\n",
              "\n",
              "[1 rows x 5 columns]"
            ]
          },
          "metadata": {
            "tags": []
          }
        },
        {
          "output_type": "stream",
          "text": [
            "\n",
            "\n",
            "/content/drive/My Drive/9periodo/Recuperação de Informação/SITES BAIXADOS (Cris)/Amazon/Positivas/Box - As Melhores Aventuras Do Sítio Do Picapau Amarelo Monteiro Lobato Amazon.com.br.html\n"
          ],
          "name": "stdout"
        },
        {
          "output_type": "display_data",
          "data": {
            "text/html": [
              "<div>\n",
              "<style scoped>\n",
              "    .dataframe tbody tr th:only-of-type {\n",
              "        vertical-align: middle;\n",
              "    }\n",
              "\n",
              "    .dataframe tbody tr th {\n",
              "        vertical-align: top;\n",
              "    }\n",
              "\n",
              "    .dataframe thead th {\n",
              "        text-align: right;\n",
              "    }\n",
              "</style>\n",
              "<table border=\"1\" class=\"dataframe\">\n",
              "  <thead>\n",
              "    <tr style=\"text-align: right;\">\n",
              "      <th></th>\n",
              "      <th>Título</th>\n",
              "      <th>Autor</th>\n",
              "      <th>Nº Páginas</th>\n",
              "      <th>Editora</th>\n",
              "      <th>Idioma</th>\n",
              "    </tr>\n",
              "  </thead>\n",
              "  <tbody>\n",
              "    <tr>\n",
              "      <th>0</th>\n",
              "      <td>Box - As Melhores Aventuras Do Sítio Do Picapa...</td>\n",
              "      <td>Monteiro Lobato</td>\n",
              "      <td>640</td>\n",
              "      <td>Nova Fronteira</td>\n",
              "      <td>Português</td>\n",
              "    </tr>\n",
              "  </tbody>\n",
              "</table>\n",
              "</div>"
            ],
            "text/plain": [
              "                                              Título  ...     Idioma\n",
              "0  Box - As Melhores Aventuras Do Sítio Do Picapa...  ...  Português\n",
              "\n",
              "[1 rows x 5 columns]"
            ]
          },
          "metadata": {
            "tags": []
          }
        },
        {
          "output_type": "stream",
          "text": [
            "\n",
            "\n",
            "/content/drive/My Drive/9periodo/Recuperação de Informação/SITES BAIXADOS (Cris)/Amazon/Positivas/Cotoco. O Diário De Um Garoto De 13 Anos - Livros na Amazon Brasil- 9788598078854.html\n"
          ],
          "name": "stdout"
        },
        {
          "output_type": "display_data",
          "data": {
            "text/html": [
              "<div>\n",
              "<style scoped>\n",
              "    .dataframe tbody tr th:only-of-type {\n",
              "        vertical-align: middle;\n",
              "    }\n",
              "\n",
              "    .dataframe tbody tr th {\n",
              "        vertical-align: top;\n",
              "    }\n",
              "\n",
              "    .dataframe thead th {\n",
              "        text-align: right;\n",
              "    }\n",
              "</style>\n",
              "<table border=\"1\" class=\"dataframe\">\n",
              "  <thead>\n",
              "    <tr style=\"text-align: right;\">\n",
              "      <th></th>\n",
              "      <th>Título</th>\n",
              "      <th>Autor</th>\n",
              "      <th>Nº Páginas</th>\n",
              "      <th>Editora</th>\n",
              "      <th>Idioma</th>\n",
              "    </tr>\n",
              "  </thead>\n",
              "  <tbody>\n",
              "    <tr>\n",
              "      <th>0</th>\n",
              "      <td>Cotoco. O Diário De Um Garoto De 13 Anos</td>\n",
              "      <td>John Van de Ruit</td>\n",
              "      <td>390</td>\n",
              "      <td>Intrínseca</td>\n",
              "      <td>Português</td>\n",
              "    </tr>\n",
              "  </tbody>\n",
              "</table>\n",
              "</div>"
            ],
            "text/plain": [
              "                                     Título  ...     Idioma\n",
              "0  Cotoco. O Diário De Um Garoto De 13 Anos  ...  Português\n",
              "\n",
              "[1 rows x 5 columns]"
            ]
          },
          "metadata": {
            "tags": []
          }
        },
        {
          "output_type": "stream",
          "text": [
            "\n",
            "\n",
            "/content/drive/My Drive/9periodo/Recuperação de Informação/SITES BAIXADOS (Cris)/Amazon/Positivas/Do Mil ao Milhão. Sem Cortar o Cafezinho. - 9788595083271 - Livros na Amazon Brasil.html\n"
          ],
          "name": "stdout"
        },
        {
          "output_type": "display_data",
          "data": {
            "text/html": [
              "<div>\n",
              "<style scoped>\n",
              "    .dataframe tbody tr th:only-of-type {\n",
              "        vertical-align: middle;\n",
              "    }\n",
              "\n",
              "    .dataframe tbody tr th {\n",
              "        vertical-align: top;\n",
              "    }\n",
              "\n",
              "    .dataframe thead th {\n",
              "        text-align: right;\n",
              "    }\n",
              "</style>\n",
              "<table border=\"1\" class=\"dataframe\">\n",
              "  <thead>\n",
              "    <tr style=\"text-align: right;\">\n",
              "      <th></th>\n",
              "      <th>Título</th>\n",
              "      <th>Autor</th>\n",
              "      <th>Nº Páginas</th>\n",
              "      <th>Editora</th>\n",
              "      <th>Idioma</th>\n",
              "    </tr>\n",
              "  </thead>\n",
              "  <tbody>\n",
              "    <tr>\n",
              "      <th>0</th>\n",
              "      <td>Do Mil ao Milhão. Sem Cortar o Cafezinho.</td>\n",
              "      <td>Thiago Nigro</td>\n",
              "      <td>192</td>\n",
              "      <td>HarperCollins</td>\n",
              "      <td>Português</td>\n",
              "    </tr>\n",
              "  </tbody>\n",
              "</table>\n",
              "</div>"
            ],
            "text/plain": [
              "                                      Título  ...     Idioma\n",
              "0  Do Mil ao Milhão. Sem Cortar o Cafezinho.  ...  Português\n",
              "\n",
              "[1 rows x 5 columns]"
            ]
          },
          "metadata": {
            "tags": []
          }
        },
        {
          "output_type": "stream",
          "text": [
            "\n",
            "\n",
            "/content/drive/My Drive/9periodo/Recuperação de Informação/SITES BAIXADOS (Cris)/Amazon/Positivas/Doctor Who, Neil Gaiman e vários - Livros na Amazon.com.br.html\n"
          ],
          "name": "stdout"
        },
        {
          "output_type": "display_data",
          "data": {
            "text/html": [
              "<div>\n",
              "<style scoped>\n",
              "    .dataframe tbody tr th:only-of-type {\n",
              "        vertical-align: middle;\n",
              "    }\n",
              "\n",
              "    .dataframe tbody tr th {\n",
              "        vertical-align: top;\n",
              "    }\n",
              "\n",
              "    .dataframe thead th {\n",
              "        text-align: right;\n",
              "    }\n",
              "</style>\n",
              "<table border=\"1\" class=\"dataframe\">\n",
              "  <thead>\n",
              "    <tr style=\"text-align: right;\">\n",
              "      <th></th>\n",
              "      <th>Título</th>\n",
              "      <th>Autor</th>\n",
              "      <th>Nº Páginas</th>\n",
              "      <th>Editora</th>\n",
              "      <th>Idioma</th>\n",
              "    </tr>\n",
              "  </thead>\n",
              "  <tbody>\n",
              "    <tr>\n",
              "      <th>0</th>\n",
              "      <td>Doctor Who: 12 Doutores, 12 histórias</td>\n",
              "      <td>Alex Scarrow</td>\n",
              "      <td>480</td>\n",
              "      <td>Fantástica Rocco</td>\n",
              "      <td>Português</td>\n",
              "    </tr>\n",
              "  </tbody>\n",
              "</table>\n",
              "</div>"
            ],
            "text/plain": [
              "                                  Título  ...     Idioma\n",
              "0  Doctor Who: 12 Doutores, 12 histórias  ...  Português\n",
              "\n",
              "[1 rows x 5 columns]"
            ]
          },
          "metadata": {
            "tags": []
          }
        },
        {
          "output_type": "stream",
          "text": [
            "\n",
            "\n",
            "/content/drive/My Drive/9periodo/Recuperação de Informação/SITES BAIXADOS (Cris)/Amazon/Positivas/Freud (1900) A interpretação dos sonhos Obras completas volume 4 - 9788535932218 - Livros na Amazon Brasil.html\n"
          ],
          "name": "stdout"
        },
        {
          "output_type": "display_data",
          "data": {
            "text/html": [
              "<div>\n",
              "<style scoped>\n",
              "    .dataframe tbody tr th:only-of-type {\n",
              "        vertical-align: middle;\n",
              "    }\n",
              "\n",
              "    .dataframe tbody tr th {\n",
              "        vertical-align: top;\n",
              "    }\n",
              "\n",
              "    .dataframe thead th {\n",
              "        text-align: right;\n",
              "    }\n",
              "</style>\n",
              "<table border=\"1\" class=\"dataframe\">\n",
              "  <thead>\n",
              "    <tr style=\"text-align: right;\">\n",
              "      <th></th>\n",
              "      <th>Título</th>\n",
              "      <th>Autor</th>\n",
              "      <th>Nº Páginas</th>\n",
              "      <th>Editora</th>\n",
              "      <th>Idioma</th>\n",
              "    </tr>\n",
              "  </thead>\n",
              "  <tbody>\n",
              "    <tr>\n",
              "      <th>0</th>\n",
              "      <td>Freud (1900) A interpretação dos sonhos: Obras...</td>\n",
              "      <td>Sigmund Freud</td>\n",
              "      <td>736</td>\n",
              "      <td>Companhia das Letras</td>\n",
              "      <td>Português</td>\n",
              "    </tr>\n",
              "  </tbody>\n",
              "</table>\n",
              "</div>"
            ],
            "text/plain": [
              "                                              Título  ...     Idioma\n",
              "0  Freud (1900) A interpretação dos sonhos: Obras...  ...  Português\n",
              "\n",
              "[1 rows x 5 columns]"
            ]
          },
          "metadata": {
            "tags": []
          }
        },
        {
          "output_type": "stream",
          "text": [
            "\n",
            "\n",
            "/content/drive/My Drive/9periodo/Recuperação de Informação/SITES BAIXADOS (Cris)/Amazon/Positivas/Good Omens Belas Maldições - Livros na Amazon Brasil- 9788528624021.html\n"
          ],
          "name": "stdout"
        },
        {
          "output_type": "display_data",
          "data": {
            "text/html": [
              "<div>\n",
              "<style scoped>\n",
              "    .dataframe tbody tr th:only-of-type {\n",
              "        vertical-align: middle;\n",
              "    }\n",
              "\n",
              "    .dataframe tbody tr th {\n",
              "        vertical-align: top;\n",
              "    }\n",
              "\n",
              "    .dataframe thead th {\n",
              "        text-align: right;\n",
              "    }\n",
              "</style>\n",
              "<table border=\"1\" class=\"dataframe\">\n",
              "  <thead>\n",
              "    <tr style=\"text-align: right;\">\n",
              "      <th></th>\n",
              "      <th>Título</th>\n",
              "      <th>Autor</th>\n",
              "      <th>Nº Páginas</th>\n",
              "      <th>Editora</th>\n",
              "      <th>Idioma</th>\n",
              "    </tr>\n",
              "  </thead>\n",
              "  <tbody>\n",
              "    <tr>\n",
              "      <th>0</th>\n",
              "      <td>Good Omens: Belas Maldições</td>\n",
              "      <td>Neil Gaiman</td>\n",
              "      <td>364</td>\n",
              "      <td>Bertrand Brasil</td>\n",
              "      <td>Português</td>\n",
              "    </tr>\n",
              "  </tbody>\n",
              "</table>\n",
              "</div>"
            ],
            "text/plain": [
              "                        Título        Autor  ...          Editora     Idioma\n",
              "0  Good Omens: Belas Maldições  Neil Gaiman  ...  Bertrand Brasil  Português\n",
              "\n",
              "[1 rows x 5 columns]"
            ]
          },
          "metadata": {
            "tags": []
          }
        },
        {
          "output_type": "stream",
          "text": [
            "\n",
            "\n",
            "/content/drive/My Drive/9periodo/Recuperação de Informação/SITES BAIXADOS (Cris)/Amazon/Positivas/Os Mitos de Cthulhu - Volume Único (Exclusivo Amazon) Livros.html\n"
          ],
          "name": "stdout"
        },
        {
          "output_type": "display_data",
          "data": {
            "text/html": [
              "<div>\n",
              "<style scoped>\n",
              "    .dataframe tbody tr th:only-of-type {\n",
              "        vertical-align: middle;\n",
              "    }\n",
              "\n",
              "    .dataframe tbody tr th {\n",
              "        vertical-align: top;\n",
              "    }\n",
              "\n",
              "    .dataframe thead th {\n",
              "        text-align: right;\n",
              "    }\n",
              "</style>\n",
              "<table border=\"1\" class=\"dataframe\">\n",
              "  <thead>\n",
              "    <tr style=\"text-align: right;\">\n",
              "      <th></th>\n",
              "      <th>Título</th>\n",
              "      <th>Autor</th>\n",
              "      <th>Nº Páginas</th>\n",
              "      <th>Editora</th>\n",
              "      <th>Idioma</th>\n",
              "    </tr>\n",
              "  </thead>\n",
              "  <tbody>\n",
              "    <tr>\n",
              "      <th>0</th>\n",
              "      <td>Os Mitos de Cthulhu - Volume Único (Exclusivo ...</td>\n",
              "      <td>Esteban Maroto</td>\n",
              "      <td>92</td>\n",
              "      <td>Pipoca e Nanquim (7 de junho de 2019)</td>\n",
              "      <td>Português</td>\n",
              "    </tr>\n",
              "  </tbody>\n",
              "</table>\n",
              "</div>"
            ],
            "text/plain": [
              "                                              Título  ...     Idioma\n",
              "0  Os Mitos de Cthulhu - Volume Único (Exclusivo ...  ...  Português\n",
              "\n",
              "[1 rows x 5 columns]"
            ]
          },
          "metadata": {
            "tags": []
          }
        },
        {
          "output_type": "stream",
          "text": [
            "\n",
            "\n",
            "/content/drive/My Drive/9periodo/Recuperação de Informação/SITES BAIXADOS (Cris)/Amazon/Positivas/Redes de Computadores e a Internet Uma Abordagem Top-Down - 9788581436777 - Livros na Amazon Brasil.html\n"
          ],
          "name": "stdout"
        },
        {
          "output_type": "display_data",
          "data": {
            "text/html": [
              "<div>\n",
              "<style scoped>\n",
              "    .dataframe tbody tr th:only-of-type {\n",
              "        vertical-align: middle;\n",
              "    }\n",
              "\n",
              "    .dataframe tbody tr th {\n",
              "        vertical-align: top;\n",
              "    }\n",
              "\n",
              "    .dataframe thead th {\n",
              "        text-align: right;\n",
              "    }\n",
              "</style>\n",
              "<table border=\"1\" class=\"dataframe\">\n",
              "  <thead>\n",
              "    <tr style=\"text-align: right;\">\n",
              "      <th></th>\n",
              "      <th>Título</th>\n",
              "      <th>Autor</th>\n",
              "      <th>Nº Páginas</th>\n",
              "      <th>Editora</th>\n",
              "      <th>Idioma</th>\n",
              "    </tr>\n",
              "  </thead>\n",
              "  <tbody>\n",
              "    <tr>\n",
              "      <th>0</th>\n",
              "      <td>Redes de Computadores e a Internet: Uma Aborda...</td>\n",
              "      <td>Jim Kurose</td>\n",
              "      <td>656</td>\n",
              "      <td>Pearson Universidades</td>\n",
              "      <td>Português</td>\n",
              "    </tr>\n",
              "  </tbody>\n",
              "</table>\n",
              "</div>"
            ],
            "text/plain": [
              "                                              Título  ...     Idioma\n",
              "0  Redes de Computadores e a Internet: Uma Aborda...  ...  Português\n",
              "\n",
              "[1 rows x 5 columns]"
            ]
          },
          "metadata": {
            "tags": []
          }
        },
        {
          "output_type": "stream",
          "text": [
            "\n",
            "\n",
            "/content/drive/My Drive/9periodo/Recuperação de Informação/SITES BAIXADOS (Cris)/Amazon/Positivas/Sobotta - Atlas de Anatomia Humana - 3 Volumes - 9788527732376 - Livros na Amazon Brasil.html\n"
          ],
          "name": "stdout"
        },
        {
          "output_type": "display_data",
          "data": {
            "text/html": [
              "<div>\n",
              "<style scoped>\n",
              "    .dataframe tbody tr th:only-of-type {\n",
              "        vertical-align: middle;\n",
              "    }\n",
              "\n",
              "    .dataframe tbody tr th {\n",
              "        vertical-align: top;\n",
              "    }\n",
              "\n",
              "    .dataframe thead th {\n",
              "        text-align: right;\n",
              "    }\n",
              "</style>\n",
              "<table border=\"1\" class=\"dataframe\">\n",
              "  <thead>\n",
              "    <tr style=\"text-align: right;\">\n",
              "      <th></th>\n",
              "      <th>Título</th>\n",
              "      <th>Autor</th>\n",
              "      <th>Nº Páginas</th>\n",
              "      <th>Editora</th>\n",
              "      <th>Idioma</th>\n",
              "    </tr>\n",
              "  </thead>\n",
              "  <tbody>\n",
              "    <tr>\n",
              "      <th>0</th>\n",
              "      <td>Sobotta - Atlas de Anatomia Humana - 3 Volumes</td>\n",
              "      <td>Friedrich Paulsen</td>\n",
              "      <td>1168</td>\n",
              "      <td>Guanabara Koogan</td>\n",
              "      <td>Português</td>\n",
              "    </tr>\n",
              "  </tbody>\n",
              "</table>\n",
              "</div>"
            ],
            "text/plain": [
              "                                           Título  ...     Idioma\n",
              "0  Sobotta - Atlas de Anatomia Humana - 3 Volumes  ...  Português\n",
              "\n",
              "[1 rows x 5 columns]"
            ]
          },
          "metadata": {
            "tags": []
          }
        },
        {
          "output_type": "stream",
          "text": [
            "\n",
            "\n"
          ],
          "name": "stdout"
        }
      ]
    },
    {
      "cell_type": "markdown",
      "metadata": {
        "id": "jTCEiDOGyxxe",
        "colab_type": "text"
      },
      "source": [
        "## 2. SARAIVA"
      ]
    },
    {
      "cell_type": "code",
      "metadata": {
        "id": "mlBDXliJ6Mrg",
        "colab_type": "code",
        "colab": {}
      },
      "source": [
        "def saraiva_single(site):\n",
        "  soup = bs(open(site),\"html.parser\")\n",
        "\n",
        "  title = soup.find('div', {'class':'product-review'}).h1.text\n",
        "\n",
        "  infos = soup.find('table', {'class':'group Caracteristicas'})\n",
        "\n",
        "  author = infos.find('td', {'class':'value-field Autor'}).text\n",
        "\n",
        "  n_pages = infos.find('td', {'class':'value-field Numero-de-Paginas'}).text\n",
        "\n",
        "  language = infos.find('td', {'class':'value-field Idioma'}).text\n",
        "\n",
        "  binding = infos.find('td', {'class':'value-field Acabamento'}).text\n",
        "\n",
        "  cols = ['Título', 'Autor', 'Nº Páginas', 'Acabamento', 'Idioma']\n",
        "\n",
        "  list_info = [title, author, n_pages, binding, language]\n",
        "  list_info\n",
        "  book_pd = pd.DataFrame([list_info],\\\n",
        "                        columns=cols)\n",
        "\n",
        "  return display(book_pd)"
      ],
      "execution_count": 0,
      "outputs": []
    },
    {
      "cell_type": "code",
      "metadata": {
        "id": "9c4QFc9ayz6D",
        "colab_type": "code",
        "colab": {}
      },
      "source": [
        "sar_url_list = [r'/content/drive/My Drive/9periodo/Recuperação de Informação/SITES BAIXADOS (Cris)/Saraiva/Positivas/Alice No País Das Maravilhas (Classic Edition) - Saraiva.html',\n",
        "                r'/content/drive/My Drive/9periodo/Recuperação de Informação/SITES BAIXADOS (Cris)/Saraiva/Positivas/Steve Jobs - A Biografia - Saraiva.html',\n",
        "                r'/content/drive/My Drive/9periodo/Recuperação de Informação/SITES BAIXADOS (Cris)/Saraiva/Positivas/Vade Mecum Compacto - Brochura - 21a Ed. 2019 - Saraiva.html',\n",
        "                r'/content/drive/My Drive/9periodo/Recuperação de Informação/SITES BAIXADOS (Cris)/Saraiva/Positivas/It - A Coisa - Saraiva.html',\n",
        "                r'/content/drive/My Drive/9periodo/Recuperação de Informação/SITES BAIXADOS (Cris)/Saraiva/Positivas/O Guia do Mochileiro Das Galáxias - Série o Mochileiro Das Galáxias - Vol. 1 - Saraiva.html',\n",
        "                r'/content/drive/My Drive/9periodo/Recuperação de Informação/SITES BAIXADOS (Cris)/Saraiva/Positivas/O Livrinho do Bebê - Animais, Palavras, Contrários, Cores e Formas - Saraiva.html',\n",
        "                r'/content/drive/My Drive/9periodo/Recuperação de Informação/SITES BAIXADOS (Cris)/Saraiva/Positivas/Star Wars - O Arquivo Rebelde - Saraiva.html']\n",
        "# r'/content/drive/My Drive/9periodo/Recuperação de Informação/SITES BAIXADOS (Cris)/Saraiva/Positivas/Como Fazer Amigos e Influenciar Pessoas - Saraiva.html'\n",
        "# r'/content/drive/My Drive/9periodo/Recuperação de Informação/SITES BAIXADOS (Cris)/Saraiva/Positivas/Notebook Gamer Samsung Odyssey Intel Core i5-7300HQ,GEFORCE GTX 1050 4Gb,Hd 1Tb,8Gb,15,W10 - Saraiva.html',\n"
      ],
      "execution_count": 0,
      "outputs": []
    },
    {
      "cell_type": "code",
      "metadata": {
        "id": "zQalDjMs5qT5",
        "colab_type": "code",
        "outputId": "e4bd02ea-c6c8-4ba2-efe9-53efcc4f50ee",
        "colab": {
          "base_uri": "https://localhost:8080/",
          "height": 1000
        }
      },
      "source": [
        "for url in sar_url_list:\n",
        "  print(url)\n",
        "  saraiva_single(url)\n",
        "  print('\\n')"
      ],
      "execution_count": 0,
      "outputs": [
        {
          "output_type": "stream",
          "text": [
            "/content/drive/My Drive/9periodo/Recuperação de Informação/SITES BAIXADOS (Cris)/Saraiva/Positivas/Alice No País Das Maravilhas (Classic Edition) - Saraiva.html\n"
          ],
          "name": "stdout"
        },
        {
          "output_type": "display_data",
          "data": {
            "text/html": [
              "<div>\n",
              "<style scoped>\n",
              "    .dataframe tbody tr th:only-of-type {\n",
              "        vertical-align: middle;\n",
              "    }\n",
              "\n",
              "    .dataframe tbody tr th {\n",
              "        vertical-align: top;\n",
              "    }\n",
              "\n",
              "    .dataframe thead th {\n",
              "        text-align: right;\n",
              "    }\n",
              "</style>\n",
              "<table border=\"1\" class=\"dataframe\">\n",
              "  <thead>\n",
              "    <tr style=\"text-align: right;\">\n",
              "      <th></th>\n",
              "      <th>Título</th>\n",
              "      <th>Autor</th>\n",
              "      <th>Nº Páginas</th>\n",
              "      <th>Acabamento</th>\n",
              "      <th>Idioma</th>\n",
              "    </tr>\n",
              "  </thead>\n",
              "  <tbody>\n",
              "    <tr>\n",
              "      <th>0</th>\n",
              "      <td>Alice No País Das Maravilhas (Classic Edition)</td>\n",
              "      <td>Carroll,Lewis</td>\n",
              "      <td>208</td>\n",
              "      <td>Capa dura</td>\n",
              "      <td>Português</td>\n",
              "    </tr>\n",
              "  </tbody>\n",
              "</table>\n",
              "</div>"
            ],
            "text/plain": [
              "                                           Título  ...     Idioma\n",
              "0  Alice No País Das Maravilhas (Classic Edition)  ...  Português\n",
              "\n",
              "[1 rows x 5 columns]"
            ]
          },
          "metadata": {
            "tags": []
          }
        },
        {
          "output_type": "stream",
          "text": [
            "\n",
            "\n",
            "/content/drive/My Drive/9periodo/Recuperação de Informação/SITES BAIXADOS (Cris)/Saraiva/Positivas/Steve Jobs - A Biografia - Saraiva.html\n"
          ],
          "name": "stdout"
        },
        {
          "output_type": "display_data",
          "data": {
            "text/html": [
              "<div>\n",
              "<style scoped>\n",
              "    .dataframe tbody tr th:only-of-type {\n",
              "        vertical-align: middle;\n",
              "    }\n",
              "\n",
              "    .dataframe tbody tr th {\n",
              "        vertical-align: top;\n",
              "    }\n",
              "\n",
              "    .dataframe thead th {\n",
              "        text-align: right;\n",
              "    }\n",
              "</style>\n",
              "<table border=\"1\" class=\"dataframe\">\n",
              "  <thead>\n",
              "    <tr style=\"text-align: right;\">\n",
              "      <th></th>\n",
              "      <th>Título</th>\n",
              "      <th>Autor</th>\n",
              "      <th>Nº Páginas</th>\n",
              "      <th>Acabamento</th>\n",
              "      <th>Idioma</th>\n",
              "    </tr>\n",
              "  </thead>\n",
              "  <tbody>\n",
              "    <tr>\n",
              "      <th>0</th>\n",
              "      <td>Steve Jobs - A Biografia</td>\n",
              "      <td>Isaacson,Walter, Isaacson,Walter</td>\n",
              "      <td>624</td>\n",
              "      <td>Brochura</td>\n",
              "      <td>Português</td>\n",
              "    </tr>\n",
              "  </tbody>\n",
              "</table>\n",
              "</div>"
            ],
            "text/plain": [
              "                     Título  ...     Idioma\n",
              "0  Steve Jobs - A Biografia  ...  Português\n",
              "\n",
              "[1 rows x 5 columns]"
            ]
          },
          "metadata": {
            "tags": []
          }
        },
        {
          "output_type": "stream",
          "text": [
            "\n",
            "\n",
            "/content/drive/My Drive/9periodo/Recuperação de Informação/SITES BAIXADOS (Cris)/Saraiva/Positivas/Vade Mecum Compacto - Brochura - 21a Ed. 2019 - Saraiva.html\n"
          ],
          "name": "stdout"
        },
        {
          "output_type": "display_data",
          "data": {
            "text/html": [
              "<div>\n",
              "<style scoped>\n",
              "    .dataframe tbody tr th:only-of-type {\n",
              "        vertical-align: middle;\n",
              "    }\n",
              "\n",
              "    .dataframe tbody tr th {\n",
              "        vertical-align: top;\n",
              "    }\n",
              "\n",
              "    .dataframe thead th {\n",
              "        text-align: right;\n",
              "    }\n",
              "</style>\n",
              "<table border=\"1\" class=\"dataframe\">\n",
              "  <thead>\n",
              "    <tr style=\"text-align: right;\">\n",
              "      <th></th>\n",
              "      <th>Título</th>\n",
              "      <th>Autor</th>\n",
              "      <th>Nº Páginas</th>\n",
              "      <th>Acabamento</th>\n",
              "      <th>Idioma</th>\n",
              "    </tr>\n",
              "  </thead>\n",
              "  <tbody>\n",
              "    <tr>\n",
              "      <th>0</th>\n",
              "      <td>Vade Mecum Compacto   - Brochura  - 21ª Ed. 2019</td>\n",
              "      <td>Editora Saraiva</td>\n",
              "      <td>2127</td>\n",
              "      <td>Brochura</td>\n",
              "      <td>Português</td>\n",
              "    </tr>\n",
              "  </tbody>\n",
              "</table>\n",
              "</div>"
            ],
            "text/plain": [
              "                                             Título  ...     Idioma\n",
              "0  Vade Mecum Compacto   - Brochura  - 21ª Ed. 2019  ...  Português\n",
              "\n",
              "[1 rows x 5 columns]"
            ]
          },
          "metadata": {
            "tags": []
          }
        },
        {
          "output_type": "stream",
          "text": [
            "\n",
            "\n",
            "/content/drive/My Drive/9periodo/Recuperação de Informação/SITES BAIXADOS (Cris)/Saraiva/Positivas/It - A Coisa - Saraiva.html\n"
          ],
          "name": "stdout"
        },
        {
          "output_type": "display_data",
          "data": {
            "text/html": [
              "<div>\n",
              "<style scoped>\n",
              "    .dataframe tbody tr th:only-of-type {\n",
              "        vertical-align: middle;\n",
              "    }\n",
              "\n",
              "    .dataframe tbody tr th {\n",
              "        vertical-align: top;\n",
              "    }\n",
              "\n",
              "    .dataframe thead th {\n",
              "        text-align: right;\n",
              "    }\n",
              "</style>\n",
              "<table border=\"1\" class=\"dataframe\">\n",
              "  <thead>\n",
              "    <tr style=\"text-align: right;\">\n",
              "      <th></th>\n",
              "      <th>Título</th>\n",
              "      <th>Autor</th>\n",
              "      <th>Nº Páginas</th>\n",
              "      <th>Acabamento</th>\n",
              "      <th>Idioma</th>\n",
              "    </tr>\n",
              "  </thead>\n",
              "  <tbody>\n",
              "    <tr>\n",
              "      <th>0</th>\n",
              "      <td>It - A Coisa</td>\n",
              "      <td>King,Stephen</td>\n",
              "      <td>1104</td>\n",
              "      <td>Brochura</td>\n",
              "      <td>Português</td>\n",
              "    </tr>\n",
              "  </tbody>\n",
              "</table>\n",
              "</div>"
            ],
            "text/plain": [
              "         Título         Autor Nº Páginas Acabamento     Idioma\n",
              "0  It - A Coisa  King,Stephen       1104   Brochura  Português"
            ]
          },
          "metadata": {
            "tags": []
          }
        },
        {
          "output_type": "stream",
          "text": [
            "\n",
            "\n",
            "/content/drive/My Drive/9periodo/Recuperação de Informação/SITES BAIXADOS (Cris)/Saraiva/Positivas/O Guia do Mochileiro Das Galáxias - Série o Mochileiro Das Galáxias - Vol. 1 - Saraiva.html\n"
          ],
          "name": "stdout"
        },
        {
          "output_type": "display_data",
          "data": {
            "text/html": [
              "<div>\n",
              "<style scoped>\n",
              "    .dataframe tbody tr th:only-of-type {\n",
              "        vertical-align: middle;\n",
              "    }\n",
              "\n",
              "    .dataframe tbody tr th {\n",
              "        vertical-align: top;\n",
              "    }\n",
              "\n",
              "    .dataframe thead th {\n",
              "        text-align: right;\n",
              "    }\n",
              "</style>\n",
              "<table border=\"1\" class=\"dataframe\">\n",
              "  <thead>\n",
              "    <tr style=\"text-align: right;\">\n",
              "      <th></th>\n",
              "      <th>Título</th>\n",
              "      <th>Autor</th>\n",
              "      <th>Nº Páginas</th>\n",
              "      <th>Acabamento</th>\n",
              "      <th>Idioma</th>\n",
              "    </tr>\n",
              "  </thead>\n",
              "  <tbody>\n",
              "    <tr>\n",
              "      <th>0</th>\n",
              "      <td>O Guia do Mochileiro Das Galáxias - Série o Mo...</td>\n",
              "      <td>Adams,Douglas</td>\n",
              "      <td>208</td>\n",
              "      <td>Brochura</td>\n",
              "      <td>Português</td>\n",
              "    </tr>\n",
              "  </tbody>\n",
              "</table>\n",
              "</div>"
            ],
            "text/plain": [
              "                                              Título  ...     Idioma\n",
              "0  O Guia do Mochileiro Das Galáxias - Série o Mo...  ...  Português\n",
              "\n",
              "[1 rows x 5 columns]"
            ]
          },
          "metadata": {
            "tags": []
          }
        },
        {
          "output_type": "stream",
          "text": [
            "\n",
            "\n",
            "/content/drive/My Drive/9periodo/Recuperação de Informação/SITES BAIXADOS (Cris)/Saraiva/Positivas/O Livrinho do Bebê - Animais, Palavras, Contrários, Cores e Formas - Saraiva.html\n"
          ],
          "name": "stdout"
        },
        {
          "output_type": "display_data",
          "data": {
            "text/html": [
              "<div>\n",
              "<style scoped>\n",
              "    .dataframe tbody tr th:only-of-type {\n",
              "        vertical-align: middle;\n",
              "    }\n",
              "\n",
              "    .dataframe tbody tr th {\n",
              "        vertical-align: top;\n",
              "    }\n",
              "\n",
              "    .dataframe thead th {\n",
              "        text-align: right;\n",
              "    }\n",
              "</style>\n",
              "<table border=\"1\" class=\"dataframe\">\n",
              "  <thead>\n",
              "    <tr style=\"text-align: right;\">\n",
              "      <th></th>\n",
              "      <th>Título</th>\n",
              "      <th>Autor</th>\n",
              "      <th>Nº Páginas</th>\n",
              "      <th>Acabamento</th>\n",
              "      <th>Idioma</th>\n",
              "    </tr>\n",
              "  </thead>\n",
              "  <tbody>\n",
              "    <tr>\n",
              "      <th>0</th>\n",
              "      <td>O Livrinho do Bebê - Animais, Palavras, Contrá...</td>\n",
              "      <td>Books,Yoyo</td>\n",
              "      <td>128</td>\n",
              "      <td>Brochura</td>\n",
              "      <td>Português</td>\n",
              "    </tr>\n",
              "  </tbody>\n",
              "</table>\n",
              "</div>"
            ],
            "text/plain": [
              "                                              Título  ...     Idioma\n",
              "0  O Livrinho do Bebê - Animais, Palavras, Contrá...  ...  Português\n",
              "\n",
              "[1 rows x 5 columns]"
            ]
          },
          "metadata": {
            "tags": []
          }
        },
        {
          "output_type": "stream",
          "text": [
            "\n",
            "\n",
            "/content/drive/My Drive/9periodo/Recuperação de Informação/SITES BAIXADOS (Cris)/Saraiva/Positivas/Star Wars - O Arquivo Rebelde - Saraiva.html\n"
          ],
          "name": "stdout"
        },
        {
          "output_type": "display_data",
          "data": {
            "text/html": [
              "<div>\n",
              "<style scoped>\n",
              "    .dataframe tbody tr th:only-of-type {\n",
              "        vertical-align: middle;\n",
              "    }\n",
              "\n",
              "    .dataframe tbody tr th {\n",
              "        vertical-align: top;\n",
              "    }\n",
              "\n",
              "    .dataframe thead th {\n",
              "        text-align: right;\n",
              "    }\n",
              "</style>\n",
              "<table border=\"1\" class=\"dataframe\">\n",
              "  <thead>\n",
              "    <tr style=\"text-align: right;\">\n",
              "      <th></th>\n",
              "      <th>Título</th>\n",
              "      <th>Autor</th>\n",
              "      <th>Nº Páginas</th>\n",
              "      <th>Acabamento</th>\n",
              "      <th>Idioma</th>\n",
              "    </tr>\n",
              "  </thead>\n",
              "  <tbody>\n",
              "    <tr>\n",
              "      <th>0</th>\n",
              "      <td>Star Wars - O Arquivo Rebelde</td>\n",
              "      <td>Wallace,Daniel</td>\n",
              "      <td>176</td>\n",
              "      <td>Brochura</td>\n",
              "      <td>Português</td>\n",
              "    </tr>\n",
              "  </tbody>\n",
              "</table>\n",
              "</div>"
            ],
            "text/plain": [
              "                          Título           Autor  ... Acabamento     Idioma\n",
              "0  Star Wars - O Arquivo Rebelde  Wallace,Daniel  ...   Brochura  Português\n",
              "\n",
              "[1 rows x 5 columns]"
            ]
          },
          "metadata": {
            "tags": []
          }
        },
        {
          "output_type": "stream",
          "text": [
            "\n",
            "\n"
          ],
          "name": "stdout"
        }
      ]
    },
    {
      "cell_type": "markdown",
      "metadata": {
        "id": "j2juZY3o-m5l",
        "colab_type": "text"
      },
      "source": [
        "##3. LIVRARIA DA TRAVESSA"
      ]
    },
    {
      "cell_type": "code",
      "metadata": {
        "id": "HWye3NL6FqRq",
        "colab_type": "code",
        "colab": {}
      },
      "source": [
        "def travessa_single(site):\n",
        "  soup = bs(open(site),\"html.parser\")\n",
        "  \n",
        "  infos = soup.find('div', {'id':'divDados'})\n",
        "\n",
        "  author = soup.find('span', {'id':'lblNomAutor'}).a.text\n",
        "\n",
        "  title = infos.find('span', {'id':'lblDadosNome'}).text\n",
        "\n",
        "  n_pages = infos.find('span', {'id':'lblDadosPaginas'}).text\n",
        "\n",
        "  binding = infos.find('span', {'id':'lblDadosEncadernacao'}).text\n",
        "\n",
        "  language = infos.find('span', {'id':'lblDadosIdioma'}).text\n",
        "\n",
        "  cols = ['Título', 'Autor', 'Nº Páginas', 'Acabamento', 'Idioma']\n",
        "\n",
        "  list_info = [title, author, n_pages, binding, language]\n",
        "  list_info\n",
        "  book_pd = pd.DataFrame([list_info],\\\n",
        "                          columns=cols)\n",
        "  display(book_pd)"
      ],
      "execution_count": 0,
      "outputs": []
    },
    {
      "cell_type": "code",
      "metadata": {
        "id": "HnyRvccFE9sf",
        "colab_type": "code",
        "colab": {}
      },
      "source": [
        "trav_url_one = [r'/content/drive/My Drive/9periodo/Recuperação de Informação/SITES BAIXADOS (Cris)/Travessa/Positivas/A COR DA MAGIA - Terry Pratchett - Livro.html',\n",
        "                \n",
        "                r'/content/drive/My Drive/9periodo/Recuperação de Informação/SITES BAIXADOS (Cris)/Travessa/Positivas/CYNDI MINHA HISTORIA - Cyndi Lauper Jancee Dunn - Livro.html',\n",
        "                r'/content/drive/My Drive/9periodo/Recuperação de Informação/SITES BAIXADOS (Cris)/Travessa/Positivas/D. PEDRO II A HISTORIA NAO CONTADA - Paulo Rezzutti - Livro.html',\n",
        "                r'/content/drive/My Drive/9periodo/Recuperação de Informação/SITES BAIXADOS (Cris)/Travessa/Positivas/JAPONES PARA LEIGOS - Eriko Sato - Livro.html',\n",
        "                r'/content/drive/My Drive/9periodo/Recuperação de Informação/SITES BAIXADOS (Cris)/Travessa/Positivas/LONELY PLANET ARGENTINA (INCLUI URUGUAI) - Globo Livros - Livro.html',\n",
        "                r'/content/drive/My Drive/9periodo/Recuperação de Informação/SITES BAIXADOS (Cris)/Travessa/Positivas/MADELINE FINN E OS CÃES DO ABRIGO - Lisa Papp - Livro.html',\n",
        "                r'/content/drive/My Drive/9periodo/Recuperação de Informação/SITES BAIXADOS (Cris)/Travessa/Positivas/O PODER DA AUTORRESPONSABILIDADE A FERRAMENTA COMPROVADA QUE GERA ALTA PERFORMANCE E RESULTADOS EM POUCO TEMPO - Paulo Vieira - Livro.html',\n",
        "                r'/content/drive/My Drive/9periodo/Recuperação de Informação/SITES BAIXADOS (Cris)/Travessa/Positivas/SO PARA UM ALIMENTAÇAO SAUDAVEL PARA QUEM MORA SOZINHO - Rita Lobo - Livro.html',\n",
        "                r'/content/drive/My Drive/9periodo/Recuperação de Informação/SITES BAIXADOS (Cris)/Travessa/Positivas/VIDAS SECAS - 140aED.(2019) - Graciliano Ramos - Livro.html']\n",
        "\n",
        "                # r'/content/drive/My Drive/9periodo/Recuperação de Informação/SITES BAIXADOS (Cris)/Travessa/Positivas/CRONICAS PARA LER EM QUALQUER LUGAR - Vários (ver informações no detalhe) - Livro.html',"
      ],
      "execution_count": 0,
      "outputs": []
    },
    {
      "cell_type": "code",
      "metadata": {
        "id": "-Wfv2VaZEwul",
        "colab_type": "code",
        "outputId": "3e321b9f-a0b7-4d69-c844-d936b024d485",
        "colab": {
          "base_uri": "https://localhost:8080/",
          "height": 1000
        }
      },
      "source": [
        "for url in trav_url_one:\n",
        "  print(url)\n",
        "  travessa_single(url)\n",
        "  print('\\n')"
      ],
      "execution_count": 0,
      "outputs": [
        {
          "output_type": "stream",
          "text": [
            "/content/drive/My Drive/9periodo/Recuperação de Informação/SITES BAIXADOS (Cris)/Travessa/Positivas/A COR DA MAGIA - Terry Pratchett - Livro.html\n"
          ],
          "name": "stdout"
        },
        {
          "output_type": "display_data",
          "data": {
            "text/html": [
              "<div>\n",
              "<style scoped>\n",
              "    .dataframe tbody tr th:only-of-type {\n",
              "        vertical-align: middle;\n",
              "    }\n",
              "\n",
              "    .dataframe tbody tr th {\n",
              "        vertical-align: top;\n",
              "    }\n",
              "\n",
              "    .dataframe thead th {\n",
              "        text-align: right;\n",
              "    }\n",
              "</style>\n",
              "<table border=\"1\" class=\"dataframe\">\n",
              "  <thead>\n",
              "    <tr style=\"text-align: right;\">\n",
              "      <th></th>\n",
              "      <th>Título</th>\n",
              "      <th>Autor</th>\n",
              "      <th>Nº Páginas</th>\n",
              "      <th>Acabamento</th>\n",
              "      <th>Idioma</th>\n",
              "    </tr>\n",
              "  </thead>\n",
              "  <tbody>\n",
              "    <tr>\n",
              "      <th>0</th>\n",
              "      <td>A COR DA MAGIA</td>\n",
              "      <td>Terry Pratchett</td>\n",
              "      <td>232</td>\n",
              "      <td>Brochura</td>\n",
              "      <td>Português</td>\n",
              "    </tr>\n",
              "  </tbody>\n",
              "</table>\n",
              "</div>"
            ],
            "text/plain": [
              "           Título             Autor Nº Páginas Acabamento     Idioma\n",
              "0  A COR DA MAGIA  Terry Pratchett         232   Brochura  Português"
            ]
          },
          "metadata": {
            "tags": []
          }
        },
        {
          "output_type": "stream",
          "text": [
            "\n",
            "\n",
            "/content/drive/My Drive/9periodo/Recuperação de Informação/SITES BAIXADOS (Cris)/Travessa/Positivas/CYNDI MINHA HISTORIA - Cyndi Lauper Jancee Dunn - Livro.html\n"
          ],
          "name": "stdout"
        },
        {
          "output_type": "display_data",
          "data": {
            "text/html": [
              "<div>\n",
              "<style scoped>\n",
              "    .dataframe tbody tr th:only-of-type {\n",
              "        vertical-align: middle;\n",
              "    }\n",
              "\n",
              "    .dataframe tbody tr th {\n",
              "        vertical-align: top;\n",
              "    }\n",
              "\n",
              "    .dataframe thead th {\n",
              "        text-align: right;\n",
              "    }\n",
              "</style>\n",
              "<table border=\"1\" class=\"dataframe\">\n",
              "  <thead>\n",
              "    <tr style=\"text-align: right;\">\n",
              "      <th></th>\n",
              "      <th>Título</th>\n",
              "      <th>Autor</th>\n",
              "      <th>Nº Páginas</th>\n",
              "      <th>Acabamento</th>\n",
              "      <th>Idioma</th>\n",
              "    </tr>\n",
              "  </thead>\n",
              "  <tbody>\n",
              "    <tr>\n",
              "      <th>0</th>\n",
              "      <td>CYNDI: MINHA HISTORIA</td>\n",
              "      <td>Cyndi Lauper</td>\n",
              "      <td>352</td>\n",
              "      <td>Brochura</td>\n",
              "      <td>Português</td>\n",
              "    </tr>\n",
              "  </tbody>\n",
              "</table>\n",
              "</div>"
            ],
            "text/plain": [
              "                  Título          Autor Nº Páginas Acabamento     Idioma\n",
              "0  CYNDI: MINHA HISTORIA  Cyndi Lauper         352   Brochura  Português"
            ]
          },
          "metadata": {
            "tags": []
          }
        },
        {
          "output_type": "stream",
          "text": [
            "\n",
            "\n",
            "/content/drive/My Drive/9periodo/Recuperação de Informação/SITES BAIXADOS (Cris)/Travessa/Positivas/D. PEDRO II A HISTORIA NAO CONTADA - Paulo Rezzutti - Livro.html\n"
          ],
          "name": "stdout"
        },
        {
          "output_type": "display_data",
          "data": {
            "text/html": [
              "<div>\n",
              "<style scoped>\n",
              "    .dataframe tbody tr th:only-of-type {\n",
              "        vertical-align: middle;\n",
              "    }\n",
              "\n",
              "    .dataframe tbody tr th {\n",
              "        vertical-align: top;\n",
              "    }\n",
              "\n",
              "    .dataframe thead th {\n",
              "        text-align: right;\n",
              "    }\n",
              "</style>\n",
              "<table border=\"1\" class=\"dataframe\">\n",
              "  <thead>\n",
              "    <tr style=\"text-align: right;\">\n",
              "      <th></th>\n",
              "      <th>Título</th>\n",
              "      <th>Autor</th>\n",
              "      <th>Nº Páginas</th>\n",
              "      <th>Acabamento</th>\n",
              "      <th>Idioma</th>\n",
              "    </tr>\n",
              "  </thead>\n",
              "  <tbody>\n",
              "    <tr>\n",
              "      <th>0</th>\n",
              "      <td>D. PEDRO II: A HISTORIA NAO CONTADA - O ULTIMO...</td>\n",
              "      <td>Paulo Rezzutti</td>\n",
              "      <td>576</td>\n",
              "      <td>Brochura</td>\n",
              "      <td>Português</td>\n",
              "    </tr>\n",
              "  </tbody>\n",
              "</table>\n",
              "</div>"
            ],
            "text/plain": [
              "                                              Título  ...     Idioma\n",
              "0  D. PEDRO II: A HISTORIA NAO CONTADA - O ULTIMO...  ...  Português\n",
              "\n",
              "[1 rows x 5 columns]"
            ]
          },
          "metadata": {
            "tags": []
          }
        },
        {
          "output_type": "stream",
          "text": [
            "\n",
            "\n",
            "/content/drive/My Drive/9periodo/Recuperação de Informação/SITES BAIXADOS (Cris)/Travessa/Positivas/JAPONES PARA LEIGOS - Eriko Sato - Livro.html\n"
          ],
          "name": "stdout"
        },
        {
          "output_type": "display_data",
          "data": {
            "text/html": [
              "<div>\n",
              "<style scoped>\n",
              "    .dataframe tbody tr th:only-of-type {\n",
              "        vertical-align: middle;\n",
              "    }\n",
              "\n",
              "    .dataframe tbody tr th {\n",
              "        vertical-align: top;\n",
              "    }\n",
              "\n",
              "    .dataframe thead th {\n",
              "        text-align: right;\n",
              "    }\n",
              "</style>\n",
              "<table border=\"1\" class=\"dataframe\">\n",
              "  <thead>\n",
              "    <tr style=\"text-align: right;\">\n",
              "      <th></th>\n",
              "      <th>Título</th>\n",
              "      <th>Autor</th>\n",
              "      <th>Nº Páginas</th>\n",
              "      <th>Acabamento</th>\n",
              "      <th>Idioma</th>\n",
              "    </tr>\n",
              "  </thead>\n",
              "  <tbody>\n",
              "    <tr>\n",
              "      <th>0</th>\n",
              "      <td>JAPONES PARA LEIGOS</td>\n",
              "      <td>Eriko Sato</td>\n",
              "      <td>416</td>\n",
              "      <td>Brochura</td>\n",
              "      <td>Português</td>\n",
              "    </tr>\n",
              "  </tbody>\n",
              "</table>\n",
              "</div>"
            ],
            "text/plain": [
              "                Título        Autor Nº Páginas Acabamento     Idioma\n",
              "0  JAPONES PARA LEIGOS  Eriko Sato         416   Brochura  Português"
            ]
          },
          "metadata": {
            "tags": []
          }
        },
        {
          "output_type": "stream",
          "text": [
            "\n",
            "\n",
            "/content/drive/My Drive/9periodo/Recuperação de Informação/SITES BAIXADOS (Cris)/Travessa/Positivas/LONELY PLANET ARGENTINA (INCLUI URUGUAI) - Globo Livros - Livro.html\n"
          ],
          "name": "stdout"
        },
        {
          "output_type": "display_data",
          "data": {
            "text/html": [
              "<div>\n",
              "<style scoped>\n",
              "    .dataframe tbody tr th:only-of-type {\n",
              "        vertical-align: middle;\n",
              "    }\n",
              "\n",
              "    .dataframe tbody tr th {\n",
              "        vertical-align: top;\n",
              "    }\n",
              "\n",
              "    .dataframe thead th {\n",
              "        text-align: right;\n",
              "    }\n",
              "</style>\n",
              "<table border=\"1\" class=\"dataframe\">\n",
              "  <thead>\n",
              "    <tr style=\"text-align: right;\">\n",
              "      <th></th>\n",
              "      <th>Título</th>\n",
              "      <th>Autor</th>\n",
              "      <th>Nº Páginas</th>\n",
              "      <th>Acabamento</th>\n",
              "      <th>Idioma</th>\n",
              "    </tr>\n",
              "  </thead>\n",
              "  <tbody>\n",
              "    <tr>\n",
              "      <th>0</th>\n",
              "      <td>LONELY PLANET: ARGENTINA (INCLUI URUGUAI)</td>\n",
              "      <td>Globo Livros</td>\n",
              "      <td>640</td>\n",
              "      <td>Brochura</td>\n",
              "      <td>Português</td>\n",
              "    </tr>\n",
              "  </tbody>\n",
              "</table>\n",
              "</div>"
            ],
            "text/plain": [
              "                                      Título  ...     Idioma\n",
              "0  LONELY PLANET: ARGENTINA (INCLUI URUGUAI)  ...  Português\n",
              "\n",
              "[1 rows x 5 columns]"
            ]
          },
          "metadata": {
            "tags": []
          }
        },
        {
          "output_type": "stream",
          "text": [
            "\n",
            "\n",
            "/content/drive/My Drive/9periodo/Recuperação de Informação/SITES BAIXADOS (Cris)/Travessa/Positivas/MADELINE FINN E OS CÃES DO ABRIGO - Lisa Papp - Livro.html\n"
          ],
          "name": "stdout"
        },
        {
          "output_type": "display_data",
          "data": {
            "text/html": [
              "<div>\n",
              "<style scoped>\n",
              "    .dataframe tbody tr th:only-of-type {\n",
              "        vertical-align: middle;\n",
              "    }\n",
              "\n",
              "    .dataframe tbody tr th {\n",
              "        vertical-align: top;\n",
              "    }\n",
              "\n",
              "    .dataframe thead th {\n",
              "        text-align: right;\n",
              "    }\n",
              "</style>\n",
              "<table border=\"1\" class=\"dataframe\">\n",
              "  <thead>\n",
              "    <tr style=\"text-align: right;\">\n",
              "      <th></th>\n",
              "      <th>Título</th>\n",
              "      <th>Autor</th>\n",
              "      <th>Nº Páginas</th>\n",
              "      <th>Acabamento</th>\n",
              "      <th>Idioma</th>\n",
              "    </tr>\n",
              "  </thead>\n",
              "  <tbody>\n",
              "    <tr>\n",
              "      <th>0</th>\n",
              "      <td>MADELINE FINN E OS CÃES DO ABRIGO</td>\n",
              "      <td>Lisa Papp</td>\n",
              "      <td>32</td>\n",
              "      <td>Brochura</td>\n",
              "      <td>Português</td>\n",
              "    </tr>\n",
              "  </tbody>\n",
              "</table>\n",
              "</div>"
            ],
            "text/plain": [
              "                              Título       Autor  ... Acabamento     Idioma\n",
              "0  MADELINE FINN E OS CÃES DO ABRIGO  Lisa Papp   ...   Brochura  Português\n",
              "\n",
              "[1 rows x 5 columns]"
            ]
          },
          "metadata": {
            "tags": []
          }
        },
        {
          "output_type": "stream",
          "text": [
            "\n",
            "\n",
            "/content/drive/My Drive/9periodo/Recuperação de Informação/SITES BAIXADOS (Cris)/Travessa/Positivas/O PODER DA AUTORRESPONSABILIDADE A FERRAMENTA COMPROVADA QUE GERA ALTA PERFORMANCE E RESULTADOS EM POUCO TEMPO - Paulo Vieira - Livro.html\n"
          ],
          "name": "stdout"
        },
        {
          "output_type": "display_data",
          "data": {
            "text/html": [
              "<div>\n",
              "<style scoped>\n",
              "    .dataframe tbody tr th:only-of-type {\n",
              "        vertical-align: middle;\n",
              "    }\n",
              "\n",
              "    .dataframe tbody tr th {\n",
              "        vertical-align: top;\n",
              "    }\n",
              "\n",
              "    .dataframe thead th {\n",
              "        text-align: right;\n",
              "    }\n",
              "</style>\n",
              "<table border=\"1\" class=\"dataframe\">\n",
              "  <thead>\n",
              "    <tr style=\"text-align: right;\">\n",
              "      <th></th>\n",
              "      <th>Título</th>\n",
              "      <th>Autor</th>\n",
              "      <th>Nº Páginas</th>\n",
              "      <th>Acabamento</th>\n",
              "      <th>Idioma</th>\n",
              "    </tr>\n",
              "  </thead>\n",
              "  <tbody>\n",
              "    <tr>\n",
              "      <th>0</th>\n",
              "      <td>O PODER DA AUTORRESPONSABILIDADE: A FERRAMENTA...</td>\n",
              "      <td>Paulo Vieira</td>\n",
              "      <td>160</td>\n",
              "      <td>Brochura</td>\n",
              "      <td>Português</td>\n",
              "    </tr>\n",
              "  </tbody>\n",
              "</table>\n",
              "</div>"
            ],
            "text/plain": [
              "                                              Título  ...     Idioma\n",
              "0  O PODER DA AUTORRESPONSABILIDADE: A FERRAMENTA...  ...  Português\n",
              "\n",
              "[1 rows x 5 columns]"
            ]
          },
          "metadata": {
            "tags": []
          }
        },
        {
          "output_type": "stream",
          "text": [
            "\n",
            "\n",
            "/content/drive/My Drive/9periodo/Recuperação de Informação/SITES BAIXADOS (Cris)/Travessa/Positivas/SO PARA UM ALIMENTAÇAO SAUDAVEL PARA QUEM MORA SOZINHO - Rita Lobo - Livro.html\n"
          ],
          "name": "stdout"
        },
        {
          "output_type": "display_data",
          "data": {
            "text/html": [
              "<div>\n",
              "<style scoped>\n",
              "    .dataframe tbody tr th:only-of-type {\n",
              "        vertical-align: middle;\n",
              "    }\n",
              "\n",
              "    .dataframe tbody tr th {\n",
              "        vertical-align: top;\n",
              "    }\n",
              "\n",
              "    .dataframe thead th {\n",
              "        text-align: right;\n",
              "    }\n",
              "</style>\n",
              "<table border=\"1\" class=\"dataframe\">\n",
              "  <thead>\n",
              "    <tr style=\"text-align: right;\">\n",
              "      <th></th>\n",
              "      <th>Título</th>\n",
              "      <th>Autor</th>\n",
              "      <th>Nº Páginas</th>\n",
              "      <th>Acabamento</th>\n",
              "      <th>Idioma</th>\n",
              "    </tr>\n",
              "  </thead>\n",
              "  <tbody>\n",
              "    <tr>\n",
              "      <th>0</th>\n",
              "      <td>SO PARA UM: ALIMENTAÇAO SAUDAVEL PARA QUEM MOR...</td>\n",
              "      <td>Rita Lobo</td>\n",
              "      <td>168</td>\n",
              "      <td>Capa dura</td>\n",
              "      <td>Português</td>\n",
              "    </tr>\n",
              "  </tbody>\n",
              "</table>\n",
              "</div>"
            ],
            "text/plain": [
              "                                              Título  ...     Idioma\n",
              "0  SO PARA UM: ALIMENTAÇAO SAUDAVEL PARA QUEM MOR...  ...  Português\n",
              "\n",
              "[1 rows x 5 columns]"
            ]
          },
          "metadata": {
            "tags": []
          }
        },
        {
          "output_type": "stream",
          "text": [
            "\n",
            "\n",
            "/content/drive/My Drive/9periodo/Recuperação de Informação/SITES BAIXADOS (Cris)/Travessa/Positivas/VIDAS SECAS - 140aED.(2019) - Graciliano Ramos - Livro.html\n"
          ],
          "name": "stdout"
        },
        {
          "output_type": "display_data",
          "data": {
            "text/html": [
              "<div>\n",
              "<style scoped>\n",
              "    .dataframe tbody tr th:only-of-type {\n",
              "        vertical-align: middle;\n",
              "    }\n",
              "\n",
              "    .dataframe tbody tr th {\n",
              "        vertical-align: top;\n",
              "    }\n",
              "\n",
              "    .dataframe thead th {\n",
              "        text-align: right;\n",
              "    }\n",
              "</style>\n",
              "<table border=\"1\" class=\"dataframe\">\n",
              "  <thead>\n",
              "    <tr style=\"text-align: right;\">\n",
              "      <th></th>\n",
              "      <th>Título</th>\n",
              "      <th>Autor</th>\n",
              "      <th>Nº Páginas</th>\n",
              "      <th>Acabamento</th>\n",
              "      <th>Idioma</th>\n",
              "    </tr>\n",
              "  </thead>\n",
              "  <tbody>\n",
              "    <tr>\n",
              "      <th>0</th>\n",
              "      <td>VIDAS SECAS - 140ªED.(2019)</td>\n",
              "      <td>Graciliano Ramos</td>\n",
              "      <td>176</td>\n",
              "      <td>Brochura</td>\n",
              "      <td>Português</td>\n",
              "    </tr>\n",
              "  </tbody>\n",
              "</table>\n",
              "</div>"
            ],
            "text/plain": [
              "                        Título              Autor  ... Acabamento     Idioma\n",
              "0  VIDAS SECAS - 140ªED.(2019)  Graciliano Ramos   ...   Brochura  Português\n",
              "\n",
              "[1 rows x 5 columns]"
            ]
          },
          "metadata": {
            "tags": []
          }
        },
        {
          "output_type": "stream",
          "text": [
            "\n",
            "\n"
          ],
          "name": "stdout"
        }
      ]
    },
    {
      "cell_type": "markdown",
      "metadata": {
        "id": "9RGNLy-nPJby",
        "colab_type": "text"
      },
      "source": [
        "##4. TRAÇA LIVRARIA"
      ]
    },
    {
      "cell_type": "code",
      "metadata": {
        "id": "OWfPjlIAOsG4",
        "colab_type": "code",
        "colab": {}
      },
      "source": [
        "def traca_single(site):\n",
        "  soup = bs(open(site),\"html.parser\")\n",
        "\n",
        "  title = soup.find('div', {'class':'box-principal-dados'}).h1.text\n",
        "\n",
        "  author = soup.find('div', {'class':'box-principal-dados'}).a.text\n",
        "\n",
        "  infos = soup.find('ul', {'class':'ul-detalhes'})\n",
        "\n",
        "  list_info = [info.text.replace('\\n','').split(':') for info in infos if info != '\\n']\n",
        "\n",
        "  for info in (list_info):\n",
        "    if ('Encadernação' in info):\n",
        "      binding = info[1]\n",
        "      break\n",
        "\n",
        "  for info in (list_info):\n",
        "    if ('Páginas' in info):\n",
        "      n_pages = info[1]\n",
        "      break\n",
        "\n",
        "  language = soup.find('div', {'style':'font-size:18px;line-height:20px;'}).text\n",
        "  language = re.sub('\\n|[L][i][v][r][o][ ][e][m] | (.*?)\\s', '', language)\n",
        "\n",
        "  cols = ['Título', 'Autor', 'Nº Páginas', 'Acabamento', 'Idioma']\n",
        "\n",
        "  list_info = [title, author, n_pages, binding, language]\n",
        "  book_pd = pd.DataFrame([list_info],\\\n",
        "                        columns=cols)\n",
        "\n",
        "  display(book_pd)"
      ],
      "execution_count": 0,
      "outputs": []
    },
    {
      "cell_type": "code",
      "metadata": {
        "id": "vUtv4FCmAbza",
        "colab_type": "code",
        "colab": {}
      },
      "source": [
        "traca_urls = [r'/content/drive/My Drive/9periodo/Recuperação de Informação/SITES BAIXADOS (Cris)/Traça/Positivas/A Casa Dos Budas Ditosos - João Ubaldo Ribeiro - Traça Livraria e Sebo.html',\n",
        "              r'/content/drive/My Drive/9periodo/Recuperação de Informação/SITES BAIXADOS (Cris)/Traça/Positivas/Cavaleiros Do Zodíaco Vol 1 - Masami Kurumada - Traça Livraria e Sebo.html',\n",
        "              r'/content/drive/My Drive/9periodo/Recuperação de Informação/SITES BAIXADOS (Cris)/Traça/Positivas/Cem Anos De Solidão - Gabriel Garcia Marquez - Traça Livraria e Sebo.html',\n",
        "              r'/content/drive/My Drive/9periodo/Recuperação de Informação/SITES BAIXADOS (Cris)/Traça/Positivas/Crianças Famosas  Schubert - Ann Rachlin E Susan Hellard - Traça Livraria e Sebo.html',\n",
        "              r'/content/drive/My Drive/9periodo/Recuperação de Informação/SITES BAIXADOS (Cris)/Traça/Positivas/Indiozinhos - Mônica Haibara - Traça Livraria e Sebo.html',\n",
        "              r'/content/drive/My Drive/9periodo/Recuperação de Informação/SITES BAIXADOS (Cris)/Traça/Positivas/Livro Da Esperança - Francisco Cândido Xavier - Emmanuel - Traça Livraria e Sebo.html',\n",
        "              r'/content/drive/My Drive/9periodo/Recuperação de Informação/SITES BAIXADOS (Cris)/Traça/Positivas/Mozart Don Giovanni - A Vida De Mozart - Lorenzo Da Ponte - Henry Stendhal - Traça Livraria e Sebo.html',\n",
        "              r'/content/drive/My Drive/9periodo/Recuperação de Informação/SITES BAIXADOS (Cris)/Traça/Positivas/O Colapso Do Universo - Isaac Asimov - Traça Livraria e Sebo.html',\n",
        "              r'/content/drive/My Drive/9periodo/Recuperação de Informação/SITES BAIXADOS (Cris)/Traça/Positivas/Políticas Territoriais Na Amazônia - Neli Aparecida De Mello - Traça Livraria e Sebo.html',\n",
        "              r'/content/drive/My Drive/9periodo/Recuperação de Informação/SITES BAIXADOS (Cris)/Traça/Positivas/Relações Exteriores Do Brasil Contemporâneo - Danielly Silva Ramos Becard - Traça Livraria e Sebo.html']"
      ],
      "execution_count": 0,
      "outputs": []
    },
    {
      "cell_type": "code",
      "metadata": {
        "id": "3UIbelWuPVw5",
        "colab_type": "code",
        "outputId": "b4494fe4-c6f5-4826-9a14-b6378af5e83b",
        "colab": {
          "base_uri": "https://localhost:8080/",
          "height": 1000
        }
      },
      "source": [
        "for url in traca_urls:\n",
        "  print(url)\n",
        "  traca_single(url)\n",
        "  print('\\n')\n"
      ],
      "execution_count": 0,
      "outputs": [
        {
          "output_type": "stream",
          "text": [
            "/content/drive/My Drive/9periodo/Recuperação de Informação/SITES BAIXADOS (Cris)/Traça/Positivas/A Casa Dos Budas Ditosos - João Ubaldo Ribeiro - Traça Livraria e Sebo.html\n"
          ],
          "name": "stdout"
        },
        {
          "output_type": "display_data",
          "data": {
            "text/html": [
              "<div>\n",
              "<style scoped>\n",
              "    .dataframe tbody tr th:only-of-type {\n",
              "        vertical-align: middle;\n",
              "    }\n",
              "\n",
              "    .dataframe tbody tr th {\n",
              "        vertical-align: top;\n",
              "    }\n",
              "\n",
              "    .dataframe thead th {\n",
              "        text-align: right;\n",
              "    }\n",
              "</style>\n",
              "<table border=\"1\" class=\"dataframe\">\n",
              "  <thead>\n",
              "    <tr style=\"text-align: right;\">\n",
              "      <th></th>\n",
              "      <th>Título</th>\n",
              "      <th>Autor</th>\n",
              "      <th>Nº Páginas</th>\n",
              "      <th>Acabamento</th>\n",
              "      <th>Idioma</th>\n",
              "    </tr>\n",
              "  </thead>\n",
              "  <tbody>\n",
              "    <tr>\n",
              "      <th>0</th>\n",
              "      <td>A Casa Dos Budas Ditosos</td>\n",
              "      <td>João Ubaldo Ribeiro</td>\n",
              "      <td>164</td>\n",
              "      <td>Brochura</td>\n",
              "      <td>Português</td>\n",
              "    </tr>\n",
              "  </tbody>\n",
              "</table>\n",
              "</div>"
            ],
            "text/plain": [
              "                     Título                Autor  ... Acabamento     Idioma\n",
              "0  A Casa Dos Budas Ditosos  João Ubaldo Ribeiro  ...  Brochura   Português\n",
              "\n",
              "[1 rows x 5 columns]"
            ]
          },
          "metadata": {
            "tags": []
          }
        },
        {
          "output_type": "stream",
          "text": [
            "\n",
            "\n",
            "/content/drive/My Drive/9periodo/Recuperação de Informação/SITES BAIXADOS (Cris)/Traça/Positivas/Cavaleiros Do Zodíaco Vol 1 - Masami Kurumada - Traça Livraria e Sebo.html\n"
          ],
          "name": "stdout"
        },
        {
          "output_type": "display_data",
          "data": {
            "text/html": [
              "<div>\n",
              "<style scoped>\n",
              "    .dataframe tbody tr th:only-of-type {\n",
              "        vertical-align: middle;\n",
              "    }\n",
              "\n",
              "    .dataframe tbody tr th {\n",
              "        vertical-align: top;\n",
              "    }\n",
              "\n",
              "    .dataframe thead th {\n",
              "        text-align: right;\n",
              "    }\n",
              "</style>\n",
              "<table border=\"1\" class=\"dataframe\">\n",
              "  <thead>\n",
              "    <tr style=\"text-align: right;\">\n",
              "      <th></th>\n",
              "      <th>Título</th>\n",
              "      <th>Autor</th>\n",
              "      <th>Nº Páginas</th>\n",
              "      <th>Acabamento</th>\n",
              "      <th>Idioma</th>\n",
              "    </tr>\n",
              "  </thead>\n",
              "  <tbody>\n",
              "    <tr>\n",
              "      <th>0</th>\n",
              "      <td>Cavaleiros Do Zodíaco Vol 1</td>\n",
              "      <td>Masami Kurumada</td>\n",
              "      <td>110</td>\n",
              "      <td>Brochura</td>\n",
              "      <td>Português</td>\n",
              "    </tr>\n",
              "  </tbody>\n",
              "</table>\n",
              "</div>"
            ],
            "text/plain": [
              "                        Título            Autor  ... Acabamento     Idioma\n",
              "0  Cavaleiros Do Zodíaco Vol 1  Masami Kurumada  ...  Brochura   Português\n",
              "\n",
              "[1 rows x 5 columns]"
            ]
          },
          "metadata": {
            "tags": []
          }
        },
        {
          "output_type": "stream",
          "text": [
            "\n",
            "\n",
            "/content/drive/My Drive/9periodo/Recuperação de Informação/SITES BAIXADOS (Cris)/Traça/Positivas/Cem Anos De Solidão - Gabriel Garcia Marquez - Traça Livraria e Sebo.html\n"
          ],
          "name": "stdout"
        },
        {
          "output_type": "display_data",
          "data": {
            "text/html": [
              "<div>\n",
              "<style scoped>\n",
              "    .dataframe tbody tr th:only-of-type {\n",
              "        vertical-align: middle;\n",
              "    }\n",
              "\n",
              "    .dataframe tbody tr th {\n",
              "        vertical-align: top;\n",
              "    }\n",
              "\n",
              "    .dataframe thead th {\n",
              "        text-align: right;\n",
              "    }\n",
              "</style>\n",
              "<table border=\"1\" class=\"dataframe\">\n",
              "  <thead>\n",
              "    <tr style=\"text-align: right;\">\n",
              "      <th></th>\n",
              "      <th>Título</th>\n",
              "      <th>Autor</th>\n",
              "      <th>Nº Páginas</th>\n",
              "      <th>Acabamento</th>\n",
              "      <th>Idioma</th>\n",
              "    </tr>\n",
              "  </thead>\n",
              "  <tbody>\n",
              "    <tr>\n",
              "      <th>0</th>\n",
              "      <td>Cem Anos De Solidão</td>\n",
              "      <td>Gabriel Garcia Marquez</td>\n",
              "      <td>368</td>\n",
              "      <td>Brochura</td>\n",
              "      <td>Português</td>\n",
              "    </tr>\n",
              "  </tbody>\n",
              "</table>\n",
              "</div>"
            ],
            "text/plain": [
              "                Título                   Autor Nº Páginas Acabamento     Idioma\n",
              "0  Cem Anos De Solidão  Gabriel Garcia Marquez        368  Brochura   Português"
            ]
          },
          "metadata": {
            "tags": []
          }
        },
        {
          "output_type": "stream",
          "text": [
            "\n",
            "\n",
            "/content/drive/My Drive/9periodo/Recuperação de Informação/SITES BAIXADOS (Cris)/Traça/Positivas/Crianças Famosas  Schubert - Ann Rachlin E Susan Hellard - Traça Livraria e Sebo.html\n"
          ],
          "name": "stdout"
        },
        {
          "output_type": "display_data",
          "data": {
            "text/html": [
              "<div>\n",
              "<style scoped>\n",
              "    .dataframe tbody tr th:only-of-type {\n",
              "        vertical-align: middle;\n",
              "    }\n",
              "\n",
              "    .dataframe tbody tr th {\n",
              "        vertical-align: top;\n",
              "    }\n",
              "\n",
              "    .dataframe thead th {\n",
              "        text-align: right;\n",
              "    }\n",
              "</style>\n",
              "<table border=\"1\" class=\"dataframe\">\n",
              "  <thead>\n",
              "    <tr style=\"text-align: right;\">\n",
              "      <th></th>\n",
              "      <th>Título</th>\n",
              "      <th>Autor</th>\n",
              "      <th>Nº Páginas</th>\n",
              "      <th>Acabamento</th>\n",
              "      <th>Idioma</th>\n",
              "    </tr>\n",
              "  </thead>\n",
              "  <tbody>\n",
              "    <tr>\n",
              "      <th>0</th>\n",
              "      <td>Crianças Famosas: Schubert</td>\n",
              "      <td>Ann Rachlin E Susan Hellard</td>\n",
              "      <td>24</td>\n",
              "      <td>Grampeado</td>\n",
              "      <td>Português</td>\n",
              "    </tr>\n",
              "  </tbody>\n",
              "</table>\n",
              "</div>"
            ],
            "text/plain": [
              "                       Título  ...     Idioma\n",
              "0  Crianças Famosas: Schubert  ...  Português\n",
              "\n",
              "[1 rows x 5 columns]"
            ]
          },
          "metadata": {
            "tags": []
          }
        },
        {
          "output_type": "stream",
          "text": [
            "\n",
            "\n",
            "/content/drive/My Drive/9periodo/Recuperação de Informação/SITES BAIXADOS (Cris)/Traça/Positivas/Indiozinhos - Mônica Haibara - Traça Livraria e Sebo.html\n"
          ],
          "name": "stdout"
        },
        {
          "output_type": "display_data",
          "data": {
            "text/html": [
              "<div>\n",
              "<style scoped>\n",
              "    .dataframe tbody tr th:only-of-type {\n",
              "        vertical-align: middle;\n",
              "    }\n",
              "\n",
              "    .dataframe tbody tr th {\n",
              "        vertical-align: top;\n",
              "    }\n",
              "\n",
              "    .dataframe thead th {\n",
              "        text-align: right;\n",
              "    }\n",
              "</style>\n",
              "<table border=\"1\" class=\"dataframe\">\n",
              "  <thead>\n",
              "    <tr style=\"text-align: right;\">\n",
              "      <th></th>\n",
              "      <th>Título</th>\n",
              "      <th>Autor</th>\n",
              "      <th>Nº Páginas</th>\n",
              "      <th>Acabamento</th>\n",
              "      <th>Idioma</th>\n",
              "    </tr>\n",
              "  </thead>\n",
              "  <tbody>\n",
              "    <tr>\n",
              "      <th>0</th>\n",
              "      <td>Indiozinhos</td>\n",
              "      <td>Mônica Haibara</td>\n",
              "      <td>12</td>\n",
              "      <td>Grampeado</td>\n",
              "      <td>Português</td>\n",
              "    </tr>\n",
              "  </tbody>\n",
              "</table>\n",
              "</div>"
            ],
            "text/plain": [
              "        Título           Autor Nº Páginas  Acabamento     Idioma\n",
              "0  Indiozinhos  Mônica Haibara         12  Grampeado   Português"
            ]
          },
          "metadata": {
            "tags": []
          }
        },
        {
          "output_type": "stream",
          "text": [
            "\n",
            "\n",
            "/content/drive/My Drive/9periodo/Recuperação de Informação/SITES BAIXADOS (Cris)/Traça/Positivas/Livro Da Esperança - Francisco Cândido Xavier - Emmanuel - Traça Livraria e Sebo.html\n"
          ],
          "name": "stdout"
        },
        {
          "output_type": "display_data",
          "data": {
            "text/html": [
              "<div>\n",
              "<style scoped>\n",
              "    .dataframe tbody tr th:only-of-type {\n",
              "        vertical-align: middle;\n",
              "    }\n",
              "\n",
              "    .dataframe tbody tr th {\n",
              "        vertical-align: top;\n",
              "    }\n",
              "\n",
              "    .dataframe thead th {\n",
              "        text-align: right;\n",
              "    }\n",
              "</style>\n",
              "<table border=\"1\" class=\"dataframe\">\n",
              "  <thead>\n",
              "    <tr style=\"text-align: right;\">\n",
              "      <th></th>\n",
              "      <th>Título</th>\n",
              "      <th>Autor</th>\n",
              "      <th>Nº Páginas</th>\n",
              "      <th>Acabamento</th>\n",
              "      <th>Idioma</th>\n",
              "    </tr>\n",
              "  </thead>\n",
              "  <tbody>\n",
              "    <tr>\n",
              "      <th>0</th>\n",
              "      <td>Livro Da Esperança</td>\n",
              "      <td>Francisco Cândido Xavier - Emmanuel</td>\n",
              "      <td>240</td>\n",
              "      <td>Brochura</td>\n",
              "      <td>Português</td>\n",
              "    </tr>\n",
              "  </tbody>\n",
              "</table>\n",
              "</div>"
            ],
            "text/plain": [
              "               Título  ...     Idioma\n",
              "0  Livro Da Esperança  ...  Português\n",
              "\n",
              "[1 rows x 5 columns]"
            ]
          },
          "metadata": {
            "tags": []
          }
        },
        {
          "output_type": "stream",
          "text": [
            "\n",
            "\n",
            "/content/drive/My Drive/9periodo/Recuperação de Informação/SITES BAIXADOS (Cris)/Traça/Positivas/Mozart Don Giovanni - A Vida De Mozart - Lorenzo Da Ponte - Henry Stendhal - Traça Livraria e Sebo.html\n"
          ],
          "name": "stdout"
        },
        {
          "output_type": "display_data",
          "data": {
            "text/html": [
              "<div>\n",
              "<style scoped>\n",
              "    .dataframe tbody tr th:only-of-type {\n",
              "        vertical-align: middle;\n",
              "    }\n",
              "\n",
              "    .dataframe tbody tr th {\n",
              "        vertical-align: top;\n",
              "    }\n",
              "\n",
              "    .dataframe thead th {\n",
              "        text-align: right;\n",
              "    }\n",
              "</style>\n",
              "<table border=\"1\" class=\"dataframe\">\n",
              "  <thead>\n",
              "    <tr style=\"text-align: right;\">\n",
              "      <th></th>\n",
              "      <th>Título</th>\n",
              "      <th>Autor</th>\n",
              "      <th>Nº Páginas</th>\n",
              "      <th>Acabamento</th>\n",
              "      <th>Idioma</th>\n",
              "    </tr>\n",
              "  </thead>\n",
              "  <tbody>\n",
              "    <tr>\n",
              "      <th>0</th>\n",
              "      <td>Mozart Don Giovanni - A Vida De Mozart</td>\n",
              "      <td>Lorenzo Da Ponte - Henry Stendhal</td>\n",
              "      <td>200</td>\n",
              "      <td>Brochura</td>\n",
              "      <td>Português</td>\n",
              "    </tr>\n",
              "  </tbody>\n",
              "</table>\n",
              "</div>"
            ],
            "text/plain": [
              "                                   Título  ...     Idioma\n",
              "0  Mozart Don Giovanni - A Vida De Mozart  ...  Português\n",
              "\n",
              "[1 rows x 5 columns]"
            ]
          },
          "metadata": {
            "tags": []
          }
        },
        {
          "output_type": "stream",
          "text": [
            "\n",
            "\n",
            "/content/drive/My Drive/9periodo/Recuperação de Informação/SITES BAIXADOS (Cris)/Traça/Positivas/O Colapso Do Universo - Isaac Asimov - Traça Livraria e Sebo.html\n"
          ],
          "name": "stdout"
        },
        {
          "output_type": "display_data",
          "data": {
            "text/html": [
              "<div>\n",
              "<style scoped>\n",
              "    .dataframe tbody tr th:only-of-type {\n",
              "        vertical-align: middle;\n",
              "    }\n",
              "\n",
              "    .dataframe tbody tr th {\n",
              "        vertical-align: top;\n",
              "    }\n",
              "\n",
              "    .dataframe thead th {\n",
              "        text-align: right;\n",
              "    }\n",
              "</style>\n",
              "<table border=\"1\" class=\"dataframe\">\n",
              "  <thead>\n",
              "    <tr style=\"text-align: right;\">\n",
              "      <th></th>\n",
              "      <th>Título</th>\n",
              "      <th>Autor</th>\n",
              "      <th>Nº Páginas</th>\n",
              "      <th>Acabamento</th>\n",
              "      <th>Idioma</th>\n",
              "    </tr>\n",
              "  </thead>\n",
              "  <tbody>\n",
              "    <tr>\n",
              "      <th>0</th>\n",
              "      <td>O Colapso Do Universo</td>\n",
              "      <td>Isaac Asimov</td>\n",
              "      <td>210</td>\n",
              "      <td>Capa Dura</td>\n",
              "      <td>em(Brasil)</td>\n",
              "    </tr>\n",
              "  </tbody>\n",
              "</table>\n",
              "</div>"
            ],
            "text/plain": [
              "                  Título         Autor Nº Páginas  Acabamento       Idioma\n",
              "0  O Colapso Do Universo  Isaac Asimov        210  Capa Dura   em(Brasil) "
            ]
          },
          "metadata": {
            "tags": []
          }
        },
        {
          "output_type": "stream",
          "text": [
            "\n",
            "\n",
            "/content/drive/My Drive/9periodo/Recuperação de Informação/SITES BAIXADOS (Cris)/Traça/Positivas/Políticas Territoriais Na Amazônia - Neli Aparecida De Mello - Traça Livraria e Sebo.html\n"
          ],
          "name": "stdout"
        },
        {
          "output_type": "display_data",
          "data": {
            "text/html": [
              "<div>\n",
              "<style scoped>\n",
              "    .dataframe tbody tr th:only-of-type {\n",
              "        vertical-align: middle;\n",
              "    }\n",
              "\n",
              "    .dataframe tbody tr th {\n",
              "        vertical-align: top;\n",
              "    }\n",
              "\n",
              "    .dataframe thead th {\n",
              "        text-align: right;\n",
              "    }\n",
              "</style>\n",
              "<table border=\"1\" class=\"dataframe\">\n",
              "  <thead>\n",
              "    <tr style=\"text-align: right;\">\n",
              "      <th></th>\n",
              "      <th>Título</th>\n",
              "      <th>Autor</th>\n",
              "      <th>Nº Páginas</th>\n",
              "      <th>Acabamento</th>\n",
              "      <th>Idioma</th>\n",
              "    </tr>\n",
              "  </thead>\n",
              "  <tbody>\n",
              "    <tr>\n",
              "      <th>0</th>\n",
              "      <td>Políticas Territoriais Na Amazônia</td>\n",
              "      <td>Neli Aparecida De Mello</td>\n",
              "      <td>412</td>\n",
              "      <td>Brochura</td>\n",
              "      <td>Português</td>\n",
              "    </tr>\n",
              "  </tbody>\n",
              "</table>\n",
              "</div>"
            ],
            "text/plain": [
              "                               Título  ...     Idioma\n",
              "0  Políticas Territoriais Na Amazônia  ...  Português\n",
              "\n",
              "[1 rows x 5 columns]"
            ]
          },
          "metadata": {
            "tags": []
          }
        },
        {
          "output_type": "stream",
          "text": [
            "\n",
            "\n",
            "/content/drive/My Drive/9periodo/Recuperação de Informação/SITES BAIXADOS (Cris)/Traça/Positivas/Relações Exteriores Do Brasil Contemporâneo - Danielly Silva Ramos Becard - Traça Livraria e Sebo.html\n"
          ],
          "name": "stdout"
        },
        {
          "output_type": "display_data",
          "data": {
            "text/html": [
              "<div>\n",
              "<style scoped>\n",
              "    .dataframe tbody tr th:only-of-type {\n",
              "        vertical-align: middle;\n",
              "    }\n",
              "\n",
              "    .dataframe tbody tr th {\n",
              "        vertical-align: top;\n",
              "    }\n",
              "\n",
              "    .dataframe thead th {\n",
              "        text-align: right;\n",
              "    }\n",
              "</style>\n",
              "<table border=\"1\" class=\"dataframe\">\n",
              "  <thead>\n",
              "    <tr style=\"text-align: right;\">\n",
              "      <th></th>\n",
              "      <th>Título</th>\n",
              "      <th>Autor</th>\n",
              "      <th>Nº Páginas</th>\n",
              "      <th>Acabamento</th>\n",
              "      <th>Idioma</th>\n",
              "    </tr>\n",
              "  </thead>\n",
              "  <tbody>\n",
              "    <tr>\n",
              "      <th>0</th>\n",
              "      <td>Relações Exteriores Do Brasil Contemporâneo</td>\n",
              "      <td>Danielly Silva Ramos Becard</td>\n",
              "      <td>224</td>\n",
              "      <td>Brochura</td>\n",
              "      <td>Português</td>\n",
              "    </tr>\n",
              "  </tbody>\n",
              "</table>\n",
              "</div>"
            ],
            "text/plain": [
              "                                        Título  ...     Idioma\n",
              "0  Relações Exteriores Do Brasil Contemporâneo  ...  Português\n",
              "\n",
              "[1 rows x 5 columns]"
            ]
          },
          "metadata": {
            "tags": []
          }
        },
        {
          "output_type": "stream",
          "text": [
            "\n",
            "\n"
          ],
          "name": "stdout"
        }
      ]
    },
    {
      "cell_type": "markdown",
      "metadata": {
        "id": "2s5-RsrjsHFa",
        "colab_type": "text"
      },
      "source": [
        "## 5. CIA DOS LIVROS"
      ]
    },
    {
      "cell_type": "code",
      "metadata": {
        "id": "ut4d7ydOxNNf",
        "colab_type": "code",
        "colab": {}
      },
      "source": [
        "def cia_dos_livros_single(site):\n",
        "  soup = bs(open(site), 'html.parser')\n",
        "\n",
        "  title = soup.find('div', {'class':'detailProduct'}).h1.text\n",
        "\n",
        "  author = soup.find('dl', {'class':'autor-editora'}).dd.contents[0].strip()\n",
        "\n",
        "  infos = soup.find('dl', {'id':'bookData'})\n",
        "  infos_list = [info for info in infos]\n",
        "  infos_list = [re.sub('\\n|<.*?>|:|\\t', '', str(info)) for info in infos_list]\n",
        "  infos_list = [item for item in infos_list if item != '']\n",
        "  \n",
        "  language = [infos_list[i+1] for i in range(len(infos_list)) if infos_list[i] == 'Idioma'][0]\n",
        "\n",
        "  n_pages = [infos_list[i+1] for i in range(len(infos_list)) if infos_list[i] == 'Número de páginas'][0]\n",
        "\n",
        "  binding = [infos_list[i+1] for i in range(len(infos_list)) if infos_list[i] == 'Encadernação'][0]\n",
        "\n",
        "  publishing = [infos_list[i+1] for i in range(len(infos_list)) if infos_list[i] == 'Marca'][0]\n",
        "\n",
        "  cols = ['Título', 'Autor', 'Nº Páginas', 'Editora', 'Idioma', 'Acabamento']\n",
        "\n",
        "  list_info = [title, author, n_pages, publishing, language, binding]\n",
        "  list_info\n",
        "  book_pd = pd.DataFrame([list_info],\\\n",
        "                        columns=cols)\n",
        "  display(book_pd)\n"
      ],
      "execution_count": 0,
      "outputs": []
    },
    {
      "cell_type": "code",
      "metadata": {
        "id": "zDzRkSA2x6d-",
        "colab_type": "code",
        "colab": {}
      },
      "source": [
        "cia_urls = [r'/content/drive/My Drive/9periodo/Recuperação de Informação/SITES BAIXADOS (Cris)/Cia dos Livros/Positivas/Livro Afirmar-se com Nietzsche - Cia. dos Livros.html',\n",
        "            r'/content/drive/My Drive/9periodo/Recuperação de Informação/SITES BAIXADOS (Cris)/Cia dos Livros/Positivas/Livro Audácia Dessa Mulher, A - Cia. dos Livros.html',\n",
        "            r'/content/drive/My Drive/9periodo/Recuperação de Informação/SITES BAIXADOS (Cris)/Cia dos Livros/Positivas/Livro Avaliação - Mito e Desafio - Cia. dos Livros.html',\n",
        "            r'/content/drive/My Drive/9periodo/Recuperação de Informação/SITES BAIXADOS (Cris)/Cia dos Livros/Positivas/Livro Breve História do Feminismo no Contexto Euro-americano, Uma - Cia. dos Livros.html',\n",
        "            r'/content/drive/My Drive/9periodo/Recuperação de Informação/SITES BAIXADOS (Cris)/Cia dos Livros/Positivas/Livro Corpo Fala, O - A Linguagem Silenciosa da Comunicação Não Verbal - Cia. dos Livros.html',\n",
        "            r'/content/drive/My Drive/9periodo/Recuperação de Informação/SITES BAIXADOS (Cris)/Cia dos Livros/Positivas/Livro Cura do Ciúme, A - Aprenda a Confiar, Supere a Possessividade e Salve Seu Relacionamento - Cia. dos Livros.html',\n",
        "            r'/content/drive/My Drive/9periodo/Recuperação de Informação/SITES BAIXADOS (Cris)/Cia dos Livros/Positivas/Livro Dom Casmurro - Coleção Grandes Mestres da Literatura Brasileira - Cia. dos Livros.html',\n",
        "            r'/content/drive/My Drive/9periodo/Recuperação de Informação/SITES BAIXADOS (Cris)/Cia dos Livros/Positivas/Livro Em Busca do Texto Perfeito - Questões Contemporâneas de Edição, Preparação e Revisão Textual - Cia. dos Livros.html',\n",
        "            r'/content/drive/My Drive/9periodo/Recuperação de Informação/SITES BAIXADOS (Cris)/Cia dos Livros/Positivas/Livro Manual do Arquiteto Descalço - Capa Dura - Cia. dos Livros.html',\n",
        "            r'/content/drive/My Drive/9periodo/Recuperação de Informação/SITES BAIXADOS (Cris)/Cia dos Livros/Positivas/Livro Feminismo É Feminino?, O - Cia. dos Livros.html',\n",
        "            r'/content/drive/My Drive/9periodo/Recuperação de Informação/SITES BAIXADOS (Cris)/Cia dos Livros/Positivas/Livro Gramática de Espanhol Para Brasileiros - Cia. dos Livros.html',\n",
        "            r'/content/drive/My Drive/9periodo/Recuperação de Informação/SITES BAIXADOS (Cris)/Cia dos Livros/Positivas/Livro Nem Só De Ciência Se Faz A Cura - O Que Os Pacientes Me Ensinaram - Cia. dos Livros.html']"
      ],
      "execution_count": 0,
      "outputs": []
    },
    {
      "cell_type": "code",
      "metadata": {
        "id": "4GYJSIJO1kop",
        "colab_type": "code",
        "outputId": "6f35dd3e-4c90-4bca-d76b-d598eb281b5a",
        "colab": {
          "base_uri": "https://localhost:8080/",
          "height": 1000
        }
      },
      "source": [
        "for url in cia_urls:\n",
        "  print(url)\n",
        "  cia_dos_livros_single(url)\n",
        "  print('\\n')"
      ],
      "execution_count": 0,
      "outputs": [
        {
          "output_type": "stream",
          "text": [
            "/content/drive/My Drive/9periodo/Recuperação de Informação/SITES BAIXADOS (Cris)/Cia dos Livros/Positivas/Livro Afirmar-se com Nietzsche - Cia. dos Livros.html\n"
          ],
          "name": "stdout"
        },
        {
          "output_type": "display_data",
          "data": {
            "text/html": [
              "<div>\n",
              "<style scoped>\n",
              "    .dataframe tbody tr th:only-of-type {\n",
              "        vertical-align: middle;\n",
              "    }\n",
              "\n",
              "    .dataframe tbody tr th {\n",
              "        vertical-align: top;\n",
              "    }\n",
              "\n",
              "    .dataframe thead th {\n",
              "        text-align: right;\n",
              "    }\n",
              "</style>\n",
              "<table border=\"1\" class=\"dataframe\">\n",
              "  <thead>\n",
              "    <tr style=\"text-align: right;\">\n",
              "      <th></th>\n",
              "      <th>Título</th>\n",
              "      <th>Autor</th>\n",
              "      <th>Nº Páginas</th>\n",
              "      <th>Editora</th>\n",
              "      <th>Idioma</th>\n",
              "      <th>Acabamento</th>\n",
              "    </tr>\n",
              "  </thead>\n",
              "  <tbody>\n",
              "    <tr>\n",
              "      <th>0</th>\n",
              "      <td>Afirmar-se com Nietzsche</td>\n",
              "      <td>Balthasar Thomass</td>\n",
              "      <td>208</td>\n",
              "      <td>Vozes Nobilis</td>\n",
              "      <td>Português</td>\n",
              "      <td>Brochura</td>\n",
              "    </tr>\n",
              "  </tbody>\n",
              "</table>\n",
              "</div>"
            ],
            "text/plain": [
              "                     Título              Autor  ...     Idioma Acabamento\n",
              "0  Afirmar-se com Nietzsche  Balthasar Thomass  ...  Português   Brochura\n",
              "\n",
              "[1 rows x 6 columns]"
            ]
          },
          "metadata": {
            "tags": []
          }
        },
        {
          "output_type": "stream",
          "text": [
            "\n",
            "\n",
            "/content/drive/My Drive/9periodo/Recuperação de Informação/SITES BAIXADOS (Cris)/Cia dos Livros/Positivas/Livro Audácia Dessa Mulher, A - Cia. dos Livros.html\n"
          ],
          "name": "stdout"
        },
        {
          "output_type": "display_data",
          "data": {
            "text/html": [
              "<div>\n",
              "<style scoped>\n",
              "    .dataframe tbody tr th:only-of-type {\n",
              "        vertical-align: middle;\n",
              "    }\n",
              "\n",
              "    .dataframe tbody tr th {\n",
              "        vertical-align: top;\n",
              "    }\n",
              "\n",
              "    .dataframe thead th {\n",
              "        text-align: right;\n",
              "    }\n",
              "</style>\n",
              "<table border=\"1\" class=\"dataframe\">\n",
              "  <thead>\n",
              "    <tr style=\"text-align: right;\">\n",
              "      <th></th>\n",
              "      <th>Título</th>\n",
              "      <th>Autor</th>\n",
              "      <th>Nº Páginas</th>\n",
              "      <th>Editora</th>\n",
              "      <th>Idioma</th>\n",
              "      <th>Acabamento</th>\n",
              "    </tr>\n",
              "  </thead>\n",
              "  <tbody>\n",
              "    <tr>\n",
              "      <th>0</th>\n",
              "      <td>Audácia Dessa Mulher, A</td>\n",
              "      <td>Ana Maria Machado</td>\n",
              "      <td>408</td>\n",
              "      <td>Alfaguara</td>\n",
              "      <td>Português</td>\n",
              "      <td>Brochura</td>\n",
              "    </tr>\n",
              "  </tbody>\n",
              "</table>\n",
              "</div>"
            ],
            "text/plain": [
              "                    Título              Autor  ...     Idioma Acabamento\n",
              "0  Audácia Dessa Mulher, A  Ana Maria Machado  ...  Português   Brochura\n",
              "\n",
              "[1 rows x 6 columns]"
            ]
          },
          "metadata": {
            "tags": []
          }
        },
        {
          "output_type": "stream",
          "text": [
            "\n",
            "\n",
            "/content/drive/My Drive/9periodo/Recuperação de Informação/SITES BAIXADOS (Cris)/Cia dos Livros/Positivas/Livro Avaliação - Mito e Desafio - Cia. dos Livros.html\n"
          ],
          "name": "stdout"
        },
        {
          "output_type": "display_data",
          "data": {
            "text/html": [
              "<div>\n",
              "<style scoped>\n",
              "    .dataframe tbody tr th:only-of-type {\n",
              "        vertical-align: middle;\n",
              "    }\n",
              "\n",
              "    .dataframe tbody tr th {\n",
              "        vertical-align: top;\n",
              "    }\n",
              "\n",
              "    .dataframe thead th {\n",
              "        text-align: right;\n",
              "    }\n",
              "</style>\n",
              "<table border=\"1\" class=\"dataframe\">\n",
              "  <thead>\n",
              "    <tr style=\"text-align: right;\">\n",
              "      <th></th>\n",
              "      <th>Título</th>\n",
              "      <th>Autor</th>\n",
              "      <th>Nº Páginas</th>\n",
              "      <th>Editora</th>\n",
              "      <th>Idioma</th>\n",
              "      <th>Acabamento</th>\n",
              "    </tr>\n",
              "  </thead>\n",
              "  <tbody>\n",
              "    <tr>\n",
              "      <th>0</th>\n",
              "      <td>Avaliação: Mito e Desafio</td>\n",
              "      <td>Jussara Hoffmann</td>\n",
              "      <td>158</td>\n",
              "      <td>MEDIACAO</td>\n",
              "      <td>Português</td>\n",
              "      <td>Brochura</td>\n",
              "    </tr>\n",
              "  </tbody>\n",
              "</table>\n",
              "</div>"
            ],
            "text/plain": [
              "                      Título             Autor  ...     Idioma Acabamento\n",
              "0  Avaliação: Mito e Desafio  Jussara Hoffmann  ...  Português   Brochura\n",
              "\n",
              "[1 rows x 6 columns]"
            ]
          },
          "metadata": {
            "tags": []
          }
        },
        {
          "output_type": "stream",
          "text": [
            "\n",
            "\n",
            "/content/drive/My Drive/9periodo/Recuperação de Informação/SITES BAIXADOS (Cris)/Cia dos Livros/Positivas/Livro Breve História do Feminismo no Contexto Euro-americano, Uma - Cia. dos Livros.html\n"
          ],
          "name": "stdout"
        },
        {
          "output_type": "display_data",
          "data": {
            "text/html": [
              "<div>\n",
              "<style scoped>\n",
              "    .dataframe tbody tr th:only-of-type {\n",
              "        vertical-align: middle;\n",
              "    }\n",
              "\n",
              "    .dataframe tbody tr th {\n",
              "        vertical-align: top;\n",
              "    }\n",
              "\n",
              "    .dataframe thead th {\n",
              "        text-align: right;\n",
              "    }\n",
              "</style>\n",
              "<table border=\"1\" class=\"dataframe\">\n",
              "  <thead>\n",
              "    <tr style=\"text-align: right;\">\n",
              "      <th></th>\n",
              "      <th>Título</th>\n",
              "      <th>Autor</th>\n",
              "      <th>Nº Páginas</th>\n",
              "      <th>Editora</th>\n",
              "      <th>Idioma</th>\n",
              "      <th>Acabamento</th>\n",
              "    </tr>\n",
              "  </thead>\n",
              "  <tbody>\n",
              "    <tr>\n",
              "      <th>0</th>\n",
              "      <td>Breve História do Feminismo no Contexto Euro-a...</td>\n",
              "      <td>Antje Schrupp</td>\n",
              "      <td>88</td>\n",
              "      <td>EDGARD BLUCHER</td>\n",
              "      <td>Português</td>\n",
              "      <td>Brochura</td>\n",
              "    </tr>\n",
              "  </tbody>\n",
              "</table>\n",
              "</div>"
            ],
            "text/plain": [
              "                                              Título  ... Acabamento\n",
              "0  Breve História do Feminismo no Contexto Euro-a...  ...   Brochura\n",
              "\n",
              "[1 rows x 6 columns]"
            ]
          },
          "metadata": {
            "tags": []
          }
        },
        {
          "output_type": "stream",
          "text": [
            "\n",
            "\n",
            "/content/drive/My Drive/9periodo/Recuperação de Informação/SITES BAIXADOS (Cris)/Cia dos Livros/Positivas/Livro Corpo Fala, O - A Linguagem Silenciosa da Comunicação Não Verbal - Cia. dos Livros.html\n"
          ],
          "name": "stdout"
        },
        {
          "output_type": "display_data",
          "data": {
            "text/html": [
              "<div>\n",
              "<style scoped>\n",
              "    .dataframe tbody tr th:only-of-type {\n",
              "        vertical-align: middle;\n",
              "    }\n",
              "\n",
              "    .dataframe tbody tr th {\n",
              "        vertical-align: top;\n",
              "    }\n",
              "\n",
              "    .dataframe thead th {\n",
              "        text-align: right;\n",
              "    }\n",
              "</style>\n",
              "<table border=\"1\" class=\"dataframe\">\n",
              "  <thead>\n",
              "    <tr style=\"text-align: right;\">\n",
              "      <th></th>\n",
              "      <th>Título</th>\n",
              "      <th>Autor</th>\n",
              "      <th>Nº Páginas</th>\n",
              "      <th>Editora</th>\n",
              "      <th>Idioma</th>\n",
              "      <th>Acabamento</th>\n",
              "    </tr>\n",
              "  </thead>\n",
              "  <tbody>\n",
              "    <tr>\n",
              "      <th>0</th>\n",
              "      <td>Corpo Fala, O: A Linguagem Silenciosa da Comun...</td>\n",
              "      <td>Pierre Weil</td>\n",
              "      <td>287</td>\n",
              "      <td>VOZES</td>\n",
              "      <td>Português</td>\n",
              "      <td>Brochura</td>\n",
              "    </tr>\n",
              "  </tbody>\n",
              "</table>\n",
              "</div>"
            ],
            "text/plain": [
              "                                              Título  ... Acabamento\n",
              "0  Corpo Fala, O: A Linguagem Silenciosa da Comun...  ...   Brochura\n",
              "\n",
              "[1 rows x 6 columns]"
            ]
          },
          "metadata": {
            "tags": []
          }
        },
        {
          "output_type": "stream",
          "text": [
            "\n",
            "\n",
            "/content/drive/My Drive/9periodo/Recuperação de Informação/SITES BAIXADOS (Cris)/Cia dos Livros/Positivas/Livro Cura do Ciúme, A - Aprenda a Confiar, Supere a Possessividade e Salve Seu Relacionamento - Cia. dos Livros.html\n"
          ],
          "name": "stdout"
        },
        {
          "output_type": "display_data",
          "data": {
            "text/html": [
              "<div>\n",
              "<style scoped>\n",
              "    .dataframe tbody tr th:only-of-type {\n",
              "        vertical-align: middle;\n",
              "    }\n",
              "\n",
              "    .dataframe tbody tr th {\n",
              "        vertical-align: top;\n",
              "    }\n",
              "\n",
              "    .dataframe thead th {\n",
              "        text-align: right;\n",
              "    }\n",
              "</style>\n",
              "<table border=\"1\" class=\"dataframe\">\n",
              "  <thead>\n",
              "    <tr style=\"text-align: right;\">\n",
              "      <th></th>\n",
              "      <th>Título</th>\n",
              "      <th>Autor</th>\n",
              "      <th>Nº Páginas</th>\n",
              "      <th>Editora</th>\n",
              "      <th>Idioma</th>\n",
              "      <th>Acabamento</th>\n",
              "    </tr>\n",
              "  </thead>\n",
              "  <tbody>\n",
              "    <tr>\n",
              "      <th>0</th>\n",
              "      <td>Cura do Ciúme, A: Aprenda a Confiar, Supere a ...</td>\n",
              "      <td>Robert L. Leahy</td>\n",
              "      <td>192</td>\n",
              "      <td>Artmed</td>\n",
              "      <td>Português</td>\n",
              "      <td>Brochura</td>\n",
              "    </tr>\n",
              "  </tbody>\n",
              "</table>\n",
              "</div>"
            ],
            "text/plain": [
              "                                              Título  ... Acabamento\n",
              "0  Cura do Ciúme, A: Aprenda a Confiar, Supere a ...  ...   Brochura\n",
              "\n",
              "[1 rows x 6 columns]"
            ]
          },
          "metadata": {
            "tags": []
          }
        },
        {
          "output_type": "stream",
          "text": [
            "\n",
            "\n",
            "/content/drive/My Drive/9periodo/Recuperação de Informação/SITES BAIXADOS (Cris)/Cia dos Livros/Positivas/Livro Dom Casmurro - Coleção Grandes Mestres da Literatura Brasileira - Cia. dos Livros.html\n"
          ],
          "name": "stdout"
        },
        {
          "output_type": "display_data",
          "data": {
            "text/html": [
              "<div>\n",
              "<style scoped>\n",
              "    .dataframe tbody tr th:only-of-type {\n",
              "        vertical-align: middle;\n",
              "    }\n",
              "\n",
              "    .dataframe tbody tr th {\n",
              "        vertical-align: top;\n",
              "    }\n",
              "\n",
              "    .dataframe thead th {\n",
              "        text-align: right;\n",
              "    }\n",
              "</style>\n",
              "<table border=\"1\" class=\"dataframe\">\n",
              "  <thead>\n",
              "    <tr style=\"text-align: right;\">\n",
              "      <th></th>\n",
              "      <th>Título</th>\n",
              "      <th>Autor</th>\n",
              "      <th>Nº Páginas</th>\n",
              "      <th>Editora</th>\n",
              "      <th>Idioma</th>\n",
              "      <th>Acabamento</th>\n",
              "    </tr>\n",
              "  </thead>\n",
              "  <tbody>\n",
              "    <tr>\n",
              "      <th>0</th>\n",
              "      <td>Dom Casmurro - Coleção Grandes Mestres da Lite...</td>\n",
              "      <td>Machado De Assis</td>\n",
              "      <td>192</td>\n",
              "      <td>LAROUSSE</td>\n",
              "      <td>Português</td>\n",
              "      <td>Brochura</td>\n",
              "    </tr>\n",
              "  </tbody>\n",
              "</table>\n",
              "</div>"
            ],
            "text/plain": [
              "                                              Título  ... Acabamento\n",
              "0  Dom Casmurro - Coleção Grandes Mestres da Lite...  ...   Brochura\n",
              "\n",
              "[1 rows x 6 columns]"
            ]
          },
          "metadata": {
            "tags": []
          }
        },
        {
          "output_type": "stream",
          "text": [
            "\n",
            "\n",
            "/content/drive/My Drive/9periodo/Recuperação de Informação/SITES BAIXADOS (Cris)/Cia dos Livros/Positivas/Livro Em Busca do Texto Perfeito - Questões Contemporâneas de Edição, Preparação e Revisão Textual - Cia. dos Livros.html\n"
          ],
          "name": "stdout"
        },
        {
          "output_type": "display_data",
          "data": {
            "text/html": [
              "<div>\n",
              "<style scoped>\n",
              "    .dataframe tbody tr th:only-of-type {\n",
              "        vertical-align: middle;\n",
              "    }\n",
              "\n",
              "    .dataframe tbody tr th {\n",
              "        vertical-align: top;\n",
              "    }\n",
              "\n",
              "    .dataframe thead th {\n",
              "        text-align: right;\n",
              "    }\n",
              "</style>\n",
              "<table border=\"1\" class=\"dataframe\">\n",
              "  <thead>\n",
              "    <tr style=\"text-align: right;\">\n",
              "      <th></th>\n",
              "      <th>Título</th>\n",
              "      <th>Autor</th>\n",
              "      <th>Nº Páginas</th>\n",
              "      <th>Editora</th>\n",
              "      <th>Idioma</th>\n",
              "      <th>Acabamento</th>\n",
              "    </tr>\n",
              "  </thead>\n",
              "  <tbody>\n",
              "    <tr>\n",
              "      <th>0</th>\n",
              "      <td>Em Busca do Texto Perfeito: Questões Contempor...</td>\n",
              "      <td>Ana Elisa Ribeiro</td>\n",
              "      <td>96</td>\n",
              "      <td>GULLIVER</td>\n",
              "      <td>Português</td>\n",
              "      <td>Brochura</td>\n",
              "    </tr>\n",
              "  </tbody>\n",
              "</table>\n",
              "</div>"
            ],
            "text/plain": [
              "                                              Título  ... Acabamento\n",
              "0  Em Busca do Texto Perfeito: Questões Contempor...  ...   Brochura\n",
              "\n",
              "[1 rows x 6 columns]"
            ]
          },
          "metadata": {
            "tags": []
          }
        },
        {
          "output_type": "stream",
          "text": [
            "\n",
            "\n",
            "/content/drive/My Drive/9periodo/Recuperação de Informação/SITES BAIXADOS (Cris)/Cia dos Livros/Positivas/Livro Manual do Arquiteto Descalço - Capa Dura - Cia. dos Livros.html\n"
          ],
          "name": "stdout"
        },
        {
          "output_type": "display_data",
          "data": {
            "text/html": [
              "<div>\n",
              "<style scoped>\n",
              "    .dataframe tbody tr th:only-of-type {\n",
              "        vertical-align: middle;\n",
              "    }\n",
              "\n",
              "    .dataframe tbody tr th {\n",
              "        vertical-align: top;\n",
              "    }\n",
              "\n",
              "    .dataframe thead th {\n",
              "        text-align: right;\n",
              "    }\n",
              "</style>\n",
              "<table border=\"1\" class=\"dataframe\">\n",
              "  <thead>\n",
              "    <tr style=\"text-align: right;\">\n",
              "      <th></th>\n",
              "      <th>Título</th>\n",
              "      <th>Autor</th>\n",
              "      <th>Nº Páginas</th>\n",
              "      <th>Editora</th>\n",
              "      <th>Idioma</th>\n",
              "      <th>Acabamento</th>\n",
              "    </tr>\n",
              "  </thead>\n",
              "  <tbody>\n",
              "    <tr>\n",
              "      <th>0</th>\n",
              "      <td>Manual do Arquiteto Descalço - Capa Dura</td>\n",
              "      <td>Johan Van Lengen</td>\n",
              "      <td>720</td>\n",
              "      <td>B4 Editores</td>\n",
              "      <td>Português</td>\n",
              "      <td>Capa dura</td>\n",
              "    </tr>\n",
              "  </tbody>\n",
              "</table>\n",
              "</div>"
            ],
            "text/plain": [
              "                                     Título  ... Acabamento\n",
              "0  Manual do Arquiteto Descalço - Capa Dura  ...  Capa dura\n",
              "\n",
              "[1 rows x 6 columns]"
            ]
          },
          "metadata": {
            "tags": []
          }
        },
        {
          "output_type": "stream",
          "text": [
            "\n",
            "\n",
            "/content/drive/My Drive/9periodo/Recuperação de Informação/SITES BAIXADOS (Cris)/Cia dos Livros/Positivas/Livro Feminismo É Feminino?, O - Cia. dos Livros.html\n"
          ],
          "name": "stdout"
        },
        {
          "output_type": "display_data",
          "data": {
            "text/html": [
              "<div>\n",
              "<style scoped>\n",
              "    .dataframe tbody tr th:only-of-type {\n",
              "        vertical-align: middle;\n",
              "    }\n",
              "\n",
              "    .dataframe tbody tr th {\n",
              "        vertical-align: top;\n",
              "    }\n",
              "\n",
              "    .dataframe thead th {\n",
              "        text-align: right;\n",
              "    }\n",
              "</style>\n",
              "<table border=\"1\" class=\"dataframe\">\n",
              "  <thead>\n",
              "    <tr style=\"text-align: right;\">\n",
              "      <th></th>\n",
              "      <th>Título</th>\n",
              "      <th>Autor</th>\n",
              "      <th>Nº Páginas</th>\n",
              "      <th>Editora</th>\n",
              "      <th>Idioma</th>\n",
              "      <th>Acabamento</th>\n",
              "    </tr>\n",
              "  </thead>\n",
              "  <tbody>\n",
              "    <tr>\n",
              "      <th>0</th>\n",
              "      <td>Feminismo É Feminino?, O</td>\n",
              "      <td>Maíra Marcondes Moreira</td>\n",
              "      <td>204</td>\n",
              "      <td>Annablume</td>\n",
              "      <td>Português</td>\n",
              "      <td>Brochura</td>\n",
              "    </tr>\n",
              "  </tbody>\n",
              "</table>\n",
              "</div>"
            ],
            "text/plain": [
              "                     Título                    Autor  ...     Idioma Acabamento\n",
              "0  Feminismo É Feminino?, O  Maíra Marcondes Moreira  ...  Português   Brochura\n",
              "\n",
              "[1 rows x 6 columns]"
            ]
          },
          "metadata": {
            "tags": []
          }
        },
        {
          "output_type": "stream",
          "text": [
            "\n",
            "\n",
            "/content/drive/My Drive/9periodo/Recuperação de Informação/SITES BAIXADOS (Cris)/Cia dos Livros/Positivas/Livro Gramática de Espanhol Para Brasileiros - Cia. dos Livros.html\n"
          ],
          "name": "stdout"
        },
        {
          "output_type": "display_data",
          "data": {
            "text/html": [
              "<div>\n",
              "<style scoped>\n",
              "    .dataframe tbody tr th:only-of-type {\n",
              "        vertical-align: middle;\n",
              "    }\n",
              "\n",
              "    .dataframe tbody tr th {\n",
              "        vertical-align: top;\n",
              "    }\n",
              "\n",
              "    .dataframe thead th {\n",
              "        text-align: right;\n",
              "    }\n",
              "</style>\n",
              "<table border=\"1\" class=\"dataframe\">\n",
              "  <thead>\n",
              "    <tr style=\"text-align: right;\">\n",
              "      <th></th>\n",
              "      <th>Título</th>\n",
              "      <th>Autor</th>\n",
              "      <th>Nº Páginas</th>\n",
              "      <th>Editora</th>\n",
              "      <th>Idioma</th>\n",
              "      <th>Acabamento</th>\n",
              "    </tr>\n",
              "  </thead>\n",
              "  <tbody>\n",
              "    <tr>\n",
              "      <th>0</th>\n",
              "      <td>Gramática de Espanhol Para Brasileiros</td>\n",
              "      <td>Esther Maria Milani</td>\n",
              "      <td>432</td>\n",
              "      <td>Saraiva - Didaticos</td>\n",
              "      <td>Português</td>\n",
              "      <td>Brochura</td>\n",
              "    </tr>\n",
              "  </tbody>\n",
              "</table>\n",
              "</div>"
            ],
            "text/plain": [
              "                                   Título  ... Acabamento\n",
              "0  Gramática de Espanhol Para Brasileiros  ...   Brochura\n",
              "\n",
              "[1 rows x 6 columns]"
            ]
          },
          "metadata": {
            "tags": []
          }
        },
        {
          "output_type": "stream",
          "text": [
            "\n",
            "\n",
            "/content/drive/My Drive/9periodo/Recuperação de Informação/SITES BAIXADOS (Cris)/Cia dos Livros/Positivas/Livro Nem Só De Ciência Se Faz A Cura - O Que Os Pacientes Me Ensinaram - Cia. dos Livros.html\n"
          ],
          "name": "stdout"
        },
        {
          "output_type": "display_data",
          "data": {
            "text/html": [
              "<div>\n",
              "<style scoped>\n",
              "    .dataframe tbody tr th:only-of-type {\n",
              "        vertical-align: middle;\n",
              "    }\n",
              "\n",
              "    .dataframe tbody tr th {\n",
              "        vertical-align: top;\n",
              "    }\n",
              "\n",
              "    .dataframe thead th {\n",
              "        text-align: right;\n",
              "    }\n",
              "</style>\n",
              "<table border=\"1\" class=\"dataframe\">\n",
              "  <thead>\n",
              "    <tr style=\"text-align: right;\">\n",
              "      <th></th>\n",
              "      <th>Título</th>\n",
              "      <th>Autor</th>\n",
              "      <th>Nº Páginas</th>\n",
              "      <th>Editora</th>\n",
              "      <th>Idioma</th>\n",
              "      <th>Acabamento</th>\n",
              "    </tr>\n",
              "  </thead>\n",
              "  <tbody>\n",
              "    <tr>\n",
              "      <th>0</th>\n",
              "      <td>Nem Só De Ciência Se Faz A Cura: O Que Os Paci...</td>\n",
              "      <td>Protasio L. Da Luz</td>\n",
              "      <td>304</td>\n",
              "      <td>Manole</td>\n",
              "      <td>Português</td>\n",
              "      <td>Brochura</td>\n",
              "    </tr>\n",
              "  </tbody>\n",
              "</table>\n",
              "</div>"
            ],
            "text/plain": [
              "                                              Título  ... Acabamento\n",
              "0  Nem Só De Ciência Se Faz A Cura: O Que Os Paci...  ...   Brochura\n",
              "\n",
              "[1 rows x 6 columns]"
            ]
          },
          "metadata": {
            "tags": []
          }
        },
        {
          "output_type": "stream",
          "text": [
            "\n",
            "\n"
          ],
          "name": "stdout"
        }
      ]
    },
    {
      "cell_type": "markdown",
      "metadata": {
        "id": "OPi4_ILS1mwH",
        "colab_type": "text"
      },
      "source": [
        "##6. EXTRA"
      ]
    },
    {
      "cell_type": "code",
      "metadata": {
        "id": "sOHAK0d_GWsR",
        "colab_type": "code",
        "colab": {}
      },
      "source": [
        "def extra_single(site):\n",
        "  soup = bs(open(site), 'html.parser')\n",
        "  \n",
        "  title = soup.find('div', {'class':'produtoNome'}).h1.b.text\n",
        "\n",
        "  author = soup.find('dl', {'class':'Autor'}).contents\n",
        "  author = [re.sub('\\n|<.*?>', '', str(item)) for item in author]\n",
        "  author = [item.strip() for item in author if item != '']\n",
        "  author = [author[i+1] for i in range(len(author)) if author[i] == 'Autor'][0]\n",
        "\n",
        "  infos = soup.find_all('div', {'class':'wrp'})\n",
        "  infos = [(re.sub('\\n|<.*?>|\\\\n', '', str(item))).split() for item in infos][1]\n",
        "\n",
        "  language = [infos[i+1] for i in range(len(infos)) if infos[i] == 'Idioma'][0]\n",
        "\n",
        "  n_pages = [infos[i+1] for i in range(len(infos)) if infos[i] == 'Páginas'][0]\n",
        "\n",
        "  publishing = [infos[i+1] for i in range(len(infos)) if infos[i] == 'Editora'][0]\n",
        "\n",
        "  binding = [infos[i+1] for i in range(len(infos)) if infos[i] == 'Acabamento'][0]\n",
        "\n",
        "  isbn = [infos[i+1] for i in range(len(infos)) if (infos[i] == 'ISBN' or infos[i] == 'ISBN-13')][0]\n",
        " \n",
        "  host = 'Extra'\n",
        "\n",
        "  create_df(host, title, author, n_pages, publishing, language, binding, isbn)"
      ],
      "execution_count": 0,
      "outputs": []
    },
    {
      "cell_type": "code",
      "metadata": {
        "id": "OAGWyM7I0LB0",
        "colab_type": "code",
        "colab": {}
      },
      "source": [
        "extra_urls = [r'/content/drive/My Drive/9periodo/Recuperação de Informação/SITES BAIXADOS (Cris)/Extra/Positivas/Aromaterapia e as Emoções - Como Usar Óleos Essenciais Para Equilibrar o Corpo e a Mente - Especialidades Médicas no Extra.com.br.html',\n",
        "              r'/content/drive/My Drive/9periodo/Recuperação de Informação/SITES BAIXADOS (Cris)/Extra/Positivas/Livro - Once Upon A Time - Irmãos Grimm - Juvenil no Extra.com.br.html',\n",
        "              r'/content/drive/My Drive/9periodo/Recuperação de Informação/SITES BAIXADOS (Cris)/Extra/Positivas/Livro - Os Miseráveis - Walcyr Carrasco - Juvenil no Extra.com.br.html',\n",
        "              r'/content/drive/My Drive/9periodo/Recuperação de Informação/SITES BAIXADOS (Cris)/Extra/Positivas/Livro - Panelinha - Receitas Que Funcionam - Rita Lobo - Culinária no Extra.com.br.html',\n",
        "              r'/content/drive/My Drive/9periodo/Recuperação de Informação/SITES BAIXADOS (Cris)/Extra/Positivas/Livro - A Pequena Filosofia da Mafalda - Vamos à Sopa - Joaquim Salvador Lavado (Quino) - Infantis no Extra.com.br.html',\n",
        "              r'/content/drive/My Drive/9periodo/Recuperação de Informação/SITES BAIXADOS (Cris)/Extra/Positivas/Livro - A Seleção_ 35 Garotas e uma Coroa - Volume 1 - Kiera Cass - Juvenil no Extra.com.br.html',\n",
        "              r'/content/drive/My Drive/9periodo/Recuperação de Informação/SITES BAIXADOS (Cris)/Extra/Positivas/Livro - Como Eu Era Antes de Você - Jojo Moyes - Romance no Extra.com.br.html',\n",
        "              r'/content/drive/My Drive/9periodo/Recuperação de Informação/SITES BAIXADOS (Cris)/Extra/Positivas/Livro - Elas Podem... e Devem - o Livro que vai Mexer com Você - Flaviane Brandemberg - Sexologia no Extra.com.br.html',\n",
        "              r'/content/drive/My Drive/9periodo/Recuperação de Informação/SITES BAIXADOS (Cris)/Extra/Positivas/Livro - Em Busca de Sentido - Um Psicólogo no Campo de Concentração - Psicologia no Extra.com.br.html',\n",
        "              r'/content/drive/My Drive/9periodo/Recuperação de Informação/SITES BAIXADOS (Cris)/Extra/Positivas/Livro - Eu, Fernando Pessoa - em Quadrinhos - Susana Ventura - Quadrinhos Adultos no Extra.com.br.html']"
      ],
      "execution_count": 0,
      "outputs": []
    },
    {
      "cell_type": "code",
      "metadata": {
        "id": "t2gZWfJsLdOv",
        "colab_type": "code",
        "outputId": "ad805b38-1481-44fe-e3f2-3e3932588c75",
        "colab": {
          "base_uri": "https://localhost:8080/",
          "height": 1000
        }
      },
      "source": [
        "frames = []\n",
        "for url in extra_urls:\n",
        "  print(url)\n",
        "  frames.append(extra_single(url))\n",
        "  print('\\n')"
      ],
      "execution_count": 0,
      "outputs": [
        {
          "output_type": "stream",
          "text": [
            "/content/drive/My Drive/9periodo/Recuperação de Informação/SITES BAIXADOS (Cris)/Extra/Positivas/Aromaterapia e as Emoções - Como Usar Óleos Essenciais Para Equilibrar o Corpo e a Mente - Especialidades Médicas no Extra.com.br.html\n"
          ],
          "name": "stdout"
        },
        {
          "output_type": "display_data",
          "data": {
            "text/html": [
              "<div>\n",
              "<style scoped>\n",
              "    .dataframe tbody tr th:only-of-type {\n",
              "        vertical-align: middle;\n",
              "    }\n",
              "\n",
              "    .dataframe tbody tr th {\n",
              "        vertical-align: top;\n",
              "    }\n",
              "\n",
              "    .dataframe thead th {\n",
              "        text-align: right;\n",
              "    }\n",
              "</style>\n",
              "<table border=\"1\" class=\"dataframe\">\n",
              "  <thead>\n",
              "    <tr style=\"text-align: right;\">\n",
              "      <th></th>\n",
              "      <th>Loja</th>\n",
              "      <th>Título</th>\n",
              "      <th>Autor</th>\n",
              "      <th>Nº Páginas</th>\n",
              "      <th>Editora</th>\n",
              "      <th>Idioma</th>\n",
              "      <th>Acabamento</th>\n",
              "      <th>ISBN</th>\n",
              "    </tr>\n",
              "  </thead>\n",
              "  <tbody>\n",
              "    <tr>\n",
              "      <th>0</th>\n",
              "      <td>Extra</td>\n",
              "      <td>Aromaterapia e as Emoções: Como Usar Óleos Ess...</td>\n",
              "      <td>Shirley Price</td>\n",
              "      <td>322</td>\n",
              "      <td>Bertrand</td>\n",
              "      <td>Português</td>\n",
              "      <td>Brochura</td>\n",
              "      <td>9788528608519</td>\n",
              "    </tr>\n",
              "  </tbody>\n",
              "</table>\n",
              "</div>"
            ],
            "text/plain": [
              "    Loja  ...           ISBN\n",
              "0  Extra  ...  9788528608519\n",
              "\n",
              "[1 rows x 8 columns]"
            ]
          },
          "metadata": {
            "tags": []
          }
        },
        {
          "output_type": "stream",
          "text": [
            "\n",
            "\n",
            "/content/drive/My Drive/9periodo/Recuperação de Informação/SITES BAIXADOS (Cris)/Extra/Positivas/Livro - Once Upon A Time - Irmãos Grimm - Juvenil no Extra.com.br.html\n"
          ],
          "name": "stdout"
        },
        {
          "output_type": "display_data",
          "data": {
            "text/html": [
              "<div>\n",
              "<style scoped>\n",
              "    .dataframe tbody tr th:only-of-type {\n",
              "        vertical-align: middle;\n",
              "    }\n",
              "\n",
              "    .dataframe tbody tr th {\n",
              "        vertical-align: top;\n",
              "    }\n",
              "\n",
              "    .dataframe thead th {\n",
              "        text-align: right;\n",
              "    }\n",
              "</style>\n",
              "<table border=\"1\" class=\"dataframe\">\n",
              "  <thead>\n",
              "    <tr style=\"text-align: right;\">\n",
              "      <th></th>\n",
              "      <th>Loja</th>\n",
              "      <th>Título</th>\n",
              "      <th>Autor</th>\n",
              "      <th>Nº Páginas</th>\n",
              "      <th>Editora</th>\n",
              "      <th>Idioma</th>\n",
              "      <th>Acabamento</th>\n",
              "      <th>ISBN</th>\n",
              "    </tr>\n",
              "  </thead>\n",
              "  <tbody>\n",
              "    <tr>\n",
              "      <th>0</th>\n",
              "      <td>Extra</td>\n",
              "      <td>Livro - Once Upon A Time - Irmãos Grimm</td>\n",
              "      <td>Irmãos Grimm</td>\n",
              "      <td>272</td>\n",
              "      <td>Planeta</td>\n",
              "      <td>Português</td>\n",
              "      <td>Brochura</td>\n",
              "      <td>9788542203080</td>\n",
              "    </tr>\n",
              "  </tbody>\n",
              "</table>\n",
              "</div>"
            ],
            "text/plain": [
              "    Loja                                   Título  ... Acabamento           ISBN\n",
              "0  Extra  Livro - Once Upon A Time - Irmãos Grimm  ...   Brochura  9788542203080\n",
              "\n",
              "[1 rows x 8 columns]"
            ]
          },
          "metadata": {
            "tags": []
          }
        },
        {
          "output_type": "stream",
          "text": [
            "\n",
            "\n",
            "/content/drive/My Drive/9periodo/Recuperação de Informação/SITES BAIXADOS (Cris)/Extra/Positivas/Livro - Os Miseráveis - Walcyr Carrasco - Juvenil no Extra.com.br.html\n"
          ],
          "name": "stdout"
        },
        {
          "output_type": "display_data",
          "data": {
            "text/html": [
              "<div>\n",
              "<style scoped>\n",
              "    .dataframe tbody tr th:only-of-type {\n",
              "        vertical-align: middle;\n",
              "    }\n",
              "\n",
              "    .dataframe tbody tr th {\n",
              "        vertical-align: top;\n",
              "    }\n",
              "\n",
              "    .dataframe thead th {\n",
              "        text-align: right;\n",
              "    }\n",
              "</style>\n",
              "<table border=\"1\" class=\"dataframe\">\n",
              "  <thead>\n",
              "    <tr style=\"text-align: right;\">\n",
              "      <th></th>\n",
              "      <th>Loja</th>\n",
              "      <th>Título</th>\n",
              "      <th>Autor</th>\n",
              "      <th>Nº Páginas</th>\n",
              "      <th>Editora</th>\n",
              "      <th>Idioma</th>\n",
              "      <th>Acabamento</th>\n",
              "      <th>ISBN</th>\n",
              "    </tr>\n",
              "  </thead>\n",
              "  <tbody>\n",
              "    <tr>\n",
              "      <th>0</th>\n",
              "      <td>Extra</td>\n",
              "      <td>Livro - Os Miseráveis - Walcyr Carrasco</td>\n",
              "      <td>Walcyr Carrasco; Victor Hugo</td>\n",
              "      <td>214</td>\n",
              "      <td>Moderna</td>\n",
              "      <td>Português</td>\n",
              "      <td>Brochura</td>\n",
              "      <td>8516079732</td>\n",
              "    </tr>\n",
              "  </tbody>\n",
              "</table>\n",
              "</div>"
            ],
            "text/plain": [
              "    Loja                                   Título  ... Acabamento        ISBN\n",
              "0  Extra  Livro - Os Miseráveis - Walcyr Carrasco  ...   Brochura  8516079732\n",
              "\n",
              "[1 rows x 8 columns]"
            ]
          },
          "metadata": {
            "tags": []
          }
        },
        {
          "output_type": "stream",
          "text": [
            "\n",
            "\n",
            "/content/drive/My Drive/9periodo/Recuperação de Informação/SITES BAIXADOS (Cris)/Extra/Positivas/Livro - Panelinha - Receitas Que Funcionam - Rita Lobo - Culinária no Extra.com.br.html\n"
          ],
          "name": "stdout"
        },
        {
          "output_type": "display_data",
          "data": {
            "text/html": [
              "<div>\n",
              "<style scoped>\n",
              "    .dataframe tbody tr th:only-of-type {\n",
              "        vertical-align: middle;\n",
              "    }\n",
              "\n",
              "    .dataframe tbody tr th {\n",
              "        vertical-align: top;\n",
              "    }\n",
              "\n",
              "    .dataframe thead th {\n",
              "        text-align: right;\n",
              "    }\n",
              "</style>\n",
              "<table border=\"1\" class=\"dataframe\">\n",
              "  <thead>\n",
              "    <tr style=\"text-align: right;\">\n",
              "      <th></th>\n",
              "      <th>Loja</th>\n",
              "      <th>Título</th>\n",
              "      <th>Autor</th>\n",
              "      <th>Nº Páginas</th>\n",
              "      <th>Editora</th>\n",
              "      <th>Idioma</th>\n",
              "      <th>Acabamento</th>\n",
              "      <th>ISBN</th>\n",
              "    </tr>\n",
              "  </thead>\n",
              "  <tbody>\n",
              "    <tr>\n",
              "      <th>0</th>\n",
              "      <td>Extra</td>\n",
              "      <td>Livro - Panelinha - Receitas Que Funcionam - R...</td>\n",
              "      <td>Rita Lobo</td>\n",
              "      <td>400</td>\n",
              "      <td>Senac</td>\n",
              "      <td>Português</td>\n",
              "      <td>Brochura</td>\n",
              "      <td>8539602776</td>\n",
              "    </tr>\n",
              "  </tbody>\n",
              "</table>\n",
              "</div>"
            ],
            "text/plain": [
              "    Loja  ...        ISBN\n",
              "0  Extra  ...  8539602776\n",
              "\n",
              "[1 rows x 8 columns]"
            ]
          },
          "metadata": {
            "tags": []
          }
        },
        {
          "output_type": "stream",
          "text": [
            "\n",
            "\n",
            "/content/drive/My Drive/9periodo/Recuperação de Informação/SITES BAIXADOS (Cris)/Extra/Positivas/Livro - A Pequena Filosofia da Mafalda - Vamos à Sopa - Joaquim Salvador Lavado (Quino) - Infantis no Extra.com.br.html\n"
          ],
          "name": "stdout"
        },
        {
          "output_type": "display_data",
          "data": {
            "text/html": [
              "<div>\n",
              "<style scoped>\n",
              "    .dataframe tbody tr th:only-of-type {\n",
              "        vertical-align: middle;\n",
              "    }\n",
              "\n",
              "    .dataframe tbody tr th {\n",
              "        vertical-align: top;\n",
              "    }\n",
              "\n",
              "    .dataframe thead th {\n",
              "        text-align: right;\n",
              "    }\n",
              "</style>\n",
              "<table border=\"1\" class=\"dataframe\">\n",
              "  <thead>\n",
              "    <tr style=\"text-align: right;\">\n",
              "      <th></th>\n",
              "      <th>Loja</th>\n",
              "      <th>Título</th>\n",
              "      <th>Autor</th>\n",
              "      <th>Nº Páginas</th>\n",
              "      <th>Editora</th>\n",
              "      <th>Idioma</th>\n",
              "      <th>Acabamento</th>\n",
              "      <th>ISBN</th>\n",
              "    </tr>\n",
              "  </thead>\n",
              "  <tbody>\n",
              "    <tr>\n",
              "      <th>0</th>\n",
              "      <td>Extra</td>\n",
              "      <td>Livro - A Pequena Filosofia da Mafalda - Vamos...</td>\n",
              "      <td>Joaquim Salvador Lavado (Quino)</td>\n",
              "      <td>36</td>\n",
              "      <td>Martins</td>\n",
              "      <td>Português</td>\n",
              "      <td>Brochura</td>\n",
              "      <td>9788580632156</td>\n",
              "    </tr>\n",
              "  </tbody>\n",
              "</table>\n",
              "</div>"
            ],
            "text/plain": [
              "    Loja  ...           ISBN\n",
              "0  Extra  ...  9788580632156\n",
              "\n",
              "[1 rows x 8 columns]"
            ]
          },
          "metadata": {
            "tags": []
          }
        },
        {
          "output_type": "stream",
          "text": [
            "\n",
            "\n",
            "/content/drive/My Drive/9periodo/Recuperação de Informação/SITES BAIXADOS (Cris)/Extra/Positivas/Livro - A Seleção_ 35 Garotas e uma Coroa - Volume 1 - Kiera Cass - Juvenil no Extra.com.br.html\n"
          ],
          "name": "stdout"
        },
        {
          "output_type": "display_data",
          "data": {
            "text/html": [
              "<div>\n",
              "<style scoped>\n",
              "    .dataframe tbody tr th:only-of-type {\n",
              "        vertical-align: middle;\n",
              "    }\n",
              "\n",
              "    .dataframe tbody tr th {\n",
              "        vertical-align: top;\n",
              "    }\n",
              "\n",
              "    .dataframe thead th {\n",
              "        text-align: right;\n",
              "    }\n",
              "</style>\n",
              "<table border=\"1\" class=\"dataframe\">\n",
              "  <thead>\n",
              "    <tr style=\"text-align: right;\">\n",
              "      <th></th>\n",
              "      <th>Loja</th>\n",
              "      <th>Título</th>\n",
              "      <th>Autor</th>\n",
              "      <th>Nº Páginas</th>\n",
              "      <th>Editora</th>\n",
              "      <th>Idioma</th>\n",
              "      <th>Acabamento</th>\n",
              "      <th>ISBN</th>\n",
              "    </tr>\n",
              "  </thead>\n",
              "  <tbody>\n",
              "    <tr>\n",
              "      <th>0</th>\n",
              "      <td>Extra</td>\n",
              "      <td>Livro - A Seleção: 35 Garotas e uma Coroa - Vo...</td>\n",
              "      <td>Kiera Cass</td>\n",
              "      <td>368</td>\n",
              "      <td>Seguinte</td>\n",
              "      <td>Português</td>\n",
              "      <td>Brochura</td>\n",
              "      <td>9788565765015</td>\n",
              "    </tr>\n",
              "  </tbody>\n",
              "</table>\n",
              "</div>"
            ],
            "text/plain": [
              "    Loja  ...           ISBN\n",
              "0  Extra  ...  9788565765015\n",
              "\n",
              "[1 rows x 8 columns]"
            ]
          },
          "metadata": {
            "tags": []
          }
        },
        {
          "output_type": "stream",
          "text": [
            "\n",
            "\n",
            "/content/drive/My Drive/9periodo/Recuperação de Informação/SITES BAIXADOS (Cris)/Extra/Positivas/Livro - Como Eu Era Antes de Você - Jojo Moyes - Romance no Extra.com.br.html\n"
          ],
          "name": "stdout"
        },
        {
          "output_type": "display_data",
          "data": {
            "text/html": [
              "<div>\n",
              "<style scoped>\n",
              "    .dataframe tbody tr th:only-of-type {\n",
              "        vertical-align: middle;\n",
              "    }\n",
              "\n",
              "    .dataframe tbody tr th {\n",
              "        vertical-align: top;\n",
              "    }\n",
              "\n",
              "    .dataframe thead th {\n",
              "        text-align: right;\n",
              "    }\n",
              "</style>\n",
              "<table border=\"1\" class=\"dataframe\">\n",
              "  <thead>\n",
              "    <tr style=\"text-align: right;\">\n",
              "      <th></th>\n",
              "      <th>Loja</th>\n",
              "      <th>Título</th>\n",
              "      <th>Autor</th>\n",
              "      <th>Nº Páginas</th>\n",
              "      <th>Editora</th>\n",
              "      <th>Idioma</th>\n",
              "      <th>Acabamento</th>\n",
              "      <th>ISBN</th>\n",
              "    </tr>\n",
              "  </thead>\n",
              "  <tbody>\n",
              "    <tr>\n",
              "      <th>0</th>\n",
              "      <td>Extra</td>\n",
              "      <td>Livro - Como Eu Era Antes de Você - Jojo Moyes</td>\n",
              "      <td>Jojo Moyes</td>\n",
              "      <td>320</td>\n",
              "      <td>Intrínseca</td>\n",
              "      <td>Português</td>\n",
              "      <td>Brochura</td>\n",
              "      <td>8580573297</td>\n",
              "    </tr>\n",
              "  </tbody>\n",
              "</table>\n",
              "</div>"
            ],
            "text/plain": [
              "    Loja                                          Título  ... Acabamento        ISBN\n",
              "0  Extra  Livro - Como Eu Era Antes de Você - Jojo Moyes  ...   Brochura  8580573297\n",
              "\n",
              "[1 rows x 8 columns]"
            ]
          },
          "metadata": {
            "tags": []
          }
        },
        {
          "output_type": "stream",
          "text": [
            "\n",
            "\n",
            "/content/drive/My Drive/9periodo/Recuperação de Informação/SITES BAIXADOS (Cris)/Extra/Positivas/Livro - Elas Podem... e Devem - o Livro que vai Mexer com Você - Flaviane Brandemberg - Sexologia no Extra.com.br.html\n"
          ],
          "name": "stdout"
        },
        {
          "output_type": "display_data",
          "data": {
            "text/html": [
              "<div>\n",
              "<style scoped>\n",
              "    .dataframe tbody tr th:only-of-type {\n",
              "        vertical-align: middle;\n",
              "    }\n",
              "\n",
              "    .dataframe tbody tr th {\n",
              "        vertical-align: top;\n",
              "    }\n",
              "\n",
              "    .dataframe thead th {\n",
              "        text-align: right;\n",
              "    }\n",
              "</style>\n",
              "<table border=\"1\" class=\"dataframe\">\n",
              "  <thead>\n",
              "    <tr style=\"text-align: right;\">\n",
              "      <th></th>\n",
              "      <th>Loja</th>\n",
              "      <th>Título</th>\n",
              "      <th>Autor</th>\n",
              "      <th>Nº Páginas</th>\n",
              "      <th>Editora</th>\n",
              "      <th>Idioma</th>\n",
              "      <th>Acabamento</th>\n",
              "      <th>ISBN</th>\n",
              "    </tr>\n",
              "  </thead>\n",
              "  <tbody>\n",
              "    <tr>\n",
              "      <th>0</th>\n",
              "      <td>Extra</td>\n",
              "      <td>Livro - Elas Podem... e Devem: o Livro que vai...</td>\n",
              "      <td>Flaviane Brandemberg</td>\n",
              "      <td>114</td>\n",
              "      <td>Ser</td>\n",
              "      <td>Português</td>\n",
              "      <td>Brochura</td>\n",
              "      <td>8563178393</td>\n",
              "    </tr>\n",
              "  </tbody>\n",
              "</table>\n",
              "</div>"
            ],
            "text/plain": [
              "    Loja  ...        ISBN\n",
              "0  Extra  ...  8563178393\n",
              "\n",
              "[1 rows x 8 columns]"
            ]
          },
          "metadata": {
            "tags": []
          }
        },
        {
          "output_type": "stream",
          "text": [
            "\n",
            "\n",
            "/content/drive/My Drive/9periodo/Recuperação de Informação/SITES BAIXADOS (Cris)/Extra/Positivas/Livro - Em Busca de Sentido - Um Psicólogo no Campo de Concentração - Psicologia no Extra.com.br.html\n"
          ],
          "name": "stdout"
        },
        {
          "output_type": "display_data",
          "data": {
            "text/html": [
              "<div>\n",
              "<style scoped>\n",
              "    .dataframe tbody tr th:only-of-type {\n",
              "        vertical-align: middle;\n",
              "    }\n",
              "\n",
              "    .dataframe tbody tr th {\n",
              "        vertical-align: top;\n",
              "    }\n",
              "\n",
              "    .dataframe thead th {\n",
              "        text-align: right;\n",
              "    }\n",
              "</style>\n",
              "<table border=\"1\" class=\"dataframe\">\n",
              "  <thead>\n",
              "    <tr style=\"text-align: right;\">\n",
              "      <th></th>\n",
              "      <th>Loja</th>\n",
              "      <th>Título</th>\n",
              "      <th>Autor</th>\n",
              "      <th>Nº Páginas</th>\n",
              "      <th>Editora</th>\n",
              "      <th>Idioma</th>\n",
              "      <th>Acabamento</th>\n",
              "      <th>ISBN</th>\n",
              "    </tr>\n",
              "  </thead>\n",
              "  <tbody>\n",
              "    <tr>\n",
              "      <th>0</th>\n",
              "      <td>Extra</td>\n",
              "      <td>Livro - Em Busca de Sentido: Um Psicólogo no C...</td>\n",
              "      <td>Viktor E. Frankl</td>\n",
              "      <td>186</td>\n",
              "      <td>Vozes</td>\n",
              "      <td>Português</td>\n",
              "      <td>Brochura</td>\n",
              "      <td>8532606261</td>\n",
              "    </tr>\n",
              "  </tbody>\n",
              "</table>\n",
              "</div>"
            ],
            "text/plain": [
              "    Loja  ...        ISBN\n",
              "0  Extra  ...  8532606261\n",
              "\n",
              "[1 rows x 8 columns]"
            ]
          },
          "metadata": {
            "tags": []
          }
        },
        {
          "output_type": "stream",
          "text": [
            "\n",
            "\n",
            "/content/drive/My Drive/9periodo/Recuperação de Informação/SITES BAIXADOS (Cris)/Extra/Positivas/Livro - Eu, Fernando Pessoa - em Quadrinhos - Susana Ventura - Quadrinhos Adultos no Extra.com.br.html\n"
          ],
          "name": "stdout"
        },
        {
          "output_type": "display_data",
          "data": {
            "text/html": [
              "<div>\n",
              "<style scoped>\n",
              "    .dataframe tbody tr th:only-of-type {\n",
              "        vertical-align: middle;\n",
              "    }\n",
              "\n",
              "    .dataframe tbody tr th {\n",
              "        vertical-align: top;\n",
              "    }\n",
              "\n",
              "    .dataframe thead th {\n",
              "        text-align: right;\n",
              "    }\n",
              "</style>\n",
              "<table border=\"1\" class=\"dataframe\">\n",
              "  <thead>\n",
              "    <tr style=\"text-align: right;\">\n",
              "      <th></th>\n",
              "      <th>Loja</th>\n",
              "      <th>Título</th>\n",
              "      <th>Autor</th>\n",
              "      <th>Nº Páginas</th>\n",
              "      <th>Editora</th>\n",
              "      <th>Idioma</th>\n",
              "      <th>Acabamento</th>\n",
              "      <th>ISBN</th>\n",
              "    </tr>\n",
              "  </thead>\n",
              "  <tbody>\n",
              "    <tr>\n",
              "      <th>0</th>\n",
              "      <td>Extra</td>\n",
              "      <td>Livro - Eu, Fernando Pessoa: em Quadrinhos - S...</td>\n",
              "      <td>Susana Ventura</td>\n",
              "      <td>72</td>\n",
              "      <td>Peirópolis</td>\n",
              "      <td>Português</td>\n",
              "      <td>Brochura</td>\n",
              "      <td>9788575963050</td>\n",
              "    </tr>\n",
              "  </tbody>\n",
              "</table>\n",
              "</div>"
            ],
            "text/plain": [
              "    Loja  ...           ISBN\n",
              "0  Extra  ...  9788575963050\n",
              "\n",
              "[1 rows x 8 columns]"
            ]
          },
          "metadata": {
            "tags": []
          }
        },
        {
          "output_type": "stream",
          "text": [
            "\n",
            "\n"
          ],
          "name": "stdout"
        }
      ]
    },
    {
      "cell_type": "markdown",
      "metadata": {
        "id": "UAcv90pUjF_Q",
        "colab_type": "text"
      },
      "source": [
        "##7. Cultura"
      ]
    },
    {
      "cell_type": "code",
      "metadata": {
        "id": "3rGXyR7cvsq1",
        "colab_type": "code",
        "colab": {}
      },
      "source": [
        "def cultura_single(site):\n",
        "  soup = bs(open(site),\"html.parser\")\n",
        "\n",
        "  title = soup.find('h1', {'class':'title'}).text\n",
        "\n",
        "  author = soup.find('ul', {'class':'info'}).a.text\n",
        "\n",
        "  infos = soup.find('ul', {'id':'product-list-detail'}).find_all('li')\n",
        "  infos = [(re.sub('\\n|<.*?>|\\\\n|:', '', str(item))).split() for item in infos] \n",
        "\n",
        "  isbn = [info[i+1] for info in infos  for i in range(len(info)) if info[i] == 'ISBN'][0]\n",
        "\n",
        "  language = [info[i+1] for info in infos  for i in range(len(info)) if info[i] == 'Idioma'][0]\n",
        "\n",
        "  n_pages = [info[i+1] for info in infos for i in range(len(info)) if info[i] == 'Páginas'][0]\n",
        "\n",
        "  publishing = [info[i+1] for info in infos for i in range(len(info)) if info[i] == 'Editora'][0]\n",
        "\n",
        "  binding = [info[i+1] for info in infos for i in range(len(info)) if info[i] == 'Encadernação'][0]\n",
        "\n",
        "  host = 'Livraria Cultura'\n",
        "\n",
        "  create_df(host, title, author, n_pages, publishing, language, binding, isbn)"
      ],
      "execution_count": 0,
      "outputs": []
    },
    {
      "cell_type": "code",
      "metadata": {
        "colab_type": "code",
        "id": "PQANn-WYwlBE",
        "colab": {}
      },
      "source": [
        "cultura_urls = [r'/content/drive/My Drive/9periodo/Recuperação de Informação/SITES BAIXADOS (Cris)/Livaria Cultura/Positivas/Livro - MAIS ESPERTO QUE O DIABO - Livraria Cultura.html',\n",
        "                r'/content/drive/My Drive/9periodo/Recuperação de Informação/SITES BAIXADOS (Cris)/Livaria Cultura/Positivas/Livro - O CAIBALION - Livraria Cultura.html',\n",
        "                r'/content/drive/My Drive/9periodo/Recuperação de Informação/SITES BAIXADOS (Cris)/Livaria Cultura/Positivas/Livro - O PODER DO HÁBITO - Livraria Cultura.html',\n",
        "                r'/content/drive/My Drive/9periodo/Recuperação de Informação/SITES BAIXADOS (Cris)/Livaria Cultura/Positivas/Livro - QUEM PENSA ENRIQUECE - Livraria Cultura.html',\n",
        "                r'/content/drive/My Drive/9periodo/Recuperação de Informação/SITES BAIXADOS (Cris)/Livaria Cultura/Positivas/Livro - SOCIEDADE DO CANSAÇO - Livraria Cultura.html',\n",
        "                r'/content/drive/My Drive/9periodo/Recuperação de Informação/SITES BAIXADOS (Cris)/Livaria Cultura/Positivas/Livro GESTALT-TERAPIA - FUNDAMENTOS EPISTEMOLOGICOS | Livraria Cultura.html',\n",
        "                r'/content/drive/My Drive/9periodo/Recuperação de Informação/SITES BAIXADOS (Cris)/Livaria Cultura/Positivas/Livro INTRODUÇAO A ALGEBRA LINEAR COM APLICAÇOES | Livraria Cultura.html',\n",
        "                r'/content/drive/My Drive/9periodo/Recuperação de Informação/SITES BAIXADOS (Cris)/Livaria Cultura/Positivas/Livro O DIÁRIO DE ANNE FRANK | Livraria Cultura.html',\n",
        "                r'/content/drive/My Drive/9periodo/Recuperação de Informação/SITES BAIXADOS (Cris)/Livaria Cultura/Positivas/Livro O MUNDO SEGUNDO FELIPE NETO | Livraria Cultura.html',\n",
        "                r'/content/drive/My Drive/9periodo/Recuperação de Informação/SITES BAIXADOS (Cris)/Livaria Cultura/Positivas/Livro O PEQUENO PRINCIPE (LIVRO DE BOLSO) | Livraria Cultura.html',\n",
        "                r'/content/drive/My Drive/9periodo/Recuperação de Informação/SITES BAIXADOS (Cris)/Livaria Cultura/Positivas/Livro PRÓLOGO, ATO, EPÍLOGO | Livraria Cultura.html',\n",
        "                r'/content/drive/My Drive/9periodo/Recuperação de Informação/SITES BAIXADOS (Cris)/Livaria Cultura/Positivas/Livro QUEM PENSA ENRIQUECE | Livraria Cultura.html']"
      ],
      "execution_count": 0,
      "outputs": []
    },
    {
      "cell_type": "code",
      "metadata": {
        "id": "widj_x40xFvj",
        "colab_type": "code",
        "outputId": "1b7688cd-3581-4556-9e39-98e3dec7cb9b",
        "colab": {
          "base_uri": "https://localhost:8080/",
          "height": 1000
        }
      },
      "source": [
        "for url in cultura_urls:\n",
        "  print(url)\n",
        "  cultura_single(url)\n",
        "  print('\\n')"
      ],
      "execution_count": 0,
      "outputs": [
        {
          "output_type": "stream",
          "text": [
            "/content/drive/My Drive/9periodo/Recuperação de Informação/SITES BAIXADOS (Cris)/Livaria Cultura/Positivas/Livro - MAIS ESPERTO QUE O DIABO - Livraria Cultura.html\n"
          ],
          "name": "stdout"
        },
        {
          "output_type": "display_data",
          "data": {
            "text/html": [
              "<div>\n",
              "<style scoped>\n",
              "    .dataframe tbody tr th:only-of-type {\n",
              "        vertical-align: middle;\n",
              "    }\n",
              "\n",
              "    .dataframe tbody tr th {\n",
              "        vertical-align: top;\n",
              "    }\n",
              "\n",
              "    .dataframe thead th {\n",
              "        text-align: right;\n",
              "    }\n",
              "</style>\n",
              "<table border=\"1\" class=\"dataframe\">\n",
              "  <thead>\n",
              "    <tr style=\"text-align: right;\">\n",
              "      <th></th>\n",
              "      <th>Loja</th>\n",
              "      <th>Título</th>\n",
              "      <th>Autor</th>\n",
              "      <th>Nº Páginas</th>\n",
              "      <th>Editora</th>\n",
              "      <th>Idioma</th>\n",
              "      <th>Acabamento</th>\n",
              "      <th>ISBN</th>\n",
              "    </tr>\n",
              "  </thead>\n",
              "  <tbody>\n",
              "    <tr>\n",
              "      <th>0</th>\n",
              "      <td>Livraria Cultura</td>\n",
              "      <td>MAIS ESPERTO QUE O DIABO</td>\n",
              "      <td>HILL, NAPOLEON</td>\n",
              "      <td>200</td>\n",
              "      <td>CDG</td>\n",
              "      <td>PORTUGUÊS</td>\n",
              "      <td>BROCHURA</td>\n",
              "      <td>8568014003</td>\n",
              "    </tr>\n",
              "  </tbody>\n",
              "</table>\n",
              "</div>"
            ],
            "text/plain": [
              "               Loja                    Título  ... Acabamento        ISBN\n",
              "0  Livraria Cultura  MAIS ESPERTO QUE O DIABO  ...   BROCHURA  8568014003\n",
              "\n",
              "[1 rows x 8 columns]"
            ]
          },
          "metadata": {
            "tags": []
          }
        },
        {
          "output_type": "stream",
          "text": [
            "\n",
            "\n",
            "/content/drive/My Drive/9periodo/Recuperação de Informação/SITES BAIXADOS (Cris)/Livaria Cultura/Positivas/Livro - O CAIBALION - Livraria Cultura.html\n"
          ],
          "name": "stdout"
        },
        {
          "output_type": "display_data",
          "data": {
            "text/html": [
              "<div>\n",
              "<style scoped>\n",
              "    .dataframe tbody tr th:only-of-type {\n",
              "        vertical-align: middle;\n",
              "    }\n",
              "\n",
              "    .dataframe tbody tr th {\n",
              "        vertical-align: top;\n",
              "    }\n",
              "\n",
              "    .dataframe thead th {\n",
              "        text-align: right;\n",
              "    }\n",
              "</style>\n",
              "<table border=\"1\" class=\"dataframe\">\n",
              "  <thead>\n",
              "    <tr style=\"text-align: right;\">\n",
              "      <th></th>\n",
              "      <th>Loja</th>\n",
              "      <th>Título</th>\n",
              "      <th>Autor</th>\n",
              "      <th>Nº Páginas</th>\n",
              "      <th>Editora</th>\n",
              "      <th>Idioma</th>\n",
              "      <th>Acabamento</th>\n",
              "      <th>ISBN</th>\n",
              "    </tr>\n",
              "  </thead>\n",
              "  <tbody>\n",
              "    <tr>\n",
              "      <th>0</th>\n",
              "      <td>Livraria Cultura</td>\n",
              "      <td>O CAIBALION</td>\n",
              "      <td>TRES INICIADOS</td>\n",
              "      <td>128</td>\n",
              "      <td>PENSAMENTO</td>\n",
              "      <td>PORTUGUÊS</td>\n",
              "      <td>BROCHURA</td>\n",
              "      <td>8531500710</td>\n",
              "    </tr>\n",
              "  </tbody>\n",
              "</table>\n",
              "</div>"
            ],
            "text/plain": [
              "               Loja       Título  ... Acabamento        ISBN\n",
              "0  Livraria Cultura  O CAIBALION  ...   BROCHURA  8531500710\n",
              "\n",
              "[1 rows x 8 columns]"
            ]
          },
          "metadata": {
            "tags": []
          }
        },
        {
          "output_type": "stream",
          "text": [
            "\n",
            "\n",
            "/content/drive/My Drive/9periodo/Recuperação de Informação/SITES BAIXADOS (Cris)/Livaria Cultura/Positivas/Livro - O PODER DO HÁBITO - Livraria Cultura.html\n"
          ],
          "name": "stdout"
        },
        {
          "output_type": "display_data",
          "data": {
            "text/html": [
              "<div>\n",
              "<style scoped>\n",
              "    .dataframe tbody tr th:only-of-type {\n",
              "        vertical-align: middle;\n",
              "    }\n",
              "\n",
              "    .dataframe tbody tr th {\n",
              "        vertical-align: top;\n",
              "    }\n",
              "\n",
              "    .dataframe thead th {\n",
              "        text-align: right;\n",
              "    }\n",
              "</style>\n",
              "<table border=\"1\" class=\"dataframe\">\n",
              "  <thead>\n",
              "    <tr style=\"text-align: right;\">\n",
              "      <th></th>\n",
              "      <th>Loja</th>\n",
              "      <th>Título</th>\n",
              "      <th>Autor</th>\n",
              "      <th>Nº Páginas</th>\n",
              "      <th>Editora</th>\n",
              "      <th>Idioma</th>\n",
              "      <th>Acabamento</th>\n",
              "      <th>ISBN</th>\n",
              "    </tr>\n",
              "  </thead>\n",
              "  <tbody>\n",
              "    <tr>\n",
              "      <th>0</th>\n",
              "      <td>Livraria Cultura</td>\n",
              "      <td>O PODER DO HÁBITO</td>\n",
              "      <td>DUHIGG, CHARLES</td>\n",
              "      <td>408</td>\n",
              "      <td>OBJETIVA</td>\n",
              "      <td>PORTUGUÊS</td>\n",
              "      <td>BROCHURA</td>\n",
              "      <td>8539004119</td>\n",
              "    </tr>\n",
              "  </tbody>\n",
              "</table>\n",
              "</div>"
            ],
            "text/plain": [
              "               Loja             Título  ... Acabamento        ISBN\n",
              "0  Livraria Cultura  O PODER DO HÁBITO  ...   BROCHURA  8539004119\n",
              "\n",
              "[1 rows x 8 columns]"
            ]
          },
          "metadata": {
            "tags": []
          }
        },
        {
          "output_type": "stream",
          "text": [
            "\n",
            "\n",
            "/content/drive/My Drive/9periodo/Recuperação de Informação/SITES BAIXADOS (Cris)/Livaria Cultura/Positivas/Livro - QUEM PENSA ENRIQUECE - Livraria Cultura.html\n"
          ],
          "name": "stdout"
        },
        {
          "output_type": "display_data",
          "data": {
            "text/html": [
              "<div>\n",
              "<style scoped>\n",
              "    .dataframe tbody tr th:only-of-type {\n",
              "        vertical-align: middle;\n",
              "    }\n",
              "\n",
              "    .dataframe tbody tr th {\n",
              "        vertical-align: top;\n",
              "    }\n",
              "\n",
              "    .dataframe thead th {\n",
              "        text-align: right;\n",
              "    }\n",
              "</style>\n",
              "<table border=\"1\" class=\"dataframe\">\n",
              "  <thead>\n",
              "    <tr style=\"text-align: right;\">\n",
              "      <th></th>\n",
              "      <th>Loja</th>\n",
              "      <th>Título</th>\n",
              "      <th>Autor</th>\n",
              "      <th>Nº Páginas</th>\n",
              "      <th>Editora</th>\n",
              "      <th>Idioma</th>\n",
              "      <th>Acabamento</th>\n",
              "      <th>ISBN</th>\n",
              "    </tr>\n",
              "  </thead>\n",
              "  <tbody>\n",
              "    <tr>\n",
              "      <th>0</th>\n",
              "      <td>Livraria Cultura</td>\n",
              "      <td>QUEM PENSA ENRIQUECE</td>\n",
              "      <td>HILL, NAPOLEON</td>\n",
              "      <td>248</td>\n",
              "      <td>FUNDAMENTO</td>\n",
              "      <td>PORTUGUÊS</td>\n",
              "      <td>BROCHURA</td>\n",
              "      <td>8576766302</td>\n",
              "    </tr>\n",
              "  </tbody>\n",
              "</table>\n",
              "</div>"
            ],
            "text/plain": [
              "               Loja                Título  ... Acabamento        ISBN\n",
              "0  Livraria Cultura  QUEM PENSA ENRIQUECE  ...   BROCHURA  8576766302\n",
              "\n",
              "[1 rows x 8 columns]"
            ]
          },
          "metadata": {
            "tags": []
          }
        },
        {
          "output_type": "stream",
          "text": [
            "\n",
            "\n",
            "/content/drive/My Drive/9periodo/Recuperação de Informação/SITES BAIXADOS (Cris)/Livaria Cultura/Positivas/Livro - SOCIEDADE DO CANSAÇO - Livraria Cultura.html\n"
          ],
          "name": "stdout"
        },
        {
          "output_type": "display_data",
          "data": {
            "text/html": [
              "<div>\n",
              "<style scoped>\n",
              "    .dataframe tbody tr th:only-of-type {\n",
              "        vertical-align: middle;\n",
              "    }\n",
              "\n",
              "    .dataframe tbody tr th {\n",
              "        vertical-align: top;\n",
              "    }\n",
              "\n",
              "    .dataframe thead th {\n",
              "        text-align: right;\n",
              "    }\n",
              "</style>\n",
              "<table border=\"1\" class=\"dataframe\">\n",
              "  <thead>\n",
              "    <tr style=\"text-align: right;\">\n",
              "      <th></th>\n",
              "      <th>Loja</th>\n",
              "      <th>Título</th>\n",
              "      <th>Autor</th>\n",
              "      <th>Nº Páginas</th>\n",
              "      <th>Editora</th>\n",
              "      <th>Idioma</th>\n",
              "      <th>Acabamento</th>\n",
              "      <th>ISBN</th>\n",
              "    </tr>\n",
              "  </thead>\n",
              "  <tbody>\n",
              "    <tr>\n",
              "      <th>0</th>\n",
              "      <td>Livraria Cultura</td>\n",
              "      <td>SOCIEDADE DO CANSAÇO</td>\n",
              "      <td>HAN, BYUNG-CHUL</td>\n",
              "      <td>136</td>\n",
              "      <td>VOZES</td>\n",
              "      <td>PORTUGUÊS</td>\n",
              "      <td>BROCHURA</td>\n",
              "      <td>8532649963</td>\n",
              "    </tr>\n",
              "  </tbody>\n",
              "</table>\n",
              "</div>"
            ],
            "text/plain": [
              "               Loja                Título  ... Acabamento        ISBN\n",
              "0  Livraria Cultura  SOCIEDADE DO CANSAÇO  ...   BROCHURA  8532649963\n",
              "\n",
              "[1 rows x 8 columns]"
            ]
          },
          "metadata": {
            "tags": []
          }
        },
        {
          "output_type": "stream",
          "text": [
            "\n",
            "\n",
            "/content/drive/My Drive/9periodo/Recuperação de Informação/SITES BAIXADOS (Cris)/Livaria Cultura/Positivas/Livro GESTALT-TERAPIA - FUNDAMENTOS EPISTEMOLOGICOS | Livraria Cultura.html\n"
          ],
          "name": "stdout"
        },
        {
          "output_type": "display_data",
          "data": {
            "text/html": [
              "<div>\n",
              "<style scoped>\n",
              "    .dataframe tbody tr th:only-of-type {\n",
              "        vertical-align: middle;\n",
              "    }\n",
              "\n",
              "    .dataframe tbody tr th {\n",
              "        vertical-align: top;\n",
              "    }\n",
              "\n",
              "    .dataframe thead th {\n",
              "        text-align: right;\n",
              "    }\n",
              "</style>\n",
              "<table border=\"1\" class=\"dataframe\">\n",
              "  <thead>\n",
              "    <tr style=\"text-align: right;\">\n",
              "      <th></th>\n",
              "      <th>Loja</th>\n",
              "      <th>Título</th>\n",
              "      <th>Autor</th>\n",
              "      <th>Nº Páginas</th>\n",
              "      <th>Editora</th>\n",
              "      <th>Idioma</th>\n",
              "      <th>Acabamento</th>\n",
              "      <th>ISBN</th>\n",
              "    </tr>\n",
              "  </thead>\n",
              "  <tbody>\n",
              "    <tr>\n",
              "      <th>0</th>\n",
              "      <td>Livraria Cultura</td>\n",
              "      <td>GESTALT-TERAPIA - FUNDAMENTOS EPISTEMOLOGICOS</td>\n",
              "      <td>FRAZAO, LILIAN MEYER</td>\n",
              "      <td>184</td>\n",
              "      <td>SUMMUS</td>\n",
              "      <td>PORTUGUÊS</td>\n",
              "      <td>BROCHURA</td>\n",
              "      <td>8532309089</td>\n",
              "    </tr>\n",
              "  </tbody>\n",
              "</table>\n",
              "</div>"
            ],
            "text/plain": [
              "               Loja  ...        ISBN\n",
              "0  Livraria Cultura  ...  8532309089\n",
              "\n",
              "[1 rows x 8 columns]"
            ]
          },
          "metadata": {
            "tags": []
          }
        },
        {
          "output_type": "stream",
          "text": [
            "\n",
            "\n",
            "/content/drive/My Drive/9periodo/Recuperação de Informação/SITES BAIXADOS (Cris)/Livaria Cultura/Positivas/Livro INTRODUÇAO A ALGEBRA LINEAR COM APLICAÇOES | Livraria Cultura.html\n"
          ],
          "name": "stdout"
        },
        {
          "output_type": "display_data",
          "data": {
            "text/html": [
              "<div>\n",
              "<style scoped>\n",
              "    .dataframe tbody tr th:only-of-type {\n",
              "        vertical-align: middle;\n",
              "    }\n",
              "\n",
              "    .dataframe tbody tr th {\n",
              "        vertical-align: top;\n",
              "    }\n",
              "\n",
              "    .dataframe thead th {\n",
              "        text-align: right;\n",
              "    }\n",
              "</style>\n",
              "<table border=\"1\" class=\"dataframe\">\n",
              "  <thead>\n",
              "    <tr style=\"text-align: right;\">\n",
              "      <th></th>\n",
              "      <th>Loja</th>\n",
              "      <th>Título</th>\n",
              "      <th>Autor</th>\n",
              "      <th>Nº Páginas</th>\n",
              "      <th>Editora</th>\n",
              "      <th>Idioma</th>\n",
              "      <th>Acabamento</th>\n",
              "      <th>ISBN</th>\n",
              "    </tr>\n",
              "  </thead>\n",
              "  <tbody>\n",
              "    <tr>\n",
              "      <th>0</th>\n",
              "      <td>Livraria Cultura</td>\n",
              "      <td>INTRODUÇAO A ALGEBRA LINEAR COM APLICAÇOES</td>\n",
              "      <td>KOLMAN, BERNARD</td>\n",
              "      <td>684</td>\n",
              "      <td>LTC</td>\n",
              "      <td>PORTUGUÊS</td>\n",
              "      <td>BROCHURA</td>\n",
              "      <td>8521614780</td>\n",
              "    </tr>\n",
              "  </tbody>\n",
              "</table>\n",
              "</div>"
            ],
            "text/plain": [
              "               Loja  ...        ISBN\n",
              "0  Livraria Cultura  ...  8521614780\n",
              "\n",
              "[1 rows x 8 columns]"
            ]
          },
          "metadata": {
            "tags": []
          }
        },
        {
          "output_type": "stream",
          "text": [
            "\n",
            "\n",
            "/content/drive/My Drive/9periodo/Recuperação de Informação/SITES BAIXADOS (Cris)/Livaria Cultura/Positivas/Livro O DIÁRIO DE ANNE FRANK | Livraria Cultura.html\n"
          ],
          "name": "stdout"
        },
        {
          "output_type": "display_data",
          "data": {
            "text/html": [
              "<div>\n",
              "<style scoped>\n",
              "    .dataframe tbody tr th:only-of-type {\n",
              "        vertical-align: middle;\n",
              "    }\n",
              "\n",
              "    .dataframe tbody tr th {\n",
              "        vertical-align: top;\n",
              "    }\n",
              "\n",
              "    .dataframe thead th {\n",
              "        text-align: right;\n",
              "    }\n",
              "</style>\n",
              "<table border=\"1\" class=\"dataframe\">\n",
              "  <thead>\n",
              "    <tr style=\"text-align: right;\">\n",
              "      <th></th>\n",
              "      <th>Loja</th>\n",
              "      <th>Título</th>\n",
              "      <th>Autor</th>\n",
              "      <th>Nº Páginas</th>\n",
              "      <th>Editora</th>\n",
              "      <th>Idioma</th>\n",
              "      <th>Acabamento</th>\n",
              "      <th>ISBN</th>\n",
              "    </tr>\n",
              "  </thead>\n",
              "  <tbody>\n",
              "    <tr>\n",
              "      <th>0</th>\n",
              "      <td>Livraria Cultura</td>\n",
              "      <td>O DIÁRIO DE ANNE FRANK</td>\n",
              "      <td>FRANK, ANNE</td>\n",
              "      <td>224</td>\n",
              "      <td>PRINCIPIS</td>\n",
              "      <td>PORTUGUÊS</td>\n",
              "      <td>BROCHURA</td>\n",
              "      <td>8594318286</td>\n",
              "    </tr>\n",
              "  </tbody>\n",
              "</table>\n",
              "</div>"
            ],
            "text/plain": [
              "               Loja                  Título  ... Acabamento        ISBN\n",
              "0  Livraria Cultura  O DIÁRIO DE ANNE FRANK  ...   BROCHURA  8594318286\n",
              "\n",
              "[1 rows x 8 columns]"
            ]
          },
          "metadata": {
            "tags": []
          }
        },
        {
          "output_type": "stream",
          "text": [
            "\n",
            "\n",
            "/content/drive/My Drive/9periodo/Recuperação de Informação/SITES BAIXADOS (Cris)/Livaria Cultura/Positivas/Livro O MUNDO SEGUNDO FELIPE NETO | Livraria Cultura.html\n"
          ],
          "name": "stdout"
        },
        {
          "output_type": "display_data",
          "data": {
            "text/html": [
              "<div>\n",
              "<style scoped>\n",
              "    .dataframe tbody tr th:only-of-type {\n",
              "        vertical-align: middle;\n",
              "    }\n",
              "\n",
              "    .dataframe tbody tr th {\n",
              "        vertical-align: top;\n",
              "    }\n",
              "\n",
              "    .dataframe thead th {\n",
              "        text-align: right;\n",
              "    }\n",
              "</style>\n",
              "<table border=\"1\" class=\"dataframe\">\n",
              "  <thead>\n",
              "    <tr style=\"text-align: right;\">\n",
              "      <th></th>\n",
              "      <th>Loja</th>\n",
              "      <th>Título</th>\n",
              "      <th>Autor</th>\n",
              "      <th>Nº Páginas</th>\n",
              "      <th>Editora</th>\n",
              "      <th>Idioma</th>\n",
              "      <th>Acabamento</th>\n",
              "      <th>ISBN</th>\n",
              "    </tr>\n",
              "  </thead>\n",
              "  <tbody>\n",
              "    <tr>\n",
              "      <th>0</th>\n",
              "      <td>Livraria Cultura</td>\n",
              "      <td>O MUNDO SEGUNDO FELIPE NETO</td>\n",
              "      <td>NETO, FELIPE</td>\n",
              "      <td>128</td>\n",
              "      <td>PIXEL</td>\n",
              "      <td>PORTUGUÊS</td>\n",
              "      <td>CAPA</td>\n",
              "      <td>8555462096</td>\n",
              "    </tr>\n",
              "  </tbody>\n",
              "</table>\n",
              "</div>"
            ],
            "text/plain": [
              "               Loja                       Título  ... Acabamento        ISBN\n",
              "0  Livraria Cultura  O MUNDO SEGUNDO FELIPE NETO  ...       CAPA  8555462096\n",
              "\n",
              "[1 rows x 8 columns]"
            ]
          },
          "metadata": {
            "tags": []
          }
        },
        {
          "output_type": "stream",
          "text": [
            "\n",
            "\n",
            "/content/drive/My Drive/9periodo/Recuperação de Informação/SITES BAIXADOS (Cris)/Livaria Cultura/Positivas/Livro O PEQUENO PRINCIPE (LIVRO DE BOLSO) | Livraria Cultura.html\n"
          ],
          "name": "stdout"
        },
        {
          "output_type": "display_data",
          "data": {
            "text/html": [
              "<div>\n",
              "<style scoped>\n",
              "    .dataframe tbody tr th:only-of-type {\n",
              "        vertical-align: middle;\n",
              "    }\n",
              "\n",
              "    .dataframe tbody tr th {\n",
              "        vertical-align: top;\n",
              "    }\n",
              "\n",
              "    .dataframe thead th {\n",
              "        text-align: right;\n",
              "    }\n",
              "</style>\n",
              "<table border=\"1\" class=\"dataframe\">\n",
              "  <thead>\n",
              "    <tr style=\"text-align: right;\">\n",
              "      <th></th>\n",
              "      <th>Loja</th>\n",
              "      <th>Título</th>\n",
              "      <th>Autor</th>\n",
              "      <th>Nº Páginas</th>\n",
              "      <th>Editora</th>\n",
              "      <th>Idioma</th>\n",
              "      <th>Acabamento</th>\n",
              "      <th>ISBN</th>\n",
              "    </tr>\n",
              "  </thead>\n",
              "  <tbody>\n",
              "    <tr>\n",
              "      <th>0</th>\n",
              "      <td>Livraria Cultura</td>\n",
              "      <td>O PEQUENO PRINCIPE (LIVRO DE BOLSO)</td>\n",
              "      <td>SAINT-EXUPERY, ANTOINE DE</td>\n",
              "      <td>96</td>\n",
              "      <td>CAMINHO</td>\n",
              "      <td>PORTUGUÊS</td>\n",
              "      <td>BROCHURA</td>\n",
              "      <td>8589987337</td>\n",
              "    </tr>\n",
              "  </tbody>\n",
              "</table>\n",
              "</div>"
            ],
            "text/plain": [
              "               Loja                               Título  ... Acabamento        ISBN\n",
              "0  Livraria Cultura  O PEQUENO PRINCIPE (LIVRO DE BOLSO)  ...   BROCHURA  8589987337\n",
              "\n",
              "[1 rows x 8 columns]"
            ]
          },
          "metadata": {
            "tags": []
          }
        },
        {
          "output_type": "stream",
          "text": [
            "\n",
            "\n",
            "/content/drive/My Drive/9periodo/Recuperação de Informação/SITES BAIXADOS (Cris)/Livaria Cultura/Positivas/Livro PRÓLOGO, ATO, EPÍLOGO | Livraria Cultura.html\n"
          ],
          "name": "stdout"
        },
        {
          "output_type": "display_data",
          "data": {
            "text/html": [
              "<div>\n",
              "<style scoped>\n",
              "    .dataframe tbody tr th:only-of-type {\n",
              "        vertical-align: middle;\n",
              "    }\n",
              "\n",
              "    .dataframe tbody tr th {\n",
              "        vertical-align: top;\n",
              "    }\n",
              "\n",
              "    .dataframe thead th {\n",
              "        text-align: right;\n",
              "    }\n",
              "</style>\n",
              "<table border=\"1\" class=\"dataframe\">\n",
              "  <thead>\n",
              "    <tr style=\"text-align: right;\">\n",
              "      <th></th>\n",
              "      <th>Loja</th>\n",
              "      <th>Título</th>\n",
              "      <th>Autor</th>\n",
              "      <th>Nº Páginas</th>\n",
              "      <th>Editora</th>\n",
              "      <th>Idioma</th>\n",
              "      <th>Acabamento</th>\n",
              "      <th>ISBN</th>\n",
              "    </tr>\n",
              "  </thead>\n",
              "  <tbody>\n",
              "    <tr>\n",
              "      <th>0</th>\n",
              "      <td>Livraria Cultura</td>\n",
              "      <td>PRÓLOGO, ATO, EPÍLOGO</td>\n",
              "      <td>MONTENEGRO, FERNANDA</td>\n",
              "      <td>328</td>\n",
              "      <td>COMPANHIA</td>\n",
              "      <td>PORTUGUÊS</td>\n",
              "      <td>BROCHURA</td>\n",
              "      <td>8535932550</td>\n",
              "    </tr>\n",
              "  </tbody>\n",
              "</table>\n",
              "</div>"
            ],
            "text/plain": [
              "               Loja                 Título  ... Acabamento        ISBN\n",
              "0  Livraria Cultura  PRÓLOGO, ATO, EPÍLOGO  ...   BROCHURA  8535932550\n",
              "\n",
              "[1 rows x 8 columns]"
            ]
          },
          "metadata": {
            "tags": []
          }
        },
        {
          "output_type": "stream",
          "text": [
            "\n",
            "\n",
            "/content/drive/My Drive/9periodo/Recuperação de Informação/SITES BAIXADOS (Cris)/Livaria Cultura/Positivas/Livro QUEM PENSA ENRIQUECE | Livraria Cultura.html\n"
          ],
          "name": "stdout"
        },
        {
          "output_type": "display_data",
          "data": {
            "text/html": [
              "<div>\n",
              "<style scoped>\n",
              "    .dataframe tbody tr th:only-of-type {\n",
              "        vertical-align: middle;\n",
              "    }\n",
              "\n",
              "    .dataframe tbody tr th {\n",
              "        vertical-align: top;\n",
              "    }\n",
              "\n",
              "    .dataframe thead th {\n",
              "        text-align: right;\n",
              "    }\n",
              "</style>\n",
              "<table border=\"1\" class=\"dataframe\">\n",
              "  <thead>\n",
              "    <tr style=\"text-align: right;\">\n",
              "      <th></th>\n",
              "      <th>Loja</th>\n",
              "      <th>Título</th>\n",
              "      <th>Autor</th>\n",
              "      <th>Nº Páginas</th>\n",
              "      <th>Editora</th>\n",
              "      <th>Idioma</th>\n",
              "      <th>Acabamento</th>\n",
              "      <th>ISBN</th>\n",
              "    </tr>\n",
              "  </thead>\n",
              "  <tbody>\n",
              "    <tr>\n",
              "      <th>0</th>\n",
              "      <td>Livraria Cultura</td>\n",
              "      <td>QUEM PENSA ENRIQUECE</td>\n",
              "      <td>HILL, NAPOLEON</td>\n",
              "      <td>248</td>\n",
              "      <td>FUNDAMENTO</td>\n",
              "      <td>PORTUGUÊS</td>\n",
              "      <td>BROCHURA</td>\n",
              "      <td>8576766302</td>\n",
              "    </tr>\n",
              "  </tbody>\n",
              "</table>\n",
              "</div>"
            ],
            "text/plain": [
              "               Loja                Título  ... Acabamento        ISBN\n",
              "0  Livraria Cultura  QUEM PENSA ENRIQUECE  ...   BROCHURA  8576766302\n",
              "\n",
              "[1 rows x 8 columns]"
            ]
          },
          "metadata": {
            "tags": []
          }
        },
        {
          "output_type": "stream",
          "text": [
            "\n",
            "\n"
          ],
          "name": "stdout"
        }
      ]
    },
    {
      "cell_type": "markdown",
      "metadata": {
        "id": "aajCiOfZxuK_",
        "colab_type": "text"
      },
      "source": [
        "## 8. DISAL"
      ]
    },
    {
      "cell_type": "code",
      "metadata": {
        "id": "8HXE9p5kBqdo",
        "colab_type": "code",
        "colab": {}
      },
      "source": [
        "def disal_single(site):\n",
        "  soup = bs(open(site), 'html.parser')\n",
        "\n",
        "  info_container = soup.find('div', {'class':'book-title'}).contents\n",
        "  info_container = [re.sub('\\n|<.*?>', '', str(info)) for info in info_container]\n",
        "  info_container = [info.strip() for info in info_container if info != '']\n",
        "\n",
        "  author = info_container[1]\n",
        "\n",
        "  title = info_container[0]\n",
        "\n",
        "  publishing = info_container[2]\n",
        "\n",
        "  infos = soup.find('table', {'class':'table table-striped'}).find_all('tr')\n",
        "  infos = [(re.sub('\\n|<.*?>|\\\\n', '', str(item))).split(':') for item in infos]\n",
        "\n",
        "  isbn = [info[i+1] for info in infos  for i in range(len(info)) if info[i] == 'ISBN' or info[i] == 'ISBN 13'][0]\n",
        "\n",
        "  language = [info[i+1] for info in infos  for i in range(len(info)) if info[i] == 'Idioma' or info[i] == 'Idioma '][0]\n",
        "\n",
        "  n_pages = [info[i+1] for info in infos for i in range(len(info)) if info[i] == 'Páginas' or info[i] == 'Número de páginas'][0]\n",
        "\n",
        "  binding = [info[i+1] for info in infos for i in range(len(info)) if info[i] == 'Encadernação' or info[i] == 'Tipo de produto '][0]\n",
        "\n",
        "  host = 'Disal'\n",
        "\n",
        "  create_df(host, title, author, n_pages, publishing, language, binding, isbn)"
      ],
      "execution_count": 0,
      "outputs": []
    },
    {
      "cell_type": "code",
      "metadata": {
        "id": "2XrpdjP9CBU3",
        "colab_type": "code",
        "colab": {}
      },
      "source": [
        "disal_urls = [r'/content/drive/My Drive/9periodo/Recuperação de Informação/SITES BAIXADOS (Cris)/Disal/Positivas/Ambiente E Os Processos De Maturacao, O - 9788573074567.html',\n",
        "              r'/content/drive/My Drive/9periodo/Recuperação de Informação/SITES BAIXADOS (Cris)/Disal/Positivas/Autorretrato E Outras Crônicas - 9788501112330.html',\n",
        "              r'/content/drive/My Drive/9periodo/Recuperação de Informação/SITES BAIXADOS (Cris)/Disal/Positivas/Aventuras Na Netoland Com Luccas Neto - 9788555461002.html',\n",
        "              r'/content/drive/My Drive/9periodo/Recuperação de Informação/SITES BAIXADOS (Cris)/Disal/Positivas/Exames Laboratoriais E Diagnosticos Em Enfermagem - 9o Ed - 9788527726634.html',\n",
        "              r'/content/drive/My Drive/9periodo/Recuperação de Informação/SITES BAIXADOS (Cris)/Disal/Positivas/Fisiologia Endocrina (lange) - 4o Ed - 9788580553918.html',\n",
        "              r'/content/drive/My Drive/9periodo/Recuperação de Informação/SITES BAIXADOS (Cris)/Disal/Positivas/Gestao Hospitalar - Para Uma Administracao Eficaz - 9788527733298.html',\n",
        "              r'/content/drive/My Drive/9periodo/Recuperação de Informação/SITES BAIXADOS (Cris)/Disal/Positivas/Gramatica Da Lingua Portuguesa Para Leigos - 9788550803395.html',\n",
        "              r'/content/drive/My Drive/9periodo/Recuperação de Informação/SITES BAIXADOS (Cris)/Disal/Positivas/Introducao A Analise Matematica - 9788521201687.html',\n",
        "              r'/content/drive/My Drive/9periodo/Recuperação de Informação/SITES BAIXADOS (Cris)/Disal/Positivas/Michaelis Minidicionario Alemao - Alemao-portugues - Portugues-alemao - 9788506078563.html',\n",
        "              r'/content/drive/My Drive/9periodo/Recuperação de Informação/SITES BAIXADOS (Cris)/Disal/Positivas/Michaelis Minidicionario Espanhol - Espanhol-portugues _ Portugues-espanhol - 9788506078532.html',\n",
        "              r'/content/drive/My Drive/9periodo/Recuperação de Informação/SITES BAIXADOS (Cris)/Disal/Positivas/Michaelis Minidicionario Frances - Frances-portugues _ Portugues-frances - 3a Ed - 9788506078549.html']"
      ],
      "execution_count": 0,
      "outputs": []
    },
    {
      "cell_type": "code",
      "metadata": {
        "id": "-hE9vujSCsVK",
        "colab_type": "code",
        "outputId": "83fcb48d-9b4c-4398-8a18-58b847539d32",
        "colab": {
          "base_uri": "https://localhost:8080/",
          "height": 1000
        }
      },
      "source": [
        "for url in disal_urls:\n",
        "  print(url)\n",
        "  disal_single(url)\n",
        "  print('\\n')"
      ],
      "execution_count": 0,
      "outputs": [
        {
          "output_type": "stream",
          "text": [
            "/content/drive/My Drive/9periodo/Recuperação de Informação/SITES BAIXADOS (Cris)/Disal/Positivas/Ambiente E Os Processos De Maturacao, O - 9788573074567.html\n"
          ],
          "name": "stdout"
        },
        {
          "output_type": "display_data",
          "data": {
            "text/html": [
              "<div>\n",
              "<style scoped>\n",
              "    .dataframe tbody tr th:only-of-type {\n",
              "        vertical-align: middle;\n",
              "    }\n",
              "\n",
              "    .dataframe tbody tr th {\n",
              "        vertical-align: top;\n",
              "    }\n",
              "\n",
              "    .dataframe thead th {\n",
              "        text-align: right;\n",
              "    }\n",
              "</style>\n",
              "<table border=\"1\" class=\"dataframe\">\n",
              "  <thead>\n",
              "    <tr style=\"text-align: right;\">\n",
              "      <th></th>\n",
              "      <th>Loja</th>\n",
              "      <th>Título</th>\n",
              "      <th>Autor</th>\n",
              "      <th>Nº Páginas</th>\n",
              "      <th>Editora</th>\n",
              "      <th>Idioma</th>\n",
              "      <th>Acabamento</th>\n",
              "      <th>ISBN</th>\n",
              "    </tr>\n",
              "  </thead>\n",
              "  <tbody>\n",
              "    <tr>\n",
              "      <th>0</th>\n",
              "      <td>Disal</td>\n",
              "      <td>Ambiente E Os Processos De Maturacao, O</td>\n",
              "      <td>Winnicott, Dona</td>\n",
              "      <td>268</td>\n",
              "      <td>Artmed</td>\n",
              "      <td>Português</td>\n",
              "      <td>Livro</td>\n",
              "      <td>9788573074567</td>\n",
              "    </tr>\n",
              "  </tbody>\n",
              "</table>\n",
              "</div>"
            ],
            "text/plain": [
              "    Loja                                   Título  ... Acabamento           ISBN\n",
              "0  Disal  Ambiente E Os Processos De Maturacao, O  ...      Livro  9788573074567\n",
              "\n",
              "[1 rows x 8 columns]"
            ]
          },
          "metadata": {
            "tags": []
          }
        },
        {
          "output_type": "stream",
          "text": [
            "\n",
            "\n",
            "/content/drive/My Drive/9periodo/Recuperação de Informação/SITES BAIXADOS (Cris)/Disal/Positivas/Autorretrato E Outras Crônicas - 9788501112330.html\n"
          ],
          "name": "stdout"
        },
        {
          "output_type": "display_data",
          "data": {
            "text/html": [
              "<div>\n",
              "<style scoped>\n",
              "    .dataframe tbody tr th:only-of-type {\n",
              "        vertical-align: middle;\n",
              "    }\n",
              "\n",
              "    .dataframe tbody tr th {\n",
              "        vertical-align: top;\n",
              "    }\n",
              "\n",
              "    .dataframe thead th {\n",
              "        text-align: right;\n",
              "    }\n",
              "</style>\n",
              "<table border=\"1\" class=\"dataframe\">\n",
              "  <thead>\n",
              "    <tr style=\"text-align: right;\">\n",
              "      <th></th>\n",
              "      <th>Loja</th>\n",
              "      <th>Título</th>\n",
              "      <th>Autor</th>\n",
              "      <th>Nº Páginas</th>\n",
              "      <th>Editora</th>\n",
              "      <th>Idioma</th>\n",
              "      <th>Acabamento</th>\n",
              "      <th>ISBN</th>\n",
              "    </tr>\n",
              "  </thead>\n",
              "  <tbody>\n",
              "    <tr>\n",
              "      <th>0</th>\n",
              "      <td>Disal</td>\n",
              "      <td>Autorretrato E Outras Crônicas</td>\n",
              "      <td>Andrade, Drummond De Andrade</td>\n",
              "      <td>256</td>\n",
              "      <td>Record</td>\n",
              "      <td>Português</td>\n",
              "      <td>Livro</td>\n",
              "      <td>9788501112330</td>\n",
              "    </tr>\n",
              "  </tbody>\n",
              "</table>\n",
              "</div>"
            ],
            "text/plain": [
              "    Loja                          Título  ... Acabamento           ISBN\n",
              "0  Disal  Autorretrato E Outras Crônicas  ...      Livro  9788501112330\n",
              "\n",
              "[1 rows x 8 columns]"
            ]
          },
          "metadata": {
            "tags": []
          }
        },
        {
          "output_type": "stream",
          "text": [
            "\n",
            "\n",
            "/content/drive/My Drive/9periodo/Recuperação de Informação/SITES BAIXADOS (Cris)/Disal/Positivas/Aventuras Na Netoland Com Luccas Neto - 9788555461002.html\n"
          ],
          "name": "stdout"
        },
        {
          "output_type": "display_data",
          "data": {
            "text/html": [
              "<div>\n",
              "<style scoped>\n",
              "    .dataframe tbody tr th:only-of-type {\n",
              "        vertical-align: middle;\n",
              "    }\n",
              "\n",
              "    .dataframe tbody tr th {\n",
              "        vertical-align: top;\n",
              "    }\n",
              "\n",
              "    .dataframe thead th {\n",
              "        text-align: right;\n",
              "    }\n",
              "</style>\n",
              "<table border=\"1\" class=\"dataframe\">\n",
              "  <thead>\n",
              "    <tr style=\"text-align: right;\">\n",
              "      <th></th>\n",
              "      <th>Loja</th>\n",
              "      <th>Título</th>\n",
              "      <th>Autor</th>\n",
              "      <th>Nº Páginas</th>\n",
              "      <th>Editora</th>\n",
              "      <th>Idioma</th>\n",
              "      <th>Acabamento</th>\n",
              "      <th>ISBN</th>\n",
              "    </tr>\n",
              "  </thead>\n",
              "  <tbody>\n",
              "    <tr>\n",
              "      <th>0</th>\n",
              "      <td>Disal</td>\n",
              "      <td>Aventuras Na Netoland Com Luccas Neto</td>\n",
              "      <td>Neto, Luccas</td>\n",
              "      <td>64</td>\n",
              "      <td>Pixel Media (nova Fronteira)</td>\n",
              "      <td>Português</td>\n",
              "      <td>Livro</td>\n",
              "      <td>9788555461002</td>\n",
              "    </tr>\n",
              "  </tbody>\n",
              "</table>\n",
              "</div>"
            ],
            "text/plain": [
              "    Loja                                 Título  ... Acabamento           ISBN\n",
              "0  Disal  Aventuras Na Netoland Com Luccas Neto  ...      Livro  9788555461002\n",
              "\n",
              "[1 rows x 8 columns]"
            ]
          },
          "metadata": {
            "tags": []
          }
        },
        {
          "output_type": "stream",
          "text": [
            "\n",
            "\n",
            "/content/drive/My Drive/9periodo/Recuperação de Informação/SITES BAIXADOS (Cris)/Disal/Positivas/Exames Laboratoriais E Diagnosticos Em Enfermagem - 9o Ed - 9788527726634.html\n"
          ],
          "name": "stdout"
        },
        {
          "output_type": "display_data",
          "data": {
            "text/html": [
              "<div>\n",
              "<style scoped>\n",
              "    .dataframe tbody tr th:only-of-type {\n",
              "        vertical-align: middle;\n",
              "    }\n",
              "\n",
              "    .dataframe tbody tr th {\n",
              "        vertical-align: top;\n",
              "    }\n",
              "\n",
              "    .dataframe thead th {\n",
              "        text-align: right;\n",
              "    }\n",
              "</style>\n",
              "<table border=\"1\" class=\"dataframe\">\n",
              "  <thead>\n",
              "    <tr style=\"text-align: right;\">\n",
              "      <th></th>\n",
              "      <th>Loja</th>\n",
              "      <th>Título</th>\n",
              "      <th>Autor</th>\n",
              "      <th>Nº Páginas</th>\n",
              "      <th>Editora</th>\n",
              "      <th>Idioma</th>\n",
              "      <th>Acabamento</th>\n",
              "      <th>ISBN</th>\n",
              "    </tr>\n",
              "  </thead>\n",
              "  <tbody>\n",
              "    <tr>\n",
              "      <th>0</th>\n",
              "      <td>Disal</td>\n",
              "      <td>Exames Laboratoriais E Diagnosticos Em Enferma...</td>\n",
              "      <td>Fischbach, Frances</td>\n",
              "      <td>732</td>\n",
              "      <td>Guanabara (grupo Gen)</td>\n",
              "      <td>Português</td>\n",
              "      <td>Livro</td>\n",
              "      <td>9788527726634</td>\n",
              "    </tr>\n",
              "  </tbody>\n",
              "</table>\n",
              "</div>"
            ],
            "text/plain": [
              "    Loja  ...           ISBN\n",
              "0  Disal  ...  9788527726634\n",
              "\n",
              "[1 rows x 8 columns]"
            ]
          },
          "metadata": {
            "tags": []
          }
        },
        {
          "output_type": "stream",
          "text": [
            "\n",
            "\n",
            "/content/drive/My Drive/9periodo/Recuperação de Informação/SITES BAIXADOS (Cris)/Disal/Positivas/Fisiologia Endocrina (lange) - 4o Ed - 9788580553918.html\n"
          ],
          "name": "stdout"
        },
        {
          "output_type": "display_data",
          "data": {
            "text/html": [
              "<div>\n",
              "<style scoped>\n",
              "    .dataframe tbody tr th:only-of-type {\n",
              "        vertical-align: middle;\n",
              "    }\n",
              "\n",
              "    .dataframe tbody tr th {\n",
              "        vertical-align: top;\n",
              "    }\n",
              "\n",
              "    .dataframe thead th {\n",
              "        text-align: right;\n",
              "    }\n",
              "</style>\n",
              "<table border=\"1\" class=\"dataframe\">\n",
              "  <thead>\n",
              "    <tr style=\"text-align: right;\">\n",
              "      <th></th>\n",
              "      <th>Loja</th>\n",
              "      <th>Título</th>\n",
              "      <th>Autor</th>\n",
              "      <th>Nº Páginas</th>\n",
              "      <th>Editora</th>\n",
              "      <th>Idioma</th>\n",
              "      <th>Acabamento</th>\n",
              "      <th>ISBN</th>\n",
              "    </tr>\n",
              "  </thead>\n",
              "  <tbody>\n",
              "    <tr>\n",
              "      <th>0</th>\n",
              "      <td>Disal</td>\n",
              "      <td>Fisiologia Endocrina (lange) - 4º Ed</td>\n",
              "      <td>Molina, Patricia E.</td>\n",
              "      <td>309</td>\n",
              "      <td>Mcgraw Hill (artmed)</td>\n",
              "      <td>Português</td>\n",
              "      <td>Livro</td>\n",
              "      <td>9788580553918</td>\n",
              "    </tr>\n",
              "  </tbody>\n",
              "</table>\n",
              "</div>"
            ],
            "text/plain": [
              "    Loja                                Título  ... Acabamento           ISBN\n",
              "0  Disal  Fisiologia Endocrina (lange) - 4º Ed  ...      Livro  9788580553918\n",
              "\n",
              "[1 rows x 8 columns]"
            ]
          },
          "metadata": {
            "tags": []
          }
        },
        {
          "output_type": "stream",
          "text": [
            "\n",
            "\n",
            "/content/drive/My Drive/9periodo/Recuperação de Informação/SITES BAIXADOS (Cris)/Disal/Positivas/Gestao Hospitalar - Para Uma Administracao Eficaz - 9788527733298.html\n"
          ],
          "name": "stdout"
        },
        {
          "output_type": "display_data",
          "data": {
            "text/html": [
              "<div>\n",
              "<style scoped>\n",
              "    .dataframe tbody tr th:only-of-type {\n",
              "        vertical-align: middle;\n",
              "    }\n",
              "\n",
              "    .dataframe tbody tr th {\n",
              "        vertical-align: top;\n",
              "    }\n",
              "\n",
              "    .dataframe thead th {\n",
              "        text-align: right;\n",
              "    }\n",
              "</style>\n",
              "<table border=\"1\" class=\"dataframe\">\n",
              "  <thead>\n",
              "    <tr style=\"text-align: right;\">\n",
              "      <th></th>\n",
              "      <th>Loja</th>\n",
              "      <th>Título</th>\n",
              "      <th>Autor</th>\n",
              "      <th>Nº Páginas</th>\n",
              "      <th>Editora</th>\n",
              "      <th>Idioma</th>\n",
              "      <th>Acabamento</th>\n",
              "      <th>ISBN</th>\n",
              "    </tr>\n",
              "  </thead>\n",
              "  <tbody>\n",
              "    <tr>\n",
              "      <th>0</th>\n",
              "      <td>Disal</td>\n",
              "      <td>Gestao Hospitalar - Para Uma Administracao Eficaz</td>\n",
              "      <td>Malagon-londono, Gustavo</td>\n",
              "      <td>612</td>\n",
              "      <td>Guanabara (grupo Gen)</td>\n",
              "      <td>Português</td>\n",
              "      <td>Livro</td>\n",
              "      <td>9788527733298</td>\n",
              "    </tr>\n",
              "  </tbody>\n",
              "</table>\n",
              "</div>"
            ],
            "text/plain": [
              "    Loja  ...           ISBN\n",
              "0  Disal  ...  9788527733298\n",
              "\n",
              "[1 rows x 8 columns]"
            ]
          },
          "metadata": {
            "tags": []
          }
        },
        {
          "output_type": "stream",
          "text": [
            "\n",
            "\n",
            "/content/drive/My Drive/9periodo/Recuperação de Informação/SITES BAIXADOS (Cris)/Disal/Positivas/Gramatica Da Lingua Portuguesa Para Leigos - 9788550803395.html\n"
          ],
          "name": "stdout"
        },
        {
          "output_type": "display_data",
          "data": {
            "text/html": [
              "<div>\n",
              "<style scoped>\n",
              "    .dataframe tbody tr th:only-of-type {\n",
              "        vertical-align: middle;\n",
              "    }\n",
              "\n",
              "    .dataframe tbody tr th {\n",
              "        vertical-align: top;\n",
              "    }\n",
              "\n",
              "    .dataframe thead th {\n",
              "        text-align: right;\n",
              "    }\n",
              "</style>\n",
              "<table border=\"1\" class=\"dataframe\">\n",
              "  <thead>\n",
              "    <tr style=\"text-align: right;\">\n",
              "      <th></th>\n",
              "      <th>Loja</th>\n",
              "      <th>Título</th>\n",
              "      <th>Autor</th>\n",
              "      <th>Nº Páginas</th>\n",
              "      <th>Editora</th>\n",
              "      <th>Idioma</th>\n",
              "      <th>Acabamento</th>\n",
              "      <th>ISBN</th>\n",
              "    </tr>\n",
              "  </thead>\n",
              "  <tbody>\n",
              "    <tr>\n",
              "      <th>0</th>\n",
              "      <td>Disal</td>\n",
              "      <td>Gramatica Da Lingua Portuguesa Para Leigos</td>\n",
              "      <td>Schlee, Magda Bahia</td>\n",
              "      <td>248</td>\n",
              "      <td>Alta Books</td>\n",
              "      <td>Português</td>\n",
              "      <td>Livro</td>\n",
              "      <td>9788550803395</td>\n",
              "    </tr>\n",
              "  </tbody>\n",
              "</table>\n",
              "</div>"
            ],
            "text/plain": [
              "    Loja                                      Título  ... Acabamento           ISBN\n",
              "0  Disal  Gramatica Da Lingua Portuguesa Para Leigos  ...      Livro  9788550803395\n",
              "\n",
              "[1 rows x 8 columns]"
            ]
          },
          "metadata": {
            "tags": []
          }
        },
        {
          "output_type": "stream",
          "text": [
            "\n",
            "\n",
            "/content/drive/My Drive/9periodo/Recuperação de Informação/SITES BAIXADOS (Cris)/Disal/Positivas/Introducao A Analise Matematica - 9788521201687.html\n"
          ],
          "name": "stdout"
        },
        {
          "output_type": "display_data",
          "data": {
            "text/html": [
              "<div>\n",
              "<style scoped>\n",
              "    .dataframe tbody tr th:only-of-type {\n",
              "        vertical-align: middle;\n",
              "    }\n",
              "\n",
              "    .dataframe tbody tr th {\n",
              "        vertical-align: top;\n",
              "    }\n",
              "\n",
              "    .dataframe thead th {\n",
              "        text-align: right;\n",
              "    }\n",
              "</style>\n",
              "<table border=\"1\" class=\"dataframe\">\n",
              "  <thead>\n",
              "    <tr style=\"text-align: right;\">\n",
              "      <th></th>\n",
              "      <th>Loja</th>\n",
              "      <th>Título</th>\n",
              "      <th>Autor</th>\n",
              "      <th>Nº Páginas</th>\n",
              "      <th>Editora</th>\n",
              "      <th>Idioma</th>\n",
              "      <th>Acabamento</th>\n",
              "      <th>ISBN</th>\n",
              "    </tr>\n",
              "  </thead>\n",
              "  <tbody>\n",
              "    <tr>\n",
              "      <th>0</th>\n",
              "      <td>Disal</td>\n",
              "      <td>Introducao A Analise Matematica</td>\n",
              "      <td>Avila, Geraldo</td>\n",
              "      <td>260</td>\n",
              "      <td>Edgard Blucher</td>\n",
              "      <td>Português</td>\n",
              "      <td>Livro</td>\n",
              "      <td>9788521201687</td>\n",
              "    </tr>\n",
              "  </tbody>\n",
              "</table>\n",
              "</div>"
            ],
            "text/plain": [
              "    Loja                           Título  ... Acabamento           ISBN\n",
              "0  Disal  Introducao A Analise Matematica  ...      Livro  9788521201687\n",
              "\n",
              "[1 rows x 8 columns]"
            ]
          },
          "metadata": {
            "tags": []
          }
        },
        {
          "output_type": "stream",
          "text": [
            "\n",
            "\n",
            "/content/drive/My Drive/9periodo/Recuperação de Informação/SITES BAIXADOS (Cris)/Disal/Positivas/Michaelis Minidicionario Alemao - Alemao-portugues - Portugues-alemao - 9788506078563.html\n"
          ],
          "name": "stdout"
        },
        {
          "output_type": "display_data",
          "data": {
            "text/html": [
              "<div>\n",
              "<style scoped>\n",
              "    .dataframe tbody tr th:only-of-type {\n",
              "        vertical-align: middle;\n",
              "    }\n",
              "\n",
              "    .dataframe tbody tr th {\n",
              "        vertical-align: top;\n",
              "    }\n",
              "\n",
              "    .dataframe thead th {\n",
              "        text-align: right;\n",
              "    }\n",
              "</style>\n",
              "<table border=\"1\" class=\"dataframe\">\n",
              "  <thead>\n",
              "    <tr style=\"text-align: right;\">\n",
              "      <th></th>\n",
              "      <th>Loja</th>\n",
              "      <th>Título</th>\n",
              "      <th>Autor</th>\n",
              "      <th>Nº Páginas</th>\n",
              "      <th>Editora</th>\n",
              "      <th>Idioma</th>\n",
              "      <th>Acabamento</th>\n",
              "      <th>ISBN</th>\n",
              "    </tr>\n",
              "  </thead>\n",
              "  <tbody>\n",
              "    <tr>\n",
              "      <th>0</th>\n",
              "      <td>Disal</td>\n",
              "      <td>Michaelis Minidicionario Alemao - Alemao-portu...</td>\n",
              "      <td>Melhoramentos</td>\n",
              "      <td>480</td>\n",
              "      <td>Melhoramentos</td>\n",
              "      <td>Alemão-português / português-alemão</td>\n",
              "      <td>Livro</td>\n",
              "      <td>9788506078563</td>\n",
              "    </tr>\n",
              "  </tbody>\n",
              "</table>\n",
              "</div>"
            ],
            "text/plain": [
              "    Loja  ...           ISBN\n",
              "0  Disal  ...  9788506078563\n",
              "\n",
              "[1 rows x 8 columns]"
            ]
          },
          "metadata": {
            "tags": []
          }
        },
        {
          "output_type": "stream",
          "text": [
            "\n",
            "\n",
            "/content/drive/My Drive/9periodo/Recuperação de Informação/SITES BAIXADOS (Cris)/Disal/Positivas/Michaelis Minidicionario Espanhol - Espanhol-portugues _ Portugues-espanhol - 9788506078532.html\n"
          ],
          "name": "stdout"
        },
        {
          "output_type": "display_data",
          "data": {
            "text/html": [
              "<div>\n",
              "<style scoped>\n",
              "    .dataframe tbody tr th:only-of-type {\n",
              "        vertical-align: middle;\n",
              "    }\n",
              "\n",
              "    .dataframe tbody tr th {\n",
              "        vertical-align: top;\n",
              "    }\n",
              "\n",
              "    .dataframe thead th {\n",
              "        text-align: right;\n",
              "    }\n",
              "</style>\n",
              "<table border=\"1\" class=\"dataframe\">\n",
              "  <thead>\n",
              "    <tr style=\"text-align: right;\">\n",
              "      <th></th>\n",
              "      <th>Loja</th>\n",
              "      <th>Título</th>\n",
              "      <th>Autor</th>\n",
              "      <th>Nº Páginas</th>\n",
              "      <th>Editora</th>\n",
              "      <th>Idioma</th>\n",
              "      <th>Acabamento</th>\n",
              "      <th>ISBN</th>\n",
              "    </tr>\n",
              "  </thead>\n",
              "  <tbody>\n",
              "    <tr>\n",
              "      <th>0</th>\n",
              "      <td>Disal</td>\n",
              "      <td>Michaelis Minidicionario Espanhol - Espanhol-p...</td>\n",
              "      <td>Melhoramentos</td>\n",
              "      <td>462</td>\n",
              "      <td>Melhoramentos</td>\n",
              "      <td>Português - Espanhol</td>\n",
              "      <td>Livro</td>\n",
              "      <td>9788506078532</td>\n",
              "    </tr>\n",
              "  </tbody>\n",
              "</table>\n",
              "</div>"
            ],
            "text/plain": [
              "    Loja  ...           ISBN\n",
              "0  Disal  ...  9788506078532\n",
              "\n",
              "[1 rows x 8 columns]"
            ]
          },
          "metadata": {
            "tags": []
          }
        },
        {
          "output_type": "stream",
          "text": [
            "\n",
            "\n",
            "/content/drive/My Drive/9periodo/Recuperação de Informação/SITES BAIXADOS (Cris)/Disal/Positivas/Michaelis Minidicionario Frances - Frances-portugues _ Portugues-frances - 3a Ed - 9788506078549.html\n"
          ],
          "name": "stdout"
        },
        {
          "output_type": "display_data",
          "data": {
            "text/html": [
              "<div>\n",
              "<style scoped>\n",
              "    .dataframe tbody tr th:only-of-type {\n",
              "        vertical-align: middle;\n",
              "    }\n",
              "\n",
              "    .dataframe tbody tr th {\n",
              "        vertical-align: top;\n",
              "    }\n",
              "\n",
              "    .dataframe thead th {\n",
              "        text-align: right;\n",
              "    }\n",
              "</style>\n",
              "<table border=\"1\" class=\"dataframe\">\n",
              "  <thead>\n",
              "    <tr style=\"text-align: right;\">\n",
              "      <th></th>\n",
              "      <th>Loja</th>\n",
              "      <th>Título</th>\n",
              "      <th>Autor</th>\n",
              "      <th>Nº Páginas</th>\n",
              "      <th>Editora</th>\n",
              "      <th>Idioma</th>\n",
              "      <th>Acabamento</th>\n",
              "      <th>ISBN</th>\n",
              "    </tr>\n",
              "  </thead>\n",
              "  <tbody>\n",
              "    <tr>\n",
              "      <th>0</th>\n",
              "      <td>Disal</td>\n",
              "      <td>Michaelis Minidicionario Frances - Frances-por...</td>\n",
              "      <td>Melhoramentos</td>\n",
              "      <td>510</td>\n",
              "      <td>Melhoramentos</td>\n",
              "      <td>Português - Francês</td>\n",
              "      <td>Livro</td>\n",
              "      <td>9788506078549</td>\n",
              "    </tr>\n",
              "  </tbody>\n",
              "</table>\n",
              "</div>"
            ],
            "text/plain": [
              "    Loja  ...           ISBN\n",
              "0  Disal  ...  9788506078549\n",
              "\n",
              "[1 rows x 8 columns]"
            ]
          },
          "metadata": {
            "tags": []
          }
        },
        {
          "output_type": "stream",
          "text": [
            "\n",
            "\n"
          ],
          "name": "stdout"
        }
      ]
    },
    {
      "cell_type": "markdown",
      "metadata": {
        "id": "2iy6J1ofDwH7",
        "colab_type": "text"
      },
      "source": [
        "##9. Americanas"
      ]
    },
    {
      "cell_type": "code",
      "metadata": {
        "id": "rEKnYAvQnWZA",
        "colab_type": "code",
        "colab": {}
      },
      "source": [
        "def americanas_single(site):\n",
        "  soup = bs(open(site), 'html.parser')\n",
        "\n",
        "  infos = soup.find_all('table')\n",
        "  infos = [info.find_all('td') for info in infos]\n",
        "  infos = [info.text for info in infos[0]]\n",
        "\n",
        "  isbn = [infos[i+1] for i in range(len(infos)) if infos[i] == 'ISBN' or infos[i] == 'ISBN 13' or infos[i] == 'ISBN-13'][0]\n",
        "\n",
        "  language = [infos[i+1] for i in range(len(infos)) if infos[i] == 'Idioma' or infos[i] == 'Idioma '][0]\n",
        "\n",
        "  n_pages = [infos[i+1] for i in range(len(infos)) if infos[i] == 'Páginas' or infos[i] == 'Número de páginas'][0]\n",
        "\n",
        "  binding = [infos[i+1] for info in infos for i in range(len(infos)) if infos[i] == 'Encadernação' or infos[i] == 'Tipo de produto ' or infos[i] == 'Formato'][0]\n",
        "\n",
        "  title = [infos[i+1] for i in range(len(infos)) if infos[i] == 'Título'][0]\n",
        "\n",
        "  author = [infos[i+1] for i in range(len(infos)) if infos[i] == 'Autor'][0]\n",
        "\n",
        "  publishing = [infos[i+1] for i in range(len(infos)) if infos[i] == 'Editora'][0]\n",
        "\n",
        "  host = 'Americanas'\n",
        "\n",
        "  create_df(host, title, author, n_pages, publishing, language, binding, isbn)"
      ],
      "execution_count": 0,
      "outputs": []
    },
    {
      "cell_type": "code",
      "metadata": {
        "id": "1I7Rm0mGoTP_",
        "colab_type": "code",
        "colab": {}
      },
      "source": [
        "americanas_urls = [r'/content/drive/My Drive/9periodo/Recuperação de Informação/Americanas/Positivas/Livro - A Cinco Passos de Você nas Lojas Americanas.com.html',\n",
        "                   r'/content/drive/My Drive/9periodo/Recuperação de Informação/Americanas/Positivas/Livro - A Corrente nas Lojas Americanas.com.html',\n",
        "                   r'/content/drive/My Drive/9periodo/Recuperação de Informação/Americanas/Positivas/Livro - As 13 Maldições - Edição Econômica nas Lojas Americanas.com.html',\n",
        "                   r'/content/drive/My Drive/9periodo/Recuperação de Informação/Americanas/Positivas/Livro - Crônicas Saxônicas: A Guerra do Lobo nas Lojas Americanas.com.html',\n",
        "                   r'/content/drive/My Drive/9periodo/Recuperação de Informação/Americanas/Positivas/Livro - Eu Sou Eric Zimmerman nas Lojas Americanas.com.html',\n",
        "                   r'/content/drive/My Drive/9periodo/Recuperação de Informação/Americanas/Positivas/Livro - Herdeiro de Sevenwaters - Coleção Sevenwaters - Vol. 4 nas Lojas Americanas.com.html',\n",
        "                   r'/content/drive/My Drive/9periodo/Recuperação de Informação/Americanas/Positivas/Livro - Historia Da Filosofia Crista nas Lojas Americanas.com.html',\n",
        "                   r'/content/drive/My Drive/9periodo/Recuperação de Informação/Americanas/Positivas/Livro - Medicina dos Horrores nas Lojas Americanas.com.html',\n",
        "                   r'/content/drive/My Drive/9periodo/Recuperação de Informação/Americanas/Positivas/Livro - O Cadete e o Capitão nas Lojas Americanas.com.html',\n",
        "                   r'/content/drive/My Drive/9periodo/Recuperação de Informação/Americanas/Positivas/Livro - Paixão Libertadora - Desejo Proibido - Vol. 2 nas Lojas Americanas.com.html']"
      ],
      "execution_count": 0,
      "outputs": []
    },
    {
      "cell_type": "code",
      "metadata": {
        "id": "oceh979FpIKv",
        "colab_type": "code",
        "colab": {
          "base_uri": "https://localhost:8080/",
          "height": 1000
        },
        "outputId": "9a224cce-b997-4b57-c7b2-df998e03151e"
      },
      "source": [
        "\n",
        "for url in americanas_urls:\n",
        "  print(url)\n",
        "  americanas_single(url)\n",
        "  print('\\n')\n"
      ],
      "execution_count": 133,
      "outputs": [
        {
          "output_type": "stream",
          "text": [
            "/content/drive/My Drive/9periodo/Recuperação de Informação/Americanas/Positivas/Livro - A Cinco Passos de Você nas Lojas Americanas.com.html\n"
          ],
          "name": "stdout"
        },
        {
          "output_type": "display_data",
          "data": {
            "text/html": [
              "<div>\n",
              "<style scoped>\n",
              "    .dataframe tbody tr th:only-of-type {\n",
              "        vertical-align: middle;\n",
              "    }\n",
              "\n",
              "    .dataframe tbody tr th {\n",
              "        vertical-align: top;\n",
              "    }\n",
              "\n",
              "    .dataframe thead th {\n",
              "        text-align: right;\n",
              "    }\n",
              "</style>\n",
              "<table border=\"1\" class=\"dataframe\">\n",
              "  <thead>\n",
              "    <tr style=\"text-align: right;\">\n",
              "      <th></th>\n",
              "      <th>Loja</th>\n",
              "      <th>Título</th>\n",
              "      <th>Autor</th>\n",
              "      <th>Nº Páginas</th>\n",
              "      <th>Editora</th>\n",
              "      <th>Idioma</th>\n",
              "      <th>Acabamento</th>\n",
              "      <th>ISBN</th>\n",
              "    </tr>\n",
              "  </thead>\n",
              "  <tbody>\n",
              "    <tr>\n",
              "      <th>0</th>\n",
              "      <td>Americanas</td>\n",
              "      <td>A cinco passos de você</td>\n",
              "      <td>Rachael Lippincott</td>\n",
              "      <td>288</td>\n",
              "      <td>Globo Alt</td>\n",
              "      <td>Português</td>\n",
              "      <td>Livro brochura</td>\n",
              "      <td>9788525067425</td>\n",
              "    </tr>\n",
              "  </tbody>\n",
              "</table>\n",
              "</div>"
            ],
            "text/plain": [
              "         Loja                  Título  ...      Acabamento           ISBN\n",
              "0  Americanas  A cinco passos de você  ...  Livro brochura  9788525067425\n",
              "\n",
              "[1 rows x 8 columns]"
            ]
          },
          "metadata": {
            "tags": []
          }
        },
        {
          "output_type": "stream",
          "text": [
            "\n",
            "\n",
            "/content/drive/My Drive/9periodo/Recuperação de Informação/Americanas/Positivas/Livro - A Corrente nas Lojas Americanas.com.html\n"
          ],
          "name": "stdout"
        },
        {
          "output_type": "display_data",
          "data": {
            "text/html": [
              "<div>\n",
              "<style scoped>\n",
              "    .dataframe tbody tr th:only-of-type {\n",
              "        vertical-align: middle;\n",
              "    }\n",
              "\n",
              "    .dataframe tbody tr th {\n",
              "        vertical-align: top;\n",
              "    }\n",
              "\n",
              "    .dataframe thead th {\n",
              "        text-align: right;\n",
              "    }\n",
              "</style>\n",
              "<table border=\"1\" class=\"dataframe\">\n",
              "  <thead>\n",
              "    <tr style=\"text-align: right;\">\n",
              "      <th></th>\n",
              "      <th>Loja</th>\n",
              "      <th>Título</th>\n",
              "      <th>Autor</th>\n",
              "      <th>Nº Páginas</th>\n",
              "      <th>Editora</th>\n",
              "      <th>Idioma</th>\n",
              "      <th>Acabamento</th>\n",
              "      <th>ISBN</th>\n",
              "    </tr>\n",
              "  </thead>\n",
              "  <tbody>\n",
              "    <tr>\n",
              "      <th>0</th>\n",
              "      <td>Americanas</td>\n",
              "      <td>A corrente</td>\n",
              "      <td>Adrian McKinty</td>\n",
              "      <td>378</td>\n",
              "      <td>Record</td>\n",
              "      <td>Português</td>\n",
              "      <td>Livro brochura</td>\n",
              "      <td>9788501117656</td>\n",
              "    </tr>\n",
              "  </tbody>\n",
              "</table>\n",
              "</div>"
            ],
            "text/plain": [
              "         Loja      Título  ...      Acabamento           ISBN\n",
              "0  Americanas  A corrente  ...  Livro brochura  9788501117656\n",
              "\n",
              "[1 rows x 8 columns]"
            ]
          },
          "metadata": {
            "tags": []
          }
        },
        {
          "output_type": "stream",
          "text": [
            "\n",
            "\n",
            "/content/drive/My Drive/9periodo/Recuperação de Informação/Americanas/Positivas/Livro - As 13 Maldições - Edição Econômica nas Lojas Americanas.com.html\n"
          ],
          "name": "stdout"
        },
        {
          "output_type": "display_data",
          "data": {
            "text/html": [
              "<div>\n",
              "<style scoped>\n",
              "    .dataframe tbody tr th:only-of-type {\n",
              "        vertical-align: middle;\n",
              "    }\n",
              "\n",
              "    .dataframe tbody tr th {\n",
              "        vertical-align: top;\n",
              "    }\n",
              "\n",
              "    .dataframe thead th {\n",
              "        text-align: right;\n",
              "    }\n",
              "</style>\n",
              "<table border=\"1\" class=\"dataframe\">\n",
              "  <thead>\n",
              "    <tr style=\"text-align: right;\">\n",
              "      <th></th>\n",
              "      <th>Loja</th>\n",
              "      <th>Título</th>\n",
              "      <th>Autor</th>\n",
              "      <th>Nº Páginas</th>\n",
              "      <th>Editora</th>\n",
              "      <th>Idioma</th>\n",
              "      <th>Acabamento</th>\n",
              "      <th>ISBN</th>\n",
              "    </tr>\n",
              "  </thead>\n",
              "  <tbody>\n",
              "    <tr>\n",
              "      <th>0</th>\n",
              "      <td>Americanas</td>\n",
              "      <td>As 13 maldições (Vol. 2)</td>\n",
              "      <td>Michelle Harrison</td>\n",
              "      <td>434</td>\n",
              "      <td>Bertrand Brasil</td>\n",
              "      <td>Português</td>\n",
              "      <td>Livro brochura</td>\n",
              "      <td>9788528616668</td>\n",
              "    </tr>\n",
              "  </tbody>\n",
              "</table>\n",
              "</div>"
            ],
            "text/plain": [
              "         Loja                    Título  ...      Acabamento           ISBN\n",
              "0  Americanas  As 13 maldições (Vol. 2)  ...  Livro brochura  9788528616668\n",
              "\n",
              "[1 rows x 8 columns]"
            ]
          },
          "metadata": {
            "tags": []
          }
        },
        {
          "output_type": "stream",
          "text": [
            "\n",
            "\n",
            "/content/drive/My Drive/9periodo/Recuperação de Informação/Americanas/Positivas/Livro - Crônicas Saxônicas: A Guerra do Lobo nas Lojas Americanas.com.html\n"
          ],
          "name": "stdout"
        },
        {
          "output_type": "display_data",
          "data": {
            "text/html": [
              "<div>\n",
              "<style scoped>\n",
              "    .dataframe tbody tr th:only-of-type {\n",
              "        vertical-align: middle;\n",
              "    }\n",
              "\n",
              "    .dataframe tbody tr th {\n",
              "        vertical-align: top;\n",
              "    }\n",
              "\n",
              "    .dataframe thead th {\n",
              "        text-align: right;\n",
              "    }\n",
              "</style>\n",
              "<table border=\"1\" class=\"dataframe\">\n",
              "  <thead>\n",
              "    <tr style=\"text-align: right;\">\n",
              "      <th></th>\n",
              "      <th>Loja</th>\n",
              "      <th>Título</th>\n",
              "      <th>Autor</th>\n",
              "      <th>Nº Páginas</th>\n",
              "      <th>Editora</th>\n",
              "      <th>Idioma</th>\n",
              "      <th>Acabamento</th>\n",
              "      <th>ISBN</th>\n",
              "    </tr>\n",
              "  </thead>\n",
              "  <tbody>\n",
              "    <tr>\n",
              "      <th>0</th>\n",
              "      <td>Americanas</td>\n",
              "      <td>Crônicas Saxônicas: A guerra do lobo (Vol. 11)</td>\n",
              "      <td>Bernard Cornwell</td>\n",
              "      <td>378</td>\n",
              "      <td>Record</td>\n",
              "      <td>Português</td>\n",
              "      <td>Livro brochura</td>\n",
              "      <td>9788501117359</td>\n",
              "    </tr>\n",
              "  </tbody>\n",
              "</table>\n",
              "</div>"
            ],
            "text/plain": [
              "         Loja  ...           ISBN\n",
              "0  Americanas  ...  9788501117359\n",
              "\n",
              "[1 rows x 8 columns]"
            ]
          },
          "metadata": {
            "tags": []
          }
        },
        {
          "output_type": "stream",
          "text": [
            "\n",
            "\n",
            "/content/drive/My Drive/9periodo/Recuperação de Informação/Americanas/Positivas/Livro - Eu Sou Eric Zimmerman nas Lojas Americanas.com.html\n"
          ],
          "name": "stdout"
        },
        {
          "output_type": "display_data",
          "data": {
            "text/html": [
              "<div>\n",
              "<style scoped>\n",
              "    .dataframe tbody tr th:only-of-type {\n",
              "        vertical-align: middle;\n",
              "    }\n",
              "\n",
              "    .dataframe tbody tr th {\n",
              "        vertical-align: top;\n",
              "    }\n",
              "\n",
              "    .dataframe thead th {\n",
              "        text-align: right;\n",
              "    }\n",
              "</style>\n",
              "<table border=\"1\" class=\"dataframe\">\n",
              "  <thead>\n",
              "    <tr style=\"text-align: right;\">\n",
              "      <th></th>\n",
              "      <th>Loja</th>\n",
              "      <th>Título</th>\n",
              "      <th>Autor</th>\n",
              "      <th>Nº Páginas</th>\n",
              "      <th>Editora</th>\n",
              "      <th>Idioma</th>\n",
              "      <th>Acabamento</th>\n",
              "      <th>ISBN</th>\n",
              "    </tr>\n",
              "  </thead>\n",
              "  <tbody>\n",
              "    <tr>\n",
              "      <th>0</th>\n",
              "      <td>Americanas</td>\n",
              "      <td>Eu sou Eric Zimmerman - Volume 2</td>\n",
              "      <td>Megan Maxwell</td>\n",
              "      <td>400</td>\n",
              "      <td>Essência</td>\n",
              "      <td>Português</td>\n",
              "      <td>Livro brochura</td>\n",
              "      <td>9788542217209</td>\n",
              "    </tr>\n",
              "  </tbody>\n",
              "</table>\n",
              "</div>"
            ],
            "text/plain": [
              "         Loja                            Título  ...      Acabamento           ISBN\n",
              "0  Americanas  Eu sou Eric Zimmerman - Volume 2  ...  Livro brochura  9788542217209\n",
              "\n",
              "[1 rows x 8 columns]"
            ]
          },
          "metadata": {
            "tags": []
          }
        },
        {
          "output_type": "stream",
          "text": [
            "\n",
            "\n",
            "/content/drive/My Drive/9periodo/Recuperação de Informação/Americanas/Positivas/Livro - Herdeiro de Sevenwaters - Coleção Sevenwaters - Vol. 4 nas Lojas Americanas.com.html\n"
          ],
          "name": "stdout"
        },
        {
          "output_type": "display_data",
          "data": {
            "text/html": [
              "<div>\n",
              "<style scoped>\n",
              "    .dataframe tbody tr th:only-of-type {\n",
              "        vertical-align: middle;\n",
              "    }\n",
              "\n",
              "    .dataframe tbody tr th {\n",
              "        vertical-align: top;\n",
              "    }\n",
              "\n",
              "    .dataframe thead th {\n",
              "        text-align: right;\n",
              "    }\n",
              "</style>\n",
              "<table border=\"1\" class=\"dataframe\">\n",
              "  <thead>\n",
              "    <tr style=\"text-align: right;\">\n",
              "      <th></th>\n",
              "      <th>Loja</th>\n",
              "      <th>Título</th>\n",
              "      <th>Autor</th>\n",
              "      <th>Nº Páginas</th>\n",
              "      <th>Editora</th>\n",
              "      <th>Idioma</th>\n",
              "      <th>Acabamento</th>\n",
              "      <th>ISBN</th>\n",
              "    </tr>\n",
              "  </thead>\n",
              "  <tbody>\n",
              "    <tr>\n",
              "      <th>0</th>\n",
              "      <td>Americanas</td>\n",
              "      <td>Herdeiro de Sevenwaters - Vol. 4</td>\n",
              "      <td>Juliet Marillier</td>\n",
              "      <td>496</td>\n",
              "      <td>Butterfly</td>\n",
              "      <td>Português</td>\n",
              "      <td>Livro</td>\n",
              "      <td>9788568674055</td>\n",
              "    </tr>\n",
              "  </tbody>\n",
              "</table>\n",
              "</div>"
            ],
            "text/plain": [
              "         Loja                            Título  ... Acabamento           ISBN\n",
              "0  Americanas  Herdeiro de Sevenwaters - Vol. 4  ...      Livro  9788568674055\n",
              "\n",
              "[1 rows x 8 columns]"
            ]
          },
          "metadata": {
            "tags": []
          }
        },
        {
          "output_type": "stream",
          "text": [
            "\n",
            "\n",
            "/content/drive/My Drive/9periodo/Recuperação de Informação/Americanas/Positivas/Livro - Historia Da Filosofia Crista nas Lojas Americanas.com.html\n"
          ],
          "name": "stdout"
        },
        {
          "output_type": "display_data",
          "data": {
            "text/html": [
              "<div>\n",
              "<style scoped>\n",
              "    .dataframe tbody tr th:only-of-type {\n",
              "        vertical-align: middle;\n",
              "    }\n",
              "\n",
              "    .dataframe tbody tr th {\n",
              "        vertical-align: top;\n",
              "    }\n",
              "\n",
              "    .dataframe thead th {\n",
              "        text-align: right;\n",
              "    }\n",
              "</style>\n",
              "<table border=\"1\" class=\"dataframe\">\n",
              "  <thead>\n",
              "    <tr style=\"text-align: right;\">\n",
              "      <th></th>\n",
              "      <th>Loja</th>\n",
              "      <th>Título</th>\n",
              "      <th>Autor</th>\n",
              "      <th>Nº Páginas</th>\n",
              "      <th>Editora</th>\n",
              "      <th>Idioma</th>\n",
              "      <th>Acabamento</th>\n",
              "      <th>ISBN</th>\n",
              "    </tr>\n",
              "  </thead>\n",
              "  <tbody>\n",
              "    <tr>\n",
              "      <th>0</th>\n",
              "      <td>Americanas</td>\n",
              "      <td>História da filosofia cristã</td>\n",
              "      <td>Etienne Gilson, Philotheus Boehner</td>\n",
              "      <td>584</td>\n",
              "      <td>Editora Vozes</td>\n",
              "      <td>Português</td>\n",
              "      <td>Livro brochura</td>\n",
              "      <td>9788532607379</td>\n",
              "    </tr>\n",
              "  </tbody>\n",
              "</table>\n",
              "</div>"
            ],
            "text/plain": [
              "         Loja                        Título  ...      Acabamento           ISBN\n",
              "0  Americanas  História da filosofia cristã  ...  Livro brochura  9788532607379\n",
              "\n",
              "[1 rows x 8 columns]"
            ]
          },
          "metadata": {
            "tags": []
          }
        },
        {
          "output_type": "stream",
          "text": [
            "\n",
            "\n",
            "/content/drive/My Drive/9periodo/Recuperação de Informação/Americanas/Positivas/Livro - Medicina dos Horrores nas Lojas Americanas.com.html\n"
          ],
          "name": "stdout"
        },
        {
          "output_type": "display_data",
          "data": {
            "text/html": [
              "<div>\n",
              "<style scoped>\n",
              "    .dataframe tbody tr th:only-of-type {\n",
              "        vertical-align: middle;\n",
              "    }\n",
              "\n",
              "    .dataframe tbody tr th {\n",
              "        vertical-align: top;\n",
              "    }\n",
              "\n",
              "    .dataframe thead th {\n",
              "        text-align: right;\n",
              "    }\n",
              "</style>\n",
              "<table border=\"1\" class=\"dataframe\">\n",
              "  <thead>\n",
              "    <tr style=\"text-align: right;\">\n",
              "      <th></th>\n",
              "      <th>Loja</th>\n",
              "      <th>Título</th>\n",
              "      <th>Autor</th>\n",
              "      <th>Nº Páginas</th>\n",
              "      <th>Editora</th>\n",
              "      <th>Idioma</th>\n",
              "      <th>Acabamento</th>\n",
              "      <th>ISBN</th>\n",
              "    </tr>\n",
              "  </thead>\n",
              "  <tbody>\n",
              "    <tr>\n",
              "      <th>0</th>\n",
              "      <td>Americanas</td>\n",
              "      <td>Medicina Dos Horrores: A história de Joseph Li...</td>\n",
              "      <td>Lindsey Fizharris</td>\n",
              "      <td>320</td>\n",
              "      <td>Intrínseca</td>\n",
              "      <td>Português</td>\n",
              "      <td>Livro Capa Dura</td>\n",
              "      <td>9788551005224</td>\n",
              "    </tr>\n",
              "  </tbody>\n",
              "</table>\n",
              "</div>"
            ],
            "text/plain": [
              "         Loja  ...           ISBN\n",
              "0  Americanas  ...  9788551005224\n",
              "\n",
              "[1 rows x 8 columns]"
            ]
          },
          "metadata": {
            "tags": []
          }
        },
        {
          "output_type": "stream",
          "text": [
            "\n",
            "\n",
            "/content/drive/My Drive/9periodo/Recuperação de Informação/Americanas/Positivas/Livro - O Cadete e o Capitão nas Lojas Americanas.com.html\n"
          ],
          "name": "stdout"
        },
        {
          "output_type": "display_data",
          "data": {
            "text/html": [
              "<div>\n",
              "<style scoped>\n",
              "    .dataframe tbody tr th:only-of-type {\n",
              "        vertical-align: middle;\n",
              "    }\n",
              "\n",
              "    .dataframe tbody tr th {\n",
              "        vertical-align: top;\n",
              "    }\n",
              "\n",
              "    .dataframe thead th {\n",
              "        text-align: right;\n",
              "    }\n",
              "</style>\n",
              "<table border=\"1\" class=\"dataframe\">\n",
              "  <thead>\n",
              "    <tr style=\"text-align: right;\">\n",
              "      <th></th>\n",
              "      <th>Loja</th>\n",
              "      <th>Título</th>\n",
              "      <th>Autor</th>\n",
              "      <th>Nº Páginas</th>\n",
              "      <th>Editora</th>\n",
              "      <th>Idioma</th>\n",
              "      <th>Acabamento</th>\n",
              "      <th>ISBN</th>\n",
              "    </tr>\n",
              "  </thead>\n",
              "  <tbody>\n",
              "    <tr>\n",
              "      <th>0</th>\n",
              "      <td>Americanas</td>\n",
              "      <td>O cadete e o capitão</td>\n",
              "      <td>Luiz Maklouf Carvalho</td>\n",
              "      <td>256</td>\n",
              "      <td>Todavia</td>\n",
              "      <td>Português</td>\n",
              "      <td>Livro brochura</td>\n",
              "      <td>9786580309351</td>\n",
              "    </tr>\n",
              "  </tbody>\n",
              "</table>\n",
              "</div>"
            ],
            "text/plain": [
              "         Loja                Título  ...      Acabamento           ISBN\n",
              "0  Americanas  O cadete e o capitão  ...  Livro brochura  9786580309351\n",
              "\n",
              "[1 rows x 8 columns]"
            ]
          },
          "metadata": {
            "tags": []
          }
        },
        {
          "output_type": "stream",
          "text": [
            "\n",
            "\n",
            "/content/drive/My Drive/9periodo/Recuperação de Informação/Americanas/Positivas/Livro - Paixão Libertadora - Desejo Proibido - Vol. 2 nas Lojas Americanas.com.html\n"
          ],
          "name": "stdout"
        },
        {
          "output_type": "display_data",
          "data": {
            "text/html": [
              "<div>\n",
              "<style scoped>\n",
              "    .dataframe tbody tr th:only-of-type {\n",
              "        vertical-align: middle;\n",
              "    }\n",
              "\n",
              "    .dataframe tbody tr th {\n",
              "        vertical-align: top;\n",
              "    }\n",
              "\n",
              "    .dataframe thead th {\n",
              "        text-align: right;\n",
              "    }\n",
              "</style>\n",
              "<table border=\"1\" class=\"dataframe\">\n",
              "  <thead>\n",
              "    <tr style=\"text-align: right;\">\n",
              "      <th></th>\n",
              "      <th>Loja</th>\n",
              "      <th>Título</th>\n",
              "      <th>Autor</th>\n",
              "      <th>Nº Páginas</th>\n",
              "      <th>Editora</th>\n",
              "      <th>Idioma</th>\n",
              "      <th>Acabamento</th>\n",
              "      <th>ISBN</th>\n",
              "    </tr>\n",
              "  </thead>\n",
              "  <tbody>\n",
              "    <tr>\n",
              "      <th>0</th>\n",
              "      <td>Americanas</td>\n",
              "      <td>Paixão libertadora</td>\n",
              "      <td>Sophie Jackson</td>\n",
              "      <td>352</td>\n",
              "      <td>Editora Arqueiro</td>\n",
              "      <td>Português</td>\n",
              "      <td>Livro brochura</td>\n",
              "      <td>9788580415421</td>\n",
              "    </tr>\n",
              "  </tbody>\n",
              "</table>\n",
              "</div>"
            ],
            "text/plain": [
              "         Loja              Título  ...      Acabamento           ISBN\n",
              "0  Americanas  Paixão libertadora  ...  Livro brochura  9788580415421\n",
              "\n",
              "[1 rows x 8 columns]"
            ]
          },
          "metadata": {
            "tags": []
          }
        },
        {
          "output_type": "stream",
          "text": [
            "\n",
            "\n"
          ],
          "name": "stdout"
        }
      ]
    },
    {
      "cell_type": "markdown",
      "metadata": {
        "id": "beUSCxJurEKj",
        "colab_type": "text"
      },
      "source": [
        "## 10. Submarino"
      ]
    },
    {
      "cell_type": "code",
      "metadata": {
        "id": "MuHkP26vsPSf",
        "colab_type": "code",
        "colab": {}
      },
      "source": [
        "def submarino_single(site):\n",
        "  soup = bs(open(site), 'html.parser')\n",
        "\n",
        "  infos = soup.find_all('table')\n",
        "  infos = [info.find_all('td') for info in infos]\n",
        "  infos = [info.text for info in infos[0]]\n",
        "\n",
        "  isbn = [infos[i+1] for i in range(len(infos)) if infos[i] == 'ISBN' or infos[i] == 'ISBN 13' or infos[i] == 'ISBN-13'][0]\n",
        "\n",
        "  language = [infos[i+1] for i in range(len(infos)) if infos[i] == 'Idioma' or infos[i] == 'Idioma '][0]\n",
        "\n",
        "  n_pages = [infos[i+1] for i in range(len(infos)) if infos[i] == 'Páginas' or infos[i] == 'Número de páginas'][0]\n",
        "\n",
        "  binding = [infos[i+1] for info in infos for i in range(len(infos)) if infos[i] == 'Encadernação' or infos[i] == 'Tipo de produto ' or infos[i] == 'Formato'][0]\n",
        "\n",
        "  title = [infos[i+1] for i in range(len(infos)) if infos[i] == 'Título'][0]\n",
        "\n",
        "  author = [infos[i+1] for i in range(len(infos)) if infos[i] == 'Autor'][0]\n",
        "\n",
        "  publishing = [infos[i+1] for i in range(len(infos)) if infos[i] == 'Editora'][0]\n",
        "\n",
        "  host = 'Submarino'\n",
        "\n",
        "  create_df(host, title, author, n_pages, publishing, language, binding, isbn)"
      ],
      "execution_count": 0,
      "outputs": []
    },
    {
      "cell_type": "code",
      "metadata": {
        "id": "qkzi1ZKwrGZK",
        "colab_type": "code",
        "colab": {}
      },
      "source": [
        "submarino_urls = [\n",
        "r'/content/drive/My Drive/9periodo/Recuperação de Informação/Submarino/Positivas/LIvro - Luccas Neto em Os Aventureiros no Submarino.com.html',\n",
        "r'/content/drive/My Drive/9periodo/Recuperação de Informação/Submarino/Positivas/Livro - A Dama Mais Apaixonada no Submarino.com.html',\n",
        "r'/content/drive/My Drive/9periodo/Recuperação de Informação/Submarino/Positivas/Livro - O Labirinto do Fauno no Submarino.com.html',\n",
        "r'/content/drive/My Drive/9periodo/Recuperação de Informação/Submarino/Positivas/Livro - Sandman - Edição Definitiva no Submarino.com.html',\n",
        "r'/content/drive/My Drive/9periodo/Recuperação de Informação/Submarino/Positivas/Livro - Seja Foda! no Submarino.com.html']"
      ],
      "execution_count": 0,
      "outputs": []
    },
    {
      "cell_type": "code",
      "metadata": {
        "id": "kzFKvIlLtDqT",
        "colab_type": "code",
        "colab": {
          "base_uri": "https://localhost:8080/",
          "height": 587
        },
        "outputId": "a3873b61-3876-4772-b815-f2d2b74e2dca"
      },
      "source": [
        "for url in submarino_urls:\n",
        "  print(url)\n",
        "  submarino_single(url)\n",
        "  print('\\n')"
      ],
      "execution_count": 151,
      "outputs": [
        {
          "output_type": "stream",
          "text": [
            "/content/drive/My Drive/9periodo/Recuperação de Informação/Submarino/Positivas/LIvro - Luccas Neto em Os Aventureiros no Submarino.com.html\n"
          ],
          "name": "stdout"
        },
        {
          "output_type": "display_data",
          "data": {
            "text/html": [
              "<div>\n",
              "<style scoped>\n",
              "    .dataframe tbody tr th:only-of-type {\n",
              "        vertical-align: middle;\n",
              "    }\n",
              "\n",
              "    .dataframe tbody tr th {\n",
              "        vertical-align: top;\n",
              "    }\n",
              "\n",
              "    .dataframe thead th {\n",
              "        text-align: right;\n",
              "    }\n",
              "</style>\n",
              "<table border=\"1\" class=\"dataframe\">\n",
              "  <thead>\n",
              "    <tr style=\"text-align: right;\">\n",
              "      <th></th>\n",
              "      <th>Loja</th>\n",
              "      <th>Título</th>\n",
              "      <th>Autor</th>\n",
              "      <th>Nº Páginas</th>\n",
              "      <th>Editora</th>\n",
              "      <th>Idioma</th>\n",
              "      <th>Acabamento</th>\n",
              "      <th>ISBN</th>\n",
              "    </tr>\n",
              "  </thead>\n",
              "  <tbody>\n",
              "    <tr>\n",
              "      <th>0</th>\n",
              "      <td>Submarino</td>\n",
              "      <td>Luccas Neto em os aventureiros</td>\n",
              "      <td>Luccas Neto</td>\n",
              "      <td>64</td>\n",
              "      <td>Pixel</td>\n",
              "      <td>Português</td>\n",
              "      <td>Livro brochura</td>\n",
              "      <td>9788555461927</td>\n",
              "    </tr>\n",
              "  </tbody>\n",
              "</table>\n",
              "</div>"
            ],
            "text/plain": [
              "        Loja                          Título  ...      Acabamento           ISBN\n",
              "0  Submarino  Luccas Neto em os aventureiros  ...  Livro brochura  9788555461927\n",
              "\n",
              "[1 rows x 8 columns]"
            ]
          },
          "metadata": {
            "tags": []
          }
        },
        {
          "output_type": "stream",
          "text": [
            "\n",
            "\n",
            "/content/drive/My Drive/9periodo/Recuperação de Informação/Submarino/Positivas/Livro - A Dama Mais Apaixonada no Submarino.com.html\n"
          ],
          "name": "stdout"
        },
        {
          "output_type": "display_data",
          "data": {
            "text/html": [
              "<div>\n",
              "<style scoped>\n",
              "    .dataframe tbody tr th:only-of-type {\n",
              "        vertical-align: middle;\n",
              "    }\n",
              "\n",
              "    .dataframe tbody tr th {\n",
              "        vertical-align: top;\n",
              "    }\n",
              "\n",
              "    .dataframe thead th {\n",
              "        text-align: right;\n",
              "    }\n",
              "</style>\n",
              "<table border=\"1\" class=\"dataframe\">\n",
              "  <thead>\n",
              "    <tr style=\"text-align: right;\">\n",
              "      <th></th>\n",
              "      <th>Loja</th>\n",
              "      <th>Título</th>\n",
              "      <th>Autor</th>\n",
              "      <th>Nº Páginas</th>\n",
              "      <th>Editora</th>\n",
              "      <th>Idioma</th>\n",
              "      <th>Acabamento</th>\n",
              "      <th>ISBN</th>\n",
              "    </tr>\n",
              "  </thead>\n",
              "  <tbody>\n",
              "    <tr>\n",
              "      <th>0</th>\n",
              "      <td>Submarino</td>\n",
              "      <td>A dama mais apaixonada</td>\n",
              "      <td>Julia Quinn, Eloisa James, Connie Brockway</td>\n",
              "      <td>288</td>\n",
              "      <td>Editora Arqueiro</td>\n",
              "      <td>Português</td>\n",
              "      <td>Livro brochura</td>\n",
              "      <td>9788530600211</td>\n",
              "    </tr>\n",
              "  </tbody>\n",
              "</table>\n",
              "</div>"
            ],
            "text/plain": [
              "        Loja                  Título  ...      Acabamento           ISBN\n",
              "0  Submarino  A dama mais apaixonada  ...  Livro brochura  9788530600211\n",
              "\n",
              "[1 rows x 8 columns]"
            ]
          },
          "metadata": {
            "tags": []
          }
        },
        {
          "output_type": "stream",
          "text": [
            "\n",
            "\n",
            "/content/drive/My Drive/9periodo/Recuperação de Informação/Submarino/Positivas/Livro - O Labirinto do Fauno no Submarino.com.html\n"
          ],
          "name": "stdout"
        },
        {
          "output_type": "display_data",
          "data": {
            "text/html": [
              "<div>\n",
              "<style scoped>\n",
              "    .dataframe tbody tr th:only-of-type {\n",
              "        vertical-align: middle;\n",
              "    }\n",
              "\n",
              "    .dataframe tbody tr th {\n",
              "        vertical-align: top;\n",
              "    }\n",
              "\n",
              "    .dataframe thead th {\n",
              "        text-align: right;\n",
              "    }\n",
              "</style>\n",
              "<table border=\"1\" class=\"dataframe\">\n",
              "  <thead>\n",
              "    <tr style=\"text-align: right;\">\n",
              "      <th></th>\n",
              "      <th>Loja</th>\n",
              "      <th>Título</th>\n",
              "      <th>Autor</th>\n",
              "      <th>Nº Páginas</th>\n",
              "      <th>Editora</th>\n",
              "      <th>Idioma</th>\n",
              "      <th>Acabamento</th>\n",
              "      <th>ISBN</th>\n",
              "    </tr>\n",
              "  </thead>\n",
              "  <tbody>\n",
              "    <tr>\n",
              "      <th>0</th>\n",
              "      <td>Submarino</td>\n",
              "      <td>O Labirinto Do Fauno</td>\n",
              "      <td>Guillermo del Toro, Cornelia Funke</td>\n",
              "      <td>320</td>\n",
              "      <td>Intrínseca</td>\n",
              "      <td>Português</td>\n",
              "      <td>Livro Capa Dura</td>\n",
              "      <td>9788551005194</td>\n",
              "    </tr>\n",
              "  </tbody>\n",
              "</table>\n",
              "</div>"
            ],
            "text/plain": [
              "        Loja                Título  ...       Acabamento           ISBN\n",
              "0  Submarino  O Labirinto Do Fauno  ...  Livro Capa Dura  9788551005194\n",
              "\n",
              "[1 rows x 8 columns]"
            ]
          },
          "metadata": {
            "tags": []
          }
        },
        {
          "output_type": "stream",
          "text": [
            "\n",
            "\n",
            "/content/drive/My Drive/9periodo/Recuperação de Informação/Submarino/Positivas/Livro - Sandman - Edição Definitiva no Submarino.com.html\n"
          ],
          "name": "stdout"
        },
        {
          "output_type": "display_data",
          "data": {
            "text/html": [
              "<div>\n",
              "<style scoped>\n",
              "    .dataframe tbody tr th:only-of-type {\n",
              "        vertical-align: middle;\n",
              "    }\n",
              "\n",
              "    .dataframe tbody tr th {\n",
              "        vertical-align: top;\n",
              "    }\n",
              "\n",
              "    .dataframe thead th {\n",
              "        text-align: right;\n",
              "    }\n",
              "</style>\n",
              "<table border=\"1\" class=\"dataframe\">\n",
              "  <thead>\n",
              "    <tr style=\"text-align: right;\">\n",
              "      <th></th>\n",
              "      <th>Loja</th>\n",
              "      <th>Título</th>\n",
              "      <th>Autor</th>\n",
              "      <th>Nº Páginas</th>\n",
              "      <th>Editora</th>\n",
              "      <th>Idioma</th>\n",
              "      <th>Acabamento</th>\n",
              "      <th>ISBN</th>\n",
              "    </tr>\n",
              "  </thead>\n",
              "  <tbody>\n",
              "    <tr>\n",
              "      <th>0</th>\n",
              "      <td>Submarino</td>\n",
              "      <td>ABSOLUTE SANDMAN VOL. 1</td>\n",
              "      <td>Neil Gaiman</td>\n",
              "      <td>88</td>\n",
              "      <td>Panini Books</td>\n",
              "      <td>Português</td>\n",
              "      <td>Livro Capa Dura</td>\n",
              "      <td>9788573516531</td>\n",
              "    </tr>\n",
              "  </tbody>\n",
              "</table>\n",
              "</div>"
            ],
            "text/plain": [
              "        Loja                   Título  ...       Acabamento           ISBN\n",
              "0  Submarino  ABSOLUTE SANDMAN VOL. 1  ...  Livro Capa Dura  9788573516531\n",
              "\n",
              "[1 rows x 8 columns]"
            ]
          },
          "metadata": {
            "tags": []
          }
        },
        {
          "output_type": "stream",
          "text": [
            "\n",
            "\n",
            "/content/drive/My Drive/9periodo/Recuperação de Informação/Submarino/Positivas/Livro - Seja Foda! no Submarino.com.html\n"
          ],
          "name": "stdout"
        },
        {
          "output_type": "display_data",
          "data": {
            "text/html": [
              "<div>\n",
              "<style scoped>\n",
              "    .dataframe tbody tr th:only-of-type {\n",
              "        vertical-align: middle;\n",
              "    }\n",
              "\n",
              "    .dataframe tbody tr th {\n",
              "        vertical-align: top;\n",
              "    }\n",
              "\n",
              "    .dataframe thead th {\n",
              "        text-align: right;\n",
              "    }\n",
              "</style>\n",
              "<table border=\"1\" class=\"dataframe\">\n",
              "  <thead>\n",
              "    <tr style=\"text-align: right;\">\n",
              "      <th></th>\n",
              "      <th>Loja</th>\n",
              "      <th>Título</th>\n",
              "      <th>Autor</th>\n",
              "      <th>Nº Páginas</th>\n",
              "      <th>Editora</th>\n",
              "      <th>Idioma</th>\n",
              "      <th>Acabamento</th>\n",
              "      <th>ISBN</th>\n",
              "    </tr>\n",
              "  </thead>\n",
              "  <tbody>\n",
              "    <tr>\n",
              "      <th>0</th>\n",
              "      <td>Submarino</td>\n",
              "      <td>Seja Foda! - Black Edition</td>\n",
              "      <td>Caio Carneiro</td>\n",
              "      <td>208</td>\n",
              "      <td>Buzz Editora</td>\n",
              "      <td>Português</td>\n",
              "      <td>Livro Capa Dura</td>\n",
              "      <td>9786580435173</td>\n",
              "    </tr>\n",
              "  </tbody>\n",
              "</table>\n",
              "</div>"
            ],
            "text/plain": [
              "        Loja                      Título  ...       Acabamento           ISBN\n",
              "0  Submarino  Seja Foda! - Black Edition  ...  Livro Capa Dura  9786580435173\n",
              "\n",
              "[1 rows x 8 columns]"
            ]
          },
          "metadata": {
            "tags": []
          }
        },
        {
          "output_type": "stream",
          "text": [
            "\n",
            "\n"
          ],
          "name": "stdout"
        }
      ]
    },
    {
      "cell_type": "code",
      "metadata": {
        "id": "poo3Wos9tRyJ",
        "colab_type": "code",
        "colab": {}
      },
      "source": [
        ""
      ],
      "execution_count": 0,
      "outputs": []
    }
  ]
}