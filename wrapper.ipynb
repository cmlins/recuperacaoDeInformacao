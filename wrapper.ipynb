{
  "nbformat": 4,
  "nbformat_minor": 0,
  "metadata": {
    "colab": {
      "name": "wrapper.ipynb",
      "version": "0.3.2",
      "provenance": [],
      "collapsed_sections": [
        "ZNyZgOdxHRP_",
        "w9rKRF8CJARk",
        "EaPK2h3wEfVb"
      ],
      "include_colab_link": true
    },
    "kernelspec": {
      "name": "python3",
      "display_name": "Python 3"
    },
    "accelerator": "GPU"
  },
  "cells": [
    {
      "cell_type": "markdown",
      "metadata": {
        "id": "view-in-github",
        "colab_type": "text"
      },
      "source": [
        "<a href=\"https://colab.research.google.com/github/cmlins/recuperacaoDeInformacao/blob/master/wrapper.ipynb\" target=\"_parent\"><img src=\"https://colab.research.google.com/assets/colab-badge.svg\" alt=\"Open In Colab\"/></a>"
      ]
    },
    {
      "cell_type": "code",
      "metadata": {
        "id": "NAIV006BGuhB",
        "colab_type": "code",
        "colab": {}
      },
      "source": [
        "import pandas as pd\n",
        "import numpy as np\n",
        "from bs4 import BeautifulSoup as bs\n",
        "import requests as rq\n",
        "import re"
      ],
      "execution_count": 0,
      "outputs": []
    },
    {
      "cell_type": "markdown",
      "metadata": {
        "id": "fCQayc2mCTAT",
        "colab_type": "text"
      },
      "source": [
        "# Sites Livros\n",
        "\n",
        "1.   https://www.amazon.com.br/\n",
        "2.   https://www.submarino.com.br/\n",
        "3.   https://www.saraiva.com.br/\n",
        "4.   https://www.estantevirtual.com.br/\n",
        "5.   https://www.americanas.com.br/\n",
        "6.   https://www.ciadoslivros.com.br/\n",
        "7.   https://www.traca.com.br/\n",
        "8.   https://www.livrariacultura.com.br\n",
        "9.   https://www.disal.com.br/\n",
        "10.  https://www.extra.com.br/livros/"
      ]
    },
    {
      "cell_type": "markdown",
      "metadata": {
        "id": "txPhFcFSDqYz",
        "colab_type": "text"
      },
      "source": [
        "##AMAZON"
      ]
    },
    {
      "cell_type": "markdown",
      "metadata": {
        "id": "XnfbQ41MEZ3D",
        "colab_type": "text"
      },
      "source": [
        "### All books in one page"
      ]
    },
    {
      "cell_type": "code",
      "metadata": {
        "id": "-hSHvPPvp_is",
        "colab_type": "code",
        "colab": {}
      },
      "source": [
        "url_list = ['https://www.amazon.com.br/Livros/b?ie=UTF8&node=6740748011&ref_=nav_books_all',\n",
        "            'https://www.amazon.com.br/b/ref=s9_acss_bw_cg_livros_3a1_w?node=7872689011&pf_rd_m=A3RN7G7QC5MWSZ&pf_rd_s=merchandised-search-13&pf_rd_r=QVZ9EYBNWVBAX5VRE6KH&pf_rd_t=101&pf_rd_p=ef6255a0-96c8-4931-bc85-1e4d682f1064&pf_rd_i=6740748011',\n",
        "            'https://www.amazon.com.br/b/ref=s9_acss_bw_cg_livros_2a1_w?node=16495864011&pf_rd_m=A3RN7G7QC5MWSZ&pf_rd_s=merchandised-search-13&pf_rd_r=G9RQPBBW9G6ZQ5XX82M8&pf_rd_t=101&pf_rd_p=ef6255a0-96c8-4931-bc85-1e4d682f1064&pf_rd_i=6740748011',\n",
        "            'https://www.amazon.com.br/b/ref=s9_acss_bw_cg_livros_2d1_w?node=11443295011&pf_rd_m=A3RN7G7QC5MWSZ&pf_rd_s=merchandised-search-13&pf_rd_r=0AC9WCXZN61JJGX49F4H&pf_rd_t=101&pf_rd_p=ef6255a0-96c8-4931-bc85-1e4d682f1064&pf_rd_i=6740748011',\n",
        "            'https://www.amazon.com.br/b/ref=s9_acss_bw_cg_livros_4b1_w?node=17021500011&pf_rd_m=A3RN7G7QC5MWSZ&pf_rd_s=merchandised-search-13&pf_rd_r=0JX9SAGKQ4QCZ7DET92M&pf_rd_t=101&pf_rd_p=ef6255a0-96c8-4931-bc85-1e4d682f1064&pf_rd_i=6740748011',\n",
        "            'https://www.amazon.com.br/b/ref=s9_acss_bw_cg_livros_2c1_w?node=7882627011&pf_rd_m=A3RN7G7QC5MWSZ&pf_rd_s=merchandised-search-13&pf_rd_r=068FWS2KD5K5K0RGNXRY&pf_rd_t=101&pf_rd_p=ef6255a0-96c8-4931-bc85-1e4d682f1064&pf_rd_i=6740748011',\n",
        "            'https://www.amazon.com.br/b/ref=s9_acss_bw_cg_livros_2b1_w?node=16271670011&pf_rd_m=A3RN7G7QC5MWSZ&pf_rd_s=merchandised-search-13&pf_rd_r=068FWS2KD5K5K0RGNXRY&pf_rd_t=101&pf_rd_p=ef6255a0-96c8-4931-bc85-1e4d682f1064&pf_rd_i=6740748011',\n",
        "            'https://www.amazon.com.br/b/ref=s9_acss_bw_cg_livros_3b1_w?node=7842710011&pf_rd_m=A3RN7G7QC5MWSZ&pf_rd_s=merchandised-search-13&pf_rd_r=068FWS2KD5K5K0RGNXRY&pf_rd_t=101&pf_rd_p=ef6255a0-96c8-4931-bc85-1e4d682f1064&pf_rd_i=6740748011',\n",
        "            'https://www.amazon.com.br/b/ref=s9_acss_bw_cg_livros_3d1_w?node=7872552011&pf_rd_m=A3RN7G7QC5MWSZ&pf_rd_s=merchandised-search-13&pf_rd_r=068FWS2KD5K5K0RGNXRY&pf_rd_t=101&pf_rd_p=ef6255a0-96c8-4931-bc85-1e4d682f1064&pf_rd_i=6740748011',\n",
        "            'https://www.amazon.com.br/b/ref=s9_acss_bw_cg_livros_4d1_w?node=5475882011&pf_rd_m=A3RN7G7QC5MWSZ&pf_rd_s=merchandised-search-13&pf_rd_r=068FWS2KD5K5K0RGNXRY&pf_rd_t=101&pf_rd_p=ef6255a0-96c8-4931-bc85-1e4d682f1064&pf_rd_i=6740748011']"
      ],
      "execution_count": 0,
      "outputs": []
    },
    {
      "cell_type": "code",
      "metadata": {
        "id": "1yw2JYi-keCj",
        "colab_type": "code",
        "colab": {}
      },
      "source": [
        "def Amazon_col(site):\n",
        "  page = rq.get(url)\n",
        "\n",
        "  soup = bs(page.text,\"html.parser\")\n",
        "\n",
        "  books = soup.find_all('li', {'class':'a-carousel-card acswidget-carousel__card'})\n",
        "\n",
        "  books_list = []\n",
        "\n",
        "  for book in books:\n",
        "    book = re.sub(\"\\n|\\t|\\xa0|[R][$]\", \" \", (book.text.strip()))\n",
        "    book = re.sub(\"[,]\", '.', book)\n",
        "    books_list.append(book)\n",
        "    \n",
        "  for i in range(len(books_list)):\n",
        "    books_list[i] = books_list[i].split('    ')\n",
        "    books_list[i] = list(filter(None, books_list[i]))\n",
        "    books_list[i] = [item.strip() for item in books_list[i]]\n",
        "    if (len(books_list[i]) > 4):\n",
        "      books_list[i] = [books_list[i][0],books_list[i][1],books_list[i][2],books_list[i][4]]\n",
        "\n",
        "  book_list = []\n",
        "  \n",
        "  for book in books_list:\n",
        "    if len(book) == 4:\n",
        "      book_list.append(book)\n",
        "\n",
        "  col = ['Título', 'Autor', 'Acabamento', 'Preço']\n",
        "\n",
        "  books_pd = pd.DataFrame(book_list,\\\n",
        "                        columns=col)\n",
        "  \n",
        "  return books_pd"
      ],
      "execution_count": 0,
      "outputs": []
    },
    {
      "cell_type": "code",
      "metadata": {
        "id": "_0Hy5vWGrCTk",
        "colab_type": "code",
        "outputId": "87d2f702-ea69-48cc-cda0-af637b4589e7",
        "colab": {
          "base_uri": "https://localhost:8080/",
          "height": 1000
        }
      },
      "source": [
        "for url in url_list:\n",
        "  print(url)\n",
        "  display(Amazon_col(url)[:5])\n",
        "  print('\\n')"
      ],
      "execution_count": 4,
      "outputs": [
        {
          "output_type": "stream",
          "text": [
            "https://www.amazon.com.br/Livros/b?ie=UTF8&node=6740748011&ref_=nav_books_all\n"
          ],
          "name": "stdout"
        },
        {
          "output_type": "display_data",
          "data": {
            "text/html": [
              "<div>\n",
              "<style scoped>\n",
              "    .dataframe tbody tr th:only-of-type {\n",
              "        vertical-align: middle;\n",
              "    }\n",
              "\n",
              "    .dataframe tbody tr th {\n",
              "        vertical-align: top;\n",
              "    }\n",
              "\n",
              "    .dataframe thead th {\n",
              "        text-align: right;\n",
              "    }\n",
              "</style>\n",
              "<table border=\"1\" class=\"dataframe\">\n",
              "  <thead>\n",
              "    <tr style=\"text-align: right;\">\n",
              "      <th></th>\n",
              "      <th>Título</th>\n",
              "      <th>Autor</th>\n",
              "      <th>Acabamento</th>\n",
              "      <th>Preço</th>\n",
              "    </tr>\n",
              "  </thead>\n",
              "  <tbody>\n",
              "    <tr>\n",
              "      <th>0</th>\n",
              "      <td>Do Mil ao Milhão. Sem Cortar o...</td>\n",
              "      <td>Thiago Nigro</td>\n",
              "      <td>Capa comum</td>\n",
              "      <td>34.90</td>\n",
              "    </tr>\n",
              "    <tr>\n",
              "      <th>1</th>\n",
              "      <td>O milagre da manhã</td>\n",
              "      <td>Hal Elrod. Marcelo Schild</td>\n",
              "      <td>Capa comum</td>\n",
              "      <td>39.90</td>\n",
              "    </tr>\n",
              "    <tr>\n",
              "      <th>2</th>\n",
              "      <td>A Sutil Arte de Ligar o F*da-Se: Uma...</td>\n",
              "      <td>Mark Manson. Joana Faro</td>\n",
              "      <td>Capa comum</td>\n",
              "      <td>34.90</td>\n",
              "    </tr>\n",
              "    <tr>\n",
              "      <th>3</th>\n",
              "      <td>Mais esperto que o diabo: O mistério...</td>\n",
              "      <td>Napoleon Hill</td>\n",
              "      <td>Capa comum</td>\n",
              "      <td>42.90</td>\n",
              "    </tr>\n",
              "    <tr>\n",
              "      <th>4</th>\n",
              "      <td>Os segredos da mente milionária</td>\n",
              "      <td>T. Harv Eker. Pedro Jorgensen Junior</td>\n",
              "      <td>Capa comum</td>\n",
              "      <td>34.90</td>\n",
              "    </tr>\n",
              "  </tbody>\n",
              "</table>\n",
              "</div>"
            ],
            "text/plain": [
              "                                    Título  ...  Preço\n",
              "0        Do Mil ao Milhão. Sem Cortar o...  ...  34.90\n",
              "1                       O milagre da manhã  ...  39.90\n",
              "2  A Sutil Arte de Ligar o F*da-Se: Uma...  ...  34.90\n",
              "3  Mais esperto que o diabo: O mistério...  ...  42.90\n",
              "4          Os segredos da mente milionária  ...  34.90\n",
              "\n",
              "[5 rows x 4 columns]"
            ]
          },
          "metadata": {
            "tags": []
          }
        },
        {
          "output_type": "stream",
          "text": [
            "\n",
            "\n",
            "https://www.amazon.com.br/b/ref=s9_acss_bw_cg_livros_3a1_w?node=7872689011&pf_rd_m=A3RN7G7QC5MWSZ&pf_rd_s=merchandised-search-13&pf_rd_r=QVZ9EYBNWVBAX5VRE6KH&pf_rd_t=101&pf_rd_p=ef6255a0-96c8-4931-bc85-1e4d682f1064&pf_rd_i=6740748011\n"
          ],
          "name": "stdout"
        },
        {
          "output_type": "display_data",
          "data": {
            "text/html": [
              "<div>\n",
              "<style scoped>\n",
              "    .dataframe tbody tr th:only-of-type {\n",
              "        vertical-align: middle;\n",
              "    }\n",
              "\n",
              "    .dataframe tbody tr th {\n",
              "        vertical-align: top;\n",
              "    }\n",
              "\n",
              "    .dataframe thead th {\n",
              "        text-align: right;\n",
              "    }\n",
              "</style>\n",
              "<table border=\"1\" class=\"dataframe\">\n",
              "  <thead>\n",
              "    <tr style=\"text-align: right;\">\n",
              "      <th></th>\n",
              "      <th>Título</th>\n",
              "      <th>Autor</th>\n",
              "      <th>Acabamento</th>\n",
              "      <th>Preço</th>\n",
              "    </tr>\n",
              "  </thead>\n",
              "  <tbody>\n",
              "    <tr>\n",
              "      <th>0</th>\n",
              "      <td>Notas Autobiográficas</td>\n",
              "      <td>Albert Einstein</td>\n",
              "      <td>Capa dura</td>\n",
              "      <td>39.90</td>\n",
              "    </tr>\n",
              "    <tr>\n",
              "      <th>1</th>\n",
              "      <td>O Jovem Törless (Biblioteca Áurea)</td>\n",
              "      <td>Robert Musil</td>\n",
              "      <td>Capa dura</td>\n",
              "      <td>39.90</td>\n",
              "    </tr>\n",
              "    <tr>\n",
              "      <th>2</th>\n",
              "      <td>Todos os Homens São Mortais</td>\n",
              "      <td>Simone De Beauvoir</td>\n",
              "      <td>Capa dura</td>\n",
              "      <td>59.90</td>\n",
              "    </tr>\n",
              "    <tr>\n",
              "      <th>3</th>\n",
              "      <td>Um Teto Todo Seu (Biblioteca Áurea)</td>\n",
              "      <td>Virginia Woolf</td>\n",
              "      <td>Capa dura</td>\n",
              "      <td>39.90</td>\n",
              "    </tr>\n",
              "    <tr>\n",
              "      <th>4</th>\n",
              "      <td>A Casa Soturna (Biblioteca Áurea)</td>\n",
              "      <td>Charles Dickens</td>\n",
              "      <td>Capa dura</td>\n",
              "      <td>79.90</td>\n",
              "    </tr>\n",
              "  </tbody>\n",
              "</table>\n",
              "</div>"
            ],
            "text/plain": [
              "                                Título               Autor Acabamento  Preço\n",
              "0                Notas Autobiográficas     Albert Einstein  Capa dura  39.90\n",
              "1   O Jovem Törless (Biblioteca Áurea)        Robert Musil  Capa dura  39.90\n",
              "2          Todos os Homens São Mortais  Simone De Beauvoir  Capa dura  59.90\n",
              "3  Um Teto Todo Seu (Biblioteca Áurea)      Virginia Woolf  Capa dura  39.90\n",
              "4    A Casa Soturna (Biblioteca Áurea)     Charles Dickens  Capa dura  79.90"
            ]
          },
          "metadata": {
            "tags": []
          }
        },
        {
          "output_type": "stream",
          "text": [
            "\n",
            "\n",
            "https://www.amazon.com.br/b/ref=s9_acss_bw_cg_livros_2a1_w?node=16495864011&pf_rd_m=A3RN7G7QC5MWSZ&pf_rd_s=merchandised-search-13&pf_rd_r=G9RQPBBW9G6ZQ5XX82M8&pf_rd_t=101&pf_rd_p=ef6255a0-96c8-4931-bc85-1e4d682f1064&pf_rd_i=6740748011\n"
          ],
          "name": "stdout"
        },
        {
          "output_type": "display_data",
          "data": {
            "text/html": [
              "<div>\n",
              "<style scoped>\n",
              "    .dataframe tbody tr th:only-of-type {\n",
              "        vertical-align: middle;\n",
              "    }\n",
              "\n",
              "    .dataframe tbody tr th {\n",
              "        vertical-align: top;\n",
              "    }\n",
              "\n",
              "    .dataframe thead th {\n",
              "        text-align: right;\n",
              "    }\n",
              "</style>\n",
              "<table border=\"1\" class=\"dataframe\">\n",
              "  <thead>\n",
              "    <tr style=\"text-align: right;\">\n",
              "      <th></th>\n",
              "      <th>Título</th>\n",
              "      <th>Autor</th>\n",
              "      <th>Acabamento</th>\n",
              "      <th>Preço</th>\n",
              "    </tr>\n",
              "  </thead>\n",
              "  <tbody>\n",
              "    <tr>\n",
              "      <th>0</th>\n",
              "      <td>Lacerda: A virtude da polêmica</td>\n",
              "      <td>Lucas Berlanza</td>\n",
              "      <td>Capa comum</td>\n",
              "      <td>46.07</td>\n",
              "    </tr>\n",
              "    <tr>\n",
              "      <th>1</th>\n",
              "      <td>SEJA UM LÍDER DE HERÓIS: COMO...</td>\n",
              "      <td>LEANDRO MOREIRA</td>\n",
              "      <td>Capa comum</td>\n",
              "      <td>34.90</td>\n",
              "    </tr>\n",
              "    <tr>\n",
              "      <th>2</th>\n",
              "      <td>Um trabalho para amar</td>\n",
              "      <td>The School of Life</td>\n",
              "      <td>Capa dura</td>\n",
              "      <td>43.52</td>\n",
              "    </tr>\n",
              "    <tr>\n",
              "      <th>3</th>\n",
              "      <td>O Jeito Peter Lynch De Investir</td>\n",
              "      <td>Peter Lynch E John Rothchild</td>\n",
              "      <td>Capa comum</td>\n",
              "      <td>49.90</td>\n",
              "    </tr>\n",
              "    <tr>\n",
              "      <th>4</th>\n",
              "      <td>O jeito Warren Buffett de investir...</td>\n",
              "      <td>Robert G. Hagstrom. Maria Silvia Mourão Netto</td>\n",
              "      <td>Capa comum</td>\n",
              "      <td>49.90</td>\n",
              "    </tr>\n",
              "  </tbody>\n",
              "</table>\n",
              "</div>"
            ],
            "text/plain": [
              "                                  Título  ...  Preço\n",
              "0         Lacerda: A virtude da polêmica  ...  46.07\n",
              "1       SEJA UM LÍDER DE HERÓIS: COMO...  ...  34.90\n",
              "2                  Um trabalho para amar  ...  43.52\n",
              "3        O Jeito Peter Lynch De Investir  ...  49.90\n",
              "4  O jeito Warren Buffett de investir...  ...  49.90\n",
              "\n",
              "[5 rows x 4 columns]"
            ]
          },
          "metadata": {
            "tags": []
          }
        },
        {
          "output_type": "stream",
          "text": [
            "\n",
            "\n",
            "https://www.amazon.com.br/b/ref=s9_acss_bw_cg_livros_2d1_w?node=11443295011&pf_rd_m=A3RN7G7QC5MWSZ&pf_rd_s=merchandised-search-13&pf_rd_r=0AC9WCXZN61JJGX49F4H&pf_rd_t=101&pf_rd_p=ef6255a0-96c8-4931-bc85-1e4d682f1064&pf_rd_i=6740748011\n"
          ],
          "name": "stdout"
        },
        {
          "output_type": "display_data",
          "data": {
            "text/html": [
              "<div>\n",
              "<style scoped>\n",
              "    .dataframe tbody tr th:only-of-type {\n",
              "        vertical-align: middle;\n",
              "    }\n",
              "\n",
              "    .dataframe tbody tr th {\n",
              "        vertical-align: top;\n",
              "    }\n",
              "\n",
              "    .dataframe thead th {\n",
              "        text-align: right;\n",
              "    }\n",
              "</style>\n",
              "<table border=\"1\" class=\"dataframe\">\n",
              "  <thead>\n",
              "    <tr style=\"text-align: right;\">\n",
              "      <th></th>\n",
              "      <th>Título</th>\n",
              "      <th>Autor</th>\n",
              "      <th>Acabamento</th>\n",
              "      <th>Preço</th>\n",
              "    </tr>\n",
              "  </thead>\n",
              "  <tbody>\n",
              "  </tbody>\n",
              "</table>\n",
              "</div>"
            ],
            "text/plain": [
              "Empty DataFrame\n",
              "Columns: [Título, Autor, Acabamento, Preço]\n",
              "Index: []"
            ]
          },
          "metadata": {
            "tags": []
          }
        },
        {
          "output_type": "stream",
          "text": [
            "\n",
            "\n",
            "https://www.amazon.com.br/b/ref=s9_acss_bw_cg_livros_4b1_w?node=17021500011&pf_rd_m=A3RN7G7QC5MWSZ&pf_rd_s=merchandised-search-13&pf_rd_r=0JX9SAGKQ4QCZ7DET92M&pf_rd_t=101&pf_rd_p=ef6255a0-96c8-4931-bc85-1e4d682f1064&pf_rd_i=6740748011\n"
          ],
          "name": "stdout"
        },
        {
          "output_type": "display_data",
          "data": {
            "text/html": [
              "<div>\n",
              "<style scoped>\n",
              "    .dataframe tbody tr th:only-of-type {\n",
              "        vertical-align: middle;\n",
              "    }\n",
              "\n",
              "    .dataframe tbody tr th {\n",
              "        vertical-align: top;\n",
              "    }\n",
              "\n",
              "    .dataframe thead th {\n",
              "        text-align: right;\n",
              "    }\n",
              "</style>\n",
              "<table border=\"1\" class=\"dataframe\">\n",
              "  <thead>\n",
              "    <tr style=\"text-align: right;\">\n",
              "      <th></th>\n",
              "      <th>Título</th>\n",
              "      <th>Autor</th>\n",
              "      <th>Acabamento</th>\n",
              "      <th>Preço</th>\n",
              "    </tr>\n",
              "  </thead>\n",
              "  <tbody>\n",
              "    <tr>\n",
              "      <th>0</th>\n",
              "      <td>Manual de Direito Civil - Volume Único</td>\n",
              "      <td>Flavio Tartuce</td>\n",
              "      <td>Capa comum</td>\n",
              "      <td>268.00</td>\n",
              "    </tr>\n",
              "    <tr>\n",
              "      <th>1</th>\n",
              "      <td>Vade Mecum Acadêmico de Direito</td>\n",
              "      <td>Anne Joyce Angher</td>\n",
              "      <td>Capa dura</td>\n",
              "      <td>195.00</td>\n",
              "    </tr>\n",
              "    <tr>\n",
              "      <th>2</th>\n",
              "      <td>Direito Processual Civil Esquematizado</td>\n",
              "      <td>Marcus Vinicius Rios Gonçalves. Pedro Lenza</td>\n",
              "      <td>Capa comum</td>\n",
              "      <td>200.00</td>\n",
              "    </tr>\n",
              "    <tr>\n",
              "      <th>3</th>\n",
              "      <td>Vade Mecum Universitário de Direito</td>\n",
              "      <td>Anne Joyce Angher</td>\n",
              "      <td>Espiral</td>\n",
              "      <td>159.90</td>\n",
              "    </tr>\n",
              "    <tr>\n",
              "      <th>4</th>\n",
              "      <td>Vade Mecum Compacto de Direito</td>\n",
              "      <td>Equipe Rideel</td>\n",
              "      <td>Capa comum</td>\n",
              "      <td>149.90</td>\n",
              "    </tr>\n",
              "  </tbody>\n",
              "</table>\n",
              "</div>"
            ],
            "text/plain": [
              "                                   Título  ...   Preço\n",
              "0  Manual de Direito Civil - Volume Único  ...  268.00\n",
              "1         Vade Mecum Acadêmico de Direito  ...  195.00\n",
              "2  Direito Processual Civil Esquematizado  ...  200.00\n",
              "3     Vade Mecum Universitário de Direito  ...  159.90\n",
              "4          Vade Mecum Compacto de Direito  ...  149.90\n",
              "\n",
              "[5 rows x 4 columns]"
            ]
          },
          "metadata": {
            "tags": []
          }
        },
        {
          "output_type": "stream",
          "text": [
            "\n",
            "\n",
            "https://www.amazon.com.br/b/ref=s9_acss_bw_cg_livros_2c1_w?node=7882627011&pf_rd_m=A3RN7G7QC5MWSZ&pf_rd_s=merchandised-search-13&pf_rd_r=068FWS2KD5K5K0RGNXRY&pf_rd_t=101&pf_rd_p=ef6255a0-96c8-4931-bc85-1e4d682f1064&pf_rd_i=6740748011\n"
          ],
          "name": "stdout"
        },
        {
          "output_type": "display_data",
          "data": {
            "text/html": [
              "<div>\n",
              "<style scoped>\n",
              "    .dataframe tbody tr th:only-of-type {\n",
              "        vertical-align: middle;\n",
              "    }\n",
              "\n",
              "    .dataframe tbody tr th {\n",
              "        vertical-align: top;\n",
              "    }\n",
              "\n",
              "    .dataframe thead th {\n",
              "        text-align: right;\n",
              "    }\n",
              "</style>\n",
              "<table border=\"1\" class=\"dataframe\">\n",
              "  <thead>\n",
              "    <tr style=\"text-align: right;\">\n",
              "      <th></th>\n",
              "      <th>Título</th>\n",
              "      <th>Autor</th>\n",
              "      <th>Acabamento</th>\n",
              "      <th>Preço</th>\n",
              "    </tr>\n",
              "  </thead>\n",
              "  <tbody>\n",
              "  </tbody>\n",
              "</table>\n",
              "</div>"
            ],
            "text/plain": [
              "Empty DataFrame\n",
              "Columns: [Título, Autor, Acabamento, Preço]\n",
              "Index: []"
            ]
          },
          "metadata": {
            "tags": []
          }
        },
        {
          "output_type": "stream",
          "text": [
            "\n",
            "\n",
            "https://www.amazon.com.br/b/ref=s9_acss_bw_cg_livros_2b1_w?node=16271670011&pf_rd_m=A3RN7G7QC5MWSZ&pf_rd_s=merchandised-search-13&pf_rd_r=068FWS2KD5K5K0RGNXRY&pf_rd_t=101&pf_rd_p=ef6255a0-96c8-4931-bc85-1e4d682f1064&pf_rd_i=6740748011\n"
          ],
          "name": "stdout"
        },
        {
          "output_type": "display_data",
          "data": {
            "text/html": [
              "<div>\n",
              "<style scoped>\n",
              "    .dataframe tbody tr th:only-of-type {\n",
              "        vertical-align: middle;\n",
              "    }\n",
              "\n",
              "    .dataframe tbody tr th {\n",
              "        vertical-align: top;\n",
              "    }\n",
              "\n",
              "    .dataframe thead th {\n",
              "        text-align: right;\n",
              "    }\n",
              "</style>\n",
              "<table border=\"1\" class=\"dataframe\">\n",
              "  <thead>\n",
              "    <tr style=\"text-align: right;\">\n",
              "      <th></th>\n",
              "      <th>Título</th>\n",
              "      <th>Autor</th>\n",
              "      <th>Acabamento</th>\n",
              "      <th>Preço</th>\n",
              "    </tr>\n",
              "  </thead>\n",
              "  <tbody>\n",
              "    <tr>\n",
              "      <th>0</th>\n",
              "      <td>O poder da ação</td>\n",
              "      <td>Paulo Vieira</td>\n",
              "      <td>Capa comum</td>\n",
              "      <td>34.90</td>\n",
              "    </tr>\n",
              "    <tr>\n",
              "      <th>1</th>\n",
              "      <td>Os segredos da mente milionária</td>\n",
              "      <td>T. Harv Eker. Pedro Jorgensen Junior</td>\n",
              "      <td>Capa comum</td>\n",
              "      <td>34.90</td>\n",
              "    </tr>\n",
              "    <tr>\n",
              "      <th>2</th>\n",
              "      <td>Fahrenheit 451</td>\n",
              "      <td>Ray Bradbury. Cid Knipel</td>\n",
              "      <td>Capa comum</td>\n",
              "      <td>39.90</td>\n",
              "    </tr>\n",
              "    <tr>\n",
              "      <th>3</th>\n",
              "      <td>O conto da aia</td>\n",
              "      <td>Margaret Atwood. Ana Deiró</td>\n",
              "      <td>Capa comum</td>\n",
              "      <td>44.50</td>\n",
              "    </tr>\n",
              "    <tr>\n",
              "      <th>4</th>\n",
              "      <td>Pai rico. pai pobre 20 anos</td>\n",
              "      <td>Robert Kiyosaki</td>\n",
              "      <td>Capa comum</td>\n",
              "      <td>79.90</td>\n",
              "    </tr>\n",
              "  </tbody>\n",
              "</table>\n",
              "</div>"
            ],
            "text/plain": [
              "                            Título  ...  Preço\n",
              "0                  O poder da ação  ...  34.90\n",
              "1  Os segredos da mente milionária  ...  34.90\n",
              "2                   Fahrenheit 451  ...  39.90\n",
              "3                   O conto da aia  ...  44.50\n",
              "4      Pai rico. pai pobre 20 anos  ...  79.90\n",
              "\n",
              "[5 rows x 4 columns]"
            ]
          },
          "metadata": {
            "tags": []
          }
        },
        {
          "output_type": "stream",
          "text": [
            "\n",
            "\n",
            "https://www.amazon.com.br/b/ref=s9_acss_bw_cg_livros_3b1_w?node=7842710011&pf_rd_m=A3RN7G7QC5MWSZ&pf_rd_s=merchandised-search-13&pf_rd_r=068FWS2KD5K5K0RGNXRY&pf_rd_t=101&pf_rd_p=ef6255a0-96c8-4931-bc85-1e4d682f1064&pf_rd_i=6740748011\n"
          ],
          "name": "stdout"
        },
        {
          "output_type": "display_data",
          "data": {
            "text/html": [
              "<div>\n",
              "<style scoped>\n",
              "    .dataframe tbody tr th:only-of-type {\n",
              "        vertical-align: middle;\n",
              "    }\n",
              "\n",
              "    .dataframe tbody tr th {\n",
              "        vertical-align: top;\n",
              "    }\n",
              "\n",
              "    .dataframe thead th {\n",
              "        text-align: right;\n",
              "    }\n",
              "</style>\n",
              "<table border=\"1\" class=\"dataframe\">\n",
              "  <thead>\n",
              "    <tr style=\"text-align: right;\">\n",
              "      <th></th>\n",
              "      <th>Título</th>\n",
              "      <th>Autor</th>\n",
              "      <th>Acabamento</th>\n",
              "      <th>Preço</th>\n",
              "    </tr>\n",
              "  </thead>\n",
              "  <tbody>\n",
              "    <tr>\n",
              "      <th>0</th>\n",
              "      <td>O Eternauta 1969</td>\n",
              "      <td>Héctor Germán Oesterheld. alberto Breccia...</td>\n",
              "      <td>Capa dura</td>\n",
              "      <td>31.40</td>\n",
              "    </tr>\n",
              "    <tr>\n",
              "      <th>1</th>\n",
              "      <td>Akira - Volume  4</td>\n",
              "      <td>Katsuhiro Otomo</td>\n",
              "      <td>Capa comum</td>\n",
              "      <td>76.90</td>\n",
              "    </tr>\n",
              "    <tr>\n",
              "      <th>2</th>\n",
              "      <td>Battle Angel Alita - Vol. 4</td>\n",
              "      <td>Yukito Kishiro</td>\n",
              "      <td>Capa comum</td>\n",
              "      <td>44.90</td>\n",
              "    </tr>\n",
              "    <tr>\n",
              "      <th>3</th>\n",
              "      <td>Battle Angel Alita - Vol. 3</td>\n",
              "      <td>Yukito Kishiro</td>\n",
              "      <td>Capa comum</td>\n",
              "      <td>44.90</td>\n",
              "    </tr>\n",
              "    <tr>\n",
              "      <th>4</th>\n",
              "      <td>Battle Angel Alita - Vol. 1</td>\n",
              "      <td>Yukito Kishiro</td>\n",
              "      <td>Capa comum</td>\n",
              "      <td>44.90</td>\n",
              "    </tr>\n",
              "  </tbody>\n",
              "</table>\n",
              "</div>"
            ],
            "text/plain": [
              "                        Título  ...  Preço\n",
              "0             O Eternauta 1969  ...  31.40\n",
              "1            Akira - Volume  4  ...  76.90\n",
              "2  Battle Angel Alita - Vol. 4  ...  44.90\n",
              "3  Battle Angel Alita - Vol. 3  ...  44.90\n",
              "4  Battle Angel Alita - Vol. 1  ...  44.90\n",
              "\n",
              "[5 rows x 4 columns]"
            ]
          },
          "metadata": {
            "tags": []
          }
        },
        {
          "output_type": "stream",
          "text": [
            "\n",
            "\n",
            "https://www.amazon.com.br/b/ref=s9_acss_bw_cg_livros_3d1_w?node=7872552011&pf_rd_m=A3RN7G7QC5MWSZ&pf_rd_s=merchandised-search-13&pf_rd_r=068FWS2KD5K5K0RGNXRY&pf_rd_t=101&pf_rd_p=ef6255a0-96c8-4931-bc85-1e4d682f1064&pf_rd_i=6740748011\n"
          ],
          "name": "stdout"
        },
        {
          "output_type": "display_data",
          "data": {
            "text/html": [
              "<div>\n",
              "<style scoped>\n",
              "    .dataframe tbody tr th:only-of-type {\n",
              "        vertical-align: middle;\n",
              "    }\n",
              "\n",
              "    .dataframe tbody tr th {\n",
              "        vertical-align: top;\n",
              "    }\n",
              "\n",
              "    .dataframe thead th {\n",
              "        text-align: right;\n",
              "    }\n",
              "</style>\n",
              "<table border=\"1\" class=\"dataframe\">\n",
              "  <thead>\n",
              "    <tr style=\"text-align: right;\">\n",
              "      <th></th>\n",
              "      <th>Título</th>\n",
              "      <th>Autor</th>\n",
              "      <th>Acabamento</th>\n",
              "      <th>Preço</th>\n",
              "    </tr>\n",
              "  </thead>\n",
              "  <tbody>\n",
              "    <tr>\n",
              "      <th>0</th>\n",
              "      <td>Confeitaria escalafobética...</td>\n",
              "      <td>Raiza Costa</td>\n",
              "      <td>Capa dura</td>\n",
              "      <td>98.00</td>\n",
              "    </tr>\n",
              "    <tr>\n",
              "      <th>1</th>\n",
              "      <td>A química dos bolos: Receitas e...</td>\n",
              "      <td>Joyce Galvão</td>\n",
              "      <td>Capa dura</td>\n",
              "      <td>129.90</td>\n",
              "    </tr>\n",
              "    <tr>\n",
              "      <th>2</th>\n",
              "      <td>Le Cordon Bleu : Todas as técnicas...</td>\n",
              "      <td>Jeni Wright. Eric Treuille</td>\n",
              "      <td>Capa dura</td>\n",
              "      <td>249.90</td>\n",
              "    </tr>\n",
              "    <tr>\n",
              "      <th>3</th>\n",
              "      <td>O Que Tem na Geladeira? 30 Legumes e...</td>\n",
              "      <td>Rita Lobo</td>\n",
              "      <td>Capa dura</td>\n",
              "      <td>86.00</td>\n",
              "    </tr>\n",
              "    <tr>\n",
              "      <th>4</th>\n",
              "      <td>Cozinha prática</td>\n",
              "      <td>Rita Lobo</td>\n",
              "      <td>Capa dura</td>\n",
              "      <td>90.00</td>\n",
              "    </tr>\n",
              "  </tbody>\n",
              "</table>\n",
              "</div>"
            ],
            "text/plain": [
              "                                    Título  ...   Preço\n",
              "0            Confeitaria escalafobética...  ...   98.00\n",
              "1       A química dos bolos: Receitas e...  ...  129.90\n",
              "2    Le Cordon Bleu : Todas as técnicas...  ...  249.90\n",
              "3  O Que Tem na Geladeira? 30 Legumes e...  ...   86.00\n",
              "4                          Cozinha prática  ...   90.00\n",
              "\n",
              "[5 rows x 4 columns]"
            ]
          },
          "metadata": {
            "tags": []
          }
        },
        {
          "output_type": "stream",
          "text": [
            "\n",
            "\n",
            "https://www.amazon.com.br/b/ref=s9_acss_bw_cg_livros_4d1_w?node=5475882011&pf_rd_m=A3RN7G7QC5MWSZ&pf_rd_s=merchandised-search-13&pf_rd_r=068FWS2KD5K5K0RGNXRY&pf_rd_t=101&pf_rd_p=ef6255a0-96c8-4931-bc85-1e4d682f1064&pf_rd_i=6740748011\n"
          ],
          "name": "stdout"
        },
        {
          "output_type": "display_data",
          "data": {
            "text/html": [
              "<div>\n",
              "<style scoped>\n",
              "    .dataframe tbody tr th:only-of-type {\n",
              "        vertical-align: middle;\n",
              "    }\n",
              "\n",
              "    .dataframe tbody tr th {\n",
              "        vertical-align: top;\n",
              "    }\n",
              "\n",
              "    .dataframe thead th {\n",
              "        text-align: right;\n",
              "    }\n",
              "</style>\n",
              "<table border=\"1\" class=\"dataframe\">\n",
              "  <thead>\n",
              "    <tr style=\"text-align: right;\">\n",
              "      <th></th>\n",
              "      <th>Título</th>\n",
              "      <th>Autor</th>\n",
              "      <th>Acabamento</th>\n",
              "      <th>Preço</th>\n",
              "    </tr>\n",
              "  </thead>\n",
              "  <tbody>\n",
              "    <tr>\n",
              "      <th>0</th>\n",
              "      <td>Laranja mecânica</td>\n",
              "      <td>Anthony Burgess</td>\n",
              "      <td>eBook Kindle</td>\n",
              "      <td>18.15</td>\n",
              "    </tr>\n",
              "    <tr>\n",
              "      <th>1</th>\n",
              "      <td>O Processo</td>\n",
              "      <td>Franz Kafka</td>\n",
              "      <td>eBook Kindle</td>\n",
              "      <td>2.54</td>\n",
              "    </tr>\n",
              "    <tr>\n",
              "      <th>2</th>\n",
              "      <td>As Aventuras de Tom Sawyer: Texto...</td>\n",
              "      <td>Mark Twain. Kerem Freitas...</td>\n",
              "      <td>eBook Kindle</td>\n",
              "      <td>17.91</td>\n",
              "    </tr>\n",
              "    <tr>\n",
              "      <th>3</th>\n",
              "      <td>O conde de Monte Cristo: edição bolso...</td>\n",
              "      <td>Alexandre Dumas</td>\n",
              "      <td>eBook Kindle</td>\n",
              "      <td>39.90</td>\n",
              "    </tr>\n",
              "    <tr>\n",
              "      <th>4</th>\n",
              "      <td>Jane Eyre (Edição Bilíngue)</td>\n",
              "      <td>Charlotte Bronte. Fabio Cyrino...</td>\n",
              "      <td>eBook Kindle</td>\n",
              "      <td>8.91</td>\n",
              "    </tr>\n",
              "  </tbody>\n",
              "</table>\n",
              "</div>"
            ],
            "text/plain": [
              "                                     Título  ...  Preço\n",
              "0                          Laranja mecânica  ...  18.15\n",
              "1                                O Processo  ...   2.54\n",
              "2      As Aventuras de Tom Sawyer: Texto...  ...  17.91\n",
              "3  O conde de Monte Cristo: edição bolso...  ...  39.90\n",
              "4               Jane Eyre (Edição Bilíngue)  ...   8.91\n",
              "\n",
              "[5 rows x 4 columns]"
            ]
          },
          "metadata": {
            "tags": []
          }
        },
        {
          "output_type": "stream",
          "text": [
            "\n",
            "\n"
          ],
          "name": "stdout"
        }
      ]
    },
    {
      "cell_type": "markdown",
      "metadata": {
        "id": "EaPK2h3wEfVb",
        "colab_type": "text"
      },
      "source": [
        "### Information from a single book"
      ]
    },
    {
      "cell_type": "code",
      "metadata": {
        "id": "VsI3NaVn2e3W",
        "colab_type": "code",
        "colab": {}
      },
      "source": [
        "# url = 'https://www.amazon.com.br/Livros/b?ie=UTF8&node=6740748011&ref_=nav_books_all'\n",
        "\n",
        "# Amazon_col(url)[:10]"
      ],
      "execution_count": 0,
      "outputs": []
    },
    {
      "cell_type": "code",
      "metadata": {
        "id": "n8agT_oB3Ovt",
        "colab_type": "code",
        "colab": {}
      },
      "source": [
        "# 'https://www.amazon.com.br/Mil-Milh%C3%A3o-Sem-Cortar-Cafezinho/dp/8595083274/ref=sr_1_1?__mk_pt_BR=%C3%85M%C3%85%C5%BD%C3%95%C3%91&keywords=Do+Mil+ao+Milh%C3%A3o.+Sem+Cortar&qid=1568583440&s=books&sr=1-1'\n",
        "# 'https://www.amazon.com.br/milagre-manh%C3%A3-Hal-Elrod/dp/8576849941/ref=sr_1_1?__mk_pt_BR=%C3%85M%C3%85%C5%BD%C3%95%C3%91&keywords=O+milagre+da+manh%C3%A3&qid=1568583491&s=gateway&sr=8-1'\n",
        "# 'https://www.amazon.com.br/Sutil-Arte-Ligar-Se/dp/855100249X/ref=sr_1_1?__mk_pt_BR=%C3%85M%C3%85%C5%BD%C3%95%C3%91&crid=2RL0TN82EOIU0&keywords=a+sutil+arte+de+ligar+o+foda-se&qid=1568583959&s=books&sprefix=a+sutil%2Cstripbooks%2C281&sr=1-1'\n",
        "# 'https://www.amazon.com.br/Esperto-Mist%C3%A9rio-Revelado-Liberdade-Sucesso/dp/8568014003/ref=sr_1_1?__mk_pt_BR=%C3%85M%C3%85%C5%BD%C3%95%C3%91&keywords=Mais+esperto+que+o+diabo%3A+O+mist%C3%A9rio&qid=1568583579&s=books&sr=1-1'\n",
        "# 'https://www.amazon.com.br/segredos-mente-milion%C3%A1ria-Harv-Eker/dp/8575422391/ref=sr_1_1?__mk_pt_BR=%C3%85M%C3%85%C5%BD%C3%95%C3%91&keywords=Os+segredos+da+mente+milion%C3%A1ria&qid=1568583626&s=books&sr=1-1'\n",
        "# 'https://www.amazon.com.br/Pai-rico-pai-pobre-anos/dp/8550801488/ref=sr_1_1?__mk_pt_BR=%C3%85M%C3%85%C5%BD%C3%95%C3%91&keywords=Pai+rico.+pai+pobre+20+anos&qid=1568583668&s=books&sr=1-1'\n",
        "# 'https://www.amazon.com.br/B%C3%ADblia-King-James-Atualizada/dp/8544105661/ref=sr_1_1?__mk_pt_BR=%C3%85M%C3%85%C5%BD%C3%95%C3%91&keywords=B%C3%ADblia+King+James+Atualizada&qid=1568583720&s=books&sr=1-1'\n",
        "# 'https://www.amazon.com.br/poder-a%C3%A7%C3%A3o-Paulo-Vieira/dp/854520034X/ref=sr_1_1?__mk_pt_BR=%C3%85M%C3%85%C5%BD%C3%95%C3%91&keywords=O+poder+da+a%C3%A7%C3%A3o&qid=1568583773&s=books&sr=1-1'\n",
        "# 'https://www.amazon.com.br/Como-Fazer-Amigos-Influenciar-Pessoas/dp/8504018024/ref=sr_1_1?__mk_pt_BR=%C3%85M%C3%85%C5%BD%C3%95%C3%91&keywords=Como+Fazer+Amigos+e+Influenciar+Pessoas&qid=1568583810&s=books&sr=1-1'\n",
        "# 'https://www.amazon.com.br/Me-Poupe-passos-faltar-dinheiro/dp/8543105811/ref=sr_1_1?__mk_pt_BR=%C3%85M%C3%85%C5%BD%C3%95%C3%91&keywords=Me+Poupe%21%3A+10+passos+para+nunca+mais...&qid=1568583858&s=books&sr=1-1'\n",
        "\n",
        "url_down_list = [r'/content/Do Mil ao Milhão. Sem Cortar o Cafezinho. - 9788595083271 - Livros na Amazon Brasil.html',\n",
        "                  r'/content/O milagre da manhã - 9788576849940 - Livros na Amazon Brasil.html',\n",
        "                  r'/content/A Sutil Arte de Ligar o F_da-Se_ Uma estratégia inusitada para uma vida melhor - 9788551002490 - Livros na Amazon Brasil.html',\n",
        "                  r'/content/Mais esperto que o diabo_ O mistério revelado da liberdade e do sucesso - 9788568014004 - Livros na Amazon Brasil.html',\n",
        "                  r'/content/Os segredos da mente milionária - 9788575422397 - Livros na Amazon Brasil.html',\n",
        "                  r'/content/Pai rico, pai pobre 20 anos - 9788550801483 - Livros na Amazon Brasil.html',\n",
        "                  r'/content/Bíblia King James Atualizada - 9788544105665 - Livros na Amazon Brasil.html',\n",
        "                  r'/content/O poder da ação - 9788545200345 - Livros na Amazon Brasil.html',\n",
        "                  r'/content/Como Fazer Amigos e Influenciar Pessoas - 9788504018028 - Livros na Amazon Brasil.html',\n",
        "                  r'/content/Me Poupe!_ 10 passos para nunca mais faltar dinheiro no seu bolso - 9788543105819 - Livros na Amazon Brasil.html']\n",
        "\n"
      ],
      "execution_count": 0,
      "outputs": []
    },
    {
      "cell_type": "code",
      "metadata": {
        "id": "lZ-dhdGq7V8T",
        "colab_type": "code",
        "colab": {}
      },
      "source": [
        "def amazon_single(site):\n",
        "  # page = rq.get(url)\n",
        "  # # print(page.text)\n",
        "\n",
        "  # soup = bs(page.text,\"html.parser\")\n",
        "  \n",
        "  soup = bs(open(site),\"html.parser\")\n",
        "\n",
        "  title = (soup.find('span', {'id':'productTitle'})).text\n",
        "  \n",
        "  author = (soup.find('span', {'class':'author notFaded'})).find('a',{'class':'a-link-normal'}).text\n",
        "  \n",
        "  book = soup.find('div', {'class':'content'}).find_all('li')[:5]\n",
        " \n",
        "  n_pages = book[0].contents[1].strip().split(' ')[0]\n",
        "  \n",
        "  publishing = book[1].contents[1].strip().split(';')[0]\n",
        "  \n",
        "  language = book[2].contents[1].strip()\n",
        "  \n",
        "  cols = ['Título', 'Autor', 'Nº Páginas', 'Editora', 'Idioma']\n",
        "\n",
        "  list_info = [title, author, n_pages, publishing, language]\n",
        "  list_info\n",
        "  book_pd = pd.DataFrame([list_info],\\\n",
        "                        columns=cols)\n",
        "  \n",
        "  return book_pd"
      ],
      "execution_count": 0,
      "outputs": []
    },
    {
      "cell_type": "code",
      "metadata": {
        "id": "_Rsu6xii7t4k",
        "colab_type": "code",
        "outputId": "9c0f14d0-1a8d-4d4e-82cf-b237edf26938",
        "colab": {
          "base_uri": "https://localhost:8080/",
          "height": 1000
        }
      },
      "source": [
        "for book in url_down_list:\n",
        "  print(book,'\\n')\n",
        "  display(amazon_single(book))\n",
        "  print('\\n')"
      ],
      "execution_count": 0,
      "outputs": [
        {
          "output_type": "stream",
          "text": [
            "/content/Do Mil ao Milhão. Sem Cortar o Cafezinho. - 9788595083271 - Livros na Amazon Brasil.html \n",
            "\n"
          ],
          "name": "stdout"
        },
        {
          "output_type": "display_data",
          "data": {
            "text/html": [
              "<div>\n",
              "<style scoped>\n",
              "    .dataframe tbody tr th:only-of-type {\n",
              "        vertical-align: middle;\n",
              "    }\n",
              "\n",
              "    .dataframe tbody tr th {\n",
              "        vertical-align: top;\n",
              "    }\n",
              "\n",
              "    .dataframe thead th {\n",
              "        text-align: right;\n",
              "    }\n",
              "</style>\n",
              "<table border=\"1\" class=\"dataframe\">\n",
              "  <thead>\n",
              "    <tr style=\"text-align: right;\">\n",
              "      <th></th>\n",
              "      <th>Título</th>\n",
              "      <th>Autor</th>\n",
              "      <th>Nº Páginas</th>\n",
              "      <th>Editora</th>\n",
              "      <th>Idioma</th>\n",
              "    </tr>\n",
              "  </thead>\n",
              "  <tbody>\n",
              "    <tr>\n",
              "      <th>0</th>\n",
              "      <td>Do Mil ao Milhão. Sem Cortar o Cafezinho.</td>\n",
              "      <td>Thiago Nigro</td>\n",
              "      <td>192</td>\n",
              "      <td>HarperCollins</td>\n",
              "      <td>Português</td>\n",
              "    </tr>\n",
              "  </tbody>\n",
              "</table>\n",
              "</div>"
            ],
            "text/plain": [
              "                                      Título  ...     Idioma\n",
              "0  Do Mil ao Milhão. Sem Cortar o Cafezinho.  ...  Português\n",
              "\n",
              "[1 rows x 5 columns]"
            ]
          },
          "metadata": {
            "tags": []
          }
        },
        {
          "output_type": "stream",
          "text": [
            "\n",
            "\n",
            "/content/O milagre da manhã - 9788576849940 - Livros na Amazon Brasil.html \n",
            "\n"
          ],
          "name": "stdout"
        },
        {
          "output_type": "display_data",
          "data": {
            "text/html": [
              "<div>\n",
              "<style scoped>\n",
              "    .dataframe tbody tr th:only-of-type {\n",
              "        vertical-align: middle;\n",
              "    }\n",
              "\n",
              "    .dataframe tbody tr th {\n",
              "        vertical-align: top;\n",
              "    }\n",
              "\n",
              "    .dataframe thead th {\n",
              "        text-align: right;\n",
              "    }\n",
              "</style>\n",
              "<table border=\"1\" class=\"dataframe\">\n",
              "  <thead>\n",
              "    <tr style=\"text-align: right;\">\n",
              "      <th></th>\n",
              "      <th>Título</th>\n",
              "      <th>Autor</th>\n",
              "      <th>Nº Páginas</th>\n",
              "      <th>Editora</th>\n",
              "      <th>Idioma</th>\n",
              "    </tr>\n",
              "  </thead>\n",
              "  <tbody>\n",
              "    <tr>\n",
              "      <th>0</th>\n",
              "      <td>O milagre da manhã</td>\n",
              "      <td>Hal Elrod</td>\n",
              "      <td>196</td>\n",
              "      <td>BestSeller</td>\n",
              "      <td>Português</td>\n",
              "    </tr>\n",
              "  </tbody>\n",
              "</table>\n",
              "</div>"
            ],
            "text/plain": [
              "               Título      Autor Nº Páginas     Editora     Idioma\n",
              "0  O milagre da manhã  Hal Elrod        196  BestSeller  Português"
            ]
          },
          "metadata": {
            "tags": []
          }
        },
        {
          "output_type": "stream",
          "text": [
            "\n",
            "\n",
            "/content/A Sutil Arte de Ligar o F_da-Se_ Uma estratégia inusitada para uma vida melhor - 9788551002490 - Livros na Amazon Brasil.html \n",
            "\n"
          ],
          "name": "stdout"
        },
        {
          "output_type": "display_data",
          "data": {
            "text/html": [
              "<div>\n",
              "<style scoped>\n",
              "    .dataframe tbody tr th:only-of-type {\n",
              "        vertical-align: middle;\n",
              "    }\n",
              "\n",
              "    .dataframe tbody tr th {\n",
              "        vertical-align: top;\n",
              "    }\n",
              "\n",
              "    .dataframe thead th {\n",
              "        text-align: right;\n",
              "    }\n",
              "</style>\n",
              "<table border=\"1\" class=\"dataframe\">\n",
              "  <thead>\n",
              "    <tr style=\"text-align: right;\">\n",
              "      <th></th>\n",
              "      <th>Título</th>\n",
              "      <th>Autor</th>\n",
              "      <th>Nº Páginas</th>\n",
              "      <th>Editora</th>\n",
              "      <th>Idioma</th>\n",
              "    </tr>\n",
              "  </thead>\n",
              "  <tbody>\n",
              "    <tr>\n",
              "      <th>0</th>\n",
              "      <td>A Sutil Arte de Ligar o F*da-Se: Uma estratégi...</td>\n",
              "      <td>Mark Manson</td>\n",
              "      <td>224</td>\n",
              "      <td>Intrínseca</td>\n",
              "      <td>Português</td>\n",
              "    </tr>\n",
              "  </tbody>\n",
              "</table>\n",
              "</div>"
            ],
            "text/plain": [
              "                                              Título  ...     Idioma\n",
              "0  A Sutil Arte de Ligar o F*da-Se: Uma estratégi...  ...  Português\n",
              "\n",
              "[1 rows x 5 columns]"
            ]
          },
          "metadata": {
            "tags": []
          }
        },
        {
          "output_type": "stream",
          "text": [
            "\n",
            "\n",
            "/content/Mais esperto que o diabo_ O mistério revelado da liberdade e do sucesso - 9788568014004 - Livros na Amazon Brasil.html \n",
            "\n"
          ],
          "name": "stdout"
        },
        {
          "output_type": "display_data",
          "data": {
            "text/html": [
              "<div>\n",
              "<style scoped>\n",
              "    .dataframe tbody tr th:only-of-type {\n",
              "        vertical-align: middle;\n",
              "    }\n",
              "\n",
              "    .dataframe tbody tr th {\n",
              "        vertical-align: top;\n",
              "    }\n",
              "\n",
              "    .dataframe thead th {\n",
              "        text-align: right;\n",
              "    }\n",
              "</style>\n",
              "<table border=\"1\" class=\"dataframe\">\n",
              "  <thead>\n",
              "    <tr style=\"text-align: right;\">\n",
              "      <th></th>\n",
              "      <th>Título</th>\n",
              "      <th>Autor</th>\n",
              "      <th>Nº Páginas</th>\n",
              "      <th>Editora</th>\n",
              "      <th>Idioma</th>\n",
              "    </tr>\n",
              "  </thead>\n",
              "  <tbody>\n",
              "    <tr>\n",
              "      <th>0</th>\n",
              "      <td>Mais esperto que o diabo: O mistério revelado ...</td>\n",
              "      <td>Napoleon Hill</td>\n",
              "      <td>200</td>\n",
              "      <td>Citadel Editora</td>\n",
              "      <td>Português</td>\n",
              "    </tr>\n",
              "  </tbody>\n",
              "</table>\n",
              "</div>"
            ],
            "text/plain": [
              "                                              Título  ...     Idioma\n",
              "0  Mais esperto que o diabo: O mistério revelado ...  ...  Português\n",
              "\n",
              "[1 rows x 5 columns]"
            ]
          },
          "metadata": {
            "tags": []
          }
        },
        {
          "output_type": "stream",
          "text": [
            "\n",
            "\n",
            "/content/Os segredos da mente milionária - 9788575422397 - Livros na Amazon Brasil.html \n",
            "\n"
          ],
          "name": "stdout"
        },
        {
          "output_type": "display_data",
          "data": {
            "text/html": [
              "<div>\n",
              "<style scoped>\n",
              "    .dataframe tbody tr th:only-of-type {\n",
              "        vertical-align: middle;\n",
              "    }\n",
              "\n",
              "    .dataframe tbody tr th {\n",
              "        vertical-align: top;\n",
              "    }\n",
              "\n",
              "    .dataframe thead th {\n",
              "        text-align: right;\n",
              "    }\n",
              "</style>\n",
              "<table border=\"1\" class=\"dataframe\">\n",
              "  <thead>\n",
              "    <tr style=\"text-align: right;\">\n",
              "      <th></th>\n",
              "      <th>Título</th>\n",
              "      <th>Autor</th>\n",
              "      <th>Nº Páginas</th>\n",
              "      <th>Editora</th>\n",
              "      <th>Idioma</th>\n",
              "    </tr>\n",
              "  </thead>\n",
              "  <tbody>\n",
              "    <tr>\n",
              "      <th>0</th>\n",
              "      <td>Os segredos da mente milionária</td>\n",
              "      <td>T. Harv Eker</td>\n",
              "      <td>176</td>\n",
              "      <td>Editora Sextante</td>\n",
              "      <td>Português</td>\n",
              "    </tr>\n",
              "  </tbody>\n",
              "</table>\n",
              "</div>"
            ],
            "text/plain": [
              "                            Título         Autor  ...           Editora     Idioma\n",
              "0  Os segredos da mente milionária  T. Harv Eker  ...  Editora Sextante  Português\n",
              "\n",
              "[1 rows x 5 columns]"
            ]
          },
          "metadata": {
            "tags": []
          }
        },
        {
          "output_type": "stream",
          "text": [
            "\n",
            "\n",
            "/content/Pai rico, pai pobre 20 anos - 9788550801483 - Livros na Amazon Brasil.html \n",
            "\n"
          ],
          "name": "stdout"
        },
        {
          "output_type": "display_data",
          "data": {
            "text/html": [
              "<div>\n",
              "<style scoped>\n",
              "    .dataframe tbody tr th:only-of-type {\n",
              "        vertical-align: middle;\n",
              "    }\n",
              "\n",
              "    .dataframe tbody tr th {\n",
              "        vertical-align: top;\n",
              "    }\n",
              "\n",
              "    .dataframe thead th {\n",
              "        text-align: right;\n",
              "    }\n",
              "</style>\n",
              "<table border=\"1\" class=\"dataframe\">\n",
              "  <thead>\n",
              "    <tr style=\"text-align: right;\">\n",
              "      <th></th>\n",
              "      <th>Título</th>\n",
              "      <th>Autor</th>\n",
              "      <th>Nº Páginas</th>\n",
              "      <th>Editora</th>\n",
              "      <th>Idioma</th>\n",
              "    </tr>\n",
              "  </thead>\n",
              "  <tbody>\n",
              "    <tr>\n",
              "      <th>0</th>\n",
              "      <td>Pai rico, pai pobre 20 anos</td>\n",
              "      <td>Robert Kiyosaki</td>\n",
              "      <td>336</td>\n",
              "      <td>Alta Books</td>\n",
              "      <td>Português</td>\n",
              "    </tr>\n",
              "  </tbody>\n",
              "</table>\n",
              "</div>"
            ],
            "text/plain": [
              "                        Título            Autor  ...     Editora     Idioma\n",
              "0  Pai rico, pai pobre 20 anos  Robert Kiyosaki  ...  Alta Books  Português\n",
              "\n",
              "[1 rows x 5 columns]"
            ]
          },
          "metadata": {
            "tags": []
          }
        },
        {
          "output_type": "stream",
          "text": [
            "\n",
            "\n",
            "/content/Bíblia King James Atualizada - 9788544105665 - Livros na Amazon Brasil.html \n",
            "\n"
          ],
          "name": "stdout"
        },
        {
          "output_type": "display_data",
          "data": {
            "text/html": [
              "<div>\n",
              "<style scoped>\n",
              "    .dataframe tbody tr th:only-of-type {\n",
              "        vertical-align: middle;\n",
              "    }\n",
              "\n",
              "    .dataframe tbody tr th {\n",
              "        vertical-align: top;\n",
              "    }\n",
              "\n",
              "    .dataframe thead th {\n",
              "        text-align: right;\n",
              "    }\n",
              "</style>\n",
              "<table border=\"1\" class=\"dataframe\">\n",
              "  <thead>\n",
              "    <tr style=\"text-align: right;\">\n",
              "      <th></th>\n",
              "      <th>Título</th>\n",
              "      <th>Autor</th>\n",
              "      <th>Nº Páginas</th>\n",
              "      <th>Editora</th>\n",
              "      <th>Idioma</th>\n",
              "    </tr>\n",
              "  </thead>\n",
              "  <tbody>\n",
              "    <tr>\n",
              "      <th>0</th>\n",
              "      <td>Bíblia King James Atualizada</td>\n",
              "      <td>King James</td>\n",
              "      <td>1472</td>\n",
              "      <td>LeYa</td>\n",
              "      <td>Português</td>\n",
              "    </tr>\n",
              "  </tbody>\n",
              "</table>\n",
              "</div>"
            ],
            "text/plain": [
              "                         Título       Autor Nº Páginas Editora     Idioma\n",
              "0  Bíblia King James Atualizada  King James       1472    LeYa  Português"
            ]
          },
          "metadata": {
            "tags": []
          }
        },
        {
          "output_type": "stream",
          "text": [
            "\n",
            "\n",
            "/content/O poder da ação - 9788545200345 - Livros na Amazon Brasil.html \n",
            "\n"
          ],
          "name": "stdout"
        },
        {
          "output_type": "display_data",
          "data": {
            "text/html": [
              "<div>\n",
              "<style scoped>\n",
              "    .dataframe tbody tr th:only-of-type {\n",
              "        vertical-align: middle;\n",
              "    }\n",
              "\n",
              "    .dataframe tbody tr th {\n",
              "        vertical-align: top;\n",
              "    }\n",
              "\n",
              "    .dataframe thead th {\n",
              "        text-align: right;\n",
              "    }\n",
              "</style>\n",
              "<table border=\"1\" class=\"dataframe\">\n",
              "  <thead>\n",
              "    <tr style=\"text-align: right;\">\n",
              "      <th></th>\n",
              "      <th>Título</th>\n",
              "      <th>Autor</th>\n",
              "      <th>Nº Páginas</th>\n",
              "      <th>Editora</th>\n",
              "      <th>Idioma</th>\n",
              "    </tr>\n",
              "  </thead>\n",
              "  <tbody>\n",
              "    <tr>\n",
              "      <th>0</th>\n",
              "      <td>O poder da ação</td>\n",
              "      <td>Paulo Vieira</td>\n",
              "      <td>256</td>\n",
              "      <td>Gente</td>\n",
              "      <td>Português</td>\n",
              "    </tr>\n",
              "  </tbody>\n",
              "</table>\n",
              "</div>"
            ],
            "text/plain": [
              "            Título         Autor Nº Páginas Editora     Idioma\n",
              "0  O poder da ação  Paulo Vieira        256   Gente  Português"
            ]
          },
          "metadata": {
            "tags": []
          }
        },
        {
          "output_type": "stream",
          "text": [
            "\n",
            "\n",
            "/content/Como Fazer Amigos e Influenciar Pessoas - 9788504018028 - Livros na Amazon Brasil.html \n",
            "\n"
          ],
          "name": "stdout"
        },
        {
          "output_type": "display_data",
          "data": {
            "text/html": [
              "<div>\n",
              "<style scoped>\n",
              "    .dataframe tbody tr th:only-of-type {\n",
              "        vertical-align: middle;\n",
              "    }\n",
              "\n",
              "    .dataframe tbody tr th {\n",
              "        vertical-align: top;\n",
              "    }\n",
              "\n",
              "    .dataframe thead th {\n",
              "        text-align: right;\n",
              "    }\n",
              "</style>\n",
              "<table border=\"1\" class=\"dataframe\">\n",
              "  <thead>\n",
              "    <tr style=\"text-align: right;\">\n",
              "      <th></th>\n",
              "      <th>Título</th>\n",
              "      <th>Autor</th>\n",
              "      <th>Nº Páginas</th>\n",
              "      <th>Editora</th>\n",
              "      <th>Idioma</th>\n",
              "    </tr>\n",
              "  </thead>\n",
              "  <tbody>\n",
              "    <tr>\n",
              "      <th>0</th>\n",
              "      <td>Como Fazer Amigos e Influenciar Pessoas</td>\n",
              "      <td>Dale Carnegie</td>\n",
              "      <td>264</td>\n",
              "      <td>Companhia Editora Nacional</td>\n",
              "      <td>Português</td>\n",
              "    </tr>\n",
              "  </tbody>\n",
              "</table>\n",
              "</div>"
            ],
            "text/plain": [
              "                                    Título  ...     Idioma\n",
              "0  Como Fazer Amigos e Influenciar Pessoas  ...  Português\n",
              "\n",
              "[1 rows x 5 columns]"
            ]
          },
          "metadata": {
            "tags": []
          }
        },
        {
          "output_type": "stream",
          "text": [
            "\n",
            "\n",
            "/content/Me Poupe!_ 10 passos para nunca mais faltar dinheiro no seu bolso - 9788543105819 - Livros na Amazon Brasil.html \n",
            "\n"
          ],
          "name": "stdout"
        },
        {
          "output_type": "display_data",
          "data": {
            "text/html": [
              "<div>\n",
              "<style scoped>\n",
              "    .dataframe tbody tr th:only-of-type {\n",
              "        vertical-align: middle;\n",
              "    }\n",
              "\n",
              "    .dataframe tbody tr th {\n",
              "        vertical-align: top;\n",
              "    }\n",
              "\n",
              "    .dataframe thead th {\n",
              "        text-align: right;\n",
              "    }\n",
              "</style>\n",
              "<table border=\"1\" class=\"dataframe\">\n",
              "  <thead>\n",
              "    <tr style=\"text-align: right;\">\n",
              "      <th></th>\n",
              "      <th>Título</th>\n",
              "      <th>Autor</th>\n",
              "      <th>Nº Páginas</th>\n",
              "      <th>Editora</th>\n",
              "      <th>Idioma</th>\n",
              "    </tr>\n",
              "  </thead>\n",
              "  <tbody>\n",
              "    <tr>\n",
              "      <th>0</th>\n",
              "      <td>Me Poupe!: 10 passos para nunca mais faltar di...</td>\n",
              "      <td>Nathalia Arcuri</td>\n",
              "      <td>176</td>\n",
              "      <td>Editora Sextante</td>\n",
              "      <td>Português</td>\n",
              "    </tr>\n",
              "  </tbody>\n",
              "</table>\n",
              "</div>"
            ],
            "text/plain": [
              "                                              Título  ...     Idioma\n",
              "0  Me Poupe!: 10 passos para nunca mais faltar di...  ...  Português\n",
              "\n",
              "[1 rows x 5 columns]"
            ]
          },
          "metadata": {
            "tags": []
          }
        },
        {
          "output_type": "stream",
          "text": [
            "\n",
            "\n"
          ],
          "name": "stdout"
        }
      ]
    },
    {
      "cell_type": "markdown",
      "metadata": {
        "id": "FhA79U77AHhy",
        "colab_type": "text"
      },
      "source": [
        "##SUBMARINO <-- As requisições não funcionam"
      ]
    },
    {
      "cell_type": "code",
      "metadata": {
        "id": "DrKriQT_AMxb",
        "colab_type": "code",
        "colab": {}
      },
      "source": [
        "# url = 'https://www.submarino.com.br/produto/129142202/livro-cujo?pfm_carac=Stephen%20King&pfm_index=6&pfm_page=author&pfm_pos=grid&pfm_type=vit_product_grid&sellerId'\n",
        "# url = 'https://www.submarino.com.br/produto/133133721?DCSext.recom=RR_item_page.rr1-ClickEV&nm_origem=rec_item_page.rr1-ClickEV&nm_ranking_rec=2'\n",
        "url = 'https://www.submarino.com.br/autor/stephen-king?chave=prf_hi_at_lig_3_stephen-king'"
      ],
      "execution_count": 0,
      "outputs": []
    },
    {
      "cell_type": "code",
      "metadata": {
        "id": "qZWA6gXtxr3U",
        "colab_type": "code",
        "colab": {}
      },
      "source": [
        "page = rq.get(url)\n",
        "  # print(page.text)\n",
        "\n",
        "soup = bs(page.text,\"html.parser\")"
      ],
      "execution_count": 0,
      "outputs": []
    },
    {
      "cell_type": "code",
      "metadata": {
        "id": "HiGETpvgxtic",
        "colab_type": "code",
        "colab": {}
      },
      "source": [
        ""
      ],
      "execution_count": 0,
      "outputs": []
    },
    {
      "cell_type": "markdown",
      "metadata": {
        "id": "jTCEiDOGyxxe",
        "colab_type": "text"
      },
      "source": [
        "## SARAIVA"
      ]
    },
    {
      "cell_type": "code",
      "metadata": {
        "id": "9c4QFc9ayz6D",
        "colab_type": "code",
        "colab": {}
      },
      "source": [
        "sar_url_list = ['https://www.saraiva.com.br/it-a-coisa-7697879/p',\n",
        "                'https://www.saraiva.com.br/a-barraca-do-beijo-edicao-economica-10601621/p',\n",
        "                'https://www.saraiva.com.br/mulheres-cultura-e-politica-9727683/p',\n",
        "                'https://www.saraiva.com.br/ma-feminista-ensaios-provocativos-de-uma-ativista-desastrosa-9342733/p',\n",
        "                'https://www.saraiva.com.br/empodere-se-10182962/p',\n",
        "                'https://www.saraiva.com.br/persepolis-completo-1999282/p',\n",
        "                'https://www.saraiva.com.br/fome-uma-autobiografia-do-meu-corpo-9888989/p',\n",
        "                'https://www.saraiva.com.br/no-seu-pescoco-9727573/p',\n",
        "                'https://www.saraiva.com.br/mulheres-cultura-e-politica-9727683/p',\n",
        "                'https://www.saraiva.com.br/sejamos-todos-feministas-8592230/p']"
      ],
      "execution_count": 0,
      "outputs": []
    },
    {
      "cell_type": "code",
      "metadata": {
        "id": "mlBDXliJ6Mrg",
        "colab_type": "code",
        "colab": {}
      },
      "source": [
        "def saraiva_single(site):\n",
        "  page = rq.get(site)\n",
        "\n",
        "  soup = bs(page.text,\"html.parser\")\n",
        "\n",
        "  title = soup.find('div', {'class':'product-review'}).h1.text\n",
        "\n",
        "  infos = soup.find('table', {'class':'group Caracteristicas'})\n",
        "\n",
        "  author = infos.find('td', {'class':'value-field Autor'}).text\n",
        "\n",
        "  n_pages = infos.find('td', {'class':'value-field Numero-de-Paginas'}).text\n",
        "\n",
        "  language = infos.find('td', {'class':'value-field Idioma'}).text\n",
        "\n",
        "  binding = infos.find('td', {'class':'value-field Acabamento'}).text\n",
        "\n",
        "  cols = ['Título', 'Autor', 'Nº Páginas', 'Acabamento', 'Idioma']\n",
        "\n",
        "  list_info = [title, author, n_pages, binding, language]\n",
        "  list_info\n",
        "  book_pd = pd.DataFrame([list_info],\\\n",
        "                        columns=cols)\n",
        "\n",
        "  return book_pd"
      ],
      "execution_count": 0,
      "outputs": []
    },
    {
      "cell_type": "code",
      "metadata": {
        "id": "zQalDjMs5qT5",
        "colab_type": "code",
        "colab": {
          "base_uri": "https://localhost:8080/",
          "height": 1000
        },
        "outputId": "94288372-dd81-4126-adfb-212f26aa7f0c"
      },
      "source": [
        "for url in sar_url_list:\n",
        "  print(url)\n",
        "  display(saraiva_single(url))\n",
        "  print('\\n')"
      ],
      "execution_count": 52,
      "outputs": [
        {
          "output_type": "stream",
          "text": [
            "https://www.saraiva.com.br/it-a-coisa-7697879/p\n"
          ],
          "name": "stdout"
        },
        {
          "output_type": "display_data",
          "data": {
            "text/html": [
              "<div>\n",
              "<style scoped>\n",
              "    .dataframe tbody tr th:only-of-type {\n",
              "        vertical-align: middle;\n",
              "    }\n",
              "\n",
              "    .dataframe tbody tr th {\n",
              "        vertical-align: top;\n",
              "    }\n",
              "\n",
              "    .dataframe thead th {\n",
              "        text-align: right;\n",
              "    }\n",
              "</style>\n",
              "<table border=\"1\" class=\"dataframe\">\n",
              "  <thead>\n",
              "    <tr style=\"text-align: right;\">\n",
              "      <th></th>\n",
              "      <th>Título</th>\n",
              "      <th>Autor</th>\n",
              "      <th>Nº Páginas</th>\n",
              "      <th>Acabamento</th>\n",
              "      <th>Idioma</th>\n",
              "    </tr>\n",
              "  </thead>\n",
              "  <tbody>\n",
              "    <tr>\n",
              "      <th>0</th>\n",
              "      <td>It - A Coisa</td>\n",
              "      <td>King,Stephen</td>\n",
              "      <td>1104</td>\n",
              "      <td>Brochura</td>\n",
              "      <td>Português</td>\n",
              "    </tr>\n",
              "  </tbody>\n",
              "</table>\n",
              "</div>"
            ],
            "text/plain": [
              "         Título         Autor Nº Páginas Acabamento     Idioma\n",
              "0  It - A Coisa  King,Stephen       1104   Brochura  Português"
            ]
          },
          "metadata": {
            "tags": []
          }
        },
        {
          "output_type": "stream",
          "text": [
            "\n",
            "\n",
            "https://www.saraiva.com.br/a-barraca-do-beijo-edicao-economica-10601621/p\n"
          ],
          "name": "stdout"
        },
        {
          "output_type": "display_data",
          "data": {
            "text/html": [
              "<div>\n",
              "<style scoped>\n",
              "    .dataframe tbody tr th:only-of-type {\n",
              "        vertical-align: middle;\n",
              "    }\n",
              "\n",
              "    .dataframe tbody tr th {\n",
              "        vertical-align: top;\n",
              "    }\n",
              "\n",
              "    .dataframe thead th {\n",
              "        text-align: right;\n",
              "    }\n",
              "</style>\n",
              "<table border=\"1\" class=\"dataframe\">\n",
              "  <thead>\n",
              "    <tr style=\"text-align: right;\">\n",
              "      <th></th>\n",
              "      <th>Título</th>\n",
              "      <th>Autor</th>\n",
              "      <th>Nº Páginas</th>\n",
              "      <th>Acabamento</th>\n",
              "      <th>Idioma</th>\n",
              "    </tr>\n",
              "  </thead>\n",
              "  <tbody>\n",
              "    <tr>\n",
              "      <th>0</th>\n",
              "      <td>A Barraca do Beijo - Edição Econômica</td>\n",
              "      <td>Reekles,Beeth</td>\n",
              "      <td>336</td>\n",
              "      <td>Brochura</td>\n",
              "      <td>Português</td>\n",
              "    </tr>\n",
              "  </tbody>\n",
              "</table>\n",
              "</div>"
            ],
            "text/plain": [
              "                                  Título          Autor  ... Acabamento     Idioma\n",
              "0  A Barraca do Beijo - Edição Econômica  Reekles,Beeth  ...   Brochura  Português\n",
              "\n",
              "[1 rows x 5 columns]"
            ]
          },
          "metadata": {
            "tags": []
          }
        },
        {
          "output_type": "stream",
          "text": [
            "\n",
            "\n",
            "https://www.saraiva.com.br/mulheres-cultura-e-politica-9727683/p\n"
          ],
          "name": "stdout"
        },
        {
          "output_type": "display_data",
          "data": {
            "text/html": [
              "<div>\n",
              "<style scoped>\n",
              "    .dataframe tbody tr th:only-of-type {\n",
              "        vertical-align: middle;\n",
              "    }\n",
              "\n",
              "    .dataframe tbody tr th {\n",
              "        vertical-align: top;\n",
              "    }\n",
              "\n",
              "    .dataframe thead th {\n",
              "        text-align: right;\n",
              "    }\n",
              "</style>\n",
              "<table border=\"1\" class=\"dataframe\">\n",
              "  <thead>\n",
              "    <tr style=\"text-align: right;\">\n",
              "      <th></th>\n",
              "      <th>Título</th>\n",
              "      <th>Autor</th>\n",
              "      <th>Nº Páginas</th>\n",
              "      <th>Acabamento</th>\n",
              "      <th>Idioma</th>\n",
              "    </tr>\n",
              "  </thead>\n",
              "  <tbody>\n",
              "    <tr>\n",
              "      <th>0</th>\n",
              "      <td>Mulheres, Cultura e Política</td>\n",
              "      <td>Davis,Angela, Davis,Angela</td>\n",
              "      <td>200</td>\n",
              "      <td>Brochura</td>\n",
              "      <td>Português</td>\n",
              "    </tr>\n",
              "  </tbody>\n",
              "</table>\n",
              "</div>"
            ],
            "text/plain": [
              "                         Título  ...     Idioma\n",
              "0  Mulheres, Cultura e Política  ...  Português\n",
              "\n",
              "[1 rows x 5 columns]"
            ]
          },
          "metadata": {
            "tags": []
          }
        },
        {
          "output_type": "stream",
          "text": [
            "\n",
            "\n",
            "https://www.saraiva.com.br/ma-feminista-ensaios-provocativos-de-uma-ativista-desastrosa-9342733/p\n"
          ],
          "name": "stdout"
        },
        {
          "output_type": "display_data",
          "data": {
            "text/html": [
              "<div>\n",
              "<style scoped>\n",
              "    .dataframe tbody tr th:only-of-type {\n",
              "        vertical-align: middle;\n",
              "    }\n",
              "\n",
              "    .dataframe tbody tr th {\n",
              "        vertical-align: top;\n",
              "    }\n",
              "\n",
              "    .dataframe thead th {\n",
              "        text-align: right;\n",
              "    }\n",
              "</style>\n",
              "<table border=\"1\" class=\"dataframe\">\n",
              "  <thead>\n",
              "    <tr style=\"text-align: right;\">\n",
              "      <th></th>\n",
              "      <th>Título</th>\n",
              "      <th>Autor</th>\n",
              "      <th>Nº Páginas</th>\n",
              "      <th>Acabamento</th>\n",
              "      <th>Idioma</th>\n",
              "    </tr>\n",
              "  </thead>\n",
              "  <tbody>\n",
              "    <tr>\n",
              "      <th>0</th>\n",
              "      <td>Má Feminista - Ensaios Provocativos de Uma Ati...</td>\n",
              "      <td>Tassia De Carvalho</td>\n",
              "      <td>312</td>\n",
              "      <td>Brochura</td>\n",
              "      <td>Português</td>\n",
              "    </tr>\n",
              "  </tbody>\n",
              "</table>\n",
              "</div>"
            ],
            "text/plain": [
              "                                              Título  ...     Idioma\n",
              "0  Má Feminista - Ensaios Provocativos de Uma Ati...  ...  Português\n",
              "\n",
              "[1 rows x 5 columns]"
            ]
          },
          "metadata": {
            "tags": []
          }
        },
        {
          "output_type": "stream",
          "text": [
            "\n",
            "\n",
            "https://www.saraiva.com.br/empodere-se-10182962/p\n"
          ],
          "name": "stdout"
        },
        {
          "output_type": "display_data",
          "data": {
            "text/html": [
              "<div>\n",
              "<style scoped>\n",
              "    .dataframe tbody tr th:only-of-type {\n",
              "        vertical-align: middle;\n",
              "    }\n",
              "\n",
              "    .dataframe tbody tr th {\n",
              "        vertical-align: top;\n",
              "    }\n",
              "\n",
              "    .dataframe thead th {\n",
              "        text-align: right;\n",
              "    }\n",
              "</style>\n",
              "<table border=\"1\" class=\"dataframe\">\n",
              "  <thead>\n",
              "    <tr style=\"text-align: right;\">\n",
              "      <th></th>\n",
              "      <th>Título</th>\n",
              "      <th>Autor</th>\n",
              "      <th>Nº Páginas</th>\n",
              "      <th>Acabamento</th>\n",
              "      <th>Idioma</th>\n",
              "    </tr>\n",
              "  </thead>\n",
              "  <tbody>\n",
              "    <tr>\n",
              "      <th>0</th>\n",
              "      <td>Empodere-Se</td>\n",
              "      <td>Fanucci,Maynara, Fanucci,Maynara</td>\n",
              "      <td>240</td>\n",
              "      <td>Brochura</td>\n",
              "      <td>Português</td>\n",
              "    </tr>\n",
              "  </tbody>\n",
              "</table>\n",
              "</div>"
            ],
            "text/plain": [
              "        Título                             Autor  ... Acabamento     Idioma\n",
              "0  Empodere-Se  Fanucci,Maynara, Fanucci,Maynara  ...   Brochura  Português\n",
              "\n",
              "[1 rows x 5 columns]"
            ]
          },
          "metadata": {
            "tags": []
          }
        },
        {
          "output_type": "stream",
          "text": [
            "\n",
            "\n",
            "https://www.saraiva.com.br/persepolis-completo-1999282/p\n"
          ],
          "name": "stdout"
        },
        {
          "output_type": "display_data",
          "data": {
            "text/html": [
              "<div>\n",
              "<style scoped>\n",
              "    .dataframe tbody tr th:only-of-type {\n",
              "        vertical-align: middle;\n",
              "    }\n",
              "\n",
              "    .dataframe tbody tr th {\n",
              "        vertical-align: top;\n",
              "    }\n",
              "\n",
              "    .dataframe thead th {\n",
              "        text-align: right;\n",
              "    }\n",
              "</style>\n",
              "<table border=\"1\" class=\"dataframe\">\n",
              "  <thead>\n",
              "    <tr style=\"text-align: right;\">\n",
              "      <th></th>\n",
              "      <th>Título</th>\n",
              "      <th>Autor</th>\n",
              "      <th>Nº Páginas</th>\n",
              "      <th>Acabamento</th>\n",
              "      <th>Idioma</th>\n",
              "    </tr>\n",
              "  </thead>\n",
              "  <tbody>\n",
              "    <tr>\n",
              "      <th>0</th>\n",
              "      <td>Persépolis Completo</td>\n",
              "      <td>Satrapi,Marjane</td>\n",
              "      <td>352</td>\n",
              "      <td>Brochura</td>\n",
              "      <td>Português</td>\n",
              "    </tr>\n",
              "  </tbody>\n",
              "</table>\n",
              "</div>"
            ],
            "text/plain": [
              "                Título            Autor Nº Páginas Acabamento     Idioma\n",
              "0  Persépolis Completo  Satrapi,Marjane        352   Brochura  Português"
            ]
          },
          "metadata": {
            "tags": []
          }
        },
        {
          "output_type": "stream",
          "text": [
            "\n",
            "\n",
            "https://www.saraiva.com.br/fome-uma-autobiografia-do-meu-corpo-9888989/p\n"
          ],
          "name": "stdout"
        },
        {
          "output_type": "display_data",
          "data": {
            "text/html": [
              "<div>\n",
              "<style scoped>\n",
              "    .dataframe tbody tr th:only-of-type {\n",
              "        vertical-align: middle;\n",
              "    }\n",
              "\n",
              "    .dataframe tbody tr th {\n",
              "        vertical-align: top;\n",
              "    }\n",
              "\n",
              "    .dataframe thead th {\n",
              "        text-align: right;\n",
              "    }\n",
              "</style>\n",
              "<table border=\"1\" class=\"dataframe\">\n",
              "  <thead>\n",
              "    <tr style=\"text-align: right;\">\n",
              "      <th></th>\n",
              "      <th>Título</th>\n",
              "      <th>Autor</th>\n",
              "      <th>Nº Páginas</th>\n",
              "      <th>Acabamento</th>\n",
              "      <th>Idioma</th>\n",
              "    </tr>\n",
              "  </thead>\n",
              "  <tbody>\n",
              "    <tr>\n",
              "      <th>0</th>\n",
              "      <td>Fome - Uma Autobiografia Do (Meu) Corpo</td>\n",
              "      <td>Gay,Roxane</td>\n",
              "      <td>272</td>\n",
              "      <td>Brochura</td>\n",
              "      <td>Português</td>\n",
              "    </tr>\n",
              "  </tbody>\n",
              "</table>\n",
              "</div>"
            ],
            "text/plain": [
              "                                    Título       Autor  ... Acabamento     Idioma\n",
              "0  Fome - Uma Autobiografia Do (Meu) Corpo  Gay,Roxane  ...   Brochura  Português\n",
              "\n",
              "[1 rows x 5 columns]"
            ]
          },
          "metadata": {
            "tags": []
          }
        },
        {
          "output_type": "stream",
          "text": [
            "\n",
            "\n",
            "https://www.saraiva.com.br/no-seu-pescoco-9727573/p\n"
          ],
          "name": "stdout"
        },
        {
          "output_type": "display_data",
          "data": {
            "text/html": [
              "<div>\n",
              "<style scoped>\n",
              "    .dataframe tbody tr th:only-of-type {\n",
              "        vertical-align: middle;\n",
              "    }\n",
              "\n",
              "    .dataframe tbody tr th {\n",
              "        vertical-align: top;\n",
              "    }\n",
              "\n",
              "    .dataframe thead th {\n",
              "        text-align: right;\n",
              "    }\n",
              "</style>\n",
              "<table border=\"1\" class=\"dataframe\">\n",
              "  <thead>\n",
              "    <tr style=\"text-align: right;\">\n",
              "      <th></th>\n",
              "      <th>Título</th>\n",
              "      <th>Autor</th>\n",
              "      <th>Nº Páginas</th>\n",
              "      <th>Acabamento</th>\n",
              "      <th>Idioma</th>\n",
              "    </tr>\n",
              "  </thead>\n",
              "  <tbody>\n",
              "    <tr>\n",
              "      <th>0</th>\n",
              "      <td>No Seu Pescoço</td>\n",
              "      <td>Adichie,Chimamanda Ngozi</td>\n",
              "      <td>256</td>\n",
              "      <td>Brochura</td>\n",
              "      <td>Português</td>\n",
              "    </tr>\n",
              "  </tbody>\n",
              "</table>\n",
              "</div>"
            ],
            "text/plain": [
              "           Título                     Autor Nº Páginas Acabamento     Idioma\n",
              "0  No Seu Pescoço  Adichie,Chimamanda Ngozi        256   Brochura  Português"
            ]
          },
          "metadata": {
            "tags": []
          }
        },
        {
          "output_type": "stream",
          "text": [
            "\n",
            "\n",
            "https://www.saraiva.com.br/mulheres-cultura-e-politica-9727683/p\n"
          ],
          "name": "stdout"
        },
        {
          "output_type": "display_data",
          "data": {
            "text/html": [
              "<div>\n",
              "<style scoped>\n",
              "    .dataframe tbody tr th:only-of-type {\n",
              "        vertical-align: middle;\n",
              "    }\n",
              "\n",
              "    .dataframe tbody tr th {\n",
              "        vertical-align: top;\n",
              "    }\n",
              "\n",
              "    .dataframe thead th {\n",
              "        text-align: right;\n",
              "    }\n",
              "</style>\n",
              "<table border=\"1\" class=\"dataframe\">\n",
              "  <thead>\n",
              "    <tr style=\"text-align: right;\">\n",
              "      <th></th>\n",
              "      <th>Título</th>\n",
              "      <th>Autor</th>\n",
              "      <th>Nº Páginas</th>\n",
              "      <th>Acabamento</th>\n",
              "      <th>Idioma</th>\n",
              "    </tr>\n",
              "  </thead>\n",
              "  <tbody>\n",
              "    <tr>\n",
              "      <th>0</th>\n",
              "      <td>Mulheres, Cultura e Política</td>\n",
              "      <td>Davis,Angela, Davis,Angela</td>\n",
              "      <td>200</td>\n",
              "      <td>Brochura</td>\n",
              "      <td>Português</td>\n",
              "    </tr>\n",
              "  </tbody>\n",
              "</table>\n",
              "</div>"
            ],
            "text/plain": [
              "                         Título  ...     Idioma\n",
              "0  Mulheres, Cultura e Política  ...  Português\n",
              "\n",
              "[1 rows x 5 columns]"
            ]
          },
          "metadata": {
            "tags": []
          }
        },
        {
          "output_type": "stream",
          "text": [
            "\n",
            "\n",
            "https://www.saraiva.com.br/sejamos-todos-feministas-8592230/p\n"
          ],
          "name": "stdout"
        },
        {
          "output_type": "display_data",
          "data": {
            "text/html": [
              "<div>\n",
              "<style scoped>\n",
              "    .dataframe tbody tr th:only-of-type {\n",
              "        vertical-align: middle;\n",
              "    }\n",
              "\n",
              "    .dataframe tbody tr th {\n",
              "        vertical-align: top;\n",
              "    }\n",
              "\n",
              "    .dataframe thead th {\n",
              "        text-align: right;\n",
              "    }\n",
              "</style>\n",
              "<table border=\"1\" class=\"dataframe\">\n",
              "  <thead>\n",
              "    <tr style=\"text-align: right;\">\n",
              "      <th></th>\n",
              "      <th>Título</th>\n",
              "      <th>Autor</th>\n",
              "      <th>Nº Páginas</th>\n",
              "      <th>Acabamento</th>\n",
              "      <th>Idioma</th>\n",
              "    </tr>\n",
              "  </thead>\n",
              "  <tbody>\n",
              "    <tr>\n",
              "      <th>0</th>\n",
              "      <td>Sejamos Todos Feministas</td>\n",
              "      <td>Adichie,Chimamanda Ngozi</td>\n",
              "      <td>64</td>\n",
              "      <td>Brochura</td>\n",
              "      <td>Português</td>\n",
              "    </tr>\n",
              "  </tbody>\n",
              "</table>\n",
              "</div>"
            ],
            "text/plain": [
              "                     Título                     Autor  ... Acabamento     Idioma\n",
              "0  Sejamos Todos Feministas  Adichie,Chimamanda Ngozi  ...   Brochura  Português\n",
              "\n",
              "[1 rows x 5 columns]"
            ]
          },
          "metadata": {
            "tags": []
          }
        },
        {
          "output_type": "stream",
          "text": [
            "\n",
            "\n"
          ],
          "name": "stdout"
        }
      ]
    },
    {
      "cell_type": "code",
      "metadata": {
        "id": "isQISZzo68mb",
        "colab_type": "code",
        "colab": {}
      },
      "source": [
        ""
      ],
      "execution_count": 0,
      "outputs": []
    }
  ]
}