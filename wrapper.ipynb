{
  "nbformat": 4,
  "nbformat_minor": 0,
  "metadata": {
    "colab": {
      "name": "wrapper.ipynb",
      "version": "0.3.2",
      "provenance": [],
      "collapsed_sections": [],
      "include_colab_link": true
    },
    "kernelspec": {
      "name": "python3",
      "display_name": "Python 3"
    },
    "accelerator": "GPU"
  },
  "cells": [
    {
      "cell_type": "markdown",
      "metadata": {
        "id": "view-in-github",
        "colab_type": "text"
      },
      "source": [
        "<a href=\"https://colab.research.google.com/github/cmlins/recuperacaoDeInformacao/blob/master/wrapper.ipynb\" target=\"_parent\"><img src=\"https://colab.research.google.com/assets/colab-badge.svg\" alt=\"Open In Colab\"/></a>"
      ]
    },
    {
      "cell_type": "code",
      "metadata": {
        "id": "NAIV006BGuhB",
        "colab_type": "code",
        "colab": {}
      },
      "source": [
        "import pandas as pd\n",
        "import numpy as np\n",
        "from bs4 import BeautifulSoup as bs\n",
        "import requests as rq\n",
        "import re"
      ],
      "execution_count": 0,
      "outputs": []
    },
    {
      "cell_type": "markdown",
      "metadata": {
        "id": "ZNyZgOdxHRP_",
        "colab_type": "text"
      },
      "source": [
        "### Bulas"
      ]
    },
    {
      "cell_type": "markdown",
      "metadata": {
        "id": "7k54E704BubW",
        "colab_type": "text"
      },
      "source": [
        "Request da página e parser usando BeautifulSoup"
      ]
    },
    {
      "cell_type": "code",
      "metadata": {
        "id": "34o4kymkLM0M",
        "colab_type": "code",
        "colab": {}
      },
      "source": [
        "# url = \"https://consultaremedios.com.br/buscoduo/p\"\n",
        "# url = 'https://consultaremedios.com.br/neocopan-composto-comprimido/p'\n",
        "# url = 'https://consultaremedios.com.br/cefaliv/p'\n",
        "url = 'https://consultaremedios.com.br/doril-enxaqueca/p'\n",
        "\n",
        "page = rq.get(url)\n",
        "# print(page.text)\n",
        "\n",
        "soup = bs(page.text,\"html.parser\")\n",
        "# print(soup.prettify())"
      ],
      "execution_count": 0,
      "outputs": []
    },
    {
      "cell_type": "markdown",
      "metadata": {
        "id": "w5dKNCg-CB7I",
        "colab_type": "text"
      },
      "source": [
        "Coleta de informações sobre o medicamento e criação do dataframe com as informações"
      ]
    },
    {
      "cell_type": "code",
      "metadata": {
        "id": "Rq3xsPR8O4gA",
        "colab_type": "code",
        "colab": {}
      },
      "source": [
        "name_div = soup.find('div', {'class':'product-header-wrapper'})\n",
        "\n",
        "name = name_div.h1.text\n",
        "# print(name)\n",
        "\n",
        "info_col = []\n",
        "info_res = []\n",
        "\n",
        "data = soup.find_all(\"div\", {\"class\": \"extra-infos-block\"})\n",
        "\n",
        "for info in data:\n",
        "  info_col.append(info.h3.contents[0])\n",
        "  info_res.append(info.text)\n",
        "  \n",
        "for i in range(len(info_res)):\n",
        "  spl = info_col[i]\n",
        "  info_res[i] = (info_res[i].split(spl)[1])\n",
        "  \n",
        "info_col.insert(0, 'Medicamento')\n",
        "info_res.insert(0, name)\n",
        "\n",
        "# print(info_col)\n",
        "# print(info_res)\n",
        "\n",
        "list_drug=[]\n",
        "\n",
        "list_drug.append(dict(zip(info_col,\\\n",
        "                          info_res)))\n",
        "\n",
        "pd_drug = pd.DataFrame(list_drug,\\\n",
        "                       columns=info_col)"
      ],
      "execution_count": 0,
      "outputs": []
    },
    {
      "cell_type": "code",
      "metadata": {
        "id": "DrWDh8bl9BxT",
        "colab_type": "code",
        "outputId": "9020b3de-4a97-43c8-9cbf-24788c24b0d5",
        "colab": {
          "base_uri": "https://localhost:8080/",
          "height": 114
        }
      },
      "source": [
        "pd_drug"
      ],
      "execution_count": 4,
      "outputs": [
        {
          "output_type": "execute_result",
          "data": {
            "text/html": [
              "<div>\n",
              "<style scoped>\n",
              "    .dataframe tbody tr th:only-of-type {\n",
              "        vertical-align: middle;\n",
              "    }\n",
              "\n",
              "    .dataframe tbody tr th {\n",
              "        vertical-align: top;\n",
              "    }\n",
              "\n",
              "    .dataframe thead th {\n",
              "        text-align: right;\n",
              "    }\n",
              "</style>\n",
              "<table border=\"1\" class=\"dataframe\">\n",
              "  <thead>\n",
              "    <tr style=\"text-align: right;\">\n",
              "      <th></th>\n",
              "      <th>Medicamento</th>\n",
              "      <th>Fabricante</th>\n",
              "      <th>Tipo do Medicamento</th>\n",
              "      <th>Necessita de Receita</th>\n",
              "      <th>Princípio Ativo</th>\n",
              "      <th>Categoria do Medicamento</th>\n",
              "      <th>Classe Terapêutica</th>\n",
              "      <th>Especialidades</th>\n",
              "    </tr>\n",
              "  </thead>\n",
              "  <tbody>\n",
              "    <tr>\n",
              "      <th>0</th>\n",
              "      <td>Doril Enxaqueca</td>\n",
              "      <td>Cosmed</td>\n",
              "      <td>Medicamento Similar</td>\n",
              "      <td>Não, Isento de Prescrição Médica</td>\n",
              "      <td>Ácido Acetilsalicílico + Cafeína + Paracetamol</td>\n",
              "      <td>Dor de Cabeça e Enxaqueca</td>\n",
              "      <td>Todos As Outras Preparações Antienxaquecosas</td>\n",
              "      <td>Ginecologia, Otorrinolaringologia</td>\n",
              "    </tr>\n",
              "  </tbody>\n",
              "</table>\n",
              "</div>"
            ],
            "text/plain": [
              "       Medicamento  ...                     Especialidades\n",
              "0  Doril Enxaqueca  ...  Ginecologia, Otorrinolaringologia\n",
              "\n",
              "[1 rows x 8 columns]"
            ]
          },
          "metadata": {
            "tags": []
          },
          "execution_count": 4
        }
      ]
    },
    {
      "cell_type": "markdown",
      "metadata": {
        "id": "w9rKRF8CJARk",
        "colab_type": "text"
      },
      "source": [
        "#### Página com vários medicamentos"
      ]
    },
    {
      "cell_type": "code",
      "metadata": {
        "id": "4ROK39ra-2pz",
        "colab_type": "code",
        "colab": {}
      },
      "source": [
        "url = 'https://consultaremedios.com.br/aparelho-respiratorio/rinite-e-sinusite/c'\n",
        "\n",
        "page = rq.get(url)\n",
        "# print(page.text)\n",
        "\n",
        "soup = bs(page.text,\"html.parser\")\n",
        "# print(soup.prettify())\n"
      ],
      "execution_count": 0,
      "outputs": []
    },
    {
      "cell_type": "code",
      "metadata": {
        "id": "j7c2tjr5JRz7",
        "colab_type": "code",
        "colab": {}
      },
      "source": [
        "drugs_name = soup.find_all('span', {'class': 'product-block__product-name'})\n",
        "\n",
        "drug_list = []\n",
        "\n",
        "for drug in drugs_name:\n",
        "  drug_list.append(drug.text)\n",
        "\n",
        "# len(drug_list)"
      ],
      "execution_count": 0,
      "outputs": []
    },
    {
      "cell_type": "code",
      "metadata": {
        "id": "t_FA50EvKsGy",
        "colab_type": "code",
        "colab": {}
      },
      "source": [
        "active_ingredient = soup.find_all('a', {'class':'product-block__substance product-block__meta-info'})\n",
        "\n",
        "active_ingredient_list = []\n",
        "\n",
        "for ing in active_ingredient:\n",
        "  active_ingredient_list.append(ing.text)\n",
        "  \n",
        "# len(active_ingredient_list)"
      ],
      "execution_count": 0,
      "outputs": []
    },
    {
      "cell_type": "code",
      "metadata": {
        "id": "h0Hb3g9rQIdp",
        "colab_type": "code",
        "colab": {}
      },
      "source": [
        "labs = soup.find_all('a', {'class':'product-block__factory product-block__meta-info'})\n",
        "\n",
        "labs_list = []\n",
        "\n",
        "for lab in labs:\n",
        "  labs_list.append(lab.text)\n",
        "  \n",
        "# len(labs_list)"
      ],
      "execution_count": 0,
      "outputs": []
    },
    {
      "cell_type": "code",
      "metadata": {
        "id": "xVGknSCoT4uP",
        "colab_type": "code",
        "colab": {}
      },
      "source": [
        "prices = soup.find_all('div', {'class':'product-block__starting-price-value'})\n",
        "\n",
        "price_list = []\n",
        "\n",
        "for price in prices:\n",
        "  price_list.append(price.text)\n",
        "  \n",
        "# len(price_list)"
      ],
      "execution_count": 0,
      "outputs": []
    },
    {
      "cell_type": "markdown",
      "metadata": {
        "id": "-IRFIjZ8hRth",
        "colab_type": "text"
      },
      "source": [
        ""
      ]
    },
    {
      "cell_type": "markdown",
      "metadata": {
        "id": "cqRX6SSvhpAC",
        "colab_type": "text"
      },
      "source": [
        "Está errado abaixo --> item 4, o laboratório deveria ser BOIRON"
      ]
    },
    {
      "cell_type": "code",
      "metadata": {
        "id": "W-EfBgy0UajO",
        "colab_type": "code",
        "colab": {}
      },
      "source": [
        "cols = ['Nome', 'Princípio ativo', 'Laboratório', 'Preço']\n",
        "\n",
        "list_drugs = zip(drug_list,active_ingredient_list,labs_list,price_list)\n",
        "\n",
        "drugs_pd = pd.DataFrame(list_drugs,\\\n",
        "                       columns=cols)"
      ],
      "execution_count": 0,
      "outputs": []
    },
    {
      "cell_type": "code",
      "metadata": {
        "id": "zlNYF8mGWWI8",
        "colab_type": "code",
        "outputId": "b37e236b-e7ae-4b70-fff8-7d9f8ff83205",
        "colab": {
          "base_uri": "https://localhost:8080/",
          "height": 0
        }
      },
      "source": [
        "drugs_pd"
      ],
      "execution_count": 11,
      "outputs": [
        {
          "output_type": "execute_result",
          "data": {
            "text/html": [
              "<div>\n",
              "<style scoped>\n",
              "    .dataframe tbody tr th:only-of-type {\n",
              "        vertical-align: middle;\n",
              "    }\n",
              "\n",
              "    .dataframe tbody tr th {\n",
              "        vertical-align: top;\n",
              "    }\n",
              "\n",
              "    .dataframe thead th {\n",
              "        text-align: right;\n",
              "    }\n",
              "</style>\n",
              "<table border=\"1\" class=\"dataframe\">\n",
              "  <thead>\n",
              "    <tr style=\"text-align: right;\">\n",
              "      <th></th>\n",
              "      <th>Nome</th>\n",
              "      <th>Princípio ativo</th>\n",
              "      <th>Laboratório</th>\n",
              "      <th>Preço</th>\n",
              "    </tr>\n",
              "  </thead>\n",
              "  <tbody>\n",
              "    <tr>\n",
              "      <th>0</th>\n",
              "      <td>Actifedrin</td>\n",
              "      <td>Pseudoefedrina + Triprolidina</td>\n",
              "      <td>Farmoquímica</td>\n",
              "      <td>R$ 9,07</td>\n",
              "    </tr>\n",
              "    <tr>\n",
              "      <th>1</th>\n",
              "      <td>Avamys</td>\n",
              "      <td>Furoato de Fluticasona</td>\n",
              "      <td>GSK</td>\n",
              "      <td>R$ 39,87</td>\n",
              "    </tr>\n",
              "    <tr>\n",
              "      <th>2</th>\n",
              "      <td>Aznite</td>\n",
              "      <td>Cloridrato de Azelastina</td>\n",
              "      <td>EMS</td>\n",
              "      <td>R$ 24,13</td>\n",
              "    </tr>\n",
              "    <tr>\n",
              "      <th>3</th>\n",
              "      <td>Complexo Homeopático Almeida Prado Nº 3</td>\n",
              "      <td>Hydrastis canadensis + Magnesia carbonica + Ka...</td>\n",
              "      <td>Homeopatia Almeida Prado</td>\n",
              "      <td>R$ 5,01</td>\n",
              "    </tr>\n",
              "    <tr>\n",
              "      <th>4</th>\n",
              "      <td>Coryzalia</td>\n",
              "      <td>Allium Cepa 3CH + Associações</td>\n",
              "      <td>Neo Química</td>\n",
              "      <td>R$ 33,90</td>\n",
              "    </tr>\n",
              "    <tr>\n",
              "      <th>5</th>\n",
              "      <td>Cromoglicato de Sódio Neo Química</td>\n",
              "      <td>Cromoglicato Dissódico</td>\n",
              "      <td>Allergan</td>\n",
              "      <td>R$ 7,96</td>\n",
              "    </tr>\n",
              "    <tr>\n",
              "      <th>6</th>\n",
              "      <td>Cromolerg</td>\n",
              "      <td>Cromoglicato Dissódico</td>\n",
              "      <td>Meda Pharma</td>\n",
              "      <td>R$ 9,27</td>\n",
              "    </tr>\n",
              "    <tr>\n",
              "      <th>7</th>\n",
              "      <td>Dymista</td>\n",
              "      <td>Propionato de Fluticasona + Cloridrato de Azel...</td>\n",
              "      <td>GSK</td>\n",
              "      <td>R$ 86,80</td>\n",
              "    </tr>\n",
              "    <tr>\n",
              "      <th>8</th>\n",
              "      <td>Flixonase</td>\n",
              "      <td>Propionato de Fluticasona</td>\n",
              "      <td>GSK</td>\n",
              "      <td>R$ 43,21</td>\n",
              "    </tr>\n",
              "    <tr>\n",
              "      <th>9</th>\n",
              "      <td>Flixotide Diskus</td>\n",
              "      <td>Propionato de Fluticasona</td>\n",
              "      <td>GSK</td>\n",
              "      <td>R$ 83,55</td>\n",
              "    </tr>\n",
              "    <tr>\n",
              "      <th>10</th>\n",
              "      <td>Flixotide Nebules</td>\n",
              "      <td>Propionato de Fluticasona</td>\n",
              "      <td>GSK</td>\n",
              "      <td>R$ 35,85</td>\n",
              "    </tr>\n",
              "    <tr>\n",
              "      <th>11</th>\n",
              "      <td>Flixotide Spray</td>\n",
              "      <td>Propionato de Fluticasona</td>\n",
              "      <td>Glenmark</td>\n",
              "      <td>R$ 72,02</td>\n",
              "    </tr>\n",
              "    <tr>\n",
              "      <th>12</th>\n",
              "      <td>Flutican</td>\n",
              "      <td>Propionato de Fluticasona</td>\n",
              "      <td>Biosintética</td>\n",
              "      <td>R$ 43,55</td>\n",
              "    </tr>\n",
              "    <tr>\n",
              "      <th>13</th>\n",
              "      <td>Fluticaps</td>\n",
              "      <td>Propionato de Fluticasona</td>\n",
              "      <td>GSK</td>\n",
              "      <td>R$ 77,90</td>\n",
              "    </tr>\n",
              "    <tr>\n",
              "      <th>14</th>\n",
              "      <td>Flutivate</td>\n",
              "      <td>Propionato de Fluticasona</td>\n",
              "      <td>EMS</td>\n",
              "      <td>R$ 31,68</td>\n",
              "    </tr>\n",
              "    <tr>\n",
              "      <th>15</th>\n",
              "      <td>Inalide</td>\n",
              "      <td>Budesonida</td>\n",
              "      <td>Glenmark</td>\n",
              "      <td>R$ 19,90</td>\n",
              "    </tr>\n",
              "    <tr>\n",
              "      <th>16</th>\n",
              "      <td>Levolukast</td>\n",
              "      <td>Montelucaste de Sódio + Dicloridrato de Levoce...</td>\n",
              "      <td>Schering-Plough</td>\n",
              "      <td>R$ 33,29</td>\n",
              "    </tr>\n",
              "    <tr>\n",
              "      <th>17</th>\n",
              "      <td>Nasonex</td>\n",
              "      <td>Furoato de Mometasona</td>\n",
              "      <td>Merck Sharp &amp; Dohme</td>\n",
              "      <td>R$ 43,49</td>\n",
              "    </tr>\n",
              "    <tr>\n",
              "      <th>18</th>\n",
              "      <td>Nites</td>\n",
              "      <td>Furoato de Mometasona</td>\n",
              "      <td>Libbs</td>\n",
              "      <td>R$ 35,99</td>\n",
              "    </tr>\n",
              "  </tbody>\n",
              "</table>\n",
              "</div>"
            ],
            "text/plain": [
              "                                       Nome  ...     Preço\n",
              "0                                Actifedrin  ...   R$ 9,07\n",
              "1                                    Avamys  ...  R$ 39,87\n",
              "2                                    Aznite  ...  R$ 24,13\n",
              "3   Complexo Homeopático Almeida Prado Nº 3  ...   R$ 5,01\n",
              "4                                 Coryzalia  ...  R$ 33,90\n",
              "5         Cromoglicato de Sódio Neo Química  ...   R$ 7,96\n",
              "6                                 Cromolerg  ...   R$ 9,27\n",
              "7                                   Dymista  ...  R$ 86,80\n",
              "8                                 Flixonase  ...  R$ 43,21\n",
              "9                          Flixotide Diskus  ...  R$ 83,55\n",
              "10                        Flixotide Nebules  ...  R$ 35,85\n",
              "11                          Flixotide Spray  ...  R$ 72,02\n",
              "12                                 Flutican  ...  R$ 43,55\n",
              "13                                Fluticaps  ...  R$ 77,90\n",
              "14                                Flutivate  ...  R$ 31,68\n",
              "15                                  Inalide  ...  R$ 19,90\n",
              "16                               Levolukast  ...  R$ 33,29\n",
              "17                                  Nasonex  ...  R$ 43,49\n",
              "18                                    Nites  ...  R$ 35,99\n",
              "\n",
              "[19 rows x 4 columns]"
            ]
          },
          "metadata": {
            "tags": []
          },
          "execution_count": 11
        }
      ]
    },
    {
      "cell_type": "markdown",
      "metadata": {
        "id": "fCQayc2mCTAT",
        "colab_type": "text"
      },
      "source": [
        "# Sites Livros\n",
        "\n",
        "1.   https://www.amazon.com.br/\n",
        "2.   https://www.submarino.com.br/\n",
        "3.   https://www.saraiva.com.br/\n",
        "4.   https://www.estantevirtual.com.br/\n",
        "5.   https://www.americanas.com.br/\n",
        "6.   https://www.ciadoslivros.com.br/\n",
        "7.   https://www.traca.com.br/\n",
        "8.   https://www.livrariacultura.com.br\n",
        "9.   https://www.disal.com.br/\n",
        "10.  https://www.extra.com.br/livros/"
      ]
    },
    {
      "cell_type": "markdown",
      "metadata": {
        "id": "txPhFcFSDqYz",
        "colab_type": "text"
      },
      "source": [
        "##AMAZON"
      ]
    },
    {
      "cell_type": "markdown",
      "metadata": {
        "id": "XnfbQ41MEZ3D",
        "colab_type": "text"
      },
      "source": [
        "### All books in a page"
      ]
    },
    {
      "cell_type": "code",
      "metadata": {
        "id": "n-RXns7hWtjj",
        "colab_type": "code",
        "colab": {}
      },
      "source": [
        "url = 'https://www.amazon.com.br/Livros/b?ie=UTF8&node=6740748011&ref_=nav_books_all'\n",
        "\n",
        "page = rq.get(url)\n",
        "# print(page.text)\n",
        "\n",
        "soup = bs(page.text,\"html.parser\")"
      ],
      "execution_count": 0,
      "outputs": []
    },
    {
      "cell_type": "code",
      "metadata": {
        "id": "hxF1577H-DyA",
        "colab_type": "code",
        "colab": {}
      },
      "source": [
        "books = soup.find_all('li', {'class':'a-carousel-card acswidget-carousel__card'})"
      ],
      "execution_count": 0,
      "outputs": []
    },
    {
      "cell_type": "code",
      "metadata": {
        "id": "XUAWcwSW9vNx",
        "colab_type": "code",
        "colab": {}
      },
      "source": [
        "books_name = []\n",
        "for book in books:\n",
        "  books_name.append(book.span.contents)\n",
        "# books_name\n",
        "\n",
        "for book in books:\n",
        "  print(book.div.contents)"
      ],
      "execution_count": 0,
      "outputs": []
    },
    {
      "cell_type": "code",
      "metadata": {
        "id": "GjDyQEdR_PXh",
        "colab_type": "code",
        "colab": {}
      },
      "source": [
        "books_list = []\n",
        "\n",
        "for book in books:\n",
        "  book = re.sub(\"\\n|\\t|\\xa0|[R$]\", \" \", (book.text.strip()))\n",
        "  book = re.sub(\"[,]\", '.', book)\n",
        "  books_list.append(book)\n",
        "  \n",
        "for i in range(len(books_list)):\n",
        "  books_list[i] = books_list[i].split('    ')\n",
        "  books_list[i] = list(filter(None, books_list[i]))\n",
        "  books_list[i] = [item.strip() for item in books_list[i]]\n",
        "  if (len(books_list[i]) == 6):\n",
        "    books_list[i] = [books_list[i][0],books_list[i][1],books_list[i][2],books_list[i][4]]\n",
        "\n"
      ],
      "execution_count": 0,
      "outputs": []
    },
    {
      "cell_type": "code",
      "metadata": {
        "id": "F9iD0ANK674X",
        "colab_type": "code",
        "colab": {}
      },
      "source": [
        "books_list"
      ],
      "execution_count": 0,
      "outputs": []
    },
    {
      "cell_type": "code",
      "metadata": {
        "id": "VJgnmyDk_Rd1",
        "colab_type": "code",
        "colab": {}
      },
      "source": [
        "col = ['Título', 'Autor', 'Acabamento', 'Preço']\n",
        "\n",
        "books_pd = pd.DataFrame(books_list,\\\n",
        "                       columns=col)"
      ],
      "execution_count": 0,
      "outputs": []
    },
    {
      "cell_type": "code",
      "metadata": {
        "id": "Q6VmueKACR2O",
        "colab_type": "code",
        "colab": {
          "base_uri": "https://localhost:8080/",
          "height": 669
        },
        "outputId": "28ad2faf-d7c7-495e-9948-2644312577f2"
      },
      "source": [
        "books_pd"
      ],
      "execution_count": 88,
      "outputs": [
        {
          "output_type": "execute_result",
          "data": {
            "text/html": [
              "<div>\n",
              "<style scoped>\n",
              "    .dataframe tbody tr th:only-of-type {\n",
              "        vertical-align: middle;\n",
              "    }\n",
              "\n",
              "    .dataframe tbody tr th {\n",
              "        vertical-align: top;\n",
              "    }\n",
              "\n",
              "    .dataframe thead th {\n",
              "        text-align: right;\n",
              "    }\n",
              "</style>\n",
              "<table border=\"1\" class=\"dataframe\">\n",
              "  <thead>\n",
              "    <tr style=\"text-align: right;\">\n",
              "      <th></th>\n",
              "      <th>Título</th>\n",
              "      <th>Autor</th>\n",
              "      <th>Acabamento</th>\n",
              "      <th>Preço</th>\n",
              "    </tr>\n",
              "  </thead>\n",
              "  <tbody>\n",
              "    <tr>\n",
              "      <th>0</th>\n",
              "      <td>Do Mil ao Milhão. Sem Cortar o...</td>\n",
              "      <td>Thiago Nigro</td>\n",
              "      <td>Capa comum</td>\n",
              "      <td>34.90</td>\n",
              "    </tr>\n",
              "    <tr>\n",
              "      <th>1</th>\n",
              "      <td>O milagre da manhã</td>\n",
              "      <td>Hal Elrod. Marcelo Schild</td>\n",
              "      <td>Capa comum</td>\n",
              "      <td>39.90</td>\n",
              "    </tr>\n",
              "    <tr>\n",
              "      <th>2</th>\n",
              "      <td>A Sutil Arte de Ligar o F*da-Se: Uma...</td>\n",
              "      <td>Mark Manson. Joana Faro</td>\n",
              "      <td>Capa comum</td>\n",
              "      <td>34.90</td>\n",
              "    </tr>\n",
              "    <tr>\n",
              "      <th>3</th>\n",
              "      <td>Mais esperto que o diabo: O mistério...</td>\n",
              "      <td>Napoleon Hill</td>\n",
              "      <td>Capa comum</td>\n",
              "      <td>42.90</td>\n",
              "    </tr>\n",
              "    <tr>\n",
              "      <th>4</th>\n",
              "      <td>Os segredos da mente milionária</td>\n",
              "      <td>T. Harv Eker. Pedro Jorgensen Junior</td>\n",
              "      <td>Capa comum</td>\n",
              "      <td>34.90</td>\n",
              "    </tr>\n",
              "    <tr>\n",
              "      <th>5</th>\n",
              "      <td>Pai rico. pai pobre 20 anos</td>\n",
              "      <td>obert Kiyosaki</td>\n",
              "      <td>Capa comum</td>\n",
              "      <td>79.90</td>\n",
              "    </tr>\n",
              "    <tr>\n",
              "      <th>6</th>\n",
              "      <td>Bíblia King James Atualizada</td>\n",
              "      <td>King James</td>\n",
              "      <td>Imitação de couro</td>\n",
              "      <td>167</td>\n",
              "    </tr>\n",
              "    <tr>\n",
              "      <th>7</th>\n",
              "      <td>O poder da ação</td>\n",
              "      <td>Paulo Vieira</td>\n",
              "      <td>Capa comum</td>\n",
              "      <td>34.90</td>\n",
              "    </tr>\n",
              "    <tr>\n",
              "      <th>8</th>\n",
              "      <td>Como Fazer Amigos e Influenciar Pessoas</td>\n",
              "      <td>Dale Carnegie</td>\n",
              "      <td>Capa comum</td>\n",
              "      <td>69.90</td>\n",
              "    </tr>\n",
              "    <tr>\n",
              "      <th>9</th>\n",
              "      <td>Me Poupe!: 10 passos para nunca mais...</td>\n",
              "      <td>Nathalia Arcuri</td>\n",
              "      <td>Capa comum</td>\n",
              "      <td>34.90</td>\n",
              "    </tr>\n",
              "    <tr>\n",
              "      <th>10</th>\n",
              "      <td>O homem mais rico da Babilônia</td>\n",
              "      <td>George S Clason</td>\n",
              "      <td>Capa comum</td>\n",
              "      <td>29.90</td>\n",
              "    </tr>\n",
              "    <tr>\n",
              "      <th>11</th>\n",
              "      <td>Seja foda!</td>\n",
              "      <td>Caio Carneiro</td>\n",
              "      <td>Capa comum</td>\n",
              "      <td>39.90</td>\n",
              "    </tr>\n",
              "    <tr>\n",
              "      <th>12</th>\n",
              "      <td>O conto da aia</td>\n",
              "      <td>Margaret Atwood. Ana Deiró</td>\n",
              "      <td>Capa comum</td>\n",
              "      <td>44.50</td>\n",
              "    </tr>\n",
              "    <tr>\n",
              "      <th>13</th>\n",
              "      <td>Fahrenheit 451</td>\n",
              "      <td>ay Bradbury. Cid Knipel</td>\n",
              "      <td>Capa comum</td>\n",
              "      <td>39.90</td>\n",
              "    </tr>\n",
              "    <tr>\n",
              "      <th>14</th>\n",
              "      <td>Ponto de inflexão</td>\n",
              "      <td>Flávio Augusto Da Silva</td>\n",
              "      <td>Capa comum</td>\n",
              "      <td>49.90</td>\n",
              "    </tr>\n",
              "    <tr>\n",
              "      <th>15</th>\n",
              "      <td>Mindset</td>\n",
              "      <td>Carol S. Dweck. S. Duarte</td>\n",
              "      <td>Capa comum</td>\n",
              "      <td>49.90</td>\n",
              "    </tr>\n",
              "    <tr>\n",
              "      <th>16</th>\n",
              "      <td>Textos cruéis demais para serem lidos...</td>\n",
              "      <td>Igor Pires. Gabriela Barreira...</td>\n",
              "      <td>Capa comum</td>\n",
              "      <td>39.90</td>\n",
              "    </tr>\n",
              "    <tr>\n",
              "      <th>17</th>\n",
              "      <td>As armas da persuasão</td>\n",
              "      <td>obert Cialdini</td>\n",
              "      <td>Capa comum</td>\n",
              "      <td>49.90</td>\n",
              "    </tr>\n",
              "    <tr>\n",
              "      <th>18</th>\n",
              "      <td>O poder do hábito</td>\n",
              "      <td>Charles Duhigg.  afael Mantovani</td>\n",
              "      <td>Capa comum</td>\n",
              "      <td>64.90</td>\n",
              "    </tr>\n",
              "    <tr>\n",
              "      <th>19</th>\n",
              "      <td>Os 4 Temperamentos na Educação dos...</td>\n",
              "      <td>Dr. Ítalo Marsili</td>\n",
              "      <td>Capa comum</td>\n",
              "      <td>39.90</td>\n",
              "    </tr>\n",
              "  </tbody>\n",
              "</table>\n",
              "</div>"
            ],
            "text/plain": [
              "                                      Título  ...  Preço\n",
              "0          Do Mil ao Milhão. Sem Cortar o...  ...  34.90\n",
              "1                         O milagre da manhã  ...  39.90\n",
              "2    A Sutil Arte de Ligar o F*da-Se: Uma...  ...  34.90\n",
              "3    Mais esperto que o diabo: O mistério...  ...  42.90\n",
              "4            Os segredos da mente milionária  ...  34.90\n",
              "5                Pai rico. pai pobre 20 anos  ...  79.90\n",
              "6               Bíblia King James Atualizada  ...    167\n",
              "7                            O poder da ação  ...  34.90\n",
              "8    Como Fazer Amigos e Influenciar Pessoas  ...  69.90\n",
              "9    Me Poupe!: 10 passos para nunca mais...  ...  34.90\n",
              "10            O homem mais rico da Babilônia  ...  29.90\n",
              "11                                Seja foda!  ...  39.90\n",
              "12                            O conto da aia  ...  44.50\n",
              "13                            Fahrenheit 451  ...  39.90\n",
              "14                         Ponto de inflexão  ...  49.90\n",
              "15                                   Mindset  ...  49.90\n",
              "16  Textos cruéis demais para serem lidos...  ...  39.90\n",
              "17                     As armas da persuasão  ...  49.90\n",
              "18                         O poder do hábito  ...  64.90\n",
              "19     Os 4 Temperamentos na Educação dos...  ...  39.90\n",
              "\n",
              "[20 rows x 4 columns]"
            ]
          },
          "metadata": {
            "tags": []
          },
          "execution_count": 88
        }
      ]
    },
    {
      "cell_type": "markdown",
      "metadata": {
        "id": "EaPK2h3wEfVb",
        "colab_type": "text"
      },
      "source": [
        "### Information from a single book"
      ]
    },
    {
      "cell_type": "code",
      "metadata": {
        "id": "wlH9v71BC0Yv",
        "colab_type": "code",
        "colab": {}
      },
      "source": [
        "# url = 'https://www.amazon.com.br/gp/product/855100249X/ref=s9_acsd_al_bw_c_x_3_w?pf_rd_m=A3RN7G7QC5MWSZ&pf_rd_s=merchandised-search-5&pf_rd_r=W2SAJXDVWZY3MG36EPGB&pf_rd_t=101&pf_rd_p=8cf7d30a-a852-4221-92d0-7c86785d475d&pf_rd_i=6740748011'\n",
        "\n",
        "# page = rq.get(url)\n",
        "# # print(page.text)\n",
        "\n",
        "# soup = bs(page.text,\"html.parser\")\n",
        "\n",
        "url = r'/content/A Sutil Arte de Ligar o F_da-Se_ Uma estratégia inusitada para uma vida melhor - 9788551002490 - Livros na Amazon Brasil.html'\n",
        "soup = bs(open(url),\"html.parser\")"
      ],
      "execution_count": 0,
      "outputs": []
    },
    {
      "cell_type": "code",
      "metadata": {
        "id": "k6KWmrV_GoPC",
        "colab_type": "code",
        "colab": {}
      },
      "source": [
        "# print(soup.prettify())"
      ],
      "execution_count": 0,
      "outputs": []
    },
    {
      "cell_type": "code",
      "metadata": {
        "id": "TM9oBldnVsVP",
        "colab_type": "code",
        "colab": {}
      },
      "source": [
        "title = (soup.find('span', {'id':'productTitle'})).text\n",
        "# print(title)\n",
        "\n",
        "author = (soup.find('span', {'class':'author notFaded'})).find('a',{'class':'a-link-normal'}).text#.contents[0]\n",
        "# print(author)\n",
        "\n",
        "book = soup.find('div', {'class':'content'}).find_all('li')[:5]\n",
        "# for info in book:\n",
        "#   print(info.text)\n",
        "\n",
        "n_pages = book[0].contents[1].strip().split(' ')[0]\n",
        "# print(n_pages)\n",
        "\n",
        "publishing = book[1].contents[1].strip().split(';')[0]\n",
        "# print(publishing)\n",
        "\n",
        "edition = book[1].contents[1].strip().split(' ')[2]\n",
        "# print(edition)\n",
        "\n",
        "language = book[2].contents[1].strip()\n",
        "# print(language)\n"
      ],
      "execution_count": 0,
      "outputs": []
    },
    {
      "cell_type": "code",
      "metadata": {
        "id": "iqEG97iwWcxD",
        "colab_type": "code",
        "colab": {}
      },
      "source": [
        "cols = ['Título', 'Autor', 'Nº Páginas', 'Editora', 'Edição', 'Idioma']\n",
        "\n",
        "list_info = [title, author, n_pages, publishing, edition, language]\n",
        "list_info\n",
        "book_pd = pd.DataFrame([list_info],\\\n",
        "                       columns=cols)\n"
      ],
      "execution_count": 0,
      "outputs": []
    },
    {
      "cell_type": "code",
      "metadata": {
        "id": "1HBKpuAY6R0Y",
        "colab_type": "code",
        "colab": {
          "base_uri": "https://localhost:8080/",
          "height": 80
        },
        "outputId": "e045f000-d289-4344-cbf0-c627c78ed016"
      },
      "source": [
        "book_pd"
      ],
      "execution_count": 22,
      "outputs": [
        {
          "output_type": "execute_result",
          "data": {
            "text/html": [
              "<div>\n",
              "<style scoped>\n",
              "    .dataframe tbody tr th:only-of-type {\n",
              "        vertical-align: middle;\n",
              "    }\n",
              "\n",
              "    .dataframe tbody tr th {\n",
              "        vertical-align: top;\n",
              "    }\n",
              "\n",
              "    .dataframe thead th {\n",
              "        text-align: right;\n",
              "    }\n",
              "</style>\n",
              "<table border=\"1\" class=\"dataframe\">\n",
              "  <thead>\n",
              "    <tr style=\"text-align: right;\">\n",
              "      <th></th>\n",
              "      <th>Título</th>\n",
              "      <th>Autor</th>\n",
              "      <th>Nº Páginas</th>\n",
              "      <th>Editora</th>\n",
              "      <th>Edição</th>\n",
              "      <th>Idioma</th>\n",
              "    </tr>\n",
              "  </thead>\n",
              "  <tbody>\n",
              "    <tr>\n",
              "      <th>0</th>\n",
              "      <td>A Sutil Arte de Ligar o F*da-Se: Uma estratégi...</td>\n",
              "      <td>Mark Manson</td>\n",
              "      <td>224</td>\n",
              "      <td>Intrínseca</td>\n",
              "      <td>1ª</td>\n",
              "      <td>Português</td>\n",
              "    </tr>\n",
              "  </tbody>\n",
              "</table>\n",
              "</div>"
            ],
            "text/plain": [
              "                                              Título  ...     Idioma\n",
              "0  A Sutil Arte de Ligar o F*da-Se: Uma estratégi...  ...  Português\n",
              "\n",
              "[1 rows x 6 columns]"
            ]
          },
          "metadata": {
            "tags": []
          },
          "execution_count": 22
        }
      ]
    },
    {
      "cell_type": "code",
      "metadata": {
        "id": "YIYykWB56T6p",
        "colab_type": "code",
        "colab": {}
      },
      "source": [
        ""
      ],
      "execution_count": 0,
      "outputs": []
    }
  ]
}