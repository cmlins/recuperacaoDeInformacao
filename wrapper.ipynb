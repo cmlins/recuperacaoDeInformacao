{
  "nbformat": 4,
  "nbformat_minor": 0,
  "metadata": {
    "colab": {
      "name": "wrapper.ipynb",
      "version": "0.3.2",
      "provenance": [],
      "collapsed_sections": [
        "ZNyZgOdxHRP_",
        "w9rKRF8CJARk",
        "EaPK2h3wEfVb"
      ],
      "include_colab_link": true
    },
    "kernelspec": {
      "name": "python3",
      "display_name": "Python 3"
    },
    "accelerator": "GPU"
  },
  "cells": [
    {
      "cell_type": "markdown",
      "metadata": {
        "id": "view-in-github",
        "colab_type": "text"
      },
      "source": [
        "<a href=\"https://colab.research.google.com/github/cmlins/recuperacaoDeInformacao/blob/master/wrapper.ipynb\" target=\"_parent\"><img src=\"https://colab.research.google.com/assets/colab-badge.svg\" alt=\"Open In Colab\"/></a>"
      ]
    },
    {
      "cell_type": "code",
      "metadata": {
        "id": "NAIV006BGuhB",
        "colab_type": "code",
        "colab": {}
      },
      "source": [
        "import pandas as pd\n",
        "import numpy as np\n",
        "from bs4 import BeautifulSoup as bs\n",
        "import requests as rq\n",
        "import re"
      ],
      "execution_count": 0,
      "outputs": []
    },
    {
      "cell_type": "markdown",
      "metadata": {
        "id": "ZNyZgOdxHRP_",
        "colab_type": "text"
      },
      "source": [
        "### Bulas"
      ]
    },
    {
      "cell_type": "markdown",
      "metadata": {
        "id": "7k54E704BubW",
        "colab_type": "text"
      },
      "source": [
        "Request da página e parser usando BeautifulSoup"
      ]
    },
    {
      "cell_type": "code",
      "metadata": {
        "id": "34o4kymkLM0M",
        "colab_type": "code",
        "colab": {}
      },
      "source": [
        "# url = \"https://consultaremedios.com.br/buscoduo/p\"\n",
        "# url = 'https://consultaremedios.com.br/neocopan-composto-comprimido/p'\n",
        "# url = 'https://consultaremedios.com.br/cefaliv/p'\n",
        "url = 'https://consultaremedios.com.br/doril-enxaqueca/p'\n",
        "\n",
        "page = rq.get(url)\n",
        "# print(page.text)\n",
        "\n",
        "soup = bs(page.text,\"html.parser\")\n",
        "# print(soup.prettify())"
      ],
      "execution_count": 0,
      "outputs": []
    },
    {
      "cell_type": "markdown",
      "metadata": {
        "id": "w5dKNCg-CB7I",
        "colab_type": "text"
      },
      "source": [
        "Coleta de informações sobre o medicamento e criação do dataframe com as informações"
      ]
    },
    {
      "cell_type": "code",
      "metadata": {
        "id": "Rq3xsPR8O4gA",
        "colab_type": "code",
        "colab": {}
      },
      "source": [
        "name_div = soup.find('div', {'class':'product-header-wrapper'})\n",
        "\n",
        "name = name_div.h1.text\n",
        "# print(name)\n",
        "\n",
        "info_col = []\n",
        "info_res = []\n",
        "\n",
        "data = soup.find_all(\"div\", {\"class\": \"extra-infos-block\"})\n",
        "\n",
        "for info in data:\n",
        "  info_col.append(info.h3.contents[0])\n",
        "  info_res.append(info.text)\n",
        "  \n",
        "for i in range(len(info_res)):\n",
        "  spl = info_col[i]\n",
        "  info_res[i] = (info_res[i].split(spl)[1])\n",
        "  \n",
        "info_col.insert(0, 'Medicamento')\n",
        "info_res.insert(0, name)\n",
        "\n",
        "# print(info_col)\n",
        "# print(info_res)\n",
        "\n",
        "list_drug=[]\n",
        "\n",
        "list_drug.append(dict(zip(info_col,\\\n",
        "                          info_res)))\n",
        "\n",
        "pd_drug = pd.DataFrame(list_drug,\\\n",
        "                       columns=info_col)"
      ],
      "execution_count": 0,
      "outputs": []
    },
    {
      "cell_type": "code",
      "metadata": {
        "id": "DrWDh8bl9BxT",
        "colab_type": "code",
        "outputId": "65b069f6-4355-40ac-da5f-8f186e85b36a",
        "colab": {
          "base_uri": "https://localhost:8080/",
          "height": 114
        }
      },
      "source": [
        "pd_drug"
      ],
      "execution_count": 4,
      "outputs": [
        {
          "output_type": "execute_result",
          "data": {
            "text/html": [
              "<div>\n",
              "<style scoped>\n",
              "    .dataframe tbody tr th:only-of-type {\n",
              "        vertical-align: middle;\n",
              "    }\n",
              "\n",
              "    .dataframe tbody tr th {\n",
              "        vertical-align: top;\n",
              "    }\n",
              "\n",
              "    .dataframe thead th {\n",
              "        text-align: right;\n",
              "    }\n",
              "</style>\n",
              "<table border=\"1\" class=\"dataframe\">\n",
              "  <thead>\n",
              "    <tr style=\"text-align: right;\">\n",
              "      <th></th>\n",
              "      <th>Medicamento</th>\n",
              "      <th>Fabricante</th>\n",
              "      <th>Tipo do Medicamento</th>\n",
              "      <th>Necessita de Receita</th>\n",
              "      <th>Princípio Ativo</th>\n",
              "      <th>Categoria do Medicamento</th>\n",
              "      <th>Classe Terapêutica</th>\n",
              "      <th>Especialidades</th>\n",
              "    </tr>\n",
              "  </thead>\n",
              "  <tbody>\n",
              "    <tr>\n",
              "      <th>0</th>\n",
              "      <td>Doril Enxaqueca</td>\n",
              "      <td>Cosmed</td>\n",
              "      <td>Medicamento Similar</td>\n",
              "      <td>Não, Isento de Prescrição Médica</td>\n",
              "      <td>Ácido Acetilsalicílico + Cafeína + Paracetamol</td>\n",
              "      <td>Dor de Cabeça e Enxaqueca</td>\n",
              "      <td>Todos As Outras Preparações Antienxaquecosas</td>\n",
              "      <td>Ginecologia, Otorrinolaringologia</td>\n",
              "    </tr>\n",
              "  </tbody>\n",
              "</table>\n",
              "</div>"
            ],
            "text/plain": [
              "       Medicamento  ...                     Especialidades\n",
              "0  Doril Enxaqueca  ...  Ginecologia, Otorrinolaringologia\n",
              "\n",
              "[1 rows x 8 columns]"
            ]
          },
          "metadata": {
            "tags": []
          },
          "execution_count": 4
        }
      ]
    },
    {
      "cell_type": "markdown",
      "metadata": {
        "id": "w9rKRF8CJARk",
        "colab_type": "text"
      },
      "source": [
        "#### Página com vários medicamentos"
      ]
    },
    {
      "cell_type": "code",
      "metadata": {
        "id": "4ROK39ra-2pz",
        "colab_type": "code",
        "colab": {}
      },
      "source": [
        "url = 'https://consultaremedios.com.br/aparelho-respiratorio/rinite-e-sinusite/c'\n",
        "\n",
        "page = rq.get(url)\n",
        "# print(page.text)\n",
        "\n",
        "soup = bs(page.text,\"html.parser\")\n",
        "# print(soup.prettify())\n"
      ],
      "execution_count": 0,
      "outputs": []
    },
    {
      "cell_type": "code",
      "metadata": {
        "id": "j7c2tjr5JRz7",
        "colab_type": "code",
        "colab": {}
      },
      "source": [
        "drugs_name = soup.find_all('span', {'class': 'product-block__product-name'})\n",
        "\n",
        "drug_list = []\n",
        "\n",
        "for drug in drugs_name:\n",
        "  drug_list.append(drug.text)\n",
        "\n",
        "# len(drug_list)"
      ],
      "execution_count": 0,
      "outputs": []
    },
    {
      "cell_type": "code",
      "metadata": {
        "id": "t_FA50EvKsGy",
        "colab_type": "code",
        "colab": {}
      },
      "source": [
        "active_ingredient = soup.find_all('a', {'class':'product-block__substance product-block__meta-info'})\n",
        "\n",
        "active_ingredient_list = []\n",
        "\n",
        "for ing in active_ingredient:\n",
        "  active_ingredient_list.append(ing.text)\n",
        "  \n",
        "# len(active_ingredient_list)"
      ],
      "execution_count": 0,
      "outputs": []
    },
    {
      "cell_type": "code",
      "metadata": {
        "id": "h0Hb3g9rQIdp",
        "colab_type": "code",
        "colab": {}
      },
      "source": [
        "labs = soup.find_all('a', {'class':'product-block__factory product-block__meta-info'})\n",
        "\n",
        "labs_list = []\n",
        "\n",
        "for lab in labs:\n",
        "  labs_list.append(lab.text)\n",
        "  \n",
        "# len(labs_list)"
      ],
      "execution_count": 0,
      "outputs": []
    },
    {
      "cell_type": "code",
      "metadata": {
        "id": "xVGknSCoT4uP",
        "colab_type": "code",
        "colab": {}
      },
      "source": [
        "prices = soup.find_all('div', {'class':'product-block__starting-price-value'})\n",
        "\n",
        "price_list = []\n",
        "\n",
        "for price in prices:\n",
        "  price_list.append(price.text)\n",
        "  \n",
        "# len(price_list)"
      ],
      "execution_count": 0,
      "outputs": []
    },
    {
      "cell_type": "markdown",
      "metadata": {
        "id": "-IRFIjZ8hRth",
        "colab_type": "text"
      },
      "source": [
        ""
      ]
    },
    {
      "cell_type": "markdown",
      "metadata": {
        "id": "cqRX6SSvhpAC",
        "colab_type": "text"
      },
      "source": [
        "Está errado abaixo --> item 4, o laboratório deveria ser BOIRON"
      ]
    },
    {
      "cell_type": "code",
      "metadata": {
        "id": "W-EfBgy0UajO",
        "colab_type": "code",
        "colab": {}
      },
      "source": [
        "cols = ['Nome', 'Princípio ativo', 'Laboratório', 'Preço']\n",
        "\n",
        "list_drugs = zip(drug_list,active_ingredient_list,labs_list,price_list)\n",
        "\n",
        "drugs_pd = pd.DataFrame(list_drugs,\\\n",
        "                       columns=cols)"
      ],
      "execution_count": 0,
      "outputs": []
    },
    {
      "cell_type": "code",
      "metadata": {
        "id": "zlNYF8mGWWI8",
        "colab_type": "code",
        "outputId": "a04bff59-8ce9-436e-938a-df9074efd443",
        "colab": {
          "base_uri": "https://localhost:8080/",
          "height": 0
        }
      },
      "source": [
        "drugs_pd"
      ],
      "execution_count": 11,
      "outputs": [
        {
          "output_type": "execute_result",
          "data": {
            "text/html": [
              "<div>\n",
              "<style scoped>\n",
              "    .dataframe tbody tr th:only-of-type {\n",
              "        vertical-align: middle;\n",
              "    }\n",
              "\n",
              "    .dataframe tbody tr th {\n",
              "        vertical-align: top;\n",
              "    }\n",
              "\n",
              "    .dataframe thead th {\n",
              "        text-align: right;\n",
              "    }\n",
              "</style>\n",
              "<table border=\"1\" class=\"dataframe\">\n",
              "  <thead>\n",
              "    <tr style=\"text-align: right;\">\n",
              "      <th></th>\n",
              "      <th>Nome</th>\n",
              "      <th>Princípio ativo</th>\n",
              "      <th>Laboratório</th>\n",
              "      <th>Preço</th>\n",
              "    </tr>\n",
              "  </thead>\n",
              "  <tbody>\n",
              "    <tr>\n",
              "      <th>0</th>\n",
              "      <td>Actifedrin</td>\n",
              "      <td>Pseudoefedrina + Triprolidina</td>\n",
              "      <td>Farmoquímica</td>\n",
              "      <td>R$ 9,07</td>\n",
              "    </tr>\n",
              "    <tr>\n",
              "      <th>1</th>\n",
              "      <td>Avamys</td>\n",
              "      <td>Furoato de Fluticasona</td>\n",
              "      <td>GSK</td>\n",
              "      <td>R$ 39,87</td>\n",
              "    </tr>\n",
              "    <tr>\n",
              "      <th>2</th>\n",
              "      <td>Aznite</td>\n",
              "      <td>Cloridrato de Azelastina</td>\n",
              "      <td>EMS</td>\n",
              "      <td>R$ 24,13</td>\n",
              "    </tr>\n",
              "    <tr>\n",
              "      <th>3</th>\n",
              "      <td>Complexo Homeopático Almeida Prado Nº 3</td>\n",
              "      <td>Hydrastis canadensis + Magnesia carbonica + Ka...</td>\n",
              "      <td>Homeopatia Almeida Prado</td>\n",
              "      <td>R$ 5,01</td>\n",
              "    </tr>\n",
              "    <tr>\n",
              "      <th>4</th>\n",
              "      <td>Coryzalia</td>\n",
              "      <td>Allium Cepa 3CH + Associações</td>\n",
              "      <td>Neo Química</td>\n",
              "      <td>R$ 33,90</td>\n",
              "    </tr>\n",
              "    <tr>\n",
              "      <th>5</th>\n",
              "      <td>Cromoglicato de Sódio Neo Química</td>\n",
              "      <td>Cromoglicato Dissódico</td>\n",
              "      <td>Allergan</td>\n",
              "      <td>R$ 7,96</td>\n",
              "    </tr>\n",
              "    <tr>\n",
              "      <th>6</th>\n",
              "      <td>Cromolerg</td>\n",
              "      <td>Cromoglicato Dissódico</td>\n",
              "      <td>Meda Pharma</td>\n",
              "      <td>R$ 9,27</td>\n",
              "    </tr>\n",
              "    <tr>\n",
              "      <th>7</th>\n",
              "      <td>Dymista</td>\n",
              "      <td>Propionato de Fluticasona + Cloridrato de Azel...</td>\n",
              "      <td>GSK</td>\n",
              "      <td>R$ 86,80</td>\n",
              "    </tr>\n",
              "    <tr>\n",
              "      <th>8</th>\n",
              "      <td>Flixonase</td>\n",
              "      <td>Propionato de Fluticasona</td>\n",
              "      <td>GSK</td>\n",
              "      <td>R$ 43,21</td>\n",
              "    </tr>\n",
              "    <tr>\n",
              "      <th>9</th>\n",
              "      <td>Flixotide Diskus</td>\n",
              "      <td>Propionato de Fluticasona</td>\n",
              "      <td>GSK</td>\n",
              "      <td>R$ 83,55</td>\n",
              "    </tr>\n",
              "    <tr>\n",
              "      <th>10</th>\n",
              "      <td>Flixotide Nebules</td>\n",
              "      <td>Propionato de Fluticasona</td>\n",
              "      <td>GSK</td>\n",
              "      <td>R$ 35,85</td>\n",
              "    </tr>\n",
              "    <tr>\n",
              "      <th>11</th>\n",
              "      <td>Flixotide Spray</td>\n",
              "      <td>Propionato de Fluticasona</td>\n",
              "      <td>Glenmark</td>\n",
              "      <td>R$ 72,02</td>\n",
              "    </tr>\n",
              "    <tr>\n",
              "      <th>12</th>\n",
              "      <td>Flutican</td>\n",
              "      <td>Propionato de Fluticasona</td>\n",
              "      <td>Biosintética</td>\n",
              "      <td>R$ 43,55</td>\n",
              "    </tr>\n",
              "    <tr>\n",
              "      <th>13</th>\n",
              "      <td>Fluticaps</td>\n",
              "      <td>Propionato de Fluticasona</td>\n",
              "      <td>GSK</td>\n",
              "      <td>R$ 77,90</td>\n",
              "    </tr>\n",
              "    <tr>\n",
              "      <th>14</th>\n",
              "      <td>Flutivate</td>\n",
              "      <td>Propionato de Fluticasona</td>\n",
              "      <td>EMS</td>\n",
              "      <td>R$ 31,68</td>\n",
              "    </tr>\n",
              "    <tr>\n",
              "      <th>15</th>\n",
              "      <td>Inalide</td>\n",
              "      <td>Budesonida</td>\n",
              "      <td>Glenmark</td>\n",
              "      <td>R$ 19,90</td>\n",
              "    </tr>\n",
              "    <tr>\n",
              "      <th>16</th>\n",
              "      <td>Levolukast</td>\n",
              "      <td>Montelucaste de Sódio + Dicloridrato de Levoce...</td>\n",
              "      <td>Schering-Plough</td>\n",
              "      <td>R$ 33,29</td>\n",
              "    </tr>\n",
              "    <tr>\n",
              "      <th>17</th>\n",
              "      <td>Nasonex</td>\n",
              "      <td>Furoato de Mometasona</td>\n",
              "      <td>Merck Sharp &amp; Dohme</td>\n",
              "      <td>R$ 43,49</td>\n",
              "    </tr>\n",
              "    <tr>\n",
              "      <th>18</th>\n",
              "      <td>Nites</td>\n",
              "      <td>Furoato de Mometasona</td>\n",
              "      <td>Libbs</td>\n",
              "      <td>R$ 35,99</td>\n",
              "    </tr>\n",
              "  </tbody>\n",
              "</table>\n",
              "</div>"
            ],
            "text/plain": [
              "                                       Nome  ...     Preço\n",
              "0                                Actifedrin  ...   R$ 9,07\n",
              "1                                    Avamys  ...  R$ 39,87\n",
              "2                                    Aznite  ...  R$ 24,13\n",
              "3   Complexo Homeopático Almeida Prado Nº 3  ...   R$ 5,01\n",
              "4                                 Coryzalia  ...  R$ 33,90\n",
              "5         Cromoglicato de Sódio Neo Química  ...   R$ 7,96\n",
              "6                                 Cromolerg  ...   R$ 9,27\n",
              "7                                   Dymista  ...  R$ 86,80\n",
              "8                                 Flixonase  ...  R$ 43,21\n",
              "9                          Flixotide Diskus  ...  R$ 83,55\n",
              "10                        Flixotide Nebules  ...  R$ 35,85\n",
              "11                          Flixotide Spray  ...  R$ 72,02\n",
              "12                                 Flutican  ...  R$ 43,55\n",
              "13                                Fluticaps  ...  R$ 77,90\n",
              "14                                Flutivate  ...  R$ 31,68\n",
              "15                                  Inalide  ...  R$ 19,90\n",
              "16                               Levolukast  ...  R$ 33,29\n",
              "17                                  Nasonex  ...  R$ 43,49\n",
              "18                                    Nites  ...  R$ 35,99\n",
              "\n",
              "[19 rows x 4 columns]"
            ]
          },
          "metadata": {
            "tags": []
          },
          "execution_count": 11
        }
      ]
    },
    {
      "cell_type": "markdown",
      "metadata": {
        "id": "fCQayc2mCTAT",
        "colab_type": "text"
      },
      "source": [
        "# Sites Livros\n",
        "\n",
        "1.   https://www.amazon.com.br/\n",
        "2.   https://www.submarino.com.br/\n",
        "3.   https://www.saraiva.com.br/\n",
        "4.   https://www.estantevirtual.com.br/\n",
        "5.   https://www.americanas.com.br/\n",
        "6.   https://www.ciadoslivros.com.br/\n",
        "7.   https://www.traca.com.br/\n",
        "8.   https://www.livrariacultura.com.br\n",
        "9.   https://www.disal.com.br/\n",
        "10.  https://www.extra.com.br/livros/"
      ]
    },
    {
      "cell_type": "markdown",
      "metadata": {
        "id": "txPhFcFSDqYz",
        "colab_type": "text"
      },
      "source": [
        "##AMAZON"
      ]
    },
    {
      "cell_type": "markdown",
      "metadata": {
        "id": "XnfbQ41MEZ3D",
        "colab_type": "text"
      },
      "source": [
        "### All books in one page"
      ]
    },
    {
      "cell_type": "code",
      "metadata": {
        "id": "-hSHvPPvp_is",
        "colab_type": "code",
        "colab": {}
      },
      "source": [
        "# url = 'https://www.amazon.com.br/Livros/b?ie=UTF8&node=6740748011&ref_=nav_books_all'\n",
        "# url = 'https://www.amazon.com.br/b/ref=s9_acss_bw_cg_livros_3a1_w?node=7872689011&pf_rd_m=A3RN7G7QC5MWSZ&pf_rd_s=merchandised-search-13&pf_rd_r=QVZ9EYBNWVBAX5VRE6KH&pf_rd_t=101&pf_rd_p=ef6255a0-96c8-4931-bc85-1e4d682f1064&pf_rd_i=6740748011'\n",
        "# url = 'https://www.amazon.com.br/b/ref=s9_acss_bw_cg_livros_2a1_w?node=16495864011&pf_rd_m=A3RN7G7QC5MWSZ&pf_rd_s=merchandised-search-13&pf_rd_r=G9RQPBBW9G6ZQ5XX82M8&pf_rd_t=101&pf_rd_p=ef6255a0-96c8-4931-bc85-1e4d682f1064&pf_rd_i=6740748011'\n",
        "# url = 'https://www.amazon.com.br/b/ref=s9_acss_bw_cg_livros_2d1_w?node=11443295011&pf_rd_m=A3RN7G7QC5MWSZ&pf_rd_s=merchandised-search-13&pf_rd_r=0AC9WCXZN61JJGX49F4H&pf_rd_t=101&pf_rd_p=ef6255a0-96c8-4931-bc85-1e4d682f1064&pf_rd_i=6740748011'\n",
        "# url = 'https://www.amazon.com.br/b/ref=s9_acss_bw_cg_livros_3c1_w?node=7844001011&pf_rd_m=A3RN7G7QC5MWSZ&pf_rd_s=merchandised-search-13&pf_rd_r=V1Z00SNVZHHZNGASAS2J&pf_rd_t=101&pf_rd_p=ef6255a0-96c8-4931-bc85-1e4d682f1064&pf_rd_i=6740748011'\n",
        "# url = 'https://www.amazon.com.br/b/ref=s9_acss_bw_cg_livros_2c1_w?node=7882627011&pf_rd_m=A3RN7G7QC5MWSZ&pf_rd_s=merchandised-search-13&pf_rd_r=068FWS2KD5K5K0RGNXRY&pf_rd_t=101&pf_rd_p=ef6255a0-96c8-4931-bc85-1e4d682f1064&pf_rd_i=6740748011'\n",
        "# url = 'https://www.amazon.com.br/b/ref=s9_acss_bw_cg_livros_2b1_w?node=16271670011&pf_rd_m=A3RN7G7QC5MWSZ&pf_rd_s=merchandised-search-13&pf_rd_r=068FWS2KD5K5K0RGNXRY&pf_rd_t=101&pf_rd_p=ef6255a0-96c8-4931-bc85-1e4d682f1064&pf_rd_i=6740748011'\n",
        "# url = 'https://www.amazon.com.br/b/ref=s9_acss_bw_cg_livros_3b1_w?node=7842710011&pf_rd_m=A3RN7G7QC5MWSZ&pf_rd_s=merchandised-search-13&pf_rd_r=068FWS2KD5K5K0RGNXRY&pf_rd_t=101&pf_rd_p=ef6255a0-96c8-4931-bc85-1e4d682f1064&pf_rd_i=6740748011'\n",
        "# url = 'https://www.amazon.com.br/b/ref=s9_acss_bw_cg_livros_3d1_w?node=7872552011&pf_rd_m=A3RN7G7QC5MWSZ&pf_rd_s=merchandised-search-13&pf_rd_r=068FWS2KD5K5K0RGNXRY&pf_rd_t=101&pf_rd_p=ef6255a0-96c8-4931-bc85-1e4d682f1064&pf_rd_i=6740748011'\n",
        "# url = 'https://www.amazon.com.br/b/ref=s9_acss_bw_cg_livros_4d1_w?node=5475882011&pf_rd_m=A3RN7G7QC5MWSZ&pf_rd_s=merchandised-search-13&pf_rd_r=068FWS2KD5K5K0RGNXRY&pf_rd_t=101&pf_rd_p=ef6255a0-96c8-4931-bc85-1e4d682f1064&pf_rd_i=6740748011'\n",
        "\n",
        "url_list = ['https://www.amazon.com.br/Livros/b?ie=UTF8&node=6740748011&ref_=nav_books_all'\n",
        ",'https://www.amazon.com.br/b/ref=s9_acss_bw_cg_livros_3a1_w?node=7872689011&pf_rd_m=A3RN7G7QC5MWSZ&pf_rd_s=merchandised-search-13&pf_rd_r=QVZ9EYBNWVBAX5VRE6KH&pf_rd_t=101&pf_rd_p=ef6255a0-96c8-4931-bc85-1e4d682f1064&pf_rd_i=6740748011'\n",
        ",'https://www.amazon.com.br/b/ref=s9_acss_bw_cg_livros_2a1_w?node=16495864011&pf_rd_m=A3RN7G7QC5MWSZ&pf_rd_s=merchandised-search-13&pf_rd_r=G9RQPBBW9G6ZQ5XX82M8&pf_rd_t=101&pf_rd_p=ef6255a0-96c8-4931-bc85-1e4d682f1064&pf_rd_i=6740748011'\n",
        ",'https://www.amazon.com.br/b/ref=s9_acss_bw_cg_livros_2d1_w?node=11443295011&pf_rd_m=A3RN7G7QC5MWSZ&pf_rd_s=merchandised-search-13&pf_rd_r=0AC9WCXZN61JJGX49F4H&pf_rd_t=101&pf_rd_p=ef6255a0-96c8-4931-bc85-1e4d682f1064&pf_rd_i=6740748011'\n",
        ",'https://www.amazon.com.br/b/ref=s9_acss_bw_cg_livros_3c1_w?node=7844001011&pf_rd_m=A3RN7G7QC5MWSZ&pf_rd_s=merchandised-search-13&pf_rd_r=V1Z00SNVZHHZNGASAS2J&pf_rd_t=101&pf_rd_p=ef6255a0-96c8-4931-bc85-1e4d682f1064&pf_rd_i=6740748011'\n",
        ",'https://www.amazon.com.br/b/ref=s9_acss_bw_cg_livros_2c1_w?node=7882627011&pf_rd_m=A3RN7G7QC5MWSZ&pf_rd_s=merchandised-search-13&pf_rd_r=068FWS2KD5K5K0RGNXRY&pf_rd_t=101&pf_rd_p=ef6255a0-96c8-4931-bc85-1e4d682f1064&pf_rd_i=6740748011'\n",
        ",'https://www.amazon.com.br/b/ref=s9_acss_bw_cg_livros_2b1_w?node=16271670011&pf_rd_m=A3RN7G7QC5MWSZ&pf_rd_s=merchandised-search-13&pf_rd_r=068FWS2KD5K5K0RGNXRY&pf_rd_t=101&pf_rd_p=ef6255a0-96c8-4931-bc85-1e4d682f1064&pf_rd_i=6740748011'\n",
        ",'https://www.amazon.com.br/b/ref=s9_acss_bw_cg_livros_3b1_w?node=7842710011&pf_rd_m=A3RN7G7QC5MWSZ&pf_rd_s=merchandised-search-13&pf_rd_r=068FWS2KD5K5K0RGNXRY&pf_rd_t=101&pf_rd_p=ef6255a0-96c8-4931-bc85-1e4d682f1064&pf_rd_i=6740748011'\n",
        ",'https://www.amazon.com.br/b/ref=s9_acss_bw_cg_livros_3d1_w?node=7872552011&pf_rd_m=A3RN7G7QC5MWSZ&pf_rd_s=merchandised-search-13&pf_rd_r=068FWS2KD5K5K0RGNXRY&pf_rd_t=101&pf_rd_p=ef6255a0-96c8-4931-bc85-1e4d682f1064&pf_rd_i=6740748011'\n",
        ",'https://www.amazon.com.br/b/ref=s9_acss_bw_cg_livros_4d1_w?node=5475882011&pf_rd_m=A3RN7G7QC5MWSZ&pf_rd_s=merchandised-search-13&pf_rd_r=068FWS2KD5K5K0RGNXRY&pf_rd_t=101&pf_rd_p=ef6255a0-96c8-4931-bc85-1e4d682f1064&pf_rd_i=6740748011']"
      ],
      "execution_count": 0,
      "outputs": []
    },
    {
      "cell_type": "code",
      "metadata": {
        "id": "1yw2JYi-keCj",
        "colab_type": "code",
        "colab": {}
      },
      "source": [
        "def Amazon_col(site):\n",
        "  page = rq.get(url)\n",
        "\n",
        "  soup = bs(page.text,\"html.parser\")\n",
        "\n",
        "  books = soup.find_all('li', {'class':'a-carousel-card acswidget-carousel__card'})\n",
        "\n",
        "  books_list = []\n",
        "\n",
        "  for book in books:\n",
        "    book = re.sub(\"\\n|\\t|\\xa0|[R][$]\", \" \", (book.text.strip()))\n",
        "    book = re.sub(\"[,]\", '.', book)\n",
        "    books_list.append(book)\n",
        "    \n",
        "  for i in range(len(books_list)):\n",
        "    books_list[i] = books_list[i].split('    ')\n",
        "    books_list[i] = list(filter(None, books_list[i]))\n",
        "    books_list[i] = [item.strip() for item in books_list[i]]\n",
        "    if (len(books_list[i]) > 4):\n",
        "      books_list[i] = [books_list[i][0],books_list[i][1],books_list[i][2],books_list[i][4]]\n",
        "\n",
        "  book_list = []\n",
        "  \n",
        "  for book in books_list:\n",
        "    if len(book) == 4:\n",
        "      book_list.append(book)\n",
        "\n",
        "  col = ['Título', 'Autor', 'Acabamento', 'Preço']\n",
        "\n",
        "  books_pd = pd.DataFrame(book_list,\\\n",
        "                        columns=col)\n",
        "  \n",
        "  return books_pd"
      ],
      "execution_count": 0,
      "outputs": []
    },
    {
      "cell_type": "code",
      "metadata": {
        "id": "_0Hy5vWGrCTk",
        "colab_type": "code",
        "colab": {
          "base_uri": "https://localhost:8080/",
          "height": 1000
        },
        "outputId": "7d0ace5f-59d2-4ad0-e1c6-be36e474c495"
      },
      "source": [
        "for url in url_list:\n",
        "  print(url)\n",
        "  display(Amazon_col(url)[:5])\n",
        "  print('\\n')"
      ],
      "execution_count": 21,
      "outputs": [
        {
          "output_type": "stream",
          "text": [
            "https://www.amazon.com.br/Livros/b?ie=UTF8&node=6740748011&ref_=nav_books_all\n"
          ],
          "name": "stdout"
        },
        {
          "output_type": "display_data",
          "data": {
            "text/html": [
              "<div>\n",
              "<style scoped>\n",
              "    .dataframe tbody tr th:only-of-type {\n",
              "        vertical-align: middle;\n",
              "    }\n",
              "\n",
              "    .dataframe tbody tr th {\n",
              "        vertical-align: top;\n",
              "    }\n",
              "\n",
              "    .dataframe thead th {\n",
              "        text-align: right;\n",
              "    }\n",
              "</style>\n",
              "<table border=\"1\" class=\"dataframe\">\n",
              "  <thead>\n",
              "    <tr style=\"text-align: right;\">\n",
              "      <th></th>\n",
              "      <th>Título</th>\n",
              "      <th>Autor</th>\n",
              "      <th>Acabamento</th>\n",
              "      <th>Preço</th>\n",
              "    </tr>\n",
              "  </thead>\n",
              "  <tbody>\n",
              "    <tr>\n",
              "      <th>0</th>\n",
              "      <td>Do Mil ao Milhão. Sem Cortar o...</td>\n",
              "      <td>Thiago Nigro</td>\n",
              "      <td>Capa comum</td>\n",
              "      <td>34.90</td>\n",
              "    </tr>\n",
              "    <tr>\n",
              "      <th>1</th>\n",
              "      <td>O milagre da manhã</td>\n",
              "      <td>Hal Elrod. Marcelo Schild</td>\n",
              "      <td>Capa comum</td>\n",
              "      <td>39.90</td>\n",
              "    </tr>\n",
              "    <tr>\n",
              "      <th>2</th>\n",
              "      <td>A Sutil Arte de Ligar o F*da-Se: Uma...</td>\n",
              "      <td>Mark Manson. Joana Faro</td>\n",
              "      <td>Capa comum</td>\n",
              "      <td>34.90</td>\n",
              "    </tr>\n",
              "    <tr>\n",
              "      <th>3</th>\n",
              "      <td>Mais esperto que o diabo: O mistério...</td>\n",
              "      <td>Napoleon Hill</td>\n",
              "      <td>Capa comum</td>\n",
              "      <td>42.90</td>\n",
              "    </tr>\n",
              "    <tr>\n",
              "      <th>4</th>\n",
              "      <td>Os segredos da mente milionária</td>\n",
              "      <td>T. Harv Eker. Pedro Jorgensen Junior</td>\n",
              "      <td>Capa comum</td>\n",
              "      <td>34.90</td>\n",
              "    </tr>\n",
              "  </tbody>\n",
              "</table>\n",
              "</div>"
            ],
            "text/plain": [
              "                                    Título  ...  Preço\n",
              "0        Do Mil ao Milhão. Sem Cortar o...  ...  34.90\n",
              "1                       O milagre da manhã  ...  39.90\n",
              "2  A Sutil Arte de Ligar o F*da-Se: Uma...  ...  34.90\n",
              "3  Mais esperto que o diabo: O mistério...  ...  42.90\n",
              "4          Os segredos da mente milionária  ...  34.90\n",
              "\n",
              "[5 rows x 4 columns]"
            ]
          },
          "metadata": {
            "tags": []
          }
        },
        {
          "output_type": "stream",
          "text": [
            "\n",
            "\n",
            "https://www.amazon.com.br/b/ref=s9_acss_bw_cg_livros_3a1_w?node=7872689011&pf_rd_m=A3RN7G7QC5MWSZ&pf_rd_s=merchandised-search-13&pf_rd_r=QVZ9EYBNWVBAX5VRE6KH&pf_rd_t=101&pf_rd_p=ef6255a0-96c8-4931-bc85-1e4d682f1064&pf_rd_i=6740748011\n"
          ],
          "name": "stdout"
        },
        {
          "output_type": "display_data",
          "data": {
            "text/html": [
              "<div>\n",
              "<style scoped>\n",
              "    .dataframe tbody tr th:only-of-type {\n",
              "        vertical-align: middle;\n",
              "    }\n",
              "\n",
              "    .dataframe tbody tr th {\n",
              "        vertical-align: top;\n",
              "    }\n",
              "\n",
              "    .dataframe thead th {\n",
              "        text-align: right;\n",
              "    }\n",
              "</style>\n",
              "<table border=\"1\" class=\"dataframe\">\n",
              "  <thead>\n",
              "    <tr style=\"text-align: right;\">\n",
              "      <th></th>\n",
              "      <th>Título</th>\n",
              "      <th>Autor</th>\n",
              "      <th>Acabamento</th>\n",
              "      <th>Preço</th>\n",
              "    </tr>\n",
              "  </thead>\n",
              "  <tbody>\n",
              "    <tr>\n",
              "      <th>0</th>\n",
              "      <td>Notas Autobiográficas</td>\n",
              "      <td>Albert Einstein</td>\n",
              "      <td>Capa dura</td>\n",
              "      <td>39.90</td>\n",
              "    </tr>\n",
              "    <tr>\n",
              "      <th>1</th>\n",
              "      <td>O Jovem Törless (Biblioteca Áurea)</td>\n",
              "      <td>Robert Musil</td>\n",
              "      <td>Capa dura</td>\n",
              "      <td>39.90</td>\n",
              "    </tr>\n",
              "    <tr>\n",
              "      <th>2</th>\n",
              "      <td>Todos os Homens São Mortais</td>\n",
              "      <td>Simone De Beauvoir</td>\n",
              "      <td>Capa dura</td>\n",
              "      <td>59.90</td>\n",
              "    </tr>\n",
              "    <tr>\n",
              "      <th>3</th>\n",
              "      <td>Um Teto Todo Seu (Biblioteca Áurea)</td>\n",
              "      <td>Virginia Woolf</td>\n",
              "      <td>Capa dura</td>\n",
              "      <td>39.90</td>\n",
              "    </tr>\n",
              "    <tr>\n",
              "      <th>4</th>\n",
              "      <td>A Casa Soturna (Biblioteca Áurea)</td>\n",
              "      <td>Charles Dickens</td>\n",
              "      <td>Capa dura</td>\n",
              "      <td>79.90</td>\n",
              "    </tr>\n",
              "  </tbody>\n",
              "</table>\n",
              "</div>"
            ],
            "text/plain": [
              "                                Título               Autor Acabamento  Preço\n",
              "0                Notas Autobiográficas     Albert Einstein  Capa dura  39.90\n",
              "1   O Jovem Törless (Biblioteca Áurea)        Robert Musil  Capa dura  39.90\n",
              "2          Todos os Homens São Mortais  Simone De Beauvoir  Capa dura  59.90\n",
              "3  Um Teto Todo Seu (Biblioteca Áurea)      Virginia Woolf  Capa dura  39.90\n",
              "4    A Casa Soturna (Biblioteca Áurea)     Charles Dickens  Capa dura  79.90"
            ]
          },
          "metadata": {
            "tags": []
          }
        },
        {
          "output_type": "stream",
          "text": [
            "\n",
            "\n",
            "https://www.amazon.com.br/b/ref=s9_acss_bw_cg_livros_2a1_w?node=16495864011&pf_rd_m=A3RN7G7QC5MWSZ&pf_rd_s=merchandised-search-13&pf_rd_r=G9RQPBBW9G6ZQ5XX82M8&pf_rd_t=101&pf_rd_p=ef6255a0-96c8-4931-bc85-1e4d682f1064&pf_rd_i=6740748011\n"
          ],
          "name": "stdout"
        },
        {
          "output_type": "display_data",
          "data": {
            "text/html": [
              "<div>\n",
              "<style scoped>\n",
              "    .dataframe tbody tr th:only-of-type {\n",
              "        vertical-align: middle;\n",
              "    }\n",
              "\n",
              "    .dataframe tbody tr th {\n",
              "        vertical-align: top;\n",
              "    }\n",
              "\n",
              "    .dataframe thead th {\n",
              "        text-align: right;\n",
              "    }\n",
              "</style>\n",
              "<table border=\"1\" class=\"dataframe\">\n",
              "  <thead>\n",
              "    <tr style=\"text-align: right;\">\n",
              "      <th></th>\n",
              "      <th>Título</th>\n",
              "      <th>Autor</th>\n",
              "      <th>Acabamento</th>\n",
              "      <th>Preço</th>\n",
              "    </tr>\n",
              "  </thead>\n",
              "  <tbody>\n",
              "    <tr>\n",
              "      <th>0</th>\n",
              "      <td>Lacerda: A virtude da polêmica</td>\n",
              "      <td>Lucas Berlanza</td>\n",
              "      <td>Capa comum</td>\n",
              "      <td>46.07</td>\n",
              "    </tr>\n",
              "    <tr>\n",
              "      <th>1</th>\n",
              "      <td>SEJA UM LÍDER DE HERÓIS: COMO...</td>\n",
              "      <td>LEANDRO MOREIRA</td>\n",
              "      <td>Capa comum</td>\n",
              "      <td>34.90</td>\n",
              "    </tr>\n",
              "    <tr>\n",
              "      <th>2</th>\n",
              "      <td>Um trabalho para amar</td>\n",
              "      <td>The School of Life</td>\n",
              "      <td>Capa dura</td>\n",
              "      <td>43.52</td>\n",
              "    </tr>\n",
              "    <tr>\n",
              "      <th>3</th>\n",
              "      <td>O Jeito Peter Lynch De Investir</td>\n",
              "      <td>Peter Lynch E John Rothchild</td>\n",
              "      <td>Capa comum</td>\n",
              "      <td>49.90</td>\n",
              "    </tr>\n",
              "    <tr>\n",
              "      <th>4</th>\n",
              "      <td>O jeito Warren Buffett de investir...</td>\n",
              "      <td>Robert G. Hagstrom. Maria Silvia Mourão Netto</td>\n",
              "      <td>Capa comum</td>\n",
              "      <td>49.90</td>\n",
              "    </tr>\n",
              "  </tbody>\n",
              "</table>\n",
              "</div>"
            ],
            "text/plain": [
              "                                  Título  ...  Preço\n",
              "0         Lacerda: A virtude da polêmica  ...  46.07\n",
              "1       SEJA UM LÍDER DE HERÓIS: COMO...  ...  34.90\n",
              "2                  Um trabalho para amar  ...  43.52\n",
              "3        O Jeito Peter Lynch De Investir  ...  49.90\n",
              "4  O jeito Warren Buffett de investir...  ...  49.90\n",
              "\n",
              "[5 rows x 4 columns]"
            ]
          },
          "metadata": {
            "tags": []
          }
        },
        {
          "output_type": "stream",
          "text": [
            "\n",
            "\n",
            "https://www.amazon.com.br/b/ref=s9_acss_bw_cg_livros_2d1_w?node=11443295011&pf_rd_m=A3RN7G7QC5MWSZ&pf_rd_s=merchandised-search-13&pf_rd_r=0AC9WCXZN61JJGX49F4H&pf_rd_t=101&pf_rd_p=ef6255a0-96c8-4931-bc85-1e4d682f1064&pf_rd_i=6740748011\n"
          ],
          "name": "stdout"
        },
        {
          "output_type": "display_data",
          "data": {
            "text/html": [
              "<div>\n",
              "<style scoped>\n",
              "    .dataframe tbody tr th:only-of-type {\n",
              "        vertical-align: middle;\n",
              "    }\n",
              "\n",
              "    .dataframe tbody tr th {\n",
              "        vertical-align: top;\n",
              "    }\n",
              "\n",
              "    .dataframe thead th {\n",
              "        text-align: right;\n",
              "    }\n",
              "</style>\n",
              "<table border=\"1\" class=\"dataframe\">\n",
              "  <thead>\n",
              "    <tr style=\"text-align: right;\">\n",
              "      <th></th>\n",
              "      <th>Título</th>\n",
              "      <th>Autor</th>\n",
              "      <th>Acabamento</th>\n",
              "      <th>Preço</th>\n",
              "    </tr>\n",
              "  </thead>\n",
              "  <tbody>\n",
              "    <tr>\n",
              "      <th>0</th>\n",
              "      <td>O Eternauta 1969</td>\n",
              "      <td>Héctor Germán Oesterheld. alberto Breccia...</td>\n",
              "      <td>Capa dura</td>\n",
              "      <td>31.40</td>\n",
              "    </tr>\n",
              "    <tr>\n",
              "      <th>1</th>\n",
              "      <td>Fahrenheit 451</td>\n",
              "      <td>Ray Bradbury. Cid Knipel</td>\n",
              "      <td>Capa comum</td>\n",
              "      <td>39.90</td>\n",
              "    </tr>\n",
              "    <tr>\n",
              "      <th>2</th>\n",
              "      <td>O conto da aia</td>\n",
              "      <td>Margaret Atwood. Ana Deiró</td>\n",
              "      <td>Capa comum</td>\n",
              "      <td>44.50</td>\n",
              "    </tr>\n",
              "    <tr>\n",
              "      <th>3</th>\n",
              "      <td>Akira - Volume  4</td>\n",
              "      <td>Katsuhiro Otomo</td>\n",
              "      <td>Capa comum</td>\n",
              "      <td>76.90</td>\n",
              "    </tr>\n",
              "    <tr>\n",
              "      <th>4</th>\n",
              "      <td>Admirável mundo novo</td>\n",
              "      <td>Aldous Leonard Huxley. Vidal de Oliveira</td>\n",
              "      <td>Capa comum</td>\n",
              "      <td>44.90</td>\n",
              "    </tr>\n",
              "  </tbody>\n",
              "</table>\n",
              "</div>"
            ],
            "text/plain": [
              "                 Título  ...  Preço\n",
              "0      O Eternauta 1969  ...  31.40\n",
              "1        Fahrenheit 451  ...  39.90\n",
              "2        O conto da aia  ...  44.50\n",
              "3     Akira - Volume  4  ...  76.90\n",
              "4  Admirável mundo novo  ...  44.90\n",
              "\n",
              "[5 rows x 4 columns]"
            ]
          },
          "metadata": {
            "tags": []
          }
        },
        {
          "output_type": "stream",
          "text": [
            "\n",
            "\n",
            "https://www.amazon.com.br/b/ref=s9_acss_bw_cg_livros_3c1_w?node=7844001011&pf_rd_m=A3RN7G7QC5MWSZ&pf_rd_s=merchandised-search-13&pf_rd_r=V1Z00SNVZHHZNGASAS2J&pf_rd_t=101&pf_rd_p=ef6255a0-96c8-4931-bc85-1e4d682f1064&pf_rd_i=6740748011\n"
          ],
          "name": "stdout"
        },
        {
          "output_type": "display_data",
          "data": {
            "text/html": [
              "<div>\n",
              "<style scoped>\n",
              "    .dataframe tbody tr th:only-of-type {\n",
              "        vertical-align: middle;\n",
              "    }\n",
              "\n",
              "    .dataframe tbody tr th {\n",
              "        vertical-align: top;\n",
              "    }\n",
              "\n",
              "    .dataframe thead th {\n",
              "        text-align: right;\n",
              "    }\n",
              "</style>\n",
              "<table border=\"1\" class=\"dataframe\">\n",
              "  <thead>\n",
              "    <tr style=\"text-align: right;\">\n",
              "      <th></th>\n",
              "      <th>Título</th>\n",
              "      <th>Autor</th>\n",
              "      <th>Acabamento</th>\n",
              "      <th>Preço</th>\n",
              "    </tr>\n",
              "  </thead>\n",
              "  <tbody>\n",
              "    <tr>\n",
              "      <th>0</th>\n",
              "      <td>Batman Noir. O Cavaleiro das Trevas   Frank Mi...</td>\n",
              "      <td>Capa dura</td>\n",
              "      <td>5</td>\n",
              "      <td>59.50</td>\n",
              "    </tr>\n",
              "    <tr>\n",
              "      <th>1</th>\n",
              "      <td>Amiga ursa: Uma história triste. mas...   Rita...</td>\n",
              "      <td>Capa dura</td>\n",
              "      <td>10</td>\n",
              "      <td>31.99</td>\n",
              "    </tr>\n",
              "    <tr>\n",
              "      <th>2</th>\n",
              "      <td>Nós: Uma antologia de literatura...   Vários. ...</td>\n",
              "      <td>Capa comum</td>\n",
              "      <td>44.90</td>\n",
              "      <td>35.88</td>\n",
              "    </tr>\n",
              "    <tr>\n",
              "      <th>3</th>\n",
              "      <td>O Rei Leão: Livro Oficial Com A...   Elizabeth...</td>\n",
              "      <td>Capa comum</td>\n",
              "      <td>2</td>\n",
              "      <td>34.91</td>\n",
              "    </tr>\n",
              "    <tr>\n",
              "      <th>4</th>\n",
              "      <td>X-men: A Saga da Fênix Negra - Volume 1   Chri...</td>\n",
              "      <td>Capa dura</td>\n",
              "      <td>62</td>\n",
              "      <td>67.20</td>\n",
              "    </tr>\n",
              "  </tbody>\n",
              "</table>\n",
              "</div>"
            ],
            "text/plain": [
              "                                              Título  ...  Preço\n",
              "0  Batman Noir. O Cavaleiro das Trevas   Frank Mi...  ...  59.50\n",
              "1  Amiga ursa: Uma história triste. mas...   Rita...  ...  31.99\n",
              "2  Nós: Uma antologia de literatura...   Vários. ...  ...  35.88\n",
              "3  O Rei Leão: Livro Oficial Com A...   Elizabeth...  ...  34.91\n",
              "4  X-men: A Saga da Fênix Negra - Volume 1   Chri...  ...  67.20\n",
              "\n",
              "[5 rows x 4 columns]"
            ]
          },
          "metadata": {
            "tags": []
          }
        },
        {
          "output_type": "stream",
          "text": [
            "\n",
            "\n",
            "https://www.amazon.com.br/b/ref=s9_acss_bw_cg_livros_2c1_w?node=7882627011&pf_rd_m=A3RN7G7QC5MWSZ&pf_rd_s=merchandised-search-13&pf_rd_r=068FWS2KD5K5K0RGNXRY&pf_rd_t=101&pf_rd_p=ef6255a0-96c8-4931-bc85-1e4d682f1064&pf_rd_i=6740748011\n"
          ],
          "name": "stdout"
        },
        {
          "output_type": "display_data",
          "data": {
            "text/html": [
              "<div>\n",
              "<style scoped>\n",
              "    .dataframe tbody tr th:only-of-type {\n",
              "        vertical-align: middle;\n",
              "    }\n",
              "\n",
              "    .dataframe tbody tr th {\n",
              "        vertical-align: top;\n",
              "    }\n",
              "\n",
              "    .dataframe thead th {\n",
              "        text-align: right;\n",
              "    }\n",
              "</style>\n",
              "<table border=\"1\" class=\"dataframe\">\n",
              "  <thead>\n",
              "    <tr style=\"text-align: right;\">\n",
              "      <th></th>\n",
              "      <th>Título</th>\n",
              "      <th>Autor</th>\n",
              "      <th>Acabamento</th>\n",
              "      <th>Preço</th>\n",
              "    </tr>\n",
              "  </thead>\n",
              "  <tbody>\n",
              "    <tr>\n",
              "      <th>0</th>\n",
              "      <td>Little Women: Puffin in Bloom</td>\n",
              "      <td>Louisa May Alcott</td>\n",
              "      <td>Capa dura</td>\n",
              "      <td>55.37</td>\n",
              "    </tr>\n",
              "    <tr>\n",
              "      <th>1</th>\n",
              "      <td>Seven to Eternity Volume 1</td>\n",
              "      <td>Rick Remender. Jerome Opeña...</td>\n",
              "      <td>Capa comum</td>\n",
              "      <td>36.42</td>\n",
              "    </tr>\n",
              "    <tr>\n",
              "      <th>2</th>\n",
              "      <td>English Grammar in Use Students Book...</td>\n",
              "      <td>Raymond Murphy</td>\n",
              "      <td>Capa comum</td>\n",
              "      <td>121.60</td>\n",
              "    </tr>\n",
              "    <tr>\n",
              "      <th>3</th>\n",
              "      <td>Meditations: A New Translation</td>\n",
              "      <td>Aurelius Marcus. Marcus Aurelius...</td>\n",
              "      <td>Capa comum</td>\n",
              "      <td>39.98</td>\n",
              "    </tr>\n",
              "    <tr>\n",
              "      <th>4</th>\n",
              "      <td>Harry Potter Hogwarts Castle and...</td>\n",
              "      <td>Running Press</td>\n",
              "      <td>Capa comum</td>\n",
              "      <td>128.00</td>\n",
              "    </tr>\n",
              "  </tbody>\n",
              "</table>\n",
              "</div>"
            ],
            "text/plain": [
              "                                    Título  ...   Preço\n",
              "0            Little Women: Puffin in Bloom  ...   55.37\n",
              "1               Seven to Eternity Volume 1  ...   36.42\n",
              "2  English Grammar in Use Students Book...  ...  121.60\n",
              "3           Meditations: A New Translation  ...   39.98\n",
              "4      Harry Potter Hogwarts Castle and...  ...  128.00\n",
              "\n",
              "[5 rows x 4 columns]"
            ]
          },
          "metadata": {
            "tags": []
          }
        },
        {
          "output_type": "stream",
          "text": [
            "\n",
            "\n",
            "https://www.amazon.com.br/b/ref=s9_acss_bw_cg_livros_2b1_w?node=16271670011&pf_rd_m=A3RN7G7QC5MWSZ&pf_rd_s=merchandised-search-13&pf_rd_r=068FWS2KD5K5K0RGNXRY&pf_rd_t=101&pf_rd_p=ef6255a0-96c8-4931-bc85-1e4d682f1064&pf_rd_i=6740748011\n"
          ],
          "name": "stdout"
        },
        {
          "output_type": "display_data",
          "data": {
            "text/html": [
              "<div>\n",
              "<style scoped>\n",
              "    .dataframe tbody tr th:only-of-type {\n",
              "        vertical-align: middle;\n",
              "    }\n",
              "\n",
              "    .dataframe tbody tr th {\n",
              "        vertical-align: top;\n",
              "    }\n",
              "\n",
              "    .dataframe thead th {\n",
              "        text-align: right;\n",
              "    }\n",
              "</style>\n",
              "<table border=\"1\" class=\"dataframe\">\n",
              "  <thead>\n",
              "    <tr style=\"text-align: right;\">\n",
              "      <th></th>\n",
              "      <th>Título</th>\n",
              "      <th>Autor</th>\n",
              "      <th>Acabamento</th>\n",
              "      <th>Preço</th>\n",
              "    </tr>\n",
              "  </thead>\n",
              "  <tbody>\n",
              "    <tr>\n",
              "      <th>0</th>\n",
              "      <td>O poder da ação</td>\n",
              "      <td>Paulo Vieira</td>\n",
              "      <td>Capa comum</td>\n",
              "      <td>34.90</td>\n",
              "    </tr>\n",
              "    <tr>\n",
              "      <th>1</th>\n",
              "      <td>Os segredos da mente milionária</td>\n",
              "      <td>T. Harv Eker. Pedro Jorgensen Junior</td>\n",
              "      <td>Capa comum</td>\n",
              "      <td>34.90</td>\n",
              "    </tr>\n",
              "    <tr>\n",
              "      <th>2</th>\n",
              "      <td>Fahrenheit 451</td>\n",
              "      <td>Ray Bradbury. Cid Knipel</td>\n",
              "      <td>Capa comum</td>\n",
              "      <td>39.90</td>\n",
              "    </tr>\n",
              "    <tr>\n",
              "      <th>3</th>\n",
              "      <td>O conto da aia</td>\n",
              "      <td>Margaret Atwood. Ana Deiró</td>\n",
              "      <td>Capa comum</td>\n",
              "      <td>44.50</td>\n",
              "    </tr>\n",
              "    <tr>\n",
              "      <th>4</th>\n",
              "      <td>Pai rico. pai pobre 20 anos</td>\n",
              "      <td>Robert Kiyosaki</td>\n",
              "      <td>Capa comum</td>\n",
              "      <td>79.90</td>\n",
              "    </tr>\n",
              "  </tbody>\n",
              "</table>\n",
              "</div>"
            ],
            "text/plain": [
              "                            Título  ...  Preço\n",
              "0                  O poder da ação  ...  34.90\n",
              "1  Os segredos da mente milionária  ...  34.90\n",
              "2                   Fahrenheit 451  ...  39.90\n",
              "3                   O conto da aia  ...  44.50\n",
              "4      Pai rico. pai pobre 20 anos  ...  79.90\n",
              "\n",
              "[5 rows x 4 columns]"
            ]
          },
          "metadata": {
            "tags": []
          }
        },
        {
          "output_type": "stream",
          "text": [
            "\n",
            "\n",
            "https://www.amazon.com.br/b/ref=s9_acss_bw_cg_livros_3b1_w?node=7842710011&pf_rd_m=A3RN7G7QC5MWSZ&pf_rd_s=merchandised-search-13&pf_rd_r=068FWS2KD5K5K0RGNXRY&pf_rd_t=101&pf_rd_p=ef6255a0-96c8-4931-bc85-1e4d682f1064&pf_rd_i=6740748011\n"
          ],
          "name": "stdout"
        },
        {
          "output_type": "display_data",
          "data": {
            "text/html": [
              "<div>\n",
              "<style scoped>\n",
              "    .dataframe tbody tr th:only-of-type {\n",
              "        vertical-align: middle;\n",
              "    }\n",
              "\n",
              "    .dataframe tbody tr th {\n",
              "        vertical-align: top;\n",
              "    }\n",
              "\n",
              "    .dataframe thead th {\n",
              "        text-align: right;\n",
              "    }\n",
              "</style>\n",
              "<table border=\"1\" class=\"dataframe\">\n",
              "  <thead>\n",
              "    <tr style=\"text-align: right;\">\n",
              "      <th></th>\n",
              "      <th>Título</th>\n",
              "      <th>Autor</th>\n",
              "      <th>Acabamento</th>\n",
              "      <th>Preço</th>\n",
              "    </tr>\n",
              "  </thead>\n",
              "  <tbody>\n",
              "    <tr>\n",
              "      <th>0</th>\n",
              "      <td>O Eternauta 1969</td>\n",
              "      <td>Héctor Germán Oesterheld. alberto Breccia...</td>\n",
              "      <td>Capa dura</td>\n",
              "      <td>31.40</td>\n",
              "    </tr>\n",
              "    <tr>\n",
              "      <th>1</th>\n",
              "      <td>Re:zero – Art Works Re:box</td>\n",
              "      <td>Shinichirou Otsuka</td>\n",
              "      <td>Capa dura</td>\n",
              "      <td>119.90</td>\n",
              "    </tr>\n",
              "    <tr>\n",
              "      <th>2</th>\n",
              "      <td>Hokuto No Ken - Volume 1</td>\n",
              "      <td>Tetsuo Hara. Buronson</td>\n",
              "      <td>Capa comum</td>\n",
              "      <td>42.90</td>\n",
              "    </tr>\n",
              "    <tr>\n",
              "      <th>3</th>\n",
              "      <td>Akira - Vol. 3</td>\n",
              "      <td>Katsuhiro Otomo</td>\n",
              "      <td>Capa comum</td>\n",
              "      <td>76.90</td>\n",
              "    </tr>\n",
              "    <tr>\n",
              "      <th>4</th>\n",
              "      <td>My Hero Academia Vol.19</td>\n",
              "      <td>Kohei Horikoshi</td>\n",
              "      <td>Capa comum</td>\n",
              "      <td>17.90</td>\n",
              "    </tr>\n",
              "  </tbody>\n",
              "</table>\n",
              "</div>"
            ],
            "text/plain": [
              "                       Título  ...   Preço\n",
              "0            O Eternauta 1969  ...   31.40\n",
              "1  Re:zero – Art Works Re:box  ...  119.90\n",
              "2    Hokuto No Ken - Volume 1  ...   42.90\n",
              "3              Akira - Vol. 3  ...   76.90\n",
              "4     My Hero Academia Vol.19  ...   17.90\n",
              "\n",
              "[5 rows x 4 columns]"
            ]
          },
          "metadata": {
            "tags": []
          }
        },
        {
          "output_type": "stream",
          "text": [
            "\n",
            "\n",
            "https://www.amazon.com.br/b/ref=s9_acss_bw_cg_livros_3d1_w?node=7872552011&pf_rd_m=A3RN7G7QC5MWSZ&pf_rd_s=merchandised-search-13&pf_rd_r=068FWS2KD5K5K0RGNXRY&pf_rd_t=101&pf_rd_p=ef6255a0-96c8-4931-bc85-1e4d682f1064&pf_rd_i=6740748011\n"
          ],
          "name": "stdout"
        },
        {
          "output_type": "display_data",
          "data": {
            "text/html": [
              "<div>\n",
              "<style scoped>\n",
              "    .dataframe tbody tr th:only-of-type {\n",
              "        vertical-align: middle;\n",
              "    }\n",
              "\n",
              "    .dataframe tbody tr th {\n",
              "        vertical-align: top;\n",
              "    }\n",
              "\n",
              "    .dataframe thead th {\n",
              "        text-align: right;\n",
              "    }\n",
              "</style>\n",
              "<table border=\"1\" class=\"dataframe\">\n",
              "  <thead>\n",
              "    <tr style=\"text-align: right;\">\n",
              "      <th></th>\n",
              "      <th>Título</th>\n",
              "      <th>Autor</th>\n",
              "      <th>Acabamento</th>\n",
              "      <th>Preço</th>\n",
              "    </tr>\n",
              "  </thead>\n",
              "  <tbody>\n",
              "    <tr>\n",
              "      <th>0</th>\n",
              "      <td>Confeitaria escalafobética...</td>\n",
              "      <td>Raiza Costa</td>\n",
              "      <td>Capa dura</td>\n",
              "      <td>98.00</td>\n",
              "    </tr>\n",
              "    <tr>\n",
              "      <th>1</th>\n",
              "      <td>A química dos bolos: Receitas e...</td>\n",
              "      <td>Joyce Galvão</td>\n",
              "      <td>Capa dura</td>\n",
              "      <td>129.90</td>\n",
              "    </tr>\n",
              "    <tr>\n",
              "      <th>2</th>\n",
              "      <td>Le Cordon Bleu : Todas as técnicas...</td>\n",
              "      <td>Jeni Wright. Eric Treuille</td>\n",
              "      <td>Capa dura</td>\n",
              "      <td>249.90</td>\n",
              "    </tr>\n",
              "    <tr>\n",
              "      <th>3</th>\n",
              "      <td>O Que Tem na Geladeira? 30 Legumes e...</td>\n",
              "      <td>Rita Lobo</td>\n",
              "      <td>Capa dura</td>\n",
              "      <td>86.00</td>\n",
              "    </tr>\n",
              "    <tr>\n",
              "      <th>4</th>\n",
              "      <td>Cozinha prática</td>\n",
              "      <td>Rita Lobo</td>\n",
              "      <td>Capa dura</td>\n",
              "      <td>90.00</td>\n",
              "    </tr>\n",
              "  </tbody>\n",
              "</table>\n",
              "</div>"
            ],
            "text/plain": [
              "                                    Título  ...   Preço\n",
              "0            Confeitaria escalafobética...  ...   98.00\n",
              "1       A química dos bolos: Receitas e...  ...  129.90\n",
              "2    Le Cordon Bleu : Todas as técnicas...  ...  249.90\n",
              "3  O Que Tem na Geladeira? 30 Legumes e...  ...   86.00\n",
              "4                          Cozinha prática  ...   90.00\n",
              "\n",
              "[5 rows x 4 columns]"
            ]
          },
          "metadata": {
            "tags": []
          }
        },
        {
          "output_type": "stream",
          "text": [
            "\n",
            "\n",
            "https://www.amazon.com.br/b/ref=s9_acss_bw_cg_livros_4d1_w?node=5475882011&pf_rd_m=A3RN7G7QC5MWSZ&pf_rd_s=merchandised-search-13&pf_rd_r=068FWS2KD5K5K0RGNXRY&pf_rd_t=101&pf_rd_p=ef6255a0-96c8-4931-bc85-1e4d682f1064&pf_rd_i=6740748011\n"
          ],
          "name": "stdout"
        },
        {
          "output_type": "display_data",
          "data": {
            "text/html": [
              "<div>\n",
              "<style scoped>\n",
              "    .dataframe tbody tr th:only-of-type {\n",
              "        vertical-align: middle;\n",
              "    }\n",
              "\n",
              "    .dataframe tbody tr th {\n",
              "        vertical-align: top;\n",
              "    }\n",
              "\n",
              "    .dataframe thead th {\n",
              "        text-align: right;\n",
              "    }\n",
              "</style>\n",
              "<table border=\"1\" class=\"dataframe\">\n",
              "  <thead>\n",
              "    <tr style=\"text-align: right;\">\n",
              "      <th></th>\n",
              "      <th>Título</th>\n",
              "      <th>Autor</th>\n",
              "      <th>Acabamento</th>\n",
              "      <th>Preço</th>\n",
              "    </tr>\n",
              "  </thead>\n",
              "  <tbody>\n",
              "    <tr>\n",
              "      <th>0</th>\n",
              "      <td>Laranja mecânica</td>\n",
              "      <td>Anthony Burgess</td>\n",
              "      <td>eBook Kindle</td>\n",
              "      <td>18.15</td>\n",
              "    </tr>\n",
              "    <tr>\n",
              "      <th>1</th>\n",
              "      <td>O Processo</td>\n",
              "      <td>Franz Kafka</td>\n",
              "      <td>eBook Kindle</td>\n",
              "      <td>2.54</td>\n",
              "    </tr>\n",
              "    <tr>\n",
              "      <th>2</th>\n",
              "      <td>As Aventuras de Tom Sawyer: Texto...</td>\n",
              "      <td>Mark Twain. Kerem Freitas...</td>\n",
              "      <td>eBook Kindle</td>\n",
              "      <td>17.91</td>\n",
              "    </tr>\n",
              "    <tr>\n",
              "      <th>3</th>\n",
              "      <td>O conde de Monte Cristo: edição bolso...</td>\n",
              "      <td>Alexandre Dumas</td>\n",
              "      <td>eBook Kindle</td>\n",
              "      <td>39.90</td>\n",
              "    </tr>\n",
              "    <tr>\n",
              "      <th>4</th>\n",
              "      <td>Jane Eyre (Edição Bilíngue)</td>\n",
              "      <td>Charlotte Bronte. Fabio Cyrino...</td>\n",
              "      <td>eBook Kindle</td>\n",
              "      <td>8.91</td>\n",
              "    </tr>\n",
              "  </tbody>\n",
              "</table>\n",
              "</div>"
            ],
            "text/plain": [
              "                                     Título  ...  Preço\n",
              "0                          Laranja mecânica  ...  18.15\n",
              "1                                O Processo  ...   2.54\n",
              "2      As Aventuras de Tom Sawyer: Texto...  ...  17.91\n",
              "3  O conde de Monte Cristo: edição bolso...  ...  39.90\n",
              "4               Jane Eyre (Edição Bilíngue)  ...   8.91\n",
              "\n",
              "[5 rows x 4 columns]"
            ]
          },
          "metadata": {
            "tags": []
          }
        },
        {
          "output_type": "stream",
          "text": [
            "\n",
            "\n"
          ],
          "name": "stdout"
        }
      ]
    },
    {
      "cell_type": "markdown",
      "metadata": {
        "id": "EaPK2h3wEfVb",
        "colab_type": "text"
      },
      "source": [
        "### Information from a single book"
      ]
    },
    {
      "cell_type": "code",
      "metadata": {
        "id": "VsI3NaVn2e3W",
        "colab_type": "code",
        "colab": {}
      },
      "source": [
        "# url = 'https://www.amazon.com.br/Livros/b?ie=UTF8&node=6740748011&ref_=nav_books_all'\n",
        "\n",
        "# Amazon_col(url)[:10]"
      ],
      "execution_count": 0,
      "outputs": []
    },
    {
      "cell_type": "code",
      "metadata": {
        "id": "n8agT_oB3Ovt",
        "colab_type": "code",
        "colab": {}
      },
      "source": [
        "# 'https://www.amazon.com.br/Mil-Milh%C3%A3o-Sem-Cortar-Cafezinho/dp/8595083274/ref=sr_1_1?__mk_pt_BR=%C3%85M%C3%85%C5%BD%C3%95%C3%91&keywords=Do+Mil+ao+Milh%C3%A3o.+Sem+Cortar&qid=1568583440&s=books&sr=1-1'\n",
        "# 'https://www.amazon.com.br/milagre-manh%C3%A3-Hal-Elrod/dp/8576849941/ref=sr_1_1?__mk_pt_BR=%C3%85M%C3%85%C5%BD%C3%95%C3%91&keywords=O+milagre+da+manh%C3%A3&qid=1568583491&s=gateway&sr=8-1'\n",
        "# 'https://www.amazon.com.br/Sutil-Arte-Ligar-Se/dp/855100249X/ref=sr_1_1?__mk_pt_BR=%C3%85M%C3%85%C5%BD%C3%95%C3%91&crid=2RL0TN82EOIU0&keywords=a+sutil+arte+de+ligar+o+foda-se&qid=1568583959&s=books&sprefix=a+sutil%2Cstripbooks%2C281&sr=1-1'\n",
        "# 'https://www.amazon.com.br/Esperto-Mist%C3%A9rio-Revelado-Liberdade-Sucesso/dp/8568014003/ref=sr_1_1?__mk_pt_BR=%C3%85M%C3%85%C5%BD%C3%95%C3%91&keywords=Mais+esperto+que+o+diabo%3A+O+mist%C3%A9rio&qid=1568583579&s=books&sr=1-1'\n",
        "# 'https://www.amazon.com.br/segredos-mente-milion%C3%A1ria-Harv-Eker/dp/8575422391/ref=sr_1_1?__mk_pt_BR=%C3%85M%C3%85%C5%BD%C3%95%C3%91&keywords=Os+segredos+da+mente+milion%C3%A1ria&qid=1568583626&s=books&sr=1-1'\n",
        "# 'https://www.amazon.com.br/Pai-rico-pai-pobre-anos/dp/8550801488/ref=sr_1_1?__mk_pt_BR=%C3%85M%C3%85%C5%BD%C3%95%C3%91&keywords=Pai+rico.+pai+pobre+20+anos&qid=1568583668&s=books&sr=1-1'\n",
        "# 'https://www.amazon.com.br/B%C3%ADblia-King-James-Atualizada/dp/8544105661/ref=sr_1_1?__mk_pt_BR=%C3%85M%C3%85%C5%BD%C3%95%C3%91&keywords=B%C3%ADblia+King+James+Atualizada&qid=1568583720&s=books&sr=1-1'\n",
        "# 'https://www.amazon.com.br/poder-a%C3%A7%C3%A3o-Paulo-Vieira/dp/854520034X/ref=sr_1_1?__mk_pt_BR=%C3%85M%C3%85%C5%BD%C3%95%C3%91&keywords=O+poder+da+a%C3%A7%C3%A3o&qid=1568583773&s=books&sr=1-1'\n",
        "# 'https://www.amazon.com.br/Como-Fazer-Amigos-Influenciar-Pessoas/dp/8504018024/ref=sr_1_1?__mk_pt_BR=%C3%85M%C3%85%C5%BD%C3%95%C3%91&keywords=Como+Fazer+Amigos+e+Influenciar+Pessoas&qid=1568583810&s=books&sr=1-1'\n",
        "# 'https://www.amazon.com.br/Me-Poupe-passos-faltar-dinheiro/dp/8543105811/ref=sr_1_1?__mk_pt_BR=%C3%85M%C3%85%C5%BD%C3%95%C3%91&keywords=Me+Poupe%21%3A+10+passos+para+nunca+mais...&qid=1568583858&s=books&sr=1-1'\n",
        "\n",
        "url_down_list = [r'/content/Do Mil ao Milhão. Sem Cortar o Cafezinho. - 9788595083271 - Livros na Amazon Brasil.html',\n",
        "       r'/content/O milagre da manhã - 9788576849940 - Livros na Amazon Brasil.html',\n",
        "       r'/content/A Sutil Arte de Ligar o F_da-Se_ Uma estratégia inusitada para uma vida melhor - 9788551002490 - Livros na Amazon Brasil.html',\n",
        "       r'/content/Mais esperto que o diabo_ O mistério revelado da liberdade e do sucesso - 9788568014004 - Livros na Amazon Brasil.html',\n",
        "       r'/content/Os segredos da mente milionária - 9788575422397 - Livros na Amazon Brasil.html',\n",
        "       r'/content/Pai rico, pai pobre 20 anos - 9788550801483 - Livros na Amazon Brasil.html',\n",
        "       r'/content/Bíblia King James Atualizada - 9788544105665 - Livros na Amazon Brasil.html',\n",
        "       r'/content/O poder da ação - 9788545200345 - Livros na Amazon Brasil.html',\n",
        "       r'/content/Como Fazer Amigos e Influenciar Pessoas - 9788504018028 - Livros na Amazon Brasil.html',\n",
        "       r'/content/Me Poupe!_ 10 passos para nunca mais faltar dinheiro no seu bolso - 9788543105819 - Livros na Amazon Brasil.html']\n",
        "\n"
      ],
      "execution_count": 0,
      "outputs": []
    },
    {
      "cell_type": "code",
      "metadata": {
        "id": "lZ-dhdGq7V8T",
        "colab_type": "code",
        "colab": {}
      },
      "source": [
        "def amazon_single(site):\n",
        "  # page = rq.get(url)\n",
        "  # # print(page.text)\n",
        "\n",
        "  # soup = bs(page.text,\"html.parser\")\n",
        "  \n",
        "  soup = bs(open(site),\"html.parser\")\n",
        "\n",
        "  title = (soup.find('span', {'id':'productTitle'})).text\n",
        "  # print(title)\n",
        "\n",
        "  author = (soup.find('span', {'class':'author notFaded'})).find('a',{'class':'a-link-normal'}).text#.contents[0]\n",
        "  # print(author)\n",
        "\n",
        "  book = soup.find('div', {'class':'content'}).find_all('li')[:5]\n",
        "  # for info in book:\n",
        "  #   print(info.text)\n",
        "\n",
        "  n_pages = book[0].contents[1].strip().split(' ')[0]\n",
        "  # print(n_pages)\n",
        "\n",
        "  publishing = book[1].contents[1].strip().split(';')[0]\n",
        "  # print(publishing)\n",
        "\n",
        "  language = book[2].contents[1].strip()\n",
        "  # print(language)\n",
        "\n",
        "  cols = ['Título', 'Autor', 'Nº Páginas', 'Editora', 'Idioma']\n",
        "\n",
        "  list_info = [title, author, n_pages, publishing, language]\n",
        "  list_info\n",
        "  book_pd = pd.DataFrame([list_info],\\\n",
        "                        columns=cols)\n",
        "  \n",
        "  return book_pd"
      ],
      "execution_count": 0,
      "outputs": []
    },
    {
      "cell_type": "code",
      "metadata": {
        "id": "_Rsu6xii7t4k",
        "colab_type": "code",
        "colab": {
          "base_uri": "https://localhost:8080/",
          "height": 1000
        },
        "outputId": "9c0f14d0-1a8d-4d4e-82cf-b237edf26938"
      },
      "source": [
        "for book in url_down_list:\n",
        "  print(book,'\\n')\n",
        "  display(amazon_single(book))\n",
        "  print('\\n')"
      ],
      "execution_count": 18,
      "outputs": [
        {
          "output_type": "stream",
          "text": [
            "/content/Do Mil ao Milhão. Sem Cortar o Cafezinho. - 9788595083271 - Livros na Amazon Brasil.html \n",
            "\n"
          ],
          "name": "stdout"
        },
        {
          "output_type": "display_data",
          "data": {
            "text/html": [
              "<div>\n",
              "<style scoped>\n",
              "    .dataframe tbody tr th:only-of-type {\n",
              "        vertical-align: middle;\n",
              "    }\n",
              "\n",
              "    .dataframe tbody tr th {\n",
              "        vertical-align: top;\n",
              "    }\n",
              "\n",
              "    .dataframe thead th {\n",
              "        text-align: right;\n",
              "    }\n",
              "</style>\n",
              "<table border=\"1\" class=\"dataframe\">\n",
              "  <thead>\n",
              "    <tr style=\"text-align: right;\">\n",
              "      <th></th>\n",
              "      <th>Título</th>\n",
              "      <th>Autor</th>\n",
              "      <th>Nº Páginas</th>\n",
              "      <th>Editora</th>\n",
              "      <th>Idioma</th>\n",
              "    </tr>\n",
              "  </thead>\n",
              "  <tbody>\n",
              "    <tr>\n",
              "      <th>0</th>\n",
              "      <td>Do Mil ao Milhão. Sem Cortar o Cafezinho.</td>\n",
              "      <td>Thiago Nigro</td>\n",
              "      <td>192</td>\n",
              "      <td>HarperCollins</td>\n",
              "      <td>Português</td>\n",
              "    </tr>\n",
              "  </tbody>\n",
              "</table>\n",
              "</div>"
            ],
            "text/plain": [
              "                                      Título  ...     Idioma\n",
              "0  Do Mil ao Milhão. Sem Cortar o Cafezinho.  ...  Português\n",
              "\n",
              "[1 rows x 5 columns]"
            ]
          },
          "metadata": {
            "tags": []
          }
        },
        {
          "output_type": "stream",
          "text": [
            "\n",
            "\n",
            "/content/O milagre da manhã - 9788576849940 - Livros na Amazon Brasil.html \n",
            "\n"
          ],
          "name": "stdout"
        },
        {
          "output_type": "display_data",
          "data": {
            "text/html": [
              "<div>\n",
              "<style scoped>\n",
              "    .dataframe tbody tr th:only-of-type {\n",
              "        vertical-align: middle;\n",
              "    }\n",
              "\n",
              "    .dataframe tbody tr th {\n",
              "        vertical-align: top;\n",
              "    }\n",
              "\n",
              "    .dataframe thead th {\n",
              "        text-align: right;\n",
              "    }\n",
              "</style>\n",
              "<table border=\"1\" class=\"dataframe\">\n",
              "  <thead>\n",
              "    <tr style=\"text-align: right;\">\n",
              "      <th></th>\n",
              "      <th>Título</th>\n",
              "      <th>Autor</th>\n",
              "      <th>Nº Páginas</th>\n",
              "      <th>Editora</th>\n",
              "      <th>Idioma</th>\n",
              "    </tr>\n",
              "  </thead>\n",
              "  <tbody>\n",
              "    <tr>\n",
              "      <th>0</th>\n",
              "      <td>O milagre da manhã</td>\n",
              "      <td>Hal Elrod</td>\n",
              "      <td>196</td>\n",
              "      <td>BestSeller</td>\n",
              "      <td>Português</td>\n",
              "    </tr>\n",
              "  </tbody>\n",
              "</table>\n",
              "</div>"
            ],
            "text/plain": [
              "               Título      Autor Nº Páginas     Editora     Idioma\n",
              "0  O milagre da manhã  Hal Elrod        196  BestSeller  Português"
            ]
          },
          "metadata": {
            "tags": []
          }
        },
        {
          "output_type": "stream",
          "text": [
            "\n",
            "\n",
            "/content/A Sutil Arte de Ligar o F_da-Se_ Uma estratégia inusitada para uma vida melhor - 9788551002490 - Livros na Amazon Brasil.html \n",
            "\n"
          ],
          "name": "stdout"
        },
        {
          "output_type": "display_data",
          "data": {
            "text/html": [
              "<div>\n",
              "<style scoped>\n",
              "    .dataframe tbody tr th:only-of-type {\n",
              "        vertical-align: middle;\n",
              "    }\n",
              "\n",
              "    .dataframe tbody tr th {\n",
              "        vertical-align: top;\n",
              "    }\n",
              "\n",
              "    .dataframe thead th {\n",
              "        text-align: right;\n",
              "    }\n",
              "</style>\n",
              "<table border=\"1\" class=\"dataframe\">\n",
              "  <thead>\n",
              "    <tr style=\"text-align: right;\">\n",
              "      <th></th>\n",
              "      <th>Título</th>\n",
              "      <th>Autor</th>\n",
              "      <th>Nº Páginas</th>\n",
              "      <th>Editora</th>\n",
              "      <th>Idioma</th>\n",
              "    </tr>\n",
              "  </thead>\n",
              "  <tbody>\n",
              "    <tr>\n",
              "      <th>0</th>\n",
              "      <td>A Sutil Arte de Ligar o F*da-Se: Uma estratégi...</td>\n",
              "      <td>Mark Manson</td>\n",
              "      <td>224</td>\n",
              "      <td>Intrínseca</td>\n",
              "      <td>Português</td>\n",
              "    </tr>\n",
              "  </tbody>\n",
              "</table>\n",
              "</div>"
            ],
            "text/plain": [
              "                                              Título  ...     Idioma\n",
              "0  A Sutil Arte de Ligar o F*da-Se: Uma estratégi...  ...  Português\n",
              "\n",
              "[1 rows x 5 columns]"
            ]
          },
          "metadata": {
            "tags": []
          }
        },
        {
          "output_type": "stream",
          "text": [
            "\n",
            "\n",
            "/content/Mais esperto que o diabo_ O mistério revelado da liberdade e do sucesso - 9788568014004 - Livros na Amazon Brasil.html \n",
            "\n"
          ],
          "name": "stdout"
        },
        {
          "output_type": "display_data",
          "data": {
            "text/html": [
              "<div>\n",
              "<style scoped>\n",
              "    .dataframe tbody tr th:only-of-type {\n",
              "        vertical-align: middle;\n",
              "    }\n",
              "\n",
              "    .dataframe tbody tr th {\n",
              "        vertical-align: top;\n",
              "    }\n",
              "\n",
              "    .dataframe thead th {\n",
              "        text-align: right;\n",
              "    }\n",
              "</style>\n",
              "<table border=\"1\" class=\"dataframe\">\n",
              "  <thead>\n",
              "    <tr style=\"text-align: right;\">\n",
              "      <th></th>\n",
              "      <th>Título</th>\n",
              "      <th>Autor</th>\n",
              "      <th>Nº Páginas</th>\n",
              "      <th>Editora</th>\n",
              "      <th>Idioma</th>\n",
              "    </tr>\n",
              "  </thead>\n",
              "  <tbody>\n",
              "    <tr>\n",
              "      <th>0</th>\n",
              "      <td>Mais esperto que o diabo: O mistério revelado ...</td>\n",
              "      <td>Napoleon Hill</td>\n",
              "      <td>200</td>\n",
              "      <td>Citadel Editora</td>\n",
              "      <td>Português</td>\n",
              "    </tr>\n",
              "  </tbody>\n",
              "</table>\n",
              "</div>"
            ],
            "text/plain": [
              "                                              Título  ...     Idioma\n",
              "0  Mais esperto que o diabo: O mistério revelado ...  ...  Português\n",
              "\n",
              "[1 rows x 5 columns]"
            ]
          },
          "metadata": {
            "tags": []
          }
        },
        {
          "output_type": "stream",
          "text": [
            "\n",
            "\n",
            "/content/Os segredos da mente milionária - 9788575422397 - Livros na Amazon Brasil.html \n",
            "\n"
          ],
          "name": "stdout"
        },
        {
          "output_type": "display_data",
          "data": {
            "text/html": [
              "<div>\n",
              "<style scoped>\n",
              "    .dataframe tbody tr th:only-of-type {\n",
              "        vertical-align: middle;\n",
              "    }\n",
              "\n",
              "    .dataframe tbody tr th {\n",
              "        vertical-align: top;\n",
              "    }\n",
              "\n",
              "    .dataframe thead th {\n",
              "        text-align: right;\n",
              "    }\n",
              "</style>\n",
              "<table border=\"1\" class=\"dataframe\">\n",
              "  <thead>\n",
              "    <tr style=\"text-align: right;\">\n",
              "      <th></th>\n",
              "      <th>Título</th>\n",
              "      <th>Autor</th>\n",
              "      <th>Nº Páginas</th>\n",
              "      <th>Editora</th>\n",
              "      <th>Idioma</th>\n",
              "    </tr>\n",
              "  </thead>\n",
              "  <tbody>\n",
              "    <tr>\n",
              "      <th>0</th>\n",
              "      <td>Os segredos da mente milionária</td>\n",
              "      <td>T. Harv Eker</td>\n",
              "      <td>176</td>\n",
              "      <td>Editora Sextante</td>\n",
              "      <td>Português</td>\n",
              "    </tr>\n",
              "  </tbody>\n",
              "</table>\n",
              "</div>"
            ],
            "text/plain": [
              "                            Título         Autor  ...           Editora     Idioma\n",
              "0  Os segredos da mente milionária  T. Harv Eker  ...  Editora Sextante  Português\n",
              "\n",
              "[1 rows x 5 columns]"
            ]
          },
          "metadata": {
            "tags": []
          }
        },
        {
          "output_type": "stream",
          "text": [
            "\n",
            "\n",
            "/content/Pai rico, pai pobre 20 anos - 9788550801483 - Livros na Amazon Brasil.html \n",
            "\n"
          ],
          "name": "stdout"
        },
        {
          "output_type": "display_data",
          "data": {
            "text/html": [
              "<div>\n",
              "<style scoped>\n",
              "    .dataframe tbody tr th:only-of-type {\n",
              "        vertical-align: middle;\n",
              "    }\n",
              "\n",
              "    .dataframe tbody tr th {\n",
              "        vertical-align: top;\n",
              "    }\n",
              "\n",
              "    .dataframe thead th {\n",
              "        text-align: right;\n",
              "    }\n",
              "</style>\n",
              "<table border=\"1\" class=\"dataframe\">\n",
              "  <thead>\n",
              "    <tr style=\"text-align: right;\">\n",
              "      <th></th>\n",
              "      <th>Título</th>\n",
              "      <th>Autor</th>\n",
              "      <th>Nº Páginas</th>\n",
              "      <th>Editora</th>\n",
              "      <th>Idioma</th>\n",
              "    </tr>\n",
              "  </thead>\n",
              "  <tbody>\n",
              "    <tr>\n",
              "      <th>0</th>\n",
              "      <td>Pai rico, pai pobre 20 anos</td>\n",
              "      <td>Robert Kiyosaki</td>\n",
              "      <td>336</td>\n",
              "      <td>Alta Books</td>\n",
              "      <td>Português</td>\n",
              "    </tr>\n",
              "  </tbody>\n",
              "</table>\n",
              "</div>"
            ],
            "text/plain": [
              "                        Título            Autor  ...     Editora     Idioma\n",
              "0  Pai rico, pai pobre 20 anos  Robert Kiyosaki  ...  Alta Books  Português\n",
              "\n",
              "[1 rows x 5 columns]"
            ]
          },
          "metadata": {
            "tags": []
          }
        },
        {
          "output_type": "stream",
          "text": [
            "\n",
            "\n",
            "/content/Bíblia King James Atualizada - 9788544105665 - Livros na Amazon Brasil.html \n",
            "\n"
          ],
          "name": "stdout"
        },
        {
          "output_type": "display_data",
          "data": {
            "text/html": [
              "<div>\n",
              "<style scoped>\n",
              "    .dataframe tbody tr th:only-of-type {\n",
              "        vertical-align: middle;\n",
              "    }\n",
              "\n",
              "    .dataframe tbody tr th {\n",
              "        vertical-align: top;\n",
              "    }\n",
              "\n",
              "    .dataframe thead th {\n",
              "        text-align: right;\n",
              "    }\n",
              "</style>\n",
              "<table border=\"1\" class=\"dataframe\">\n",
              "  <thead>\n",
              "    <tr style=\"text-align: right;\">\n",
              "      <th></th>\n",
              "      <th>Título</th>\n",
              "      <th>Autor</th>\n",
              "      <th>Nº Páginas</th>\n",
              "      <th>Editora</th>\n",
              "      <th>Idioma</th>\n",
              "    </tr>\n",
              "  </thead>\n",
              "  <tbody>\n",
              "    <tr>\n",
              "      <th>0</th>\n",
              "      <td>Bíblia King James Atualizada</td>\n",
              "      <td>King James</td>\n",
              "      <td>1472</td>\n",
              "      <td>LeYa</td>\n",
              "      <td>Português</td>\n",
              "    </tr>\n",
              "  </tbody>\n",
              "</table>\n",
              "</div>"
            ],
            "text/plain": [
              "                         Título       Autor Nº Páginas Editora     Idioma\n",
              "0  Bíblia King James Atualizada  King James       1472    LeYa  Português"
            ]
          },
          "metadata": {
            "tags": []
          }
        },
        {
          "output_type": "stream",
          "text": [
            "\n",
            "\n",
            "/content/O poder da ação - 9788545200345 - Livros na Amazon Brasil.html \n",
            "\n"
          ],
          "name": "stdout"
        },
        {
          "output_type": "display_data",
          "data": {
            "text/html": [
              "<div>\n",
              "<style scoped>\n",
              "    .dataframe tbody tr th:only-of-type {\n",
              "        vertical-align: middle;\n",
              "    }\n",
              "\n",
              "    .dataframe tbody tr th {\n",
              "        vertical-align: top;\n",
              "    }\n",
              "\n",
              "    .dataframe thead th {\n",
              "        text-align: right;\n",
              "    }\n",
              "</style>\n",
              "<table border=\"1\" class=\"dataframe\">\n",
              "  <thead>\n",
              "    <tr style=\"text-align: right;\">\n",
              "      <th></th>\n",
              "      <th>Título</th>\n",
              "      <th>Autor</th>\n",
              "      <th>Nº Páginas</th>\n",
              "      <th>Editora</th>\n",
              "      <th>Idioma</th>\n",
              "    </tr>\n",
              "  </thead>\n",
              "  <tbody>\n",
              "    <tr>\n",
              "      <th>0</th>\n",
              "      <td>O poder da ação</td>\n",
              "      <td>Paulo Vieira</td>\n",
              "      <td>256</td>\n",
              "      <td>Gente</td>\n",
              "      <td>Português</td>\n",
              "    </tr>\n",
              "  </tbody>\n",
              "</table>\n",
              "</div>"
            ],
            "text/plain": [
              "            Título         Autor Nº Páginas Editora     Idioma\n",
              "0  O poder da ação  Paulo Vieira        256   Gente  Português"
            ]
          },
          "metadata": {
            "tags": []
          }
        },
        {
          "output_type": "stream",
          "text": [
            "\n",
            "\n",
            "/content/Como Fazer Amigos e Influenciar Pessoas - 9788504018028 - Livros na Amazon Brasil.html \n",
            "\n"
          ],
          "name": "stdout"
        },
        {
          "output_type": "display_data",
          "data": {
            "text/html": [
              "<div>\n",
              "<style scoped>\n",
              "    .dataframe tbody tr th:only-of-type {\n",
              "        vertical-align: middle;\n",
              "    }\n",
              "\n",
              "    .dataframe tbody tr th {\n",
              "        vertical-align: top;\n",
              "    }\n",
              "\n",
              "    .dataframe thead th {\n",
              "        text-align: right;\n",
              "    }\n",
              "</style>\n",
              "<table border=\"1\" class=\"dataframe\">\n",
              "  <thead>\n",
              "    <tr style=\"text-align: right;\">\n",
              "      <th></th>\n",
              "      <th>Título</th>\n",
              "      <th>Autor</th>\n",
              "      <th>Nº Páginas</th>\n",
              "      <th>Editora</th>\n",
              "      <th>Idioma</th>\n",
              "    </tr>\n",
              "  </thead>\n",
              "  <tbody>\n",
              "    <tr>\n",
              "      <th>0</th>\n",
              "      <td>Como Fazer Amigos e Influenciar Pessoas</td>\n",
              "      <td>Dale Carnegie</td>\n",
              "      <td>264</td>\n",
              "      <td>Companhia Editora Nacional</td>\n",
              "      <td>Português</td>\n",
              "    </tr>\n",
              "  </tbody>\n",
              "</table>\n",
              "</div>"
            ],
            "text/plain": [
              "                                    Título  ...     Idioma\n",
              "0  Como Fazer Amigos e Influenciar Pessoas  ...  Português\n",
              "\n",
              "[1 rows x 5 columns]"
            ]
          },
          "metadata": {
            "tags": []
          }
        },
        {
          "output_type": "stream",
          "text": [
            "\n",
            "\n",
            "/content/Me Poupe!_ 10 passos para nunca mais faltar dinheiro no seu bolso - 9788543105819 - Livros na Amazon Brasil.html \n",
            "\n"
          ],
          "name": "stdout"
        },
        {
          "output_type": "display_data",
          "data": {
            "text/html": [
              "<div>\n",
              "<style scoped>\n",
              "    .dataframe tbody tr th:only-of-type {\n",
              "        vertical-align: middle;\n",
              "    }\n",
              "\n",
              "    .dataframe tbody tr th {\n",
              "        vertical-align: top;\n",
              "    }\n",
              "\n",
              "    .dataframe thead th {\n",
              "        text-align: right;\n",
              "    }\n",
              "</style>\n",
              "<table border=\"1\" class=\"dataframe\">\n",
              "  <thead>\n",
              "    <tr style=\"text-align: right;\">\n",
              "      <th></th>\n",
              "      <th>Título</th>\n",
              "      <th>Autor</th>\n",
              "      <th>Nº Páginas</th>\n",
              "      <th>Editora</th>\n",
              "      <th>Idioma</th>\n",
              "    </tr>\n",
              "  </thead>\n",
              "  <tbody>\n",
              "    <tr>\n",
              "      <th>0</th>\n",
              "      <td>Me Poupe!: 10 passos para nunca mais faltar di...</td>\n",
              "      <td>Nathalia Arcuri</td>\n",
              "      <td>176</td>\n",
              "      <td>Editora Sextante</td>\n",
              "      <td>Português</td>\n",
              "    </tr>\n",
              "  </tbody>\n",
              "</table>\n",
              "</div>"
            ],
            "text/plain": [
              "                                              Título  ...     Idioma\n",
              "0  Me Poupe!: 10 passos para nunca mais faltar di...  ...  Português\n",
              "\n",
              "[1 rows x 5 columns]"
            ]
          },
          "metadata": {
            "tags": []
          }
        },
        {
          "output_type": "stream",
          "text": [
            "\n",
            "\n"
          ],
          "name": "stdout"
        }
      ]
    },
    {
      "cell_type": "code",
      "metadata": {
        "id": "YIYykWB56T6p",
        "colab_type": "code",
        "colab": {}
      },
      "source": [
        ""
      ],
      "execution_count": 0,
      "outputs": []
    }
  ]
}