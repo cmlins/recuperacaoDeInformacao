{
  "nbformat": 4,
  "nbformat_minor": 0,
  "metadata": {
    "colab": {
      "name": "wrapper.ipynb",
      "version": "0.3.2",
      "provenance": []
    },
    "kernelspec": {
      "name": "python3",
      "display_name": "Python 3"
    }
  },
  "cells": [
    {
      "cell_type": "code",
      "metadata": {
        "id": "NAIV006BGuhB",
        "colab_type": "code",
        "colab": {}
      },
      "source": [
        "import pandas as pd\n",
        "import numpy as np\n",
        "from bs4 import BeautifulSoup as bs\n",
        "import requests as rq\n",
        "import re"
      ],
      "execution_count": 0,
      "outputs": []
    },
    {
      "cell_type": "code",
      "metadata": {
        "id": "34o4kymkLM0M",
        "colab_type": "code",
        "colab": {}
      },
      "source": [
        "url = \"https://consultaremedios.com.br/buscopan-drageas/p#bula\"\n",
        "page = rq.get(url)\n",
        "# print(page.text)\n",
        "soup = bs(page.text,\"html.parser\")\n",
        "# print(soup.prettify())"
      ],
      "execution_count": 0,
      "outputs": []
    },
    {
      "cell_type": "code",
      "metadata": {
        "id": "Rq3xsPR8O4gA",
        "colab_type": "code",
        "colab": {
          "base_uri": "https://localhost:8080/",
          "height": 71
        },
        "outputId": "32a5210b-ac71-42fe-9276-655e9919c26d"
      },
      "source": [
        "info_type = []\n",
        "info_res = []\n",
        "\n",
        "data = soup.find_all(\"div\", {\"class\": \"extra-infos-block\"})\n",
        "\n",
        "for info in data:\n",
        "  info_type.append(info.h3.contents[0])\n",
        "  info_res.append(info.text)\n",
        "  \n",
        "  \n",
        "print(info_type)\n",
        "print(info_res)\n",
        "\n",
        "# https://consultaremedios.com.br/buscopan-drageas/p#bula\n",
        "# split elements in info_res using info_type"
      ],
      "execution_count": 3,
      "outputs": [
        {
          "output_type": "stream",
          "text": [
            "['Fabricante', 'Tipo do Medicamento', 'Necessita de Receita', 'Princípio Ativo', 'Categoria do Medicamento', 'Classe Terapêutica', 'Especialidades']\n",
            "['FabricanteBoehringer', 'Tipo do MedicamentoMedicamento Referência', 'Necessita de ReceitaNão, Isento de Prescrição Médica', 'Princípio AtivoButilbrometo de Escopolamina', 'Categoria do MedicamentoCólica', 'Classe TerapêuticaAntiespasmódicos e Anticolinérgicos Puros', 'EspecialidadesGastroenterologia, Clínica Médica']\n"
          ],
          "name": "stdout"
        }
      ]
    },
    {
      "cell_type": "code",
      "metadata": {
        "id": "syoCZ9oEhF2o",
        "colab_type": "code",
        "colab": {}
      },
      "source": [
        ""
      ],
      "execution_count": 0,
      "outputs": []
    },
    {
      "cell_type": "code",
      "metadata": {
        "id": "UWmQP5t0PgZ-",
        "colab_type": "code",
        "colab": {}
      },
      "source": [
        ""
      ],
      "execution_count": 0,
      "outputs": []
    }
  ]
}