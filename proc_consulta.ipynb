{
  "nbformat": 4,
  "nbformat_minor": 0,
  "metadata": {
    "colab": {
      "name": "proc-consulta.ipynb",
      "provenance": [],
      "include_colab_link": true
    },
    "kernelspec": {
      "name": "python3",
      "display_name": "Python 3"
    }
  },
  "cells": [
    {
      "cell_type": "markdown",
      "metadata": {
        "id": "view-in-github",
        "colab_type": "text"
      },
      "source": [
        "<a href=\"https://colab.research.google.com/github/cmlins/recuperacaoDeInformacao/blob/master/proc_consulta.ipynb\" target=\"_parent\"><img src=\"https://colab.research.google.com/assets/colab-badge.svg\" alt=\"Open In Colab\"/></a>"
      ]
    },
    {
      "cell_type": "code",
      "metadata": {
        "id": "Yg1Zldzn83sU",
        "colab_type": "code",
        "colab": {}
      },
      "source": [
        "import pandas as pd\n",
        "import numpy as np\n",
        "import math\n",
        "\n",
        "from bs4 import BeautifulSoup as bs\n",
        "from bs4 import UnicodeDammit"
      ],
      "execution_count": 0,
      "outputs": []
    },
    {
      "cell_type": "code",
      "metadata": {
        "id": "idW0tzZy97j0",
        "colab_type": "code",
        "colab": {}
      },
      "source": [
        "from google.colab import drive\n",
        "drive.mount('/content/drive', force_remount=True)"
      ],
      "execution_count": 0,
      "outputs": []
    },
    {
      "cell_type": "code",
      "metadata": {
        "id": "Z_ARdnhn_YV4",
        "colab_type": "code",
        "colab": {}
      },
      "source": [
        "df_indice = pd.read_csv('/content/drive/My Drive/indice_invertido.csv')"
      ],
      "execution_count": 0,
      "outputs": []
    },
    {
      "cell_type": "code",
      "metadata": {
        "id": "7mEhAWyU_ztd",
        "colab_type": "code",
        "colab": {}
      },
      "source": [
        "df_indice.shape"
      ],
      "execution_count": 0,
      "outputs": []
    },
    {
      "cell_type": "code",
      "metadata": {
        "id": "7USw5067_1q9",
        "colab_type": "code",
        "colab": {}
      },
      "source": [
        "df_arquivos = pd.read_csv('/content/drive/My Drive/positiveFilesList.csv')"
      ],
      "execution_count": 0,
      "outputs": []
    },
    {
      "cell_type": "code",
      "metadata": {
        "id": "cUnsNG0eWDSn",
        "colab_type": "code",
        "colab": {}
      },
      "source": [
        "df_arquivos.shape"
      ],
      "execution_count": 0,
      "outputs": []
    },
    {
      "cell_type": "code",
      "metadata": {
        "id": "cVF40T-fWFbm",
        "colab_type": "code",
        "colab": {}
      },
      "source": [
        "#pegar consulta e separar as palavras\n",
        "#ir no posting e pegar os 5 primeiros arquivos\n",
        "#usar o tf-idf pra fazer o ranking\n",
        "#retornar o ranking\n",
        "#avaliar o ranking"
      ],
      "execution_count": 0,
      "outputs": []
    },
    {
      "cell_type": "code",
      "metadata": {
        "id": "qIaJXNHhWsD5",
        "colab_type": "code",
        "colab": {}
      },
      "source": [
        "q = \"vidas secas\"\n",
        "\n",
        "def handlingQuery(query):\n",
        "  hq = query.split()\n",
        "  return hq\n",
        "\n",
        "print(handlingQuery(q))"
      ],
      "execution_count": 0,
      "outputs": []
    },
    {
      "cell_type": "code",
      "metadata": {
        "id": "n4t6OcJQUCY5",
        "colab_type": "code",
        "colab": {}
      },
      "source": [
        "def search(hq, indice):\n",
        "  df_search = pd.DataFrame()\n",
        "  for q in hq:\n",
        "    for w in df_indice['Terms'].values:\n",
        "      if w in q:\n",
        "        df_search = df_search.append(df_indice[df_indice['Terms'] == w], ignore_index=True)\n",
        "  return df_search"
      ],
      "execution_count": 0,
      "outputs": []
    },
    {
      "cell_type": "code",
      "metadata": {
        "id": "Fk5SUkr1WfyK",
        "colab_type": "code",
        "colab": {}
      },
      "source": [
        "df_s = search(handlingQuery(q),df_indice)\n",
        "df_s.head()"
      ],
      "execution_count": 0,
      "outputs": []
    },
    {
      "cell_type": "code",
      "metadata": {
        "id": "ujxc9R8kC_Fn",
        "colab_type": "code",
        "colab": {}
      },
      "source": [
        "def docs_list(df):\n",
        "  postings = list()\n",
        "  for r in df.index:\n",
        "    postings.append(df.loc[r,'Posting'])\n",
        "\n",
        "  for i in range(len(postings)):\n",
        "    new_postings = postings[i].split(', ')\n",
        "    new_postings[0] = new_postings[0][1:]\n",
        "    new_postings[len(new_postings)-1] = new_postings[len(new_postings)-1][:-1]\n",
        "    postings[i] = new_postings\n",
        "\n",
        "  p = list()\n",
        "  for i in range(len(postings)):\n",
        "    for j in range(len(postings[i])):\n",
        "      p.append(postings[i][j])\n",
        "\n",
        "  p = list(dict.fromkeys(p))\n",
        "  p.sort()\n",
        "  return p"
      ],
      "execution_count": 0,
      "outputs": []
    },
    {
      "cell_type": "code",
      "metadata": {
        "id": "cr7RC6hrcOBU",
        "colab_type": "code",
        "colab": {}
      },
      "source": [
        "dl = docs_list(df_s)\n",
        "print(dl)"
      ],
      "execution_count": 0,
      "outputs": []
    },
    {
      "cell_type": "code",
      "metadata": {
        "id": "4OO3o25fdgWG",
        "colab_type": "code",
        "colab": {}
      },
      "source": [
        "df_freq = pd.DataFrame(columns=dl)\n",
        "df_freq = pd.concat([df_s['Terms'], df_s['Freq'], df_freq], axis=1)\n",
        "\n",
        "for r in df_freq.index:\n",
        "  for c in range(2, len(df_freq.columns)):\n",
        "    df_freq.iloc[r, c] = 0\n",
        "\n",
        "df_freq.iloc[:, 1:] = df_freq.iloc[:, 1:].astype(float)\n",
        "df_freq.head()"
      ],
      "execution_count": 0,
      "outputs": []
    },
    {
      "cell_type": "code",
      "metadata": {
        "id": "DxxL1-lIPZ-n",
        "colab_type": "code",
        "colab": {}
      },
      "source": [
        "symbolsToReplace = [\n",
        "    '(', ')', '!', '?', ':', ';', '*', '.', ',', '★', '|', '+', '[', ']', '{', '}', '/', 'ª', 'º', '°', '-',\n",
        "    '%', '—', '@', '#',  '\\\"','\\'', '<', '>', '=', '´', '`', '“', '$', '&', '’', '¡', '€', 'µ', '¦',\n",
        "    '\\\\', '®', '™', '”', '…', '‘', '•', '😍','😙', '❤', '–', '⭐️', '_', '️⭐', '😉', '👏', '¹', '²', '³',\n",
        "    \"£\", '¢', '¬', '§', '~', '^', '×', '÷',\n",
        "    '\\u200c', '\\u200f', '\\u200e', '\\t', '\\xa0', '\\x03', '\\u0301', '\\u0303'\n",
        "]\n",
        "\n",
        "allowedSmallTokens = [\n",
        "  'fio', 'box', 'god', 'key', 'bit', 'led', 'faq', 'dog', 'sim', 'ovo', 'pão', 'aba', 'new'\n",
        "]"
      ],
      "execution_count": 0,
      "outputs": []
    },
    {
      "cell_type": "code",
      "metadata": {
        "id": "JbvXBmpYOeFI",
        "colab_type": "code",
        "colab": {}
      },
      "source": [
        "def getAndCleanHTML(filepath):\n",
        "  \n",
        "  page = open(filepath, \"rb\")\n",
        "\n",
        "  page = page.read()\n",
        "\n",
        "  clearPage = UnicodeDammit.detwingle(page)\n",
        "  \n",
        "  doc = bs(clearPage, 'lxml')\n",
        "  \n",
        "  for script in doc([\"script\", \"style\"]):\n",
        "    script.extract()\n",
        "  \n",
        "  docText = doc.get_text(' ')\n",
        "  \n",
        "  docText = docText.translate({ord(ch): None for ch in '0123456789'})\n",
        "  \n",
        "  docText = docText.lower()\n",
        "  \n",
        "  docText = docText.replace(\"e-book\", \"ebook\")\n",
        "\n",
        "  docText = docText.replace(\"blu-ray\", \"bluray\")\n",
        "  \n",
        "  for symbol in symbolsToReplace:\n",
        "    docText = docText.replace(symbol, ' ')\n",
        "  \n",
        "  docText = docText.replace(\"  \", ' ')\n",
        "  \n",
        "  lines = (line.strip() for line in docText.splitlines())\n",
        "  \n",
        "  chunks = (phrase.strip() for line in lines for phrase in line.split(' '))\n",
        "\n",
        "  text = ' '.join(chunk for chunk in chunks if chunk)\n",
        "  \n",
        "  return text"
      ],
      "execution_count": 0,
      "outputs": []
    },
    {
      "cell_type": "code",
      "metadata": {
        "id": "gQ52Xw-geQPq",
        "colab_type": "code",
        "colab": {}
      },
      "source": [
        "df_arquivos.head(n=10)"
      ],
      "execution_count": 0,
      "outputs": []
    },
    {
      "cell_type": "code",
      "metadata": {
        "id": "DegLLoqzFvve",
        "colab_type": "code",
        "colab": {}
      },
      "source": [
        "queryl = handlingQuery(q)\n",
        "for i in range(len(dl)):\n",
        "  doc = getAndCleanHTML(df_arquivos.loc[int(dl[i]),'0'])\n",
        "  doc = doc.split()\n",
        "  for w in doc:\n",
        "    for qw in range(len(queryl)):\n",
        "      if w in queryl[qw]:\n",
        "        df_freq.at[qw, dl[i]] += 1.0"
      ],
      "execution_count": 0,
      "outputs": []
    },
    {
      "cell_type": "code",
      "metadata": {
        "id": "Gkx8S6ZDPFnq",
        "colab_type": "code",
        "colab": {}
      },
      "source": [
        "df_freq.head()"
      ],
      "execution_count": 0,
      "outputs": []
    },
    {
      "cell_type": "code",
      "metadata": {
        "id": "ncWI2lhKJjCC",
        "colab_type": "code",
        "colab": {}
      },
      "source": [
        "for r in df_freq.index:\n",
        "  df_freq.at[r, 'Freq'] = math.log(df_arquivos.shape[0]/df_freq.at[r, 'Freq'],10)\n",
        "  for c in df_freq.columns:\n",
        "    df_freq.iloc[r, c] = np.multiply(df_freq.at[r, 'Freq'], df_freq.loc[r, c])\n",
        "\n",
        "df_freq.head()"
      ],
      "execution_count": 0,
      "outputs": []
    },
    {
      "cell_type": "code",
      "metadata": {
        "id": "Ypx7TQoDjVQF",
        "colab_type": "code",
        "colab": {}
      },
      "source": [
        ""
      ],
      "execution_count": 0,
      "outputs": []
    }
  ]
}