{
  "nbformat": 4,
  "nbformat_minor": 0,
  "metadata": {
    "colab": {
      "name": "proc-consulta.ipynb",
      "provenance": [],
      "collapsed_sections": [],
      "include_colab_link": true
    },
    "kernelspec": {
      "name": "python3",
      "display_name": "Python 3"
    }
  },
  "cells": [
    {
      "cell_type": "markdown",
      "metadata": {
        "id": "view-in-github",
        "colab_type": "text"
      },
      "source": [
        "<a href=\"https://colab.research.google.com/github/cmlins/recuperacaoDeInformacao/blob/master/proc_consulta.ipynb\" target=\"_parent\"><img src=\"https://colab.research.google.com/assets/colab-badge.svg\" alt=\"Open In Colab\"/></a>"
      ]
    },
    {
      "cell_type": "code",
      "metadata": {
        "id": "Yg1Zldzn83sU",
        "colab_type": "code",
        "colab": {}
      },
      "source": [
        "import pandas as pd\n",
        "import numpy as np\n",
        "import math\n",
        "import scipy.stats as sc\n",
        "\n",
        "from bs4 import BeautifulSoup as bs\n",
        "from bs4 import UnicodeDammit"
      ],
      "execution_count": 0,
      "outputs": []
    },
    {
      "cell_type": "code",
      "metadata": {
        "id": "idW0tzZy97j0",
        "colab_type": "code",
        "outputId": "dccddb73-8a66-4516-e51c-3a6ec234cdd5",
        "colab": {
          "base_uri": "https://localhost:8080/",
          "height": 34
        }
      },
      "source": [
        "from google.colab import drive\n",
        "drive.mount('/content/drive', force_remount=True)"
      ],
      "execution_count": 248,
      "outputs": [
        {
          "output_type": "stream",
          "text": [
            "Mounted at /content/drive\n"
          ],
          "name": "stdout"
        }
      ]
    },
    {
      "cell_type": "code",
      "metadata": {
        "id": "00GLyKPppfbG",
        "colab_type": "code",
        "outputId": "d0eafa5c-c36a-4bb6-d698-bed431b38e34",
        "colab": {
          "base_uri": "https://localhost:8080/",
          "height": 1000
        }
      },
      "source": [
        "df_ed = pd.read_csv('/content/drive/My Drive/dfs_tot (1).csv')\n",
        "df_ed.head(n=20)"
      ],
      "execution_count": 249,
      "outputs": [
        {
          "output_type": "execute_result",
          "data": {
            "text/html": [
              "<div>\n",
              "<style scoped>\n",
              "    .dataframe tbody tr th:only-of-type {\n",
              "        vertical-align: middle;\n",
              "    }\n",
              "\n",
              "    .dataframe tbody tr th {\n",
              "        vertical-align: top;\n",
              "    }\n",
              "\n",
              "    .dataframe thead th {\n",
              "        text-align: right;\n",
              "    }\n",
              "</style>\n",
              "<table border=\"1\" class=\"dataframe\">\n",
              "  <thead>\n",
              "    <tr style=\"text-align: right;\">\n",
              "      <th></th>\n",
              "      <th>Título</th>\n",
              "      <th>Autor</th>\n",
              "      <th>Nº Páginas</th>\n",
              "      <th>Editora</th>\n",
              "      <th>Idioma</th>\n",
              "      <th>Acabamento</th>\n",
              "      <th>ISBN</th>\n",
              "      <th>Documento</th>\n",
              "    </tr>\n",
              "  </thead>\n",
              "  <tbody>\n",
              "    <tr>\n",
              "      <th>0</th>\n",
              "      <td>1808: Como uma rainha</td>\n",
              "      <td>Laurentino Gomes</td>\n",
              "      <td>384</td>\n",
              "      <td>Globo Livros</td>\n",
              "      <td>(Português)</td>\n",
              "      <td>Capa Comum</td>\n",
              "      <td>978-8525057518</td>\n",
              "      <td>/content/drive/My Drive/9periodo/Recuperação...</td>\n",
              "    </tr>\n",
              "    <tr>\n",
              "      <th>1</th>\n",
              "      <td>Box - As Melhores Aventuras Do Sítio Do Picapa...</td>\n",
              "      <td>Monteiro Lobato</td>\n",
              "      <td>640</td>\n",
              "      <td>Nova Fronteira</td>\n",
              "      <td>(Português)</td>\n",
              "      <td>Capa dura</td>\n",
              "      <td>978-8520943519</td>\n",
              "      <td>/content/drive/My Drive/9periodo/Recuperação...</td>\n",
              "    </tr>\n",
              "    <tr>\n",
              "      <th>2</th>\n",
              "      <td>Cotoco. O Diário De Um Garoto De 13 Anos</td>\n",
              "      <td>John Van de Ruit</td>\n",
              "      <td>390</td>\n",
              "      <td>Intrínseca</td>\n",
              "      <td>(Português)</td>\n",
              "      <td>Capa Comum</td>\n",
              "      <td>978-8598078854</td>\n",
              "      <td>/content/drive/My Drive/9periodo/Recuperação...</td>\n",
              "    </tr>\n",
              "    <tr>\n",
              "      <th>3</th>\n",
              "      <td>Doctor Who: 12 Doutores, 12 histórias</td>\n",
              "      <td>Alex Scarrow</td>\n",
              "      <td>480</td>\n",
              "      <td>Fantástica Rocco</td>\n",
              "      <td>(Português)</td>\n",
              "      <td>Capa Comum</td>\n",
              "      <td>978-8568263044</td>\n",
              "      <td>/content/drive/My Drive/9periodo/Recuperação...</td>\n",
              "    </tr>\n",
              "    <tr>\n",
              "      <th>4</th>\n",
              "      <td>Freud (1900) A interpretação dos sonhos: Obras...</td>\n",
              "      <td>Sigmund Freud</td>\n",
              "      <td>736</td>\n",
              "      <td>Companhia das Letras</td>\n",
              "      <td>(Português)</td>\n",
              "      <td>Capa dura</td>\n",
              "      <td>978-8535932218</td>\n",
              "      <td>/content/drive/My Drive/9periodo/Recuperação...</td>\n",
              "    </tr>\n",
              "    <tr>\n",
              "      <th>5</th>\n",
              "      <td>Good Omens: Belas Maldições</td>\n",
              "      <td>Neil Gaiman</td>\n",
              "      <td>364</td>\n",
              "      <td>Bertrand Brasil</td>\n",
              "      <td>(Português)</td>\n",
              "      <td>Capa Comum</td>\n",
              "      <td>978-8528624021</td>\n",
              "      <td>/content/drive/My Drive/9periodo/Recuperação...</td>\n",
              "    </tr>\n",
              "    <tr>\n",
              "      <th>6</th>\n",
              "      <td>Os Mitos de Cthulhu - Volume Único (Exclusivo ...</td>\n",
              "      <td>Esteban Maroto</td>\n",
              "      <td>92</td>\n",
              "      <td>Pipoca e Nanquim (7 de junho de 2019)</td>\n",
              "      <td>(Português)</td>\n",
              "      <td>Capa dura</td>\n",
              "      <td>978-8593695261</td>\n",
              "      <td>/content/drive/My Drive/9periodo/Recuperação...</td>\n",
              "    </tr>\n",
              "    <tr>\n",
              "      <th>7</th>\n",
              "      <td>Redes de Computadores e a Internet: Uma Aborda...</td>\n",
              "      <td>Jim Kurose</td>\n",
              "      <td>656</td>\n",
              "      <td>Pearson Universidades</td>\n",
              "      <td>(Português)</td>\n",
              "      <td>Capa Comum</td>\n",
              "      <td>978-8581436777</td>\n",
              "      <td>/content/drive/My Drive/9periodo/Recuperação...</td>\n",
              "    </tr>\n",
              "    <tr>\n",
              "      <th>8</th>\n",
              "      <td>Sobotta - Atlas de Anatomia Humana - 3 Volumes</td>\n",
              "      <td>Friedrich Paulsen</td>\n",
              "      <td>1168</td>\n",
              "      <td>Guanabara Koogan</td>\n",
              "      <td>(Português)</td>\n",
              "      <td>Capa dura</td>\n",
              "      <td>978-8527732376</td>\n",
              "      <td>/content/drive/My Drive/9periodo/Recuperação...</td>\n",
              "    </tr>\n",
              "    <tr>\n",
              "      <th>9</th>\n",
              "      <td>Alice No País Das Maravilhas (Classic Edition)</td>\n",
              "      <td>Carroll,Lewis</td>\n",
              "      <td>208</td>\n",
              "      <td>NaN</td>\n",
              "      <td>Português</td>\n",
              "      <td>Capa dura</td>\n",
              "      <td>9788594541758</td>\n",
              "      <td>/content/drive/My Drive/9periodo/Recuperação...</td>\n",
              "    </tr>\n",
              "    <tr>\n",
              "      <th>10</th>\n",
              "      <td>Steve Jobs - A Biografia</td>\n",
              "      <td>Isaacson,Walter, Isaacson,Walter</td>\n",
              "      <td>624</td>\n",
              "      <td>NaN</td>\n",
              "      <td>Português</td>\n",
              "      <td>Brochura</td>\n",
              "      <td>9788535919714</td>\n",
              "      <td>/content/drive/My Drive/9periodo/Recuperação...</td>\n",
              "    </tr>\n",
              "    <tr>\n",
              "      <th>11</th>\n",
              "      <td>Vade Mecum Compacto   - Brochura  - 21ª Ed. 2019</td>\n",
              "      <td>Editora Saraiva</td>\n",
              "      <td>2127</td>\n",
              "      <td>NaN</td>\n",
              "      <td>Português</td>\n",
              "      <td>Brochura</td>\n",
              "      <td>9788553603244</td>\n",
              "      <td>/content/drive/My Drive/9periodo/Recuperação...</td>\n",
              "    </tr>\n",
              "    <tr>\n",
              "      <th>12</th>\n",
              "      <td>It - A Coisa</td>\n",
              "      <td>King,Stephen</td>\n",
              "      <td>1104</td>\n",
              "      <td>NaN</td>\n",
              "      <td>Português</td>\n",
              "      <td>Brochura</td>\n",
              "      <td>9788560280940</td>\n",
              "      <td>/content/drive/My Drive/9periodo/Recuperação...</td>\n",
              "    </tr>\n",
              "    <tr>\n",
              "      <th>13</th>\n",
              "      <td>Como Fazer Amigos e Influenciar Pessoas</td>\n",
              "      <td>NaN</td>\n",
              "      <td>264</td>\n",
              "      <td>NaN</td>\n",
              "      <td>Português</td>\n",
              "      <td>Brochura</td>\n",
              "      <td>9788504018028</td>\n",
              "      <td>/content/drive/My Drive/9periodo/Recuperação...</td>\n",
              "    </tr>\n",
              "    <tr>\n",
              "      <th>14</th>\n",
              "      <td>O Guia do Mochileiro Das Galáxias - Série o Mo...</td>\n",
              "      <td>Adams,Douglas</td>\n",
              "      <td>208</td>\n",
              "      <td>NaN</td>\n",
              "      <td>Português</td>\n",
              "      <td>Brochura</td>\n",
              "      <td>9788599296578</td>\n",
              "      <td>/content/drive/My Drive/9periodo/Recuperação...</td>\n",
              "    </tr>\n",
              "    <tr>\n",
              "      <th>15</th>\n",
              "      <td>O Livrinho do Bebê - Animais, Palavras, Contrá...</td>\n",
              "      <td>Books,Yoyo</td>\n",
              "      <td>128</td>\n",
              "      <td>NaN</td>\n",
              "      <td>Português</td>\n",
              "      <td>Brochura</td>\n",
              "      <td>9789463041706</td>\n",
              "      <td>/content/drive/My Drive/9periodo/Recuperação...</td>\n",
              "    </tr>\n",
              "    <tr>\n",
              "      <th>16</th>\n",
              "      <td>Star Wars - O Arquivo Rebelde</td>\n",
              "      <td>Wallace,Daniel</td>\n",
              "      <td>176</td>\n",
              "      <td>NaN</td>\n",
              "      <td>Português</td>\n",
              "      <td>Brochura</td>\n",
              "      <td>9788528622973</td>\n",
              "      <td>/content/drive/My Drive/9periodo/Recuperação...</td>\n",
              "    </tr>\n",
              "    <tr>\n",
              "      <th>17</th>\n",
              "      <td>A COR DA MAGIA</td>\n",
              "      <td>Terry Pratchett</td>\n",
              "      <td>232</td>\n",
              "      <td>Conrad</td>\n",
              "      <td>Português</td>\n",
              "      <td>Brochura</td>\n",
              "      <td>9788587193391</td>\n",
              "      <td>/content/drive/My Drive/9periodo/Recuperação...</td>\n",
              "    </tr>\n",
              "    <tr>\n",
              "      <th>18</th>\n",
              "      <td>CYNDI MINHA HISTORIA</td>\n",
              "      <td>Cyndi Lauper | Jancee Dunn   Aline Naomi Sas...</td>\n",
              "      <td>352</td>\n",
              "      <td>Belas-Letras</td>\n",
              "      <td>Português</td>\n",
              "      <td>Brochura</td>\n",
              "      <td>9788581744988</td>\n",
              "      <td>/content/drive/My Drive/9periodo/Recuperação...</td>\n",
              "    </tr>\n",
              "    <tr>\n",
              "      <th>19</th>\n",
              "      <td>D. PEDRO II A HISTORIA NAO CONTADA - O ULTIMO ...</td>\n",
              "      <td>Paulo Rezzutti</td>\n",
              "      <td>576</td>\n",
              "      <td>Leya</td>\n",
              "      <td>Português</td>\n",
              "      <td>Brochura</td>\n",
              "      <td>9788577346776</td>\n",
              "      <td>/content/drive/My Drive/9periodo/Recuperação...</td>\n",
              "    </tr>\n",
              "  </tbody>\n",
              "</table>\n",
              "</div>"
            ],
            "text/plain": [
              "                                               Título  ...                                          Documento\n",
              "0                               1808: Como uma rainha  ...  /content/drive/My Drive/9periodo/Recuperação...\n",
              "1   Box - As Melhores Aventuras Do Sítio Do Picapa...  ...  /content/drive/My Drive/9periodo/Recuperação...\n",
              "2            Cotoco. O Diário De Um Garoto De 13 Anos  ...  /content/drive/My Drive/9periodo/Recuperação...\n",
              "3               Doctor Who: 12 Doutores, 12 histórias  ...  /content/drive/My Drive/9periodo/Recuperação...\n",
              "4   Freud (1900) A interpretação dos sonhos: Obras...  ...  /content/drive/My Drive/9periodo/Recuperação...\n",
              "5                         Good Omens: Belas Maldições  ...  /content/drive/My Drive/9periodo/Recuperação...\n",
              "6   Os Mitos de Cthulhu - Volume Único (Exclusivo ...  ...  /content/drive/My Drive/9periodo/Recuperação...\n",
              "7   Redes de Computadores e a Internet: Uma Aborda...  ...  /content/drive/My Drive/9periodo/Recuperação...\n",
              "8      Sobotta - Atlas de Anatomia Humana - 3 Volumes  ...  /content/drive/My Drive/9periodo/Recuperação...\n",
              "9      Alice No País Das Maravilhas (Classic Edition)  ...  /content/drive/My Drive/9periodo/Recuperação...\n",
              "10                           Steve Jobs - A Biografia  ...  /content/drive/My Drive/9periodo/Recuperação...\n",
              "11   Vade Mecum Compacto   - Brochura  - 21ª Ed. 2019  ...  /content/drive/My Drive/9periodo/Recuperação...\n",
              "12                                       It - A Coisa  ...  /content/drive/My Drive/9periodo/Recuperação...\n",
              "13            Como Fazer Amigos e Influenciar Pessoas  ...  /content/drive/My Drive/9periodo/Recuperação...\n",
              "14  O Guia do Mochileiro Das Galáxias - Série o Mo...  ...  /content/drive/My Drive/9periodo/Recuperação...\n",
              "15  O Livrinho do Bebê - Animais, Palavras, Contrá...  ...  /content/drive/My Drive/9periodo/Recuperação...\n",
              "16                      Star Wars - O Arquivo Rebelde  ...  /content/drive/My Drive/9periodo/Recuperação...\n",
              "17                                     A COR DA MAGIA  ...  /content/drive/My Drive/9periodo/Recuperação...\n",
              "18                               CYNDI MINHA HISTORIA  ...  /content/drive/My Drive/9periodo/Recuperação...\n",
              "19  D. PEDRO II A HISTORIA NAO CONTADA - O ULTIMO ...  ...  /content/drive/My Drive/9periodo/Recuperação...\n",
              "\n",
              "[20 rows x 8 columns]"
            ]
          },
          "metadata": {
            "tags": []
          },
          "execution_count": 249
        }
      ]
    },
    {
      "cell_type": "markdown",
      "metadata": {
        "id": "LsXqZMt25kA6",
        "colab_type": "text"
      },
      "source": [
        "# Funções"
      ]
    },
    {
      "cell_type": "markdown",
      "metadata": {
        "id": "NO_fCKAo5pia",
        "colab_type": "text"
      },
      "source": [
        "## Parse HTML"
      ]
    },
    {
      "cell_type": "code",
      "metadata": {
        "id": "DxxL1-lIPZ-n",
        "colab_type": "code",
        "colab": {}
      },
      "source": [
        "symbolsToReplace = [\n",
        "    '(', ')', '!', '?', ':', ';', '*', '.', ',', '★', '|', '+', '[', ']', '{', '}', '/', 'ª', 'º', '°', '-',\n",
        "    '%', '—', '@', '#',  '\\\"','\\'', '<', '>', '=', '´', '`', '“', '$', '&', '’', '¡', '€', 'µ', '¦',\n",
        "    '\\\\', '®', '™', '”', '…', '‘', '•', '😍','😙', '❤', '–', '⭐️', '_', '️⭐', '😉', '👏', '¹', '²', '³',\n",
        "    \"£\", '¢', '¬', '§', '~', '^', '×', '÷',\n",
        "    '\\u200c', '\\u200f', '\\u200e', '\\t', '\\xa0', '\\x03', '\\u0301', '\\u0303'\n",
        "]\n",
        "\n",
        "allowedSmallTokens = [\n",
        "  'fio', 'box', 'god', 'key', 'bit', 'led', 'faq', 'dog', 'sim', 'ovo', 'pão', 'aba', 'new' ## acabei de perceber que 'não' nem tá aqui kkkkk\n",
        "]"
      ],
      "execution_count": 0,
      "outputs": []
    },
    {
      "cell_type": "code",
      "metadata": {
        "id": "JbvXBmpYOeFI",
        "colab_type": "code",
        "colab": {}
      },
      "source": [
        "def getAndCleanHTML(filepath):\n",
        "  \n",
        "  page = open(filepath, \"rb\")\n",
        "\n",
        "  page = page.read()\n",
        "\n",
        "  clearPage = UnicodeDammit.detwingle(page)\n",
        "  \n",
        "  doc = bs(clearPage, 'lxml')\n",
        "  \n",
        "  for script in doc([\"script\", \"style\"]):\n",
        "    script.extract()\n",
        "  \n",
        "  docText = doc.get_text(' ')\n",
        "  \n",
        "  docText = docText.translate({ord(ch): None for ch in '0123456789'})\n",
        "  \n",
        "  docText = docText.lower()\n",
        "  \n",
        "  docText = docText.replace(\"e-book\", \"ebook\")\n",
        "\n",
        "  docText = docText.replace(\"blu-ray\", \"bluray\")\n",
        "  \n",
        "  for symbol in symbolsToReplace:\n",
        "    docText = docText.replace(symbol, ' ')\n",
        "  \n",
        "  docText = docText.replace(\"  \", ' ')\n",
        "  \n",
        "  lines = (line.strip() for line in docText.splitlines())\n",
        "  \n",
        "  chunks = (phrase.strip() for line in lines for phrase in line.split(' '))\n",
        "\n",
        "  text = ' '.join(chunk for chunk in chunks if chunk)\n",
        "  \n",
        "  return text"
      ],
      "execution_count": 0,
      "outputs": []
    },
    {
      "cell_type": "markdown",
      "metadata": {
        "id": "BC7LP_8b5weU",
        "colab_type": "text"
      },
      "source": [
        "## Searching Index"
      ]
    },
    {
      "cell_type": "code",
      "metadata": {
        "id": "qIaJXNHhWsD5",
        "colab_type": "code",
        "colab": {}
      },
      "source": [
        "def handlingQuery(query):\n",
        "  hq = query.split()\n",
        "  return hq"
      ],
      "execution_count": 0,
      "outputs": []
    },
    {
      "cell_type": "code",
      "metadata": {
        "id": "KI1V44ti_Spr",
        "colab_type": "code",
        "colab": {}
      },
      "source": [
        "def getValues(query):\n",
        "  rl = list()\n",
        "  for i in query:\n",
        "    wl = query[i].split(' ')\n",
        "    for w in wl:\n",
        "      rl.append(w)\n",
        "  return rl"
      ],
      "execution_count": 0,
      "outputs": []
    },
    {
      "cell_type": "code",
      "metadata": {
        "id": "n4t6OcJQUCY5",
        "colab_type": "code",
        "colab": {}
      },
      "source": [
        "def free_search(q, indice):\n",
        "  hq = handlingQuery(q)\n",
        "  df_search = pd.DataFrame()\n",
        "  for q in hq:\n",
        "    for w in indice['Terms'].values:\n",
        "      if (w in q) or (w == q):\n",
        "        df_search = df_search.append(indice[indice['Terms'] == w], ignore_index=True)\n",
        "  return df_search"
      ],
      "execution_count": 0,
      "outputs": []
    },
    {
      "cell_type": "code",
      "metadata": {
        "id": "zqjr8TZL5JD9",
        "colab_type": "code",
        "colab": {}
      },
      "source": [
        "def structured_search(sq, indice):\n",
        "  df_search = pd.DataFrame()\n",
        "  for i in sq:\n",
        "    values_sq = sq[i].split(' ')\n",
        "    for v in values_sq:\n",
        "      for r in range(len(df_campos)):\n",
        "        sr = df_campos.at[r, 'Field Text'].split('.')\n",
        "        if (sr[0] in v) and (sr[1] == i):\n",
        "          df_search = df_search.append(df_campos[df_campos['Field Text'] == sr[0] + '.' + sr[1]], ignore_index=True)\n",
        "  return df_search"
      ],
      "execution_count": 0,
      "outputs": []
    },
    {
      "cell_type": "code",
      "metadata": {
        "id": "ujxc9R8kC_Fn",
        "colab_type": "code",
        "colab": {}
      },
      "source": [
        "def docs_list_OR(df):\n",
        "  postings = list()\n",
        "  for r in df.index:\n",
        "    postings.append(df.at[r,'Posting'])\n",
        "\n",
        "  for i in range(len(postings)):\n",
        "    new_postings = postings[i].split(', ')\n",
        "    new_postings[0] = new_postings[0][1:]\n",
        "    new_postings[len(new_postings)-1] = new_postings[len(new_postings)-1][:-1]\n",
        "    postings[i] = new_postings\n",
        "\n",
        "  p = list()\n",
        "  for i in range(len(postings)):\n",
        "    for j in range(len(postings[i])):\n",
        "      p.append(postings[i][j])\n",
        "\n",
        "  p = list(dict.fromkeys(p))\n",
        "  return p"
      ],
      "execution_count": 0,
      "outputs": []
    },
    {
      "cell_type": "code",
      "metadata": {
        "id": "qxntTdH68nO9",
        "colab_type": "code",
        "colab": {}
      },
      "source": [
        "def docs_list_AND(df):\n",
        "  aux = list()\n",
        "  postings_list = list()\n",
        "  #colocar postings em listas\n",
        "  for r in df.index:\n",
        "    aux = df.at[r, 'Posting'].split(', ')\n",
        "    aux[0] = aux[0][1:]\n",
        "    aux[len(aux)-1] = aux[len(aux)-1][:-1]\n",
        "    postings_list.append(aux)\n",
        "\n",
        "  #iterar sobre listas de postings buscando itens iguais\n",
        "  postings = list()\n",
        "  for i in range(len(postings_list)):\n",
        "    for j in range(i+1, len(postings_list)):\n",
        "      for k in range(len(postings_list[i])):\n",
        "        for l in range(len(postings_list[j])):\n",
        "          if postings_list[i][k] == postings_list[j][l]:\n",
        "            postings.append(postings_list[i][k])\n",
        "            postings_list[i][j] = ' '\n",
        "\n",
        "  return postings"
      ],
      "execution_count": 0,
      "outputs": []
    },
    {
      "cell_type": "markdown",
      "metadata": {
        "id": "F17dXwQY51ze",
        "colab_type": "text"
      },
      "source": [
        "## Calc Scores"
      ]
    },
    {
      "cell_type": "code",
      "metadata": {
        "id": "ncWI2lhKJjCC",
        "colab_type": "code",
        "colab": {}
      },
      "source": [
        "def calc_tfidf(df_freq):\n",
        "  if(df_freq.index.size > 0):\n",
        "    for r in df_freq.index:\n",
        "      df_freq.at[r, 'Freq'] = math.log2(df_arquivos.shape[0]/df_freq.at[r, 'Freq'])\n",
        "      for c in range(2, len(df_freq.columns)):\n",
        "        df_freq.at[r, df_freq.columns[c]] = np.multiply(df_freq.at[r, 'Freq'], df_freq.at[r, df_freq.columns[c]])\n",
        "  else:\n",
        "    df_freq = pd.DataFrame()\n",
        "\n",
        "  return df_freq"
      ],
      "execution_count": 0,
      "outputs": []
    },
    {
      "cell_type": "code",
      "metadata": {
        "id": "4OO3o25fdgWG",
        "colab_type": "code",
        "colab": {}
      },
      "source": [
        "def calc_freq(dl, df_search, tipo_busca, queryl):\n",
        "  if(df_search.index.size > 0):\n",
        "\n",
        "    df_freq = pd.DataFrame(columns=dl)\n",
        "\n",
        "    queryt = list()\n",
        "    if tipo_busca == 'livre':\n",
        "      df_freq = pd.concat([df_search['Terms'], df_search['Freq'], df_freq], axis=1)\n",
        "      for q in queryl:\n",
        "        for v in df_freq['Terms'].values:\n",
        "          if v in q:\n",
        "            queryt.append(q)\n",
        "    else:\n",
        "      df_freq = pd.concat([df_search['Field Text'], df_search['Freq'], df_freq], axis=1)\n",
        "      for q in queryl:\n",
        "        for v in df_freq['Field Text'].values:\n",
        "          if v in q:\n",
        "            queryt.append(q)\n",
        "\n",
        "    for r in df_freq.index:\n",
        "      for c in range(2, len(df_freq.columns)):\n",
        "        df_freq.at[r, df_freq.columns[c]] = 0\n",
        "\n",
        "    df_freq.iloc[:, 1:] = df_freq.iloc[:, 1:].astype(float)\n",
        "    \n",
        "    for i in range(len(dl)):\n",
        "      doc = getAndCleanHTML(df_arquivos.loc[int(dl[i]),'0'])\n",
        "      doc = doc.lower()\n",
        "      doc = doc.split()\n",
        "      for w in doc:\n",
        "        for qw in range(len(queryt)):\n",
        "          if w == queryt[qw]:\n",
        "            df_freq.at[qw, dl[i]] += 1.0\n",
        "\n",
        "    for r in df_freq.index:\n",
        "      for c in range(2, len(df_freq.columns)):\n",
        "        if df_freq.at[r,df_freq.columns[c]] !=0:\n",
        "          df_freq.at[r,df_freq.columns[c]] = math.log2(df_freq.at[r, df_freq.columns[c]])\n",
        "\n",
        "  else:\n",
        "    df_freq = pd.DataFrame()\n",
        "  \n",
        "  return df_freq"
      ],
      "execution_count": 0,
      "outputs": []
    },
    {
      "cell_type": "markdown",
      "metadata": {
        "id": "jtmzUauR59oc",
        "colab_type": "text"
      },
      "source": [
        "## Calc Ranking"
      ]
    },
    {
      "cell_type": "code",
      "metadata": {
        "id": "Nn2u3PuzLkf4",
        "colab_type": "code",
        "colab": {}
      },
      "source": [
        "def calc_rank(df_freq, tipo_busca):\n",
        "  if(df_freq.index.size > 0):\n",
        "    dv = []\n",
        "    qv = []\n",
        "\n",
        "    if tipo_busca == 'livre':\n",
        "      for q in df_freq['Terms'].values:\n",
        "        qv.append(1)\n",
        "      df_freq.at[len(df_freq.index),'Terms'] = 'cosine'\n",
        "      df_freq.index = df_freq['Terms']\n",
        "    else:\n",
        "      for q in df_freq['Field Text'].values:\n",
        "        qv.append(1)\n",
        "      df_freq.at[len(df_freq.index),'Field Text'] = 'cosine'\n",
        "      df_freq.index = df_freq['Field Text']\n",
        "\n",
        "    df_freq = df_freq.iloc[:, 1:]\n",
        "\n",
        "    for c in range(1, len(df_freq.columns)):\n",
        "      for r in range(len(df_freq.index[:-1])):\n",
        "        dv.append(df_freq.at[df_freq.index[r],df_freq.columns[c]])\n",
        "      df_freq.at[df_freq.index[len(df_freq.index)-1], df_freq.columns[c]] = (np.dot(dv, qv) / (np.linalg.norm(dv) * np.linalg.norm(qv)))\n",
        "      dv = []\n",
        "\n",
        "    df_rank = df_freq.sort_values(by='cosine', axis=1, ascending=False)\n",
        "    df_rank = df_rank.drop(['Freq'], axis=1)\n",
        "    ranking = df_rank.columns.tolist()\n",
        "    ranking = ranking[:10]\n",
        "  else:\n",
        "    ranking = 'Busca não encontrada!'\n",
        "    \n",
        "  return ranking"
      ],
      "execution_count": 0,
      "outputs": []
    },
    {
      "cell_type": "code",
      "metadata": {
        "id": "UcqBA1m7i1sb",
        "colab_type": "code",
        "colab": {}
      },
      "source": [
        "def ranking_dictionary(r):\n",
        "  if(r == 'Busca não encontrada!'):\n",
        "    rd_list = 'Busca não encontrada!'\n",
        "  else:\n",
        "    rd_list = list()\n",
        "    for i in r:\n",
        "      path = df_arquivos.at[int(i), '0']\n",
        "      row, = df_ed[df_ed['Documento'] == path].index\n",
        "      titulo = df_ed.at[row, 'Título']\n",
        "      if type(titulo) != str:\n",
        "        titulo = 'Unknown'\n",
        "      autor = df_ed.at[row, 'Autor']\n",
        "      if type(autor) != str:\n",
        "        autor = 'Unknown'\n",
        "      print(autor)\n",
        "      rd = {\n",
        "          'index': i,\n",
        "          'title': titulo.lower(),\n",
        "          'author': autor.lower()\n",
        "      }\n",
        "      rd_list.append(rd)\n",
        "\n",
        "  return rd_list"
      ],
      "execution_count": 0,
      "outputs": []
    },
    {
      "cell_type": "markdown",
      "metadata": {
        "id": "gxKU4cgIY0dW",
        "colab_type": "text"
      },
      "source": [
        "## Cálculo da Correlação de Spearman\n",
        "\n"
      ]
    },
    {
      "cell_type": "code",
      "metadata": {
        "id": "OwRzYoQ6zmD6",
        "colab_type": "code",
        "colab": {}
      },
      "source": [
        "def calc_spearman(r1, r2):\n",
        "  squares = list()\n",
        "  ranking1 = r1\n",
        "  ranking2 = r2\n",
        "  for i in range(len(ranking1)):\n",
        "    for j in range(len(ranking2)):\n",
        "      if ranking1[i] == ranking2[j]:\n",
        "        sub = i - j\n",
        "        square = math.pow(sub, 2)\n",
        "      else:\n",
        "        square = 0\n",
        "      squares.append(square)\n",
        "\n",
        "  d = ranking1 + ranking2\n",
        "  d = list(dict.fromkeys(d))\n",
        "  k = len(d)\n",
        "  spearman_corr = 1 - ((6*sum(squares))/(k*(math.pow(k, 2)-1)))\n",
        "  return spearman_corr"
      ],
      "execution_count": 0,
      "outputs": []
    },
    {
      "cell_type": "markdown",
      "metadata": {
        "id": "eC71-qUI6DMS",
        "colab_type": "text"
      },
      "source": [
        "# Main"
      ]
    },
    {
      "cell_type": "markdown",
      "metadata": {
        "id": "jpvclg2sPoPU",
        "colab_type": "text"
      },
      "source": [
        "## Índice"
      ]
    },
    {
      "cell_type": "code",
      "metadata": {
        "id": "Z_ARdnhn_YV4",
        "colab_type": "code",
        "outputId": "2c7c11b9-17d0-4a2d-e9d9-e979864b556c",
        "colab": {
          "base_uri": "https://localhost:8080/",
          "height": 0
        }
      },
      "source": [
        "df_indice = pd.read_csv('/content/drive/My Drive/indice_invertido_all_view_pages.csv')\n",
        "df_indice.head(n=10)"
      ],
      "execution_count": 263,
      "outputs": [
        {
          "output_type": "execute_result",
          "data": {
            "text/html": [
              "<div>\n",
              "<style scoped>\n",
              "    .dataframe tbody tr th:only-of-type {\n",
              "        vertical-align: middle;\n",
              "    }\n",
              "\n",
              "    .dataframe tbody tr th {\n",
              "        vertical-align: top;\n",
              "    }\n",
              "\n",
              "    .dataframe thead th {\n",
              "        text-align: right;\n",
              "    }\n",
              "</style>\n",
              "<table border=\"1\" class=\"dataframe\">\n",
              "  <thead>\n",
              "    <tr style=\"text-align: right;\">\n",
              "      <th></th>\n",
              "      <th>Terms</th>\n",
              "      <th>Freq</th>\n",
              "      <th>Posting</th>\n",
              "      <th>Compress Posting</th>\n",
              "      <th>Gamma Code</th>\n",
              "    </tr>\n",
              "  </thead>\n",
              "  <tbody>\n",
              "    <tr>\n",
              "      <th>0</th>\n",
              "      <td>abaixo</td>\n",
              "      <td>38</td>\n",
              "      <td>[0, 1, 3, 4, 5, 6, 7, 8, 9, 10, 11, 12, 13, 14...</td>\n",
              "      <td>[0, 1, 2, 1, 1, 1, 1, 1, 1, 1, 1, 1, 1, 1, 1, ...</td>\n",
              "      <td>[0, 0, 100, 0, 0, 0, 0, 0, 0, 0, 0, 0, 0, 0, 0...</td>\n",
              "    </tr>\n",
              "    <tr>\n",
              "      <th>1</th>\n",
              "      <td>abordagem</td>\n",
              "      <td>3</td>\n",
              "      <td>[7, 64, 74]</td>\n",
              "      <td>[7, 57, 10]</td>\n",
              "      <td>[11011, 11111011001, 1110010]</td>\n",
              "    </tr>\n",
              "    <tr>\n",
              "      <th>2</th>\n",
              "      <td>abrir</td>\n",
              "      <td>20</td>\n",
              "      <td>[82, 83, 84, 85, 86, 87, 88, 89, 90, 91, 92, 9...</td>\n",
              "      <td>[82, 1, 1, 1, 1, 1, 1, 1, 1, 1, 1, 1, 1, 1, 1,...</td>\n",
              "      <td>[1111110010010, 0, 0, 0, 0, 0, 0, 0, 0, 0, 0, ...</td>\n",
              "    </tr>\n",
              "    <tr>\n",
              "      <th>3</th>\n",
              "      <td>abuso</td>\n",
              "      <td>8</td>\n",
              "      <td>[0, 1, 3, 4, 5, 6, 7, 8]</td>\n",
              "      <td>[0, 1, 2, 1, 1, 1, 1, 1]</td>\n",
              "      <td>[0, 0, 100, 0, 0, 0, 0, 0]</td>\n",
              "    </tr>\n",
              "    <tr>\n",
              "      <th>4</th>\n",
              "      <td>acabam</td>\n",
              "      <td>6</td>\n",
              "      <td>[6, 49, 52, 55, 56, 57]</td>\n",
              "      <td>[6, 43, 3, 3, 1, 1]</td>\n",
              "      <td>[11010, 11111001011, 101, 101, 0, 0]</td>\n",
              "    </tr>\n",
              "    <tr>\n",
              "      <th>5</th>\n",
              "      <td>acabamento</td>\n",
              "      <td>19</td>\n",
              "      <td>[5, 9, 10, 11, 12, 13, 14, 15, 16, 49, 50, 51,...</td>\n",
              "      <td>[5, 4, 1, 1, 1, 1, 1, 1, 1, 33, 1, 1, 1, 1, 1,...</td>\n",
              "      <td>[11001, 11000, 0, 0, 0, 0, 0, 0, 0, 1111100000...</td>\n",
              "    </tr>\n",
              "    <tr>\n",
              "      <th>6</th>\n",
              "      <td>acabou</td>\n",
              "      <td>8</td>\n",
              "      <td>[89, 92, 95, 96, 98, 99, 100, 101]</td>\n",
              "      <td>[89, 3, 3, 1, 2, 1, 1, 1]</td>\n",
              "      <td>[1111110011001, 101, 101, 0, 100, 0, 0, 0]</td>\n",
              "    </tr>\n",
              "    <tr>\n",
              "      <th>7</th>\n",
              "      <td>acaso</td>\n",
              "      <td>13</td>\n",
              "      <td>[1, 13, 27, 28, 29, 30, 31, 32, 33, 34, 35, 36...</td>\n",
              "      <td>[1, 12, 14, 1, 1, 1, 1, 1, 1, 1, 1, 1, 50]</td>\n",
              "      <td>[0, 1110100, 1110110, 0, 0, 0, 0, 0, 0, 0, 0, ...</td>\n",
              "    </tr>\n",
              "    <tr>\n",
              "      <th>8</th>\n",
              "      <td>aceita</td>\n",
              "      <td>10</td>\n",
              "      <td>[0, 1, 2, 3, 4, 5, 6, 7, 8, 84]</td>\n",
              "      <td>[0, 1, 1, 1, 1, 1, 1, 1, 1, 76]</td>\n",
              "      <td>[0, 0, 0, 0, 0, 0, 0, 0, 0, 1111110001100]</td>\n",
              "    </tr>\n",
              "    <tr>\n",
              "      <th>9</th>\n",
              "      <td>aceitamos</td>\n",
              "      <td>10</td>\n",
              "      <td>[27, 28, 29, 30, 31, 32, 33, 34, 35, 36]</td>\n",
              "      <td>[27, 1, 1, 1, 1, 1, 1, 1, 1, 1]</td>\n",
              "      <td>[111101011, 0, 0, 0, 0, 0, 0, 0, 0, 0]</td>\n",
              "    </tr>\n",
              "  </tbody>\n",
              "</table>\n",
              "</div>"
            ],
            "text/plain": [
              "        Terms  ...                                         Gamma Code\n",
              "0      abaixo  ...  [0, 0, 100, 0, 0, 0, 0, 0, 0, 0, 0, 0, 0, 0, 0...\n",
              "1   abordagem  ...                      [11011, 11111011001, 1110010]\n",
              "2       abrir  ...  [1111110010010, 0, 0, 0, 0, 0, 0, 0, 0, 0, 0, ...\n",
              "3       abuso  ...                         [0, 0, 100, 0, 0, 0, 0, 0]\n",
              "4      acabam  ...               [11010, 11111001011, 101, 101, 0, 0]\n",
              "5  acabamento  ...  [11001, 11000, 0, 0, 0, 0, 0, 0, 0, 1111100000...\n",
              "6      acabou  ...         [1111110011001, 101, 101, 0, 100, 0, 0, 0]\n",
              "7       acaso  ...  [0, 1110100, 1110110, 0, 0, 0, 0, 0, 0, 0, 0, ...\n",
              "8      aceita  ...         [0, 0, 0, 0, 0, 0, 0, 0, 0, 1111110001100]\n",
              "9   aceitamos  ...             [111101011, 0, 0, 0, 0, 0, 0, 0, 0, 0]\n",
              "\n",
              "[10 rows x 5 columns]"
            ]
          },
          "metadata": {
            "tags": []
          },
          "execution_count": 263
        }
      ]
    },
    {
      "cell_type": "code",
      "metadata": {
        "id": "7USw5067_1q9",
        "colab_type": "code",
        "outputId": "77d5b1ba-0299-40c8-fc17-d05634b6d618",
        "colab": {
          "base_uri": "https://localhost:8080/",
          "height": 0
        }
      },
      "source": [
        "df_arquivos = pd.read_csv('/content/drive/My Drive/urls_df.csv')\n",
        "df_arquivos.head()"
      ],
      "execution_count": 264,
      "outputs": [
        {
          "output_type": "execute_result",
          "data": {
            "text/html": [
              "<div>\n",
              "<style scoped>\n",
              "    .dataframe tbody tr th:only-of-type {\n",
              "        vertical-align: middle;\n",
              "    }\n",
              "\n",
              "    .dataframe tbody tr th {\n",
              "        vertical-align: top;\n",
              "    }\n",
              "\n",
              "    .dataframe thead th {\n",
              "        text-align: right;\n",
              "    }\n",
              "</style>\n",
              "<table border=\"1\" class=\"dataframe\">\n",
              "  <thead>\n",
              "    <tr style=\"text-align: right;\">\n",
              "      <th></th>\n",
              "      <th>0</th>\n",
              "    </tr>\n",
              "  </thead>\n",
              "  <tbody>\n",
              "    <tr>\n",
              "      <th>0</th>\n",
              "      <td>/content/drive/My Drive/9periodo/Recuperação...</td>\n",
              "    </tr>\n",
              "    <tr>\n",
              "      <th>1</th>\n",
              "      <td>/content/drive/My Drive/9periodo/Recuperação...</td>\n",
              "    </tr>\n",
              "    <tr>\n",
              "      <th>2</th>\n",
              "      <td>/content/drive/My Drive/9periodo/Recuperação...</td>\n",
              "    </tr>\n",
              "    <tr>\n",
              "      <th>3</th>\n",
              "      <td>/content/drive/My Drive/9periodo/Recuperação...</td>\n",
              "    </tr>\n",
              "    <tr>\n",
              "      <th>4</th>\n",
              "      <td>/content/drive/My Drive/9periodo/Recuperação...</td>\n",
              "    </tr>\n",
              "  </tbody>\n",
              "</table>\n",
              "</div>"
            ],
            "text/plain": [
              "                                                   0\n",
              "0  /content/drive/My Drive/9periodo/Recuperação...\n",
              "1  /content/drive/My Drive/9periodo/Recuperação...\n",
              "2  /content/drive/My Drive/9periodo/Recuperação...\n",
              "3  /content/drive/My Drive/9periodo/Recuperação...\n",
              "4  /content/drive/My Drive/9periodo/Recuperação..."
            ]
          },
          "metadata": {
            "tags": []
          },
          "execution_count": 264
        }
      ]
    },
    {
      "cell_type": "code",
      "metadata": {
        "id": "6KW6ScrdIkCl",
        "colab_type": "code",
        "outputId": "41afb575-fa0c-4101-ece4-e1c186f89795",
        "colab": {
          "base_uri": "https://localhost:8080/",
          "height": 0
        }
      },
      "source": [
        "df_campos = pd.read_csv('/content/drive/My Drive/field_texts.csv')\n",
        "df_campos.head(n=10)"
      ],
      "execution_count": 265,
      "outputs": [
        {
          "output_type": "execute_result",
          "data": {
            "text/html": [
              "<div>\n",
              "<style scoped>\n",
              "    .dataframe tbody tr th:only-of-type {\n",
              "        vertical-align: middle;\n",
              "    }\n",
              "\n",
              "    .dataframe tbody tr th {\n",
              "        vertical-align: top;\n",
              "    }\n",
              "\n",
              "    .dataframe thead th {\n",
              "        text-align: right;\n",
              "    }\n",
              "</style>\n",
              "<table border=\"1\" class=\"dataframe\">\n",
              "  <thead>\n",
              "    <tr style=\"text-align: right;\">\n",
              "      <th></th>\n",
              "      <th>word</th>\n",
              "      <th>Field Text</th>\n",
              "      <th>Freq</th>\n",
              "      <th>Posting</th>\n",
              "      <th>Compress Posting</th>\n",
              "    </tr>\n",
              "  </thead>\n",
              "  <tbody>\n",
              "    <tr>\n",
              "      <th>0</th>\n",
              "      <td>0</td>\n",
              "      <td>1808.title</td>\n",
              "      <td>1</td>\n",
              "      <td>[0]</td>\n",
              "      <td>[0]</td>\n",
              "    </tr>\n",
              "    <tr>\n",
              "      <th>1</th>\n",
              "      <td>1</td>\n",
              "      <td>1900.title</td>\n",
              "      <td>1</td>\n",
              "      <td>[4]</td>\n",
              "      <td>[4]</td>\n",
              "    </tr>\n",
              "    <tr>\n",
              "      <th>2</th>\n",
              "      <td>0</td>\n",
              "      <td>1967.publishing</td>\n",
              "      <td>1</td>\n",
              "      <td>[29]</td>\n",
              "      <td>[29]</td>\n",
              "    </tr>\n",
              "    <tr>\n",
              "      <th>3</th>\n",
              "      <td>1</td>\n",
              "      <td>1984.publishing</td>\n",
              "      <td>1</td>\n",
              "      <td>[32]</td>\n",
              "      <td>[32]</td>\n",
              "    </tr>\n",
              "    <tr>\n",
              "      <th>4</th>\n",
              "      <td>2</td>\n",
              "      <td>1987.publishing</td>\n",
              "      <td>1</td>\n",
              "      <td>[34]</td>\n",
              "      <td>[34]</td>\n",
              "    </tr>\n",
              "    <tr>\n",
              "      <th>5</th>\n",
              "      <td>3</td>\n",
              "      <td>1991.publishing</td>\n",
              "      <td>1</td>\n",
              "      <td>[33]</td>\n",
              "      <td>[33]</td>\n",
              "    </tr>\n",
              "    <tr>\n",
              "      <th>6</th>\n",
              "      <td>4</td>\n",
              "      <td>2006.publishing</td>\n",
              "      <td>1</td>\n",
              "      <td>[35]</td>\n",
              "      <td>[35]</td>\n",
              "    </tr>\n",
              "    <tr>\n",
              "      <th>7</th>\n",
              "      <td>5</td>\n",
              "      <td>2019.publishing</td>\n",
              "      <td>1</td>\n",
              "      <td>[6]</td>\n",
              "      <td>[6]</td>\n",
              "    </tr>\n",
              "    <tr>\n",
              "      <th>8</th>\n",
              "      <td>2</td>\n",
              "      <td>2019.title</td>\n",
              "      <td>2</td>\n",
              "      <td>[11, 26]</td>\n",
              "      <td>[11, 15]</td>\n",
              "    </tr>\n",
              "    <tr>\n",
              "      <th>9</th>\n",
              "      <td>0</td>\n",
              "      <td>8516079732.isbn</td>\n",
              "      <td>1</td>\n",
              "      <td>[51]</td>\n",
              "      <td>[51]</td>\n",
              "    </tr>\n",
              "  </tbody>\n",
              "</table>\n",
              "</div>"
            ],
            "text/plain": [
              "   word       Field Text  Freq   Posting Compress Posting\n",
              "0     0       1808.title     1       [0]              [0]\n",
              "1     1       1900.title     1       [4]              [4]\n",
              "2     0  1967.publishing     1      [29]             [29]\n",
              "3     1  1984.publishing     1      [32]             [32]\n",
              "4     2  1987.publishing     1      [34]             [34]\n",
              "5     3  1991.publishing     1      [33]             [33]\n",
              "6     4  2006.publishing     1      [35]             [35]\n",
              "7     5  2019.publishing     1       [6]              [6]\n",
              "8     2       2019.title     2  [11, 26]         [11, 15]\n",
              "9     0  8516079732.isbn     1      [51]             [51]"
            ]
          },
          "metadata": {
            "tags": []
          },
          "execution_count": 265
        }
      ]
    },
    {
      "cell_type": "markdown",
      "metadata": {
        "id": "ZyNwe36lPVY0",
        "colab_type": "text"
      },
      "source": [
        "## Busca livre"
      ]
    },
    {
      "cell_type": "code",
      "metadata": {
        "id": "Fk5SUkr1WfyK",
        "colab_type": "code",
        "outputId": "51d79280-13ea-43c4-d4ef-a9721b17e5f2",
        "colab": {
          "base_uri": "https://localhost:8080/",
          "height": 111
        }
      },
      "source": [
        "fq = 'vidas secas'\n",
        "df_fs = free_search(fq,df_indice)\n",
        "df_fs.head(n=10)"
      ],
      "execution_count": 288,
      "outputs": [
        {
          "output_type": "execute_result",
          "data": {
            "text/html": [
              "<div>\n",
              "<style scoped>\n",
              "    .dataframe tbody tr th:only-of-type {\n",
              "        vertical-align: middle;\n",
              "    }\n",
              "\n",
              "    .dataframe tbody tr th {\n",
              "        vertical-align: top;\n",
              "    }\n",
              "\n",
              "    .dataframe thead th {\n",
              "        text-align: right;\n",
              "    }\n",
              "</style>\n",
              "<table border=\"1\" class=\"dataframe\">\n",
              "  <thead>\n",
              "    <tr style=\"text-align: right;\">\n",
              "      <th></th>\n",
              "      <th>Terms</th>\n",
              "      <th>Freq</th>\n",
              "      <th>Posting</th>\n",
              "      <th>Compress Posting</th>\n",
              "      <th>Gamma Code</th>\n",
              "    </tr>\n",
              "  </thead>\n",
              "  <tbody>\n",
              "    <tr>\n",
              "      <th>0</th>\n",
              "      <td>vida</td>\n",
              "      <td>53</td>\n",
              "      <td>[1, 2, 4, 9, 10, 12, 13, 14, 19, 21, 22, 23, 2...</td>\n",
              "      <td>[1, 1, 2, 5, 1, 2, 1, 1, 5, 2, 1, 1, 1, 2, 7, ...</td>\n",
              "      <td>[0, 0, 100, 11001, 0, 100, 0, 0, 11001, 100, 0...</td>\n",
              "    </tr>\n",
              "    <tr>\n",
              "      <th>1</th>\n",
              "      <td>seca</td>\n",
              "      <td>19</td>\n",
              "      <td>[26, 49, 52, 53, 55, 56, 57, 58, 84, 92, 93, 9...</td>\n",
              "      <td>[26, 23, 3, 1, 2, 1, 1, 1, 26, 8, 1, 1, 1, 1, ...</td>\n",
              "      <td>[111101010, 111100111, 101, 0, 100, 0, 0, 0, 1...</td>\n",
              "    </tr>\n",
              "  </tbody>\n",
              "</table>\n",
              "</div>"
            ],
            "text/plain": [
              "  Terms  ...                                         Gamma Code\n",
              "0  vida  ...  [0, 0, 100, 11001, 0, 100, 0, 0, 11001, 100, 0...\n",
              "1  seca  ...  [111101010, 111100111, 101, 0, 100, 0, 0, 0, 1...\n",
              "\n",
              "[2 rows x 5 columns]"
            ]
          },
          "metadata": {
            "tags": []
          },
          "execution_count": 288
        }
      ]
    },
    {
      "cell_type": "code",
      "metadata": {
        "id": "cr7RC6hrcOBU",
        "colab_type": "code",
        "outputId": "5e9fac73-759b-4b36-df20-1e6b2b68af0b",
        "colab": {
          "base_uri": "https://localhost:8080/",
          "height": 54
        }
      },
      "source": [
        "dl_fs = docs_list_OR(df_fs)\n",
        "print(dl_fs)"
      ],
      "execution_count": 289,
      "outputs": [
        {
          "output_type": "stream",
          "text": [
            "['1', '2', '4', '9', '10', '12', '13', '14', '19', '21', '22', '23', '24', '26', '33', '35', '36', '37', '46', '48', '50', '52', '53', '54', '55', '56', '57', '58', '59', '61', '65', '66', '67', '69', '70', '72', '73', '78', '82', '83', '85', '86', '88', '89', '90', '91', '92', '94', '96', '98', '99', '100', '101', '49', '84', '93', '95', '97']\n"
          ],
          "name": "stdout"
        }
      ]
    },
    {
      "cell_type": "markdown",
      "metadata": {
        "id": "yO8FDSsNbIi_",
        "colab_type": "text"
      },
      "source": [
        "### Usando a frequência (tf)"
      ]
    },
    {
      "cell_type": "code",
      "metadata": {
        "id": "Ypx7TQoDjVQF",
        "colab_type": "code",
        "outputId": "7518eb1a-b452-46cf-fec9-16eb4b95ed66",
        "colab": {
          "base_uri": "https://localhost:8080/",
          "height": 131
        }
      },
      "source": [
        "df_f_fs = calc_freq(dl_fs, df_fs, 'livre', handlingQuery(fq))\n",
        "df_f_fs.head(n=10)"
      ],
      "execution_count": 323,
      "outputs": [
        {
          "output_type": "execute_result",
          "data": {
            "text/html": [
              "<div>\n",
              "<style scoped>\n",
              "    .dataframe tbody tr th:only-of-type {\n",
              "        vertical-align: middle;\n",
              "    }\n",
              "\n",
              "    .dataframe tbody tr th {\n",
              "        vertical-align: top;\n",
              "    }\n",
              "\n",
              "    .dataframe thead th {\n",
              "        text-align: right;\n",
              "    }\n",
              "</style>\n",
              "<table border=\"1\" class=\"dataframe\">\n",
              "  <thead>\n",
              "    <tr style=\"text-align: right;\">\n",
              "      <th></th>\n",
              "      <th>Terms</th>\n",
              "      <th>Freq</th>\n",
              "      <th>1</th>\n",
              "      <th>2</th>\n",
              "      <th>4</th>\n",
              "      <th>9</th>\n",
              "      <th>10</th>\n",
              "      <th>12</th>\n",
              "      <th>13</th>\n",
              "      <th>14</th>\n",
              "      <th>19</th>\n",
              "      <th>21</th>\n",
              "      <th>22</th>\n",
              "      <th>23</th>\n",
              "      <th>24</th>\n",
              "      <th>26</th>\n",
              "      <th>33</th>\n",
              "      <th>35</th>\n",
              "      <th>36</th>\n",
              "      <th>37</th>\n",
              "      <th>46</th>\n",
              "      <th>48</th>\n",
              "      <th>50</th>\n",
              "      <th>52</th>\n",
              "      <th>53</th>\n",
              "      <th>54</th>\n",
              "      <th>55</th>\n",
              "      <th>56</th>\n",
              "      <th>57</th>\n",
              "      <th>58</th>\n",
              "      <th>59</th>\n",
              "      <th>61</th>\n",
              "      <th>65</th>\n",
              "      <th>66</th>\n",
              "      <th>67</th>\n",
              "      <th>69</th>\n",
              "      <th>70</th>\n",
              "      <th>72</th>\n",
              "      <th>73</th>\n",
              "      <th>78</th>\n",
              "      <th>82</th>\n",
              "      <th>83</th>\n",
              "      <th>85</th>\n",
              "      <th>86</th>\n",
              "      <th>88</th>\n",
              "      <th>89</th>\n",
              "      <th>90</th>\n",
              "      <th>91</th>\n",
              "      <th>92</th>\n",
              "      <th>94</th>\n",
              "      <th>96</th>\n",
              "      <th>98</th>\n",
              "      <th>99</th>\n",
              "      <th>100</th>\n",
              "      <th>101</th>\n",
              "      <th>49</th>\n",
              "      <th>84</th>\n",
              "      <th>93</th>\n",
              "      <th>95</th>\n",
              "      <th>97</th>\n",
              "    </tr>\n",
              "  </thead>\n",
              "  <tbody>\n",
              "    <tr>\n",
              "      <th>0</th>\n",
              "      <td>vida</td>\n",
              "      <td>53.0</td>\n",
              "      <td>0.0</td>\n",
              "      <td>0.0</td>\n",
              "      <td>0.0</td>\n",
              "      <td>0.0</td>\n",
              "      <td>1.0</td>\n",
              "      <td>0.0</td>\n",
              "      <td>0.0</td>\n",
              "      <td>0.0</td>\n",
              "      <td>0.0</td>\n",
              "      <td>0.0</td>\n",
              "      <td>0.0</td>\n",
              "      <td>0.0</td>\n",
              "      <td>0.0</td>\n",
              "      <td>2.807355</td>\n",
              "      <td>0.0</td>\n",
              "      <td>0.0</td>\n",
              "      <td>0.0</td>\n",
              "      <td>0.0</td>\n",
              "      <td>0.0</td>\n",
              "      <td>0.0</td>\n",
              "      <td>0.0</td>\n",
              "      <td>0.0</td>\n",
              "      <td>0.0</td>\n",
              "      <td>0.0</td>\n",
              "      <td>0.0</td>\n",
              "      <td>0.0</td>\n",
              "      <td>0.0</td>\n",
              "      <td>0.0</td>\n",
              "      <td>0.0</td>\n",
              "      <td>0.0</td>\n",
              "      <td>0.0</td>\n",
              "      <td>0.0</td>\n",
              "      <td>0.0</td>\n",
              "      <td>0.0</td>\n",
              "      <td>0.0</td>\n",
              "      <td>0.0</td>\n",
              "      <td>0.0</td>\n",
              "      <td>0.0</td>\n",
              "      <td>0.0</td>\n",
              "      <td>0.0</td>\n",
              "      <td>0.0</td>\n",
              "      <td>0.0</td>\n",
              "      <td>0.0</td>\n",
              "      <td>0.0</td>\n",
              "      <td>0.0</td>\n",
              "      <td>0.0</td>\n",
              "      <td>0.0</td>\n",
              "      <td>0.0</td>\n",
              "      <td>0.0</td>\n",
              "      <td>0.0</td>\n",
              "      <td>0.0</td>\n",
              "      <td>0.0</td>\n",
              "      <td>0.0</td>\n",
              "      <td>0.0</td>\n",
              "      <td>0.0</td>\n",
              "      <td>0.0</td>\n",
              "      <td>0.0</td>\n",
              "      <td>0.0</td>\n",
              "    </tr>\n",
              "    <tr>\n",
              "      <th>1</th>\n",
              "      <td>seca</td>\n",
              "      <td>19.0</td>\n",
              "      <td>0.0</td>\n",
              "      <td>0.0</td>\n",
              "      <td>0.0</td>\n",
              "      <td>0.0</td>\n",
              "      <td>0.0</td>\n",
              "      <td>0.0</td>\n",
              "      <td>0.0</td>\n",
              "      <td>0.0</td>\n",
              "      <td>0.0</td>\n",
              "      <td>0.0</td>\n",
              "      <td>0.0</td>\n",
              "      <td>0.0</td>\n",
              "      <td>0.0</td>\n",
              "      <td>2.807355</td>\n",
              "      <td>0.0</td>\n",
              "      <td>0.0</td>\n",
              "      <td>0.0</td>\n",
              "      <td>0.0</td>\n",
              "      <td>0.0</td>\n",
              "      <td>0.0</td>\n",
              "      <td>0.0</td>\n",
              "      <td>0.0</td>\n",
              "      <td>0.0</td>\n",
              "      <td>0.0</td>\n",
              "      <td>0.0</td>\n",
              "      <td>0.0</td>\n",
              "      <td>0.0</td>\n",
              "      <td>0.0</td>\n",
              "      <td>0.0</td>\n",
              "      <td>0.0</td>\n",
              "      <td>0.0</td>\n",
              "      <td>0.0</td>\n",
              "      <td>0.0</td>\n",
              "      <td>0.0</td>\n",
              "      <td>0.0</td>\n",
              "      <td>0.0</td>\n",
              "      <td>0.0</td>\n",
              "      <td>0.0</td>\n",
              "      <td>0.0</td>\n",
              "      <td>0.0</td>\n",
              "      <td>0.0</td>\n",
              "      <td>0.0</td>\n",
              "      <td>0.0</td>\n",
              "      <td>0.0</td>\n",
              "      <td>0.0</td>\n",
              "      <td>0.0</td>\n",
              "      <td>0.0</td>\n",
              "      <td>0.0</td>\n",
              "      <td>0.0</td>\n",
              "      <td>0.0</td>\n",
              "      <td>0.0</td>\n",
              "      <td>0.0</td>\n",
              "      <td>0.0</td>\n",
              "      <td>0.0</td>\n",
              "      <td>0.0</td>\n",
              "      <td>0.0</td>\n",
              "      <td>0.0</td>\n",
              "      <td>0.0</td>\n",
              "    </tr>\n",
              "  </tbody>\n",
              "</table>\n",
              "</div>"
            ],
            "text/plain": [
              "  Terms  Freq    1    2    4    9   10  ...  100  101   49   84   93   95   97\n",
              "0  vida  53.0  0.0  0.0  0.0  0.0  1.0  ...  0.0  0.0  0.0  0.0  0.0  0.0  0.0\n",
              "1  seca  19.0  0.0  0.0  0.0  0.0  0.0  ...  0.0  0.0  0.0  0.0  0.0  0.0  0.0\n",
              "\n",
              "[2 rows x 60 columns]"
            ]
          },
          "metadata": {
            "tags": []
          },
          "execution_count": 323
        }
      ]
    },
    {
      "cell_type": "code",
      "metadata": {
        "id": "YxzvEXpnqPDr",
        "colab_type": "code",
        "outputId": "d4c4da90-82af-4dcd-cc30-61d652223253",
        "colab": {
          "base_uri": "https://localhost:8080/",
          "height": 51
        }
      },
      "source": [
        "r_f_fs = calc_rank(df_f_fs, 'livre')\n",
        "print(r_f_fs)"
      ],
      "execution_count": 324,
      "outputs": [
        {
          "output_type": "stream",
          "text": [
            "['26', '10', '1', '2', '4', '9', '12', '13', '14', '19']\n"
          ],
          "name": "stdout"
        },
        {
          "output_type": "stream",
          "text": [
            "/usr/local/lib/python3.6/dist-packages/ipykernel_launcher.py:22: RuntimeWarning: invalid value encountered in double_scalars\n"
          ],
          "name": "stderr"
        }
      ]
    },
    {
      "cell_type": "code",
      "metadata": {
        "id": "vxIJjVbgjcJg",
        "colab_type": "code",
        "outputId": "2dca4a60-194c-44f2-dc03-87b6026d4b05",
        "colab": {
          "base_uri": "https://localhost:8080/",
          "height": 224
        }
      },
      "source": [
        "rd_f_fs = ranking_dictionary(r_f_fs)\n",
        "print(rd_f_fs)"
      ],
      "execution_count": 334,
      "outputs": [
        {
          "output_type": "stream",
          "text": [
            "  Graciliano Ramos\n",
            "Isaacson,Walter, Isaacson,Walter\n",
            "Monteiro Lobato\n",
            "John Van de Ruit\n",
            "Sigmund Freud\n",
            "Carroll,Lewis\n",
            "King,Stephen\n",
            "Unknown\n",
            "Adams,Douglas\n",
            "  Paulo Rezzutti\n",
            "[{'index': '26', 'title': 'vidas secas - 140ªed.(2019)', 'author': '  graciliano ramos'}, {'index': '10', 'title': 'steve jobs - a biografia', 'author': 'isaacson,walter, isaacson,walter'}, {'index': '1', 'title': 'box - as melhores aventuras do sítio do picapau amarelo', 'author': 'monteiro lobato'}, {'index': '2', 'title': 'cotoco. o diário de um garoto de 13 anos', 'author': 'john van de ruit'}, {'index': '4', 'title': 'freud (1900) a interpretação dos sonhos: obras completas volume 4', 'author': 'sigmund freud'}, {'index': '9', 'title': 'alice no país das maravilhas (classic edition)', 'author': 'carroll,lewis'}, {'index': '12', 'title': 'it - a coisa', 'author': 'king,stephen'}, {'index': '13', 'title': 'como fazer amigos e influenciar pessoas', 'author': 'unknown'}, {'index': '14', 'title': 'o guia do mochileiro das galáxias - série o mochileiro das galáxias - vol. 1', 'author': 'adams,douglas'}, {'index': '19', 'title': 'd. pedro ii a historia nao contada - o ultimo imperador do novo mundo revelado por cartas e documentos ineditos', 'author': '  paulo rezzutti'}]\n"
          ],
          "name": "stdout"
        }
      ]
    },
    {
      "cell_type": "markdown",
      "metadata": {
        "id": "wu5s0NHTbPWF",
        "colab_type": "text"
      },
      "source": [
        "### Usando tf-idf"
      ]
    },
    {
      "cell_type": "code",
      "metadata": {
        "id": "NzvTXIiy3iVe",
        "colab_type": "code",
        "outputId": "09c4f599-472e-46db-cb75-e759a696f39e",
        "colab": {
          "base_uri": "https://localhost:8080/",
          "height": 131
        }
      },
      "source": [
        "df_tfidf_fs = calc_freq(dl_fs, df_fs, 'livre', handlingQuery(fq))\n",
        "df_tfidf_fs = calc_tfidf(df_tfidf_fs)\n",
        "df_tfidf_fs.head(n=10)"
      ],
      "execution_count": 335,
      "outputs": [
        {
          "output_type": "execute_result",
          "data": {
            "text/html": [
              "<div>\n",
              "<style scoped>\n",
              "    .dataframe tbody tr th:only-of-type {\n",
              "        vertical-align: middle;\n",
              "    }\n",
              "\n",
              "    .dataframe tbody tr th {\n",
              "        vertical-align: top;\n",
              "    }\n",
              "\n",
              "    .dataframe thead th {\n",
              "        text-align: right;\n",
              "    }\n",
              "</style>\n",
              "<table border=\"1\" class=\"dataframe\">\n",
              "  <thead>\n",
              "    <tr style=\"text-align: right;\">\n",
              "      <th></th>\n",
              "      <th>Terms</th>\n",
              "      <th>Freq</th>\n",
              "      <th>1</th>\n",
              "      <th>2</th>\n",
              "      <th>4</th>\n",
              "      <th>9</th>\n",
              "      <th>10</th>\n",
              "      <th>12</th>\n",
              "      <th>13</th>\n",
              "      <th>14</th>\n",
              "      <th>19</th>\n",
              "      <th>21</th>\n",
              "      <th>22</th>\n",
              "      <th>23</th>\n",
              "      <th>24</th>\n",
              "      <th>26</th>\n",
              "      <th>33</th>\n",
              "      <th>35</th>\n",
              "      <th>36</th>\n",
              "      <th>37</th>\n",
              "      <th>46</th>\n",
              "      <th>48</th>\n",
              "      <th>50</th>\n",
              "      <th>52</th>\n",
              "      <th>53</th>\n",
              "      <th>54</th>\n",
              "      <th>55</th>\n",
              "      <th>56</th>\n",
              "      <th>57</th>\n",
              "      <th>58</th>\n",
              "      <th>59</th>\n",
              "      <th>61</th>\n",
              "      <th>65</th>\n",
              "      <th>66</th>\n",
              "      <th>67</th>\n",
              "      <th>69</th>\n",
              "      <th>70</th>\n",
              "      <th>72</th>\n",
              "      <th>73</th>\n",
              "      <th>78</th>\n",
              "      <th>82</th>\n",
              "      <th>83</th>\n",
              "      <th>85</th>\n",
              "      <th>86</th>\n",
              "      <th>88</th>\n",
              "      <th>89</th>\n",
              "      <th>90</th>\n",
              "      <th>91</th>\n",
              "      <th>92</th>\n",
              "      <th>94</th>\n",
              "      <th>96</th>\n",
              "      <th>98</th>\n",
              "      <th>99</th>\n",
              "      <th>100</th>\n",
              "      <th>101</th>\n",
              "      <th>49</th>\n",
              "      <th>84</th>\n",
              "      <th>93</th>\n",
              "      <th>95</th>\n",
              "      <th>97</th>\n",
              "    </tr>\n",
              "  </thead>\n",
              "  <tbody>\n",
              "    <tr>\n",
              "      <th>0</th>\n",
              "      <td>vida</td>\n",
              "      <td>0.944505</td>\n",
              "      <td>0.0</td>\n",
              "      <td>0.0</td>\n",
              "      <td>0.0</td>\n",
              "      <td>0.0</td>\n",
              "      <td>0.944505</td>\n",
              "      <td>0.0</td>\n",
              "      <td>0.0</td>\n",
              "      <td>0.0</td>\n",
              "      <td>0.0</td>\n",
              "      <td>0.0</td>\n",
              "      <td>0.0</td>\n",
              "      <td>0.0</td>\n",
              "      <td>0.0</td>\n",
              "      <td>2.651560</td>\n",
              "      <td>0.0</td>\n",
              "      <td>0.0</td>\n",
              "      <td>0.0</td>\n",
              "      <td>0.0</td>\n",
              "      <td>0.0</td>\n",
              "      <td>0.0</td>\n",
              "      <td>0.0</td>\n",
              "      <td>0.0</td>\n",
              "      <td>0.0</td>\n",
              "      <td>0.0</td>\n",
              "      <td>0.0</td>\n",
              "      <td>0.0</td>\n",
              "      <td>0.0</td>\n",
              "      <td>0.0</td>\n",
              "      <td>0.0</td>\n",
              "      <td>0.0</td>\n",
              "      <td>0.0</td>\n",
              "      <td>0.0</td>\n",
              "      <td>0.0</td>\n",
              "      <td>0.0</td>\n",
              "      <td>0.0</td>\n",
              "      <td>0.0</td>\n",
              "      <td>0.0</td>\n",
              "      <td>0.0</td>\n",
              "      <td>0.0</td>\n",
              "      <td>0.0</td>\n",
              "      <td>0.0</td>\n",
              "      <td>0.0</td>\n",
              "      <td>0.0</td>\n",
              "      <td>0.0</td>\n",
              "      <td>0.0</td>\n",
              "      <td>0.0</td>\n",
              "      <td>0.0</td>\n",
              "      <td>0.0</td>\n",
              "      <td>0.0</td>\n",
              "      <td>0.0</td>\n",
              "      <td>0.0</td>\n",
              "      <td>0.0</td>\n",
              "      <td>0.0</td>\n",
              "      <td>0.0</td>\n",
              "      <td>0.0</td>\n",
              "      <td>0.0</td>\n",
              "      <td>0.0</td>\n",
              "      <td>0.0</td>\n",
              "    </tr>\n",
              "    <tr>\n",
              "      <th>1</th>\n",
              "      <td>seca</td>\n",
              "      <td>2.424498</td>\n",
              "      <td>0.0</td>\n",
              "      <td>0.0</td>\n",
              "      <td>0.0</td>\n",
              "      <td>0.0</td>\n",
              "      <td>0.000000</td>\n",
              "      <td>0.0</td>\n",
              "      <td>0.0</td>\n",
              "      <td>0.0</td>\n",
              "      <td>0.0</td>\n",
              "      <td>0.0</td>\n",
              "      <td>0.0</td>\n",
              "      <td>0.0</td>\n",
              "      <td>0.0</td>\n",
              "      <td>6.806426</td>\n",
              "      <td>0.0</td>\n",
              "      <td>0.0</td>\n",
              "      <td>0.0</td>\n",
              "      <td>0.0</td>\n",
              "      <td>0.0</td>\n",
              "      <td>0.0</td>\n",
              "      <td>0.0</td>\n",
              "      <td>0.0</td>\n",
              "      <td>0.0</td>\n",
              "      <td>0.0</td>\n",
              "      <td>0.0</td>\n",
              "      <td>0.0</td>\n",
              "      <td>0.0</td>\n",
              "      <td>0.0</td>\n",
              "      <td>0.0</td>\n",
              "      <td>0.0</td>\n",
              "      <td>0.0</td>\n",
              "      <td>0.0</td>\n",
              "      <td>0.0</td>\n",
              "      <td>0.0</td>\n",
              "      <td>0.0</td>\n",
              "      <td>0.0</td>\n",
              "      <td>0.0</td>\n",
              "      <td>0.0</td>\n",
              "      <td>0.0</td>\n",
              "      <td>0.0</td>\n",
              "      <td>0.0</td>\n",
              "      <td>0.0</td>\n",
              "      <td>0.0</td>\n",
              "      <td>0.0</td>\n",
              "      <td>0.0</td>\n",
              "      <td>0.0</td>\n",
              "      <td>0.0</td>\n",
              "      <td>0.0</td>\n",
              "      <td>0.0</td>\n",
              "      <td>0.0</td>\n",
              "      <td>0.0</td>\n",
              "      <td>0.0</td>\n",
              "      <td>0.0</td>\n",
              "      <td>0.0</td>\n",
              "      <td>0.0</td>\n",
              "      <td>0.0</td>\n",
              "      <td>0.0</td>\n",
              "      <td>0.0</td>\n",
              "    </tr>\n",
              "  </tbody>\n",
              "</table>\n",
              "</div>"
            ],
            "text/plain": [
              "  Terms      Freq    1    2    4    9  ...  101   49   84   93   95   97\n",
              "0  vida  0.944505  0.0  0.0  0.0  0.0  ...  0.0  0.0  0.0  0.0  0.0  0.0\n",
              "1  seca  2.424498  0.0  0.0  0.0  0.0  ...  0.0  0.0  0.0  0.0  0.0  0.0\n",
              "\n",
              "[2 rows x 60 columns]"
            ]
          },
          "metadata": {
            "tags": []
          },
          "execution_count": 335
        }
      ]
    },
    {
      "cell_type": "code",
      "metadata": {
        "id": "z18Bc7YNaaWF",
        "colab_type": "code",
        "outputId": "8d2b4242-2df5-4152-f852-64bf8c84c321",
        "colab": {
          "base_uri": "https://localhost:8080/",
          "height": 51
        }
      },
      "source": [
        "r_tfidf_fs = calc_rank(df_tfidf_fs, 'livre')\n",
        "print(r_tfidf_fs)"
      ],
      "execution_count": 336,
      "outputs": [
        {
          "output_type": "stream",
          "text": [
            "['26', '10', '1', '2', '4', '9', '12', '13', '14', '19']\n"
          ],
          "name": "stdout"
        },
        {
          "output_type": "stream",
          "text": [
            "/usr/local/lib/python3.6/dist-packages/ipykernel_launcher.py:22: RuntimeWarning: invalid value encountered in double_scalars\n"
          ],
          "name": "stderr"
        }
      ]
    },
    {
      "cell_type": "code",
      "metadata": {
        "id": "21qoXUtpjxHy",
        "colab_type": "code",
        "outputId": "b3efb62a-3f8c-40a9-fb01-37fc4b72bb16",
        "colab": {
          "base_uri": "https://localhost:8080/",
          "height": 224
        }
      },
      "source": [
        "rd_tfidf_fs = ranking_dictionary(r_tfidf_fs)\n",
        "print(rd_tfidf_fs)"
      ],
      "execution_count": 337,
      "outputs": [
        {
          "output_type": "stream",
          "text": [
            "  Graciliano Ramos\n",
            "Isaacson,Walter, Isaacson,Walter\n",
            "Monteiro Lobato\n",
            "John Van de Ruit\n",
            "Sigmund Freud\n",
            "Carroll,Lewis\n",
            "King,Stephen\n",
            "Unknown\n",
            "Adams,Douglas\n",
            "  Paulo Rezzutti\n",
            "[{'index': '26', 'title': 'vidas secas - 140ªed.(2019)', 'author': '  graciliano ramos'}, {'index': '10', 'title': 'steve jobs - a biografia', 'author': 'isaacson,walter, isaacson,walter'}, {'index': '1', 'title': 'box - as melhores aventuras do sítio do picapau amarelo', 'author': 'monteiro lobato'}, {'index': '2', 'title': 'cotoco. o diário de um garoto de 13 anos', 'author': 'john van de ruit'}, {'index': '4', 'title': 'freud (1900) a interpretação dos sonhos: obras completas volume 4', 'author': 'sigmund freud'}, {'index': '9', 'title': 'alice no país das maravilhas (classic edition)', 'author': 'carroll,lewis'}, {'index': '12', 'title': 'it - a coisa', 'author': 'king,stephen'}, {'index': '13', 'title': 'como fazer amigos e influenciar pessoas', 'author': 'unknown'}, {'index': '14', 'title': 'o guia do mochileiro das galáxias - série o mochileiro das galáxias - vol. 1', 'author': 'adams,douglas'}, {'index': '19', 'title': 'd. pedro ii a historia nao contada - o ultimo imperador do novo mundo revelado por cartas e documentos ineditos', 'author': '  paulo rezzutti'}]\n"
          ],
          "name": "stdout"
        }
      ]
    },
    {
      "cell_type": "markdown",
      "metadata": {
        "id": "nXKhZsXsPefj",
        "colab_type": "text"
      },
      "source": [
        "## Busca estruturada"
      ]
    },
    {
      "cell_type": "code",
      "metadata": {
        "id": "jYqNC6aCQTH-",
        "colab_type": "code",
        "outputId": "0b2bea82-3785-460c-85e6-4c1720d08915",
        "colab": {
          "base_uri": "https://localhost:8080/",
          "height": 235
        }
      },
      "source": [
        "sq = {\n",
        "    'title': 'sítio do picapau amarelo',\n",
        "    'author': 'monteiro lobato'\n",
        "}\n",
        "\n",
        "df_ss = structured_search(sq, df_campos)\n",
        "df_ss.head(n=10)"
      ],
      "execution_count": 338,
      "outputs": [
        {
          "output_type": "execute_result",
          "data": {
            "text/html": [
              "<div>\n",
              "<style scoped>\n",
              "    .dataframe tbody tr th:only-of-type {\n",
              "        vertical-align: middle;\n",
              "    }\n",
              "\n",
              "    .dataframe tbody tr th {\n",
              "        vertical-align: top;\n",
              "    }\n",
              "\n",
              "    .dataframe thead th {\n",
              "        text-align: right;\n",
              "    }\n",
              "</style>\n",
              "<table border=\"1\" class=\"dataframe\">\n",
              "  <thead>\n",
              "    <tr style=\"text-align: right;\">\n",
              "      <th></th>\n",
              "      <th>word</th>\n",
              "      <th>Field Text</th>\n",
              "      <th>Freq</th>\n",
              "      <th>Posting</th>\n",
              "      <th>Compress Posting</th>\n",
              "    </tr>\n",
              "  </thead>\n",
              "  <tbody>\n",
              "    <tr>\n",
              "      <th>0</th>\n",
              "      <td>306</td>\n",
              "      <td>sítio.title</td>\n",
              "      <td>1</td>\n",
              "      <td>[1]</td>\n",
              "      <td>[1]</td>\n",
              "    </tr>\n",
              "    <tr>\n",
              "      <th>1</th>\n",
              "      <td>58</td>\n",
              "      <td>capa.title</td>\n",
              "      <td>1</td>\n",
              "      <td>[45]</td>\n",
              "      <td>[45]</td>\n",
              "    </tr>\n",
              "    <tr>\n",
              "      <th>2</th>\n",
              "      <td>253</td>\n",
              "      <td>picapau.title</td>\n",
              "      <td>1</td>\n",
              "      <td>[1]</td>\n",
              "      <td>[1]</td>\n",
              "    </tr>\n",
              "    <tr>\n",
              "      <th>3</th>\n",
              "      <td>13</td>\n",
              "      <td>amarelo.title</td>\n",
              "      <td>1</td>\n",
              "      <td>[1]</td>\n",
              "      <td>[1]</td>\n",
              "    </tr>\n",
              "    <tr>\n",
              "      <th>4</th>\n",
              "      <td>147</td>\n",
              "      <td>monteiro.author</td>\n",
              "      <td>1</td>\n",
              "      <td>[1]</td>\n",
              "      <td>[1]</td>\n",
              "    </tr>\n",
              "    <tr>\n",
              "      <th>5</th>\n",
              "      <td>121</td>\n",
              "      <td>lobato.author</td>\n",
              "      <td>1</td>\n",
              "      <td>[1]</td>\n",
              "      <td>[1]</td>\n",
              "    </tr>\n",
              "  </tbody>\n",
              "</table>\n",
              "</div>"
            ],
            "text/plain": [
              "   word       Field Text  Freq Posting Compress Posting\n",
              "0   306      sítio.title     1     [1]              [1]\n",
              "1    58       capa.title     1    [45]             [45]\n",
              "2   253    picapau.title     1     [1]              [1]\n",
              "3    13    amarelo.title     1     [1]              [1]\n",
              "4   147  monteiro.author     1     [1]              [1]\n",
              "5   121    lobato.author     1     [1]              [1]"
            ]
          },
          "metadata": {
            "tags": []
          },
          "execution_count": 338
        }
      ]
    },
    {
      "cell_type": "code",
      "metadata": {
        "id": "D1e7U5dhrMHu",
        "colab_type": "code",
        "outputId": "e337ac10-0cba-41fa-ac28-cb1248801b21",
        "colab": {
          "base_uri": "https://localhost:8080/",
          "height": 34
        }
      },
      "source": [
        "dl_ss = docs_list_OR(df_ss)\n",
        "print(dl_ss)"
      ],
      "execution_count": 339,
      "outputs": [
        {
          "output_type": "stream",
          "text": [
            "['1', '45']\n"
          ],
          "name": "stdout"
        }
      ]
    },
    {
      "cell_type": "markdown",
      "metadata": {
        "id": "XKXUEW5nOxRH",
        "colab_type": "text"
      },
      "source": [
        "### Usando a frequência (tf)"
      ]
    },
    {
      "cell_type": "code",
      "metadata": {
        "id": "O_IB5LpD7kX6",
        "colab_type": "code",
        "outputId": "5d361d1d-abea-4c42-d3a8-3a5d9021e0ef",
        "colab": {
          "base_uri": "https://localhost:8080/",
          "height": 235
        }
      },
      "source": [
        "df_f_ss = calc_freq(dl_ss, df_ss, 'estruturada', getValues(sq))\n",
        "df_f_ss.head(n=10)"
      ],
      "execution_count": 340,
      "outputs": [
        {
          "output_type": "execute_result",
          "data": {
            "text/html": [
              "<div>\n",
              "<style scoped>\n",
              "    .dataframe tbody tr th:only-of-type {\n",
              "        vertical-align: middle;\n",
              "    }\n",
              "\n",
              "    .dataframe tbody tr th {\n",
              "        vertical-align: top;\n",
              "    }\n",
              "\n",
              "    .dataframe thead th {\n",
              "        text-align: right;\n",
              "    }\n",
              "</style>\n",
              "<table border=\"1\" class=\"dataframe\">\n",
              "  <thead>\n",
              "    <tr style=\"text-align: right;\">\n",
              "      <th></th>\n",
              "      <th>Field Text</th>\n",
              "      <th>Freq</th>\n",
              "      <th>1</th>\n",
              "      <th>45</th>\n",
              "    </tr>\n",
              "  </thead>\n",
              "  <tbody>\n",
              "    <tr>\n",
              "      <th>0</th>\n",
              "      <td>sítio.title</td>\n",
              "      <td>1.0</td>\n",
              "      <td>0.0</td>\n",
              "      <td>0.0</td>\n",
              "    </tr>\n",
              "    <tr>\n",
              "      <th>1</th>\n",
              "      <td>capa.title</td>\n",
              "      <td>1.0</td>\n",
              "      <td>0.0</td>\n",
              "      <td>0.0</td>\n",
              "    </tr>\n",
              "    <tr>\n",
              "      <th>2</th>\n",
              "      <td>picapau.title</td>\n",
              "      <td>1.0</td>\n",
              "      <td>0.0</td>\n",
              "      <td>0.0</td>\n",
              "    </tr>\n",
              "    <tr>\n",
              "      <th>3</th>\n",
              "      <td>amarelo.title</td>\n",
              "      <td>1.0</td>\n",
              "      <td>0.0</td>\n",
              "      <td>0.0</td>\n",
              "    </tr>\n",
              "    <tr>\n",
              "      <th>4</th>\n",
              "      <td>monteiro.author</td>\n",
              "      <td>1.0</td>\n",
              "      <td>0.0</td>\n",
              "      <td>0.0</td>\n",
              "    </tr>\n",
              "    <tr>\n",
              "      <th>5</th>\n",
              "      <td>lobato.author</td>\n",
              "      <td>1.0</td>\n",
              "      <td>0.0</td>\n",
              "      <td>0.0</td>\n",
              "    </tr>\n",
              "  </tbody>\n",
              "</table>\n",
              "</div>"
            ],
            "text/plain": [
              "        Field Text  Freq    1   45\n",
              "0      sítio.title   1.0  0.0  0.0\n",
              "1       capa.title   1.0  0.0  0.0\n",
              "2    picapau.title   1.0  0.0  0.0\n",
              "3    amarelo.title   1.0  0.0  0.0\n",
              "4  monteiro.author   1.0  0.0  0.0\n",
              "5    lobato.author   1.0  0.0  0.0"
            ]
          },
          "metadata": {
            "tags": []
          },
          "execution_count": 340
        }
      ]
    },
    {
      "cell_type": "code",
      "metadata": {
        "id": "0feuPogXImqL",
        "colab_type": "code",
        "outputId": "8e2621b0-594e-48ee-dabe-2844b84802ec",
        "colab": {
          "base_uri": "https://localhost:8080/",
          "height": 51
        }
      },
      "source": [
        "r_f_ss = calc_rank(df_f_ss, 'estruturada')\n",
        "print(r_f_ss)"
      ],
      "execution_count": 341,
      "outputs": [
        {
          "output_type": "stream",
          "text": [
            "['1', '45']\n"
          ],
          "name": "stdout"
        },
        {
          "output_type": "stream",
          "text": [
            "/usr/local/lib/python3.6/dist-packages/ipykernel_launcher.py:22: RuntimeWarning: invalid value encountered in double_scalars\n"
          ],
          "name": "stderr"
        }
      ]
    },
    {
      "cell_type": "code",
      "metadata": {
        "id": "oKYRYGbKj0Rm",
        "colab_type": "code",
        "outputId": "d9ceb8f0-ac6f-411c-8755-b018c67e84b4",
        "colab": {
          "base_uri": "https://localhost:8080/",
          "height": 88
        }
      },
      "source": [
        "rd_f_ss = ranking_dictionary(r_f_ss)\n",
        "print(rd_f_ss)"
      ],
      "execution_count": 342,
      "outputs": [
        {
          "output_type": "stream",
          "text": [
            "Monteiro Lobato\n",
            "Johan Van Lengen\n",
            "[{'index': '1', 'title': 'box - as melhores aventuras do sítio do picapau amarelo', 'author': 'monteiro lobato'}, {'index': '45', 'title': 'manual do arquiteto descalço - capa dura', 'author': 'johan van lengen'}]\n"
          ],
          "name": "stdout"
        }
      ]
    },
    {
      "cell_type": "markdown",
      "metadata": {
        "id": "bPj5AgWnO0ub",
        "colab_type": "text"
      },
      "source": [
        "### Usando tf-idf"
      ]
    },
    {
      "cell_type": "code",
      "metadata": {
        "id": "7mFNB6lDNS1m",
        "colab_type": "code",
        "outputId": "5f5a2439-9af6-49f5-d9f5-f84324708545",
        "colab": {
          "base_uri": "https://localhost:8080/",
          "height": 235
        }
      },
      "source": [
        "df_tfidf_ss = calc_freq(dl_ss, df_ss, 'estruturada', getValues(sq))\n",
        "df_tfidf_ss = calc_tfidf(df_tfidf_ss)\n",
        "df_tfidf_ss.head(n=10)"
      ],
      "execution_count": 346,
      "outputs": [
        {
          "output_type": "execute_result",
          "data": {
            "text/html": [
              "<div>\n",
              "<style scoped>\n",
              "    .dataframe tbody tr th:only-of-type {\n",
              "        vertical-align: middle;\n",
              "    }\n",
              "\n",
              "    .dataframe tbody tr th {\n",
              "        vertical-align: top;\n",
              "    }\n",
              "\n",
              "    .dataframe thead th {\n",
              "        text-align: right;\n",
              "    }\n",
              "</style>\n",
              "<table border=\"1\" class=\"dataframe\">\n",
              "  <thead>\n",
              "    <tr style=\"text-align: right;\">\n",
              "      <th></th>\n",
              "      <th>Field Text</th>\n",
              "      <th>Freq</th>\n",
              "      <th>1</th>\n",
              "      <th>45</th>\n",
              "    </tr>\n",
              "  </thead>\n",
              "  <tbody>\n",
              "    <tr>\n",
              "      <th>0</th>\n",
              "      <td>sítio.title</td>\n",
              "      <td>6.672425</td>\n",
              "      <td>0.0</td>\n",
              "      <td>0.0</td>\n",
              "    </tr>\n",
              "    <tr>\n",
              "      <th>1</th>\n",
              "      <td>capa.title</td>\n",
              "      <td>6.672425</td>\n",
              "      <td>0.0</td>\n",
              "      <td>0.0</td>\n",
              "    </tr>\n",
              "    <tr>\n",
              "      <th>2</th>\n",
              "      <td>picapau.title</td>\n",
              "      <td>6.672425</td>\n",
              "      <td>0.0</td>\n",
              "      <td>0.0</td>\n",
              "    </tr>\n",
              "    <tr>\n",
              "      <th>3</th>\n",
              "      <td>amarelo.title</td>\n",
              "      <td>6.672425</td>\n",
              "      <td>0.0</td>\n",
              "      <td>0.0</td>\n",
              "    </tr>\n",
              "    <tr>\n",
              "      <th>4</th>\n",
              "      <td>monteiro.author</td>\n",
              "      <td>6.672425</td>\n",
              "      <td>0.0</td>\n",
              "      <td>0.0</td>\n",
              "    </tr>\n",
              "    <tr>\n",
              "      <th>5</th>\n",
              "      <td>lobato.author</td>\n",
              "      <td>6.672425</td>\n",
              "      <td>0.0</td>\n",
              "      <td>0.0</td>\n",
              "    </tr>\n",
              "  </tbody>\n",
              "</table>\n",
              "</div>"
            ],
            "text/plain": [
              "        Field Text      Freq    1   45\n",
              "0      sítio.title  6.672425  0.0  0.0\n",
              "1       capa.title  6.672425  0.0  0.0\n",
              "2    picapau.title  6.672425  0.0  0.0\n",
              "3    amarelo.title  6.672425  0.0  0.0\n",
              "4  monteiro.author  6.672425  0.0  0.0\n",
              "5    lobato.author  6.672425  0.0  0.0"
            ]
          },
          "metadata": {
            "tags": []
          },
          "execution_count": 346
        }
      ]
    },
    {
      "cell_type": "code",
      "metadata": {
        "id": "MkQL_gfBPEpa",
        "colab_type": "code",
        "outputId": "b091e300-ac19-44a9-85e7-a321fada105b",
        "colab": {
          "base_uri": "https://localhost:8080/",
          "height": 51
        }
      },
      "source": [
        "r_tfidf_ss = calc_rank(df_tfidf_ss, 'estruturada')\n",
        "print(r_tfidf_ss)"
      ],
      "execution_count": 347,
      "outputs": [
        {
          "output_type": "stream",
          "text": [
            "['1', '45']\n"
          ],
          "name": "stdout"
        },
        {
          "output_type": "stream",
          "text": [
            "/usr/local/lib/python3.6/dist-packages/ipykernel_launcher.py:22: RuntimeWarning: invalid value encountered in double_scalars\n"
          ],
          "name": "stderr"
        }
      ]
    },
    {
      "cell_type": "code",
      "metadata": {
        "id": "M0I6Y9EnQJGQ",
        "colab_type": "code",
        "outputId": "43fbecda-4788-4e69-83af-4201c096eed2",
        "colab": {
          "base_uri": "https://localhost:8080/",
          "height": 88
        }
      },
      "source": [
        "rd_tfidf_ss = ranking_dictionary(r_tfidf_ss)\n",
        "print(rd_tfidf_ss)"
      ],
      "execution_count": 348,
      "outputs": [
        {
          "output_type": "stream",
          "text": [
            "Monteiro Lobato\n",
            "Johan Van Lengen\n",
            "[{'index': '1', 'title': 'box - as melhores aventuras do sítio do picapau amarelo', 'author': 'monteiro lobato'}, {'index': '45', 'title': 'manual do arquiteto descalço - capa dura', 'author': 'johan van lengen'}]\n"
          ],
          "name": "stdout"
        }
      ]
    },
    {
      "cell_type": "markdown",
      "metadata": {
        "id": "_K5JSNM2u3ul",
        "colab_type": "text"
      },
      "source": [
        "## Correlação de consultas"
      ]
    },
    {
      "cell_type": "code",
      "metadata": {
        "id": "dpb9erViCw05",
        "colab_type": "code",
        "colab": {}
      },
      "source": [
        "#queries\n",
        "\n",
        "query1 = 'diário de um garoto'\n",
        "query2 = 'vidas secas'\n",
        "query3 = 'universo'\n",
        "query4 = 'redes de computadores'\n",
        "query5 = 'stephen king'"
      ],
      "execution_count": 0,
      "outputs": []
    },
    {
      "cell_type": "code",
      "metadata": {
        "id": "wbT72yNKu7Iu",
        "colab_type": "code",
        "outputId": "0d341fc0-3803-42a4-d133-8a7afa666121",
        "colab": {
          "base_uri": "https://localhost:8080/",
          "height": 85
        }
      },
      "source": [
        "#computando query 1\n",
        "df_q1 = free_search(query1,df_indice)\n",
        "dl_q1 = docs_list_OR(df_q1)\n",
        "\n",
        "#calculo do ranking usando tf para query 1\n",
        "df_tf_q1 = calc_freq(dl_q1, df_q1, 'livre', handlingQuery(query1))\n",
        "r_tf_q1 = calc_rank(df_tf_q1, 'livre')\n",
        "print('Ranking query 1 usando tf: ', r_tf_q1) \n",
        "\n",
        "#calculo do ranking usando tf-idf para query1\n",
        "df_tfidf_q1 = calc_freq(dl_q1, df_q1, 'livre', handlingQuery(query1))\n",
        "df_tfidf_q1 = calc_tfidf(df_tfidf_q1)\n",
        "r_tfidf_q1 = calc_rank(df_tfidf_q1, 'livre')\n",
        "print('Ranking query 1 usando tf-idf: ', r_tfidf_q1)\n",
        "\n",
        "cp1 = calc_spearman(r_tf_q1, r_tfidf_q1)\n",
        "print('Correlação entre rankings por tf e tf-idf: ', cp1)"
      ],
      "execution_count": 354,
      "outputs": [
        {
          "output_type": "stream",
          "text": [
            "/usr/local/lib/python3.6/dist-packages/ipykernel_launcher.py:22: RuntimeWarning: invalid value encountered in double_scalars\n"
          ],
          "name": "stderr"
        },
        {
          "output_type": "stream",
          "text": [
            "Ranking query 1 usando tf:  ['2', '9', '69', '27', '66', '92', '1', '10', '11', '12']\n",
            "Ranking query 1 usando tf-idf:  ['2', '9', '27', '66', '69', '92', '1', '10', '11', '12']\n",
            "Correlação entre rankings por tf e tf-idf:  0.9636363636363636\n"
          ],
          "name": "stdout"
        }
      ]
    },
    {
      "cell_type": "code",
      "metadata": {
        "id": "XHVHmTvZxVNe",
        "colab_type": "code",
        "outputId": "f380a110-89ca-47a9-d83c-aef2e99ca561",
        "colab": {
          "base_uri": "https://localhost:8080/",
          "height": 85
        }
      },
      "source": [
        "#computando query 2\n",
        "df_q2 = free_search(query2,df_indice)\n",
        "dl_q2 = docs_list_OR(df_q2)\n",
        "\n",
        "#calculo do ranking usando tf para query 2\n",
        "df_tf_q2 = calc_freq(dl_q2, df_q2, 'livre', handlingQuery(query2))\n",
        "r_tf_q2 = calc_rank(df_tf_q2, 'livre')\n",
        "print('Ranking query 2 usando tf: ', r_tf_q2)\n",
        "\n",
        "#calculo do ranking usando tf-idf para query 2\n",
        "df_tfidf_q2 = calc_freq(dl_q2, df_q2, 'livre', handlingQuery(query2))\n",
        "df_tfidf_q2 = calc_tfidf(df_tfidf_q2)\n",
        "r_tfidf_q2 = calc_rank(df_tfidf_q2, 'livre')\n",
        "print('Ranking query 2 usando tf-idf: ', r_tfidf_q2)\n",
        "\n",
        "cp2 = calc_spearman(r_tf_q2, r_tfidf_q2)\n",
        "print('Correlação entre rankings por tf e tf-idf: ', cp2)"
      ],
      "execution_count": 356,
      "outputs": [
        {
          "output_type": "stream",
          "text": [
            "/usr/local/lib/python3.6/dist-packages/ipykernel_launcher.py:22: RuntimeWarning: invalid value encountered in double_scalars\n"
          ],
          "name": "stderr"
        },
        {
          "output_type": "stream",
          "text": [
            "Ranking query 2 usando tf:  ['26', '10', '1', '2', '4', '9', '12', '13', '14', '19']\n",
            "Ranking query 2 usando tf-idf:  ['26', '10', '1', '2', '4', '9', '12', '13', '14', '19']\n",
            "Correlação entre rankings por tf e tf-idf:  1.0\n"
          ],
          "name": "stdout"
        }
      ]
    },
    {
      "cell_type": "code",
      "metadata": {
        "id": "BfzXMwqPx15N",
        "colab_type": "code",
        "outputId": "680561ca-3ec7-4198-9a49-b8e56164880f",
        "colab": {
          "base_uri": "https://localhost:8080/",
          "height": 85
        }
      },
      "source": [
        "#computando query 3\n",
        "df_q3 = free_search(query3,df_indice)\n",
        "dl_q3 = docs_list_OR(df_q3)\n",
        "\n",
        "#calculo do ranking usando tf para query 3\n",
        "df_tf_q3 = calc_freq(dl_q3, df_q3, 'livre', handlingQuery(query3))\n",
        "r_tf_q3 = calc_rank(df_tf_q3, 'livre')\n",
        "print('Ranking query 3 usando tf: ', r_tf_q3)\n",
        "\n",
        "#calculo do ranking usando tf-idf para query 3\n",
        "df_tfidf_q3 = calc_freq(dl_q3, df_q3, 'livre', handlingQuery(query3))\n",
        "df_tfidf_q3 = calc_tfidf(df_tfidf_q3)\n",
        "r_tfidf_q3 = calc_rank(df_tfidf_q3, 'livre')\n",
        "print('Ranking query 3 usando tf-idf: ', r_tfidf_q3)\n",
        "\n",
        "cp3 = calc_spearman(r_tf_q3, r_tfidf_q3)\n",
        "print('Correlação entre rankings por tf e tf-idf: ', cp3)"
      ],
      "execution_count": 357,
      "outputs": [
        {
          "output_type": "stream",
          "text": [
            "/usr/local/lib/python3.6/dist-packages/ipykernel_launcher.py:22: RuntimeWarning: invalid value encountered in double_scalars\n"
          ],
          "name": "stderr"
        },
        {
          "output_type": "stream",
          "text": [
            "Ranking query 3 usando tf:  ['3', '10', '14', '16', '17', '34', '78', '92', '94', '96']\n",
            "Ranking query 3 usando tf-idf:  ['3', '10', '14', '16', '17', '34', '78', '92', '94', '96']\n",
            "Correlação entre rankings por tf e tf-idf:  1.0\n"
          ],
          "name": "stdout"
        }
      ]
    },
    {
      "cell_type": "code",
      "metadata": {
        "id": "3xnidQZEyEjm",
        "colab_type": "code",
        "outputId": "df23839e-603e-425a-9303-104b5ad54831",
        "colab": {
          "base_uri": "https://localhost:8080/",
          "height": 85
        }
      },
      "source": [
        "#computando query 4\n",
        "df_q4 = free_search(query4,df_indice)\n",
        "dl_q4 = docs_list_OR(df_q4)\n",
        "\n",
        "#calculo do ranking usando tf para query 4\n",
        "df_tf_q4 = calc_freq(dl_q4, df_q4, 'livre', handlingQuery(query4))\n",
        "r_tf_q4 = calc_rank(df_tf_q4, 'livre')\n",
        "print('Ranking query 4 usando tf: ', r_tf_q4)\n",
        "\n",
        "#calculo do ranking usando tf-idf para query 4\n",
        "df_tfidf_q4 = calc_freq(dl_q4, df_q4, 'livre', handlingQuery(query4))\n",
        "df_tfidf_q4 = calc_tfidf(df_tfidf_q4)\n",
        "r_tfidf_q4 = calc_rank(df_tfidf_q4, 'livre')\n",
        "print('Ranking query 4 usando tf-idf: ', r_tfidf_q4)\n",
        "\n",
        "cp4 = calc_spearman(r_tf_q4, r_tfidf_q4)\n",
        "print('Correlação entre rankings por tf e tf-idf: ', cp4)"
      ],
      "execution_count": 358,
      "outputs": [
        {
          "output_type": "stream",
          "text": [
            "/usr/local/lib/python3.6/dist-packages/ipykernel_launcher.py:22: RuntimeWarning: invalid value encountered in double_scalars\n"
          ],
          "name": "stderr"
        },
        {
          "output_type": "stream",
          "text": [
            "Ranking query 4 usando tf:  ['7', '82', '83', '84', '85', '86', '87', '88', '89', '90']\n",
            "Ranking query 4 usando tf-idf:  ['7', '82', '83', '84', '85', '86', '87', '88', '89', '90']\n",
            "Correlação entre rankings por tf e tf-idf:  1.0\n"
          ],
          "name": "stdout"
        }
      ]
    },
    {
      "cell_type": "code",
      "metadata": {
        "id": "Hj4as0WmyeuU",
        "colab_type": "code",
        "outputId": "0f9360d1-47d0-4ccc-cd2a-221b46b33d03",
        "colab": {
          "base_uri": "https://localhost:8080/",
          "height": 85
        }
      },
      "source": [
        "#computando query 5\n",
        "df_q5 = free_search(query5,df_indice)\n",
        "dl_q5 = docs_list_OR(df_q5)\n",
        "\n",
        "#calculo do ranking usando tf para query 5\n",
        "df_tf_q5 = calc_freq(dl_q5, df_q5, 'livre', handlingQuery(query5))\n",
        "r_tf_q5 = calc_rank(df_tf_q5, 'livre')\n",
        "print('Ranking query 5 usando tf: ', r_tf_q5)\n",
        "\n",
        "#calculo do ranking usando tf-idf para query 5\n",
        "df_tfidf_q5 = calc_freq(dl_q5, df_q5, 'livre', handlingQuery(query5))\n",
        "df_tfidf_q5 = calc_tfidf(df_tfidf_q5)\n",
        "r_tfidf_q5 = calc_rank(df_tfidf_q5, 'livre')\n",
        "print('Ranking query 5 usando tf-idf: ', r_tfidf_q5)\n",
        "\n",
        "#calculo da correlação entre rankings\n",
        "cp5 = calc_spearman(r_tf_q5, r_tfidf_q5)\n",
        "print('Correlação entre rankings por tf e tf-idf: ', cp)"
      ],
      "execution_count": 359,
      "outputs": [
        {
          "output_type": "stream",
          "text": [
            "/usr/local/lib/python3.6/dist-packages/ipykernel_launcher.py:22: RuntimeWarning: invalid value encountered in double_scalars\n"
          ],
          "name": "stderr"
        },
        {
          "output_type": "stream",
          "text": [
            "Ranking query 5 usando tf:  ['83', '92', '93', '94', '95', '97', '98', '99', '12', '100']\n",
            "Ranking query 5 usando tf-idf:  ['83', '92', '93', '94', '95', '97', '98', '99', '12', '100']\n",
            "Correlação entre rankings por tf e tf-idf:  1.0\n"
          ],
          "name": "stdout"
        }
      ]
    }
  ]
}