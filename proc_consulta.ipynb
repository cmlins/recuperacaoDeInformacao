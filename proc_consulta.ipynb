{
  "nbformat": 4,
  "nbformat_minor": 0,
  "metadata": {
    "colab": {
      "name": "proc-consulta.ipynb",
      "provenance": [],
      "collapsed_sections": [
        "BC7LP_8b5weU",
        "F17dXwQY51ze",
        "jpvclg2sPoPU"
      ],
      "include_colab_link": true
    },
    "kernelspec": {
      "name": "python3",
      "display_name": "Python 3"
    }
  },
  "cells": [
    {
      "cell_type": "markdown",
      "metadata": {
        "id": "view-in-github",
        "colab_type": "text"
      },
      "source": [
        "<a href=\"https://colab.research.google.com/github/cmlins/recuperacaoDeInformacao/blob/master/proc_consulta.ipynb\" target=\"_parent\"><img src=\"https://colab.research.google.com/assets/colab-badge.svg\" alt=\"Open In Colab\"/></a>"
      ]
    },
    {
      "cell_type": "code",
      "metadata": {
        "id": "Yg1Zldzn83sU",
        "colab_type": "code",
        "colab": {}
      },
      "source": [
        "import pandas as pd\n",
        "import numpy as np\n",
        "import math\n",
        "\n",
        "from bs4 import BeautifulSoup as bs\n",
        "from bs4 import UnicodeDammit"
      ],
      "execution_count": 0,
      "outputs": []
    },
    {
      "cell_type": "code",
      "metadata": {
        "id": "idW0tzZy97j0",
        "colab_type": "code",
        "outputId": "8ab22e10-75f9-4ce0-a334-eab5b02c33ed",
        "colab": {
          "base_uri": "https://localhost:8080/",
          "height": 34
        }
      },
      "source": [
        "from google.colab import drive\n",
        "drive.mount('/content/drive', force_remount=True)"
      ],
      "execution_count": 520,
      "outputs": [
        {
          "output_type": "stream",
          "text": [
            "Mounted at /content/drive\n"
          ],
          "name": "stdout"
        }
      ]
    },
    {
      "cell_type": "code",
      "metadata": {
        "id": "00GLyKPppfbG",
        "colab_type": "code",
        "colab": {
          "base_uri": "https://localhost:8080/",
          "height": 306
        },
        "outputId": "725a6cb2-e5e6-495d-dd03-b6cd2d620d91"
      },
      "source": [
        "df_ed = pd.read_csv('/content/drive/My Drive/dfs_tot (1).csv')\n",
        "df_ed.head()"
      ],
      "execution_count": 521,
      "outputs": [
        {
          "output_type": "execute_result",
          "data": {
            "text/html": [
              "<div>\n",
              "<style scoped>\n",
              "    .dataframe tbody tr th:only-of-type {\n",
              "        vertical-align: middle;\n",
              "    }\n",
              "\n",
              "    .dataframe tbody tr th {\n",
              "        vertical-align: top;\n",
              "    }\n",
              "\n",
              "    .dataframe thead th {\n",
              "        text-align: right;\n",
              "    }\n",
              "</style>\n",
              "<table border=\"1\" class=\"dataframe\">\n",
              "  <thead>\n",
              "    <tr style=\"text-align: right;\">\n",
              "      <th></th>\n",
              "      <th>Título</th>\n",
              "      <th>Autor</th>\n",
              "      <th>Nº Páginas</th>\n",
              "      <th>Editora</th>\n",
              "      <th>Idioma</th>\n",
              "      <th>Acabamento</th>\n",
              "      <th>ISBN</th>\n",
              "      <th>Documento</th>\n",
              "    </tr>\n",
              "  </thead>\n",
              "  <tbody>\n",
              "    <tr>\n",
              "      <th>0</th>\n",
              "      <td>1808: Como uma rainha</td>\n",
              "      <td>Laurentino Gomes</td>\n",
              "      <td>384</td>\n",
              "      <td>Globo Livros</td>\n",
              "      <td>(Português)</td>\n",
              "      <td>Capa Comum</td>\n",
              "      <td>978-8525057518</td>\n",
              "      <td>/content/drive/My Drive/9periodo/Recuperação...</td>\n",
              "    </tr>\n",
              "    <tr>\n",
              "      <th>1</th>\n",
              "      <td>Box - As Melhores Aventuras Do Sítio Do Picapa...</td>\n",
              "      <td>Monteiro Lobato</td>\n",
              "      <td>640</td>\n",
              "      <td>Nova Fronteira</td>\n",
              "      <td>(Português)</td>\n",
              "      <td>Capa dura</td>\n",
              "      <td>978-8520943519</td>\n",
              "      <td>/content/drive/My Drive/9periodo/Recuperação...</td>\n",
              "    </tr>\n",
              "    <tr>\n",
              "      <th>2</th>\n",
              "      <td>Cotoco. O Diário De Um Garoto De 13 Anos</td>\n",
              "      <td>John Van de Ruit</td>\n",
              "      <td>390</td>\n",
              "      <td>Intrínseca</td>\n",
              "      <td>(Português)</td>\n",
              "      <td>Capa Comum</td>\n",
              "      <td>978-8598078854</td>\n",
              "      <td>/content/drive/My Drive/9periodo/Recuperação...</td>\n",
              "    </tr>\n",
              "    <tr>\n",
              "      <th>3</th>\n",
              "      <td>Doctor Who: 12 Doutores, 12 histórias</td>\n",
              "      <td>Alex Scarrow</td>\n",
              "      <td>480</td>\n",
              "      <td>Fantástica Rocco</td>\n",
              "      <td>(Português)</td>\n",
              "      <td>Capa Comum</td>\n",
              "      <td>978-8568263044</td>\n",
              "      <td>/content/drive/My Drive/9periodo/Recuperação...</td>\n",
              "    </tr>\n",
              "    <tr>\n",
              "      <th>4</th>\n",
              "      <td>Freud (1900) A interpretação dos sonhos: Obras...</td>\n",
              "      <td>Sigmund Freud</td>\n",
              "      <td>736</td>\n",
              "      <td>Companhia das Letras</td>\n",
              "      <td>(Português)</td>\n",
              "      <td>Capa dura</td>\n",
              "      <td>978-8535932218</td>\n",
              "      <td>/content/drive/My Drive/9periodo/Recuperação...</td>\n",
              "    </tr>\n",
              "  </tbody>\n",
              "</table>\n",
              "</div>"
            ],
            "text/plain": [
              "                                              Título  ...                                          Documento\n",
              "0                              1808: Como uma rainha  ...  /content/drive/My Drive/9periodo/Recuperação...\n",
              "1  Box - As Melhores Aventuras Do Sítio Do Picapa...  ...  /content/drive/My Drive/9periodo/Recuperação...\n",
              "2           Cotoco. O Diário De Um Garoto De 13 Anos  ...  /content/drive/My Drive/9periodo/Recuperação...\n",
              "3              Doctor Who: 12 Doutores, 12 histórias  ...  /content/drive/My Drive/9periodo/Recuperação...\n",
              "4  Freud (1900) A interpretação dos sonhos: Obras...  ...  /content/drive/My Drive/9periodo/Recuperação...\n",
              "\n",
              "[5 rows x 8 columns]"
            ]
          },
          "metadata": {
            "tags": []
          },
          "execution_count": 521
        }
      ]
    },
    {
      "cell_type": "code",
      "metadata": {
        "id": "t-BfeRQTpvkA",
        "colab_type": "code",
        "colab": {
          "base_uri": "https://localhost:8080/",
          "height": 54
        },
        "outputId": "dc0e3860-f059-46f8-b18f-512e62e30539"
      },
      "source": [
        "table_1.at[1, 'Documento']"
      ],
      "execution_count": 522,
      "outputs": [
        {
          "output_type": "execute_result",
          "data": {
            "text/plain": [
              "'/content/drive/My Drive/9periodo/Recuperação de Informação/SITES BAIXADOS (Cris)/Amazon/Positivas/Box - As Melhores Aventuras Do Sítio Do Picapau Amarelo Monteiro Lobato Amazon.com.br.html'"
            ]
          },
          "metadata": {
            "tags": []
          },
          "execution_count": 522
        }
      ]
    },
    {
      "cell_type": "markdown",
      "metadata": {
        "id": "LsXqZMt25kA6",
        "colab_type": "text"
      },
      "source": [
        "# Funções"
      ]
    },
    {
      "cell_type": "markdown",
      "metadata": {
        "id": "NO_fCKAo5pia",
        "colab_type": "text"
      },
      "source": [
        "## Parse HTML"
      ]
    },
    {
      "cell_type": "code",
      "metadata": {
        "id": "DxxL1-lIPZ-n",
        "colab_type": "code",
        "colab": {}
      },
      "source": [
        "symbolsToReplace = [\n",
        "    '(', ')', '!', '?', ':', ';', '*', '.', ',', '★', '|', '+', '[', ']', '{', '}', '/', 'ª', 'º', '°', '-',\n",
        "    '%', '—', '@', '#',  '\\\"','\\'', '<', '>', '=', '´', '`', '“', '$', '&', '’', '¡', '€', 'µ', '¦',\n",
        "    '\\\\', '®', '™', '”', '…', '‘', '•', '😍','😙', '❤', '–', '⭐️', '_', '️⭐', '😉', '👏', '¹', '²', '³',\n",
        "    \"£\", '¢', '¬', '§', '~', '^', '×', '÷',\n",
        "    '\\u200c', '\\u200f', '\\u200e', '\\t', '\\xa0', '\\x03', '\\u0301', '\\u0303'\n",
        "]\n",
        "\n",
        "allowedSmallTokens = [\n",
        "  'fio', 'box', 'god', 'key', 'bit', 'led', 'faq', 'dog', 'sim', 'ovo', 'pão', 'aba', 'new'\n",
        "]"
      ],
      "execution_count": 0,
      "outputs": []
    },
    {
      "cell_type": "code",
      "metadata": {
        "id": "JbvXBmpYOeFI",
        "colab_type": "code",
        "colab": {}
      },
      "source": [
        "def getAndCleanHTML(filepath):\n",
        "  \n",
        "  page = open(filepath, \"rb\")\n",
        "\n",
        "  page = page.read()\n",
        "\n",
        "  clearPage = UnicodeDammit.detwingle(page)\n",
        "  \n",
        "  doc = bs(clearPage, 'lxml')\n",
        "  \n",
        "  for script in doc([\"script\", \"style\"]):\n",
        "    script.extract()\n",
        "  \n",
        "  docText = doc.get_text(' ')\n",
        "  \n",
        "  docText = docText.translate({ord(ch): None for ch in '0123456789'})\n",
        "  \n",
        "  docText = docText.lower()\n",
        "  \n",
        "  docText = docText.replace(\"e-book\", \"ebook\")\n",
        "\n",
        "  docText = docText.replace(\"blu-ray\", \"bluray\")\n",
        "  \n",
        "  for symbol in symbolsToReplace:\n",
        "    docText = docText.replace(symbol, ' ')\n",
        "  \n",
        "  docText = docText.replace(\"  \", ' ')\n",
        "  \n",
        "  lines = (line.strip() for line in docText.splitlines())\n",
        "  \n",
        "  chunks = (phrase.strip() for line in lines for phrase in line.split(' '))\n",
        "\n",
        "  text = ' '.join(chunk for chunk in chunks if chunk)\n",
        "  \n",
        "  return text"
      ],
      "execution_count": 0,
      "outputs": []
    },
    {
      "cell_type": "markdown",
      "metadata": {
        "id": "BC7LP_8b5weU",
        "colab_type": "text"
      },
      "source": [
        "## Searching Index"
      ]
    },
    {
      "cell_type": "code",
      "metadata": {
        "id": "qIaJXNHhWsD5",
        "colab_type": "code",
        "colab": {}
      },
      "source": [
        "def handlingQuery(query):\n",
        "  hq = query.split()\n",
        "  return hq"
      ],
      "execution_count": 0,
      "outputs": []
    },
    {
      "cell_type": "code",
      "metadata": {
        "id": "KI1V44ti_Spr",
        "colab_type": "code",
        "colab": {}
      },
      "source": [
        "def getValues(query):\n",
        "  rl = list()\n",
        "  for i in query:\n",
        "    wl = query[i].split(' ')\n",
        "    for w in wl:\n",
        "      rl.append(w)\n",
        "  return rl"
      ],
      "execution_count": 0,
      "outputs": []
    },
    {
      "cell_type": "code",
      "metadata": {
        "id": "n4t6OcJQUCY5",
        "colab_type": "code",
        "colab": {}
      },
      "source": [
        "def free_search(q, indice):\n",
        "  hq = handlingQuery(q)\n",
        "  df_search = pd.DataFrame()\n",
        "  for q in hq:\n",
        "    for w in indice['Terms'].values:\n",
        "      if (w in q) or (w == q):\n",
        "        df_search = df_search.append(indice[indice['Terms'] == w], ignore_index=True)\n",
        "  return df_search"
      ],
      "execution_count": 0,
      "outputs": []
    },
    {
      "cell_type": "code",
      "metadata": {
        "id": "zqjr8TZL5JD9",
        "colab_type": "code",
        "colab": {}
      },
      "source": [
        "def structured_search(sq, indice):\n",
        "  df_search = pd.DataFrame()\n",
        "  for i in sq:\n",
        "    values_sq = sq[i].split(' ')\n",
        "    for v in values_sq:\n",
        "      for r in range(len(df_campos)):\n",
        "        sr = df_campos.at[r, 'Field Text'].split('.')\n",
        "        if (sr[0] in v) and (sr[1] == i):\n",
        "          df_search = df_search.append(df_campos[df_campos['Field Text'] == sr[0] + '.' + sr[1]], ignore_index=True)\n",
        "  return df_search"
      ],
      "execution_count": 0,
      "outputs": []
    },
    {
      "cell_type": "code",
      "metadata": {
        "id": "ujxc9R8kC_Fn",
        "colab_type": "code",
        "colab": {}
      },
      "source": [
        "def docs_list_OR(df):\n",
        "  postings = list()\n",
        "  for r in df.index:\n",
        "    postings.append(df.loc[r,'Posting'])\n",
        "\n",
        "  for i in range(len(postings)):\n",
        "    new_postings = postings[i].split(', ')\n",
        "    new_postings[0] = new_postings[0][1:]\n",
        "    new_postings[len(new_postings)-1] = new_postings[len(new_postings)-1][:-1]\n",
        "    postings[i] = new_postings\n",
        "\n",
        "  p = list()\n",
        "  for i in range(len(postings)):\n",
        "    for j in range(len(postings[i])):\n",
        "      p.append(postings[i][j])\n",
        "\n",
        "  p = list(dict.fromkeys(p))\n",
        "  return p"
      ],
      "execution_count": 0,
      "outputs": []
    },
    {
      "cell_type": "code",
      "metadata": {
        "id": "qxntTdH68nO9",
        "colab_type": "code",
        "colab": {}
      },
      "source": [
        "def docs_list_AND(df):\n",
        "  aux = list()\n",
        "  postings_list = list()\n",
        "  #colocar postings em listas\n",
        "  for r in df.index:\n",
        "    aux = df.at[r, 'Posting'].split(', ')\n",
        "    aux[0] = aux[0][1:]\n",
        "    aux[len(aux)-1] = aux[len(aux)-1][:-1]\n",
        "    postings_list.append(aux)\n",
        "\n",
        "  #iterar sobre listas de postings buscando itens iguais\n",
        "  postings = list()\n",
        "  for i in range(len(postings_list)):\n",
        "    for j in range(i+1, len(postings_list)):\n",
        "      for k in range(len(postings_list[i])):\n",
        "        for l in range(len(postings_list[j])):\n",
        "          if postings_list[i][k] == postings_list[j][l]:\n",
        "            postings.append(postings_list[i][k])\n",
        "            postings_list[i][j] = ' '\n",
        "\n",
        "  return postings"
      ],
      "execution_count": 0,
      "outputs": []
    },
    {
      "cell_type": "markdown",
      "metadata": {
        "id": "F17dXwQY51ze",
        "colab_type": "text"
      },
      "source": [
        "## Calc Scores"
      ]
    },
    {
      "cell_type": "code",
      "metadata": {
        "id": "ncWI2lhKJjCC",
        "colab_type": "code",
        "colab": {}
      },
      "source": [
        "def calc_tfidf(df_freq):\n",
        "  for r in df_freq.index:\n",
        "    df_freq.at[r, 'Freq'] = math.log(df_arquivos.shape[0]/df_freq.at[r, 'Freq'],10)\n",
        "    for c in range(2, len(df_freq.columns)):\n",
        "      df_freq.iloc[r, c] = np.multiply(df_freq.at[r, 'Freq'], df_freq.iloc[r, c])\n",
        "\n",
        "  return df_freq"
      ],
      "execution_count": 0,
      "outputs": []
    },
    {
      "cell_type": "code",
      "metadata": {
        "id": "4OO3o25fdgWG",
        "colab_type": "code",
        "colab": {}
      },
      "source": [
        "def calc_freq(dl, df_search, tipo_busca, q):\n",
        "  df_freq = pd.DataFrame(columns=dl)\n",
        "  if tipo_busca == 'livre':\n",
        "    df_freq = pd.concat([df_search['Terms'], df_search['Freq'], df_freq], axis=1)\n",
        "    queryl = handlingQuery(q)\n",
        "  else:\n",
        "      queryl = getValues(q)\n",
        "      df_freq = pd.concat([df_search['Field Text'], df_search['Freq'], df_freq], axis=1)\n",
        "\n",
        "  for r in df_freq.index:\n",
        "    for c in range(2, len(df_freq.columns)):\n",
        "      df_freq.iloc[r, c] = 0\n",
        "\n",
        "  df_freq.iloc[:, 1:] = df_freq.iloc[:, 1:].astype(float)\n",
        "\n",
        "  for i in range(len(dl)):\n",
        "    doc = getAndCleanHTML(df_arquivos.loc[int(dl[i]),'0'])\n",
        "    doc = doc.lower()\n",
        "    doc = doc.split()\n",
        "    for w in doc:\n",
        "      for qw in range(len(queryl)):\n",
        "        if w == queryl[qw]:\n",
        "          df_freq.at[qw, dl[i]] += 1.0\n",
        "\n",
        "  for r in df_freq.index:\n",
        "    for c in range(2, len(df_freq.columns)):\n",
        "      if df_freq.at[r,df_freq.columns[c]] !=0:\n",
        "        df_freq.at[r,df_freq.columns[c]] = math.log10(df_freq.at[r, df_freq.columns[c]])\n",
        "  \n",
        "  return df_freq"
      ],
      "execution_count": 0,
      "outputs": []
    },
    {
      "cell_type": "markdown",
      "metadata": {
        "id": "jtmzUauR59oc",
        "colab_type": "text"
      },
      "source": [
        "## Calc Ranking"
      ]
    },
    {
      "cell_type": "code",
      "metadata": {
        "id": "Nn2u3PuzLkf4",
        "colab_type": "code",
        "colab": {}
      },
      "source": [
        "def calc_rank(df_freq, hq, tipo_busca):\n",
        "  if tipo_busca == 'livre':\n",
        "    df_freq.at[len(df_freq.index),'Terms'] = 'cosine'\n",
        "    df_freq.index = df_freq['Terms']\n",
        "  else:\n",
        "    df_freq.at[len(df_freq.index),'Field Text'] = 'cosine'\n",
        "    df_freq.index = df_freq['Field Text']\n",
        "\n",
        "  df_freq = df_freq.iloc[:, 1:]\n",
        "\n",
        "  dv = []\n",
        "  qv = []\n",
        "  for q in hq:\n",
        "    qv.append(1)\n",
        "\n",
        "  for c in range(1, len(df_freq.columns)):\n",
        "    for r in range(len(df_freq.index[:-1])):\n",
        "      dv.append(df_freq.iloc[r,c])\n",
        "    df_freq.iloc[len(df_freq.index)-1, c] = (np.dot(dv, qv) / (np.linalg.norm(dv) * np.linalg.norm(qv)))\n",
        "    dv = []\n",
        "\n",
        "  df_rank = df_freq.sort_values(by='cosine', axis=1, ascending=False)\n",
        "  df_rank = df_rank.drop(['Freq'], axis=1)\n",
        "  ranking = df_rank.columns.tolist()\n",
        "  ranking = ranking[:10]\n",
        "  return ranking"
      ],
      "execution_count": 0,
      "outputs": []
    },
    {
      "cell_type": "code",
      "metadata": {
        "id": "UcqBA1m7i1sb",
        "colab_type": "code",
        "colab": {}
      },
      "source": [
        "def ranking_dictionary(r):\n",
        "  rd_list = list()\n",
        "  for i in r:\n",
        "    path = df_arquivos.at[int(i), '0']\n",
        "    row, = df_ed[df_ed['Documento'] == path].index\n",
        "    titulo = df_ed.at[row, 'Título']\n",
        "    autor = df_ed.at[row, 'Autor']\n",
        "    rd = {\n",
        "        'title': titulo,\n",
        "        'author': autor\n",
        "    }\n",
        "    rd_list.append(rd)\n",
        "\n",
        "  return rd_list"
      ],
      "execution_count": 0,
      "outputs": []
    },
    {
      "cell_type": "markdown",
      "metadata": {
        "id": "eC71-qUI6DMS",
        "colab_type": "text"
      },
      "source": [
        "# Main"
      ]
    },
    {
      "cell_type": "markdown",
      "metadata": {
        "id": "jpvclg2sPoPU",
        "colab_type": "text"
      },
      "source": [
        "## Índice"
      ]
    },
    {
      "cell_type": "code",
      "metadata": {
        "id": "Z_ARdnhn_YV4",
        "colab_type": "code",
        "outputId": "cff3d6fa-2004-4bff-f4d8-3d3e3f760e2b",
        "colab": {
          "base_uri": "https://localhost:8080/",
          "height": 0
        }
      },
      "source": [
        "df_indice = pd.read_csv('/content/drive/My Drive/indice_invertido_all_view_pages.csv')\n",
        "df_indice.head(n=10)"
      ],
      "execution_count": 535,
      "outputs": [
        {
          "output_type": "execute_result",
          "data": {
            "text/html": [
              "<div>\n",
              "<style scoped>\n",
              "    .dataframe tbody tr th:only-of-type {\n",
              "        vertical-align: middle;\n",
              "    }\n",
              "\n",
              "    .dataframe tbody tr th {\n",
              "        vertical-align: top;\n",
              "    }\n",
              "\n",
              "    .dataframe thead th {\n",
              "        text-align: right;\n",
              "    }\n",
              "</style>\n",
              "<table border=\"1\" class=\"dataframe\">\n",
              "  <thead>\n",
              "    <tr style=\"text-align: right;\">\n",
              "      <th></th>\n",
              "      <th>Terms</th>\n",
              "      <th>Freq</th>\n",
              "      <th>Posting</th>\n",
              "      <th>Compress Posting</th>\n",
              "      <th>Gamma Code</th>\n",
              "    </tr>\n",
              "  </thead>\n",
              "  <tbody>\n",
              "    <tr>\n",
              "      <th>0</th>\n",
              "      <td>abaixo</td>\n",
              "      <td>38</td>\n",
              "      <td>[0, 1, 3, 4, 5, 6, 7, 8, 9, 10, 11, 12, 13, 14...</td>\n",
              "      <td>[0, 1, 2, 1, 1, 1, 1, 1, 1, 1, 1, 1, 1, 1, 1, ...</td>\n",
              "      <td>[0, 0, 100, 0, 0, 0, 0, 0, 0, 0, 0, 0, 0, 0, 0...</td>\n",
              "    </tr>\n",
              "    <tr>\n",
              "      <th>1</th>\n",
              "      <td>abordagem</td>\n",
              "      <td>3</td>\n",
              "      <td>[7, 64, 74]</td>\n",
              "      <td>[7, 57, 10]</td>\n",
              "      <td>[11011, 11111011001, 1110010]</td>\n",
              "    </tr>\n",
              "    <tr>\n",
              "      <th>2</th>\n",
              "      <td>abrir</td>\n",
              "      <td>20</td>\n",
              "      <td>[82, 83, 84, 85, 86, 87, 88, 89, 90, 91, 92, 9...</td>\n",
              "      <td>[82, 1, 1, 1, 1, 1, 1, 1, 1, 1, 1, 1, 1, 1, 1,...</td>\n",
              "      <td>[1111110010010, 0, 0, 0, 0, 0, 0, 0, 0, 0, 0, ...</td>\n",
              "    </tr>\n",
              "    <tr>\n",
              "      <th>3</th>\n",
              "      <td>abuso</td>\n",
              "      <td>8</td>\n",
              "      <td>[0, 1, 3, 4, 5, 6, 7, 8]</td>\n",
              "      <td>[0, 1, 2, 1, 1, 1, 1, 1]</td>\n",
              "      <td>[0, 0, 100, 0, 0, 0, 0, 0]</td>\n",
              "    </tr>\n",
              "    <tr>\n",
              "      <th>4</th>\n",
              "      <td>acabam</td>\n",
              "      <td>6</td>\n",
              "      <td>[6, 49, 52, 55, 56, 57]</td>\n",
              "      <td>[6, 43, 3, 3, 1, 1]</td>\n",
              "      <td>[11010, 11111001011, 101, 101, 0, 0]</td>\n",
              "    </tr>\n",
              "    <tr>\n",
              "      <th>5</th>\n",
              "      <td>acabamento</td>\n",
              "      <td>19</td>\n",
              "      <td>[5, 9, 10, 11, 12, 13, 14, 15, 16, 49, 50, 51,...</td>\n",
              "      <td>[5, 4, 1, 1, 1, 1, 1, 1, 1, 33, 1, 1, 1, 1, 1,...</td>\n",
              "      <td>[11001, 11000, 0, 0, 0, 0, 0, 0, 0, 1111100000...</td>\n",
              "    </tr>\n",
              "    <tr>\n",
              "      <th>6</th>\n",
              "      <td>acabou</td>\n",
              "      <td>8</td>\n",
              "      <td>[89, 92, 95, 96, 98, 99, 100, 101]</td>\n",
              "      <td>[89, 3, 3, 1, 2, 1, 1, 1]</td>\n",
              "      <td>[1111110011001, 101, 101, 0, 100, 0, 0, 0]</td>\n",
              "    </tr>\n",
              "    <tr>\n",
              "      <th>7</th>\n",
              "      <td>acaso</td>\n",
              "      <td>13</td>\n",
              "      <td>[1, 13, 27, 28, 29, 30, 31, 32, 33, 34, 35, 36...</td>\n",
              "      <td>[1, 12, 14, 1, 1, 1, 1, 1, 1, 1, 1, 1, 50]</td>\n",
              "      <td>[0, 1110100, 1110110, 0, 0, 0, 0, 0, 0, 0, 0, ...</td>\n",
              "    </tr>\n",
              "    <tr>\n",
              "      <th>8</th>\n",
              "      <td>aceita</td>\n",
              "      <td>10</td>\n",
              "      <td>[0, 1, 2, 3, 4, 5, 6, 7, 8, 84]</td>\n",
              "      <td>[0, 1, 1, 1, 1, 1, 1, 1, 1, 76]</td>\n",
              "      <td>[0, 0, 0, 0, 0, 0, 0, 0, 0, 1111110001100]</td>\n",
              "    </tr>\n",
              "    <tr>\n",
              "      <th>9</th>\n",
              "      <td>aceitamos</td>\n",
              "      <td>10</td>\n",
              "      <td>[27, 28, 29, 30, 31, 32, 33, 34, 35, 36]</td>\n",
              "      <td>[27, 1, 1, 1, 1, 1, 1, 1, 1, 1]</td>\n",
              "      <td>[111101011, 0, 0, 0, 0, 0, 0, 0, 0, 0]</td>\n",
              "    </tr>\n",
              "  </tbody>\n",
              "</table>\n",
              "</div>"
            ],
            "text/plain": [
              "        Terms  ...                                         Gamma Code\n",
              "0      abaixo  ...  [0, 0, 100, 0, 0, 0, 0, 0, 0, 0, 0, 0, 0, 0, 0...\n",
              "1   abordagem  ...                      [11011, 11111011001, 1110010]\n",
              "2       abrir  ...  [1111110010010, 0, 0, 0, 0, 0, 0, 0, 0, 0, 0, ...\n",
              "3       abuso  ...                         [0, 0, 100, 0, 0, 0, 0, 0]\n",
              "4      acabam  ...               [11010, 11111001011, 101, 101, 0, 0]\n",
              "5  acabamento  ...  [11001, 11000, 0, 0, 0, 0, 0, 0, 0, 1111100000...\n",
              "6      acabou  ...         [1111110011001, 101, 101, 0, 100, 0, 0, 0]\n",
              "7       acaso  ...  [0, 1110100, 1110110, 0, 0, 0, 0, 0, 0, 0, 0, ...\n",
              "8      aceita  ...         [0, 0, 0, 0, 0, 0, 0, 0, 0, 1111110001100]\n",
              "9   aceitamos  ...             [111101011, 0, 0, 0, 0, 0, 0, 0, 0, 0]\n",
              "\n",
              "[10 rows x 5 columns]"
            ]
          },
          "metadata": {
            "tags": []
          },
          "execution_count": 535
        }
      ]
    },
    {
      "cell_type": "code",
      "metadata": {
        "id": "7USw5067_1q9",
        "colab_type": "code",
        "outputId": "f636f3a0-e277-477e-db22-f81c18afe2ed",
        "colab": {
          "base_uri": "https://localhost:8080/",
          "height": 0
        }
      },
      "source": [
        "df_arquivos = pd.read_csv('/content/drive/My Drive/urls_df.csv')\n",
        "df_arquivos.head()"
      ],
      "execution_count": 536,
      "outputs": [
        {
          "output_type": "execute_result",
          "data": {
            "text/html": [
              "<div>\n",
              "<style scoped>\n",
              "    .dataframe tbody tr th:only-of-type {\n",
              "        vertical-align: middle;\n",
              "    }\n",
              "\n",
              "    .dataframe tbody tr th {\n",
              "        vertical-align: top;\n",
              "    }\n",
              "\n",
              "    .dataframe thead th {\n",
              "        text-align: right;\n",
              "    }\n",
              "</style>\n",
              "<table border=\"1\" class=\"dataframe\">\n",
              "  <thead>\n",
              "    <tr style=\"text-align: right;\">\n",
              "      <th></th>\n",
              "      <th>0</th>\n",
              "    </tr>\n",
              "  </thead>\n",
              "  <tbody>\n",
              "    <tr>\n",
              "      <th>0</th>\n",
              "      <td>/content/drive/My Drive/9periodo/Recuperação...</td>\n",
              "    </tr>\n",
              "    <tr>\n",
              "      <th>1</th>\n",
              "      <td>/content/drive/My Drive/9periodo/Recuperação...</td>\n",
              "    </tr>\n",
              "    <tr>\n",
              "      <th>2</th>\n",
              "      <td>/content/drive/My Drive/9periodo/Recuperação...</td>\n",
              "    </tr>\n",
              "    <tr>\n",
              "      <th>3</th>\n",
              "      <td>/content/drive/My Drive/9periodo/Recuperação...</td>\n",
              "    </tr>\n",
              "    <tr>\n",
              "      <th>4</th>\n",
              "      <td>/content/drive/My Drive/9periodo/Recuperação...</td>\n",
              "    </tr>\n",
              "  </tbody>\n",
              "</table>\n",
              "</div>"
            ],
            "text/plain": [
              "                                                   0\n",
              "0  /content/drive/My Drive/9periodo/Recuperação...\n",
              "1  /content/drive/My Drive/9periodo/Recuperação...\n",
              "2  /content/drive/My Drive/9periodo/Recuperação...\n",
              "3  /content/drive/My Drive/9periodo/Recuperação...\n",
              "4  /content/drive/My Drive/9periodo/Recuperação..."
            ]
          },
          "metadata": {
            "tags": []
          },
          "execution_count": 536
        }
      ]
    },
    {
      "cell_type": "code",
      "metadata": {
        "id": "6KW6ScrdIkCl",
        "colab_type": "code",
        "outputId": "7a2175b7-cfc7-4761-ab26-4dd6fdf473a5",
        "colab": {
          "base_uri": "https://localhost:8080/",
          "height": 0
        }
      },
      "source": [
        "df_campos = pd.read_csv('/content/drive/My Drive/field_texts.csv')\n",
        "df_campos.head()"
      ],
      "execution_count": 537,
      "outputs": [
        {
          "output_type": "execute_result",
          "data": {
            "text/html": [
              "<div>\n",
              "<style scoped>\n",
              "    .dataframe tbody tr th:only-of-type {\n",
              "        vertical-align: middle;\n",
              "    }\n",
              "\n",
              "    .dataframe tbody tr th {\n",
              "        vertical-align: top;\n",
              "    }\n",
              "\n",
              "    .dataframe thead th {\n",
              "        text-align: right;\n",
              "    }\n",
              "</style>\n",
              "<table border=\"1\" class=\"dataframe\">\n",
              "  <thead>\n",
              "    <tr style=\"text-align: right;\">\n",
              "      <th></th>\n",
              "      <th>word</th>\n",
              "      <th>Field Text</th>\n",
              "      <th>Freq</th>\n",
              "      <th>Posting</th>\n",
              "      <th>Compress Posting</th>\n",
              "    </tr>\n",
              "  </thead>\n",
              "  <tbody>\n",
              "    <tr>\n",
              "      <th>0</th>\n",
              "      <td>0</td>\n",
              "      <td>1808.title</td>\n",
              "      <td>1</td>\n",
              "      <td>[0]</td>\n",
              "      <td>[0]</td>\n",
              "    </tr>\n",
              "    <tr>\n",
              "      <th>1</th>\n",
              "      <td>1</td>\n",
              "      <td>1900.title</td>\n",
              "      <td>1</td>\n",
              "      <td>[4]</td>\n",
              "      <td>[4]</td>\n",
              "    </tr>\n",
              "    <tr>\n",
              "      <th>2</th>\n",
              "      <td>0</td>\n",
              "      <td>1967.publishing</td>\n",
              "      <td>1</td>\n",
              "      <td>[29]</td>\n",
              "      <td>[29]</td>\n",
              "    </tr>\n",
              "    <tr>\n",
              "      <th>3</th>\n",
              "      <td>1</td>\n",
              "      <td>1984.publishing</td>\n",
              "      <td>1</td>\n",
              "      <td>[32]</td>\n",
              "      <td>[32]</td>\n",
              "    </tr>\n",
              "    <tr>\n",
              "      <th>4</th>\n",
              "      <td>2</td>\n",
              "      <td>1987.publishing</td>\n",
              "      <td>1</td>\n",
              "      <td>[34]</td>\n",
              "      <td>[34]</td>\n",
              "    </tr>\n",
              "  </tbody>\n",
              "</table>\n",
              "</div>"
            ],
            "text/plain": [
              "   word       Field Text  Freq Posting Compress Posting\n",
              "0     0       1808.title     1     [0]              [0]\n",
              "1     1       1900.title     1     [4]              [4]\n",
              "2     0  1967.publishing     1    [29]             [29]\n",
              "3     1  1984.publishing     1    [32]             [32]\n",
              "4     2  1987.publishing     1    [34]             [34]"
            ]
          },
          "metadata": {
            "tags": []
          },
          "execution_count": 537
        }
      ]
    },
    {
      "cell_type": "markdown",
      "metadata": {
        "id": "ZyNwe36lPVY0",
        "colab_type": "text"
      },
      "source": [
        "## Busca livre"
      ]
    },
    {
      "cell_type": "code",
      "metadata": {
        "id": "Fk5SUkr1WfyK",
        "colab_type": "code",
        "outputId": "67744df0-ab2c-4230-998e-9dedea2c64f7",
        "colab": {
          "base_uri": "https://localhost:8080/",
          "height": 111
        }
      },
      "source": [
        "fq = 'diário garoto'\n",
        "df_fs = free_search(fq,df_indice)\n",
        "df_fs.head(n=10)"
      ],
      "execution_count": 538,
      "outputs": [
        {
          "output_type": "execute_result",
          "data": {
            "text/html": [
              "<div>\n",
              "<style scoped>\n",
              "    .dataframe tbody tr th:only-of-type {\n",
              "        vertical-align: middle;\n",
              "    }\n",
              "\n",
              "    .dataframe tbody tr th {\n",
              "        vertical-align: top;\n",
              "    }\n",
              "\n",
              "    .dataframe thead th {\n",
              "        text-align: right;\n",
              "    }\n",
              "</style>\n",
              "<table border=\"1\" class=\"dataframe\">\n",
              "  <thead>\n",
              "    <tr style=\"text-align: right;\">\n",
              "      <th></th>\n",
              "      <th>Terms</th>\n",
              "      <th>Freq</th>\n",
              "      <th>Posting</th>\n",
              "      <th>Compress Posting</th>\n",
              "      <th>Gamma Code</th>\n",
              "    </tr>\n",
              "  </thead>\n",
              "  <tbody>\n",
              "    <tr>\n",
              "      <th>0</th>\n",
              "      <td>diário</td>\n",
              "      <td>30</td>\n",
              "      <td>[1, 2, 9, 10, 11, 12, 13, 14, 15, 16, 19, 27, ...</td>\n",
              "      <td>[1, 1, 7, 1, 1, 1, 1, 1, 1, 1, 3, 8, 1, 1, 1, ...</td>\n",
              "      <td>[0, 0, 11011, 0, 0, 0, 0, 0, 0, 0, 101, 111000...</td>\n",
              "    </tr>\n",
              "    <tr>\n",
              "      <th>1</th>\n",
              "      <td>garoto</td>\n",
              "      <td>13</td>\n",
              "      <td>[2, 18, 53, 56, 82, 86, 87, 89, 90, 91, 92, 96...</td>\n",
              "      <td>[2, 16, 35, 3, 26, 4, 1, 2, 1, 1, 1, 4, 3]</td>\n",
              "      <td>[100, 111100000, 11111000011, 101, 111101010, ...</td>\n",
              "    </tr>\n",
              "  </tbody>\n",
              "</table>\n",
              "</div>"
            ],
            "text/plain": [
              "    Terms  ...                                         Gamma Code\n",
              "0  diário  ...  [0, 0, 11011, 0, 0, 0, 0, 0, 0, 0, 101, 111000...\n",
              "1  garoto  ...  [100, 111100000, 11111000011, 101, 111101010, ...\n",
              "\n",
              "[2 rows x 5 columns]"
            ]
          },
          "metadata": {
            "tags": []
          },
          "execution_count": 538
        }
      ]
    },
    {
      "cell_type": "code",
      "metadata": {
        "id": "cr7RC6hrcOBU",
        "colab_type": "code",
        "outputId": "6fe66b70-a854-4b80-c865-9d2894960015",
        "colab": {
          "base_uri": "https://localhost:8080/",
          "height": 54
        }
      },
      "source": [
        "dl_fs = docs_list_OR(df_fs)\n",
        "print(dl_fs)"
      ],
      "execution_count": 539,
      "outputs": [
        {
          "output_type": "stream",
          "text": [
            "['1', '2', '9', '10', '11', '12', '13', '14', '15', '16', '19', '27', '28', '29', '30', '31', '32', '33', '34', '35', '36', '38', '52', '55', '64', '65', '66', '69', '90', '92', '18', '53', '56', '82', '86', '87', '89', '91', '96', '99']\n"
          ],
          "name": "stdout"
        }
      ]
    },
    {
      "cell_type": "markdown",
      "metadata": {
        "id": "yO8FDSsNbIi_",
        "colab_type": "text"
      },
      "source": [
        "### Usando a frequência (tf)"
      ]
    },
    {
      "cell_type": "code",
      "metadata": {
        "id": "Ypx7TQoDjVQF",
        "colab_type": "code",
        "outputId": "ffafb627-d94e-4663-b063-43bd381ad50c",
        "colab": {
          "base_uri": "https://localhost:8080/",
          "height": 131
        }
      },
      "source": [
        "df_f_fs = calc_freq(dl_fs, df_fs, 'livre', fq)\n",
        "df_f_fs.head(n=10)"
      ],
      "execution_count": 540,
      "outputs": [
        {
          "output_type": "execute_result",
          "data": {
            "text/html": [
              "<div>\n",
              "<style scoped>\n",
              "    .dataframe tbody tr th:only-of-type {\n",
              "        vertical-align: middle;\n",
              "    }\n",
              "\n",
              "    .dataframe tbody tr th {\n",
              "        vertical-align: top;\n",
              "    }\n",
              "\n",
              "    .dataframe thead th {\n",
              "        text-align: right;\n",
              "    }\n",
              "</style>\n",
              "<table border=\"1\" class=\"dataframe\">\n",
              "  <thead>\n",
              "    <tr style=\"text-align: right;\">\n",
              "      <th></th>\n",
              "      <th>Terms</th>\n",
              "      <th>Freq</th>\n",
              "      <th>1</th>\n",
              "      <th>2</th>\n",
              "      <th>9</th>\n",
              "      <th>10</th>\n",
              "      <th>11</th>\n",
              "      <th>12</th>\n",
              "      <th>13</th>\n",
              "      <th>14</th>\n",
              "      <th>15</th>\n",
              "      <th>16</th>\n",
              "      <th>19</th>\n",
              "      <th>27</th>\n",
              "      <th>28</th>\n",
              "      <th>29</th>\n",
              "      <th>30</th>\n",
              "      <th>31</th>\n",
              "      <th>32</th>\n",
              "      <th>33</th>\n",
              "      <th>34</th>\n",
              "      <th>35</th>\n",
              "      <th>36</th>\n",
              "      <th>38</th>\n",
              "      <th>52</th>\n",
              "      <th>55</th>\n",
              "      <th>64</th>\n",
              "      <th>65</th>\n",
              "      <th>66</th>\n",
              "      <th>69</th>\n",
              "      <th>90</th>\n",
              "      <th>92</th>\n",
              "      <th>18</th>\n",
              "      <th>53</th>\n",
              "      <th>56</th>\n",
              "      <th>82</th>\n",
              "      <th>86</th>\n",
              "      <th>87</th>\n",
              "      <th>89</th>\n",
              "      <th>91</th>\n",
              "      <th>96</th>\n",
              "      <th>99</th>\n",
              "    </tr>\n",
              "  </thead>\n",
              "  <tbody>\n",
              "    <tr>\n",
              "      <th>0</th>\n",
              "      <td>diário</td>\n",
              "      <td>30.0</td>\n",
              "      <td>0.0</td>\n",
              "      <td>0.60206</td>\n",
              "      <td>0.477121</td>\n",
              "      <td>0.0</td>\n",
              "      <td>0.0</td>\n",
              "      <td>0.0</td>\n",
              "      <td>0.0</td>\n",
              "      <td>0.0</td>\n",
              "      <td>0.0</td>\n",
              "      <td>0.0</td>\n",
              "      <td>0.0</td>\n",
              "      <td>0.30103</td>\n",
              "      <td>0.0</td>\n",
              "      <td>0.0</td>\n",
              "      <td>0.0</td>\n",
              "      <td>0.0</td>\n",
              "      <td>0.0</td>\n",
              "      <td>0.0</td>\n",
              "      <td>0.0</td>\n",
              "      <td>0.0</td>\n",
              "      <td>0.0</td>\n",
              "      <td>0.0</td>\n",
              "      <td>0.0</td>\n",
              "      <td>0.0</td>\n",
              "      <td>0.0</td>\n",
              "      <td>0.0</td>\n",
              "      <td>0.778151</td>\n",
              "      <td>0.477121</td>\n",
              "      <td>0.0</td>\n",
              "      <td>0.30103</td>\n",
              "      <td>0.0</td>\n",
              "      <td>0.0</td>\n",
              "      <td>0.0</td>\n",
              "      <td>0.0</td>\n",
              "      <td>0.0</td>\n",
              "      <td>0.0</td>\n",
              "      <td>0.0</td>\n",
              "      <td>0.0</td>\n",
              "      <td>0.0</td>\n",
              "      <td>0.0</td>\n",
              "    </tr>\n",
              "    <tr>\n",
              "      <th>1</th>\n",
              "      <td>garoto</td>\n",
              "      <td>13.0</td>\n",
              "      <td>0.0</td>\n",
              "      <td>0.60206</td>\n",
              "      <td>0.000000</td>\n",
              "      <td>0.0</td>\n",
              "      <td>0.0</td>\n",
              "      <td>0.0</td>\n",
              "      <td>0.0</td>\n",
              "      <td>0.0</td>\n",
              "      <td>0.0</td>\n",
              "      <td>0.0</td>\n",
              "      <td>0.0</td>\n",
              "      <td>0.00000</td>\n",
              "      <td>0.0</td>\n",
              "      <td>0.0</td>\n",
              "      <td>0.0</td>\n",
              "      <td>0.0</td>\n",
              "      <td>0.0</td>\n",
              "      <td>0.0</td>\n",
              "      <td>0.0</td>\n",
              "      <td>0.0</td>\n",
              "      <td>0.0</td>\n",
              "      <td>0.0</td>\n",
              "      <td>0.0</td>\n",
              "      <td>0.0</td>\n",
              "      <td>0.0</td>\n",
              "      <td>0.0</td>\n",
              "      <td>0.000000</td>\n",
              "      <td>0.000000</td>\n",
              "      <td>0.0</td>\n",
              "      <td>0.00000</td>\n",
              "      <td>0.0</td>\n",
              "      <td>0.0</td>\n",
              "      <td>0.0</td>\n",
              "      <td>0.0</td>\n",
              "      <td>0.0</td>\n",
              "      <td>0.0</td>\n",
              "      <td>0.0</td>\n",
              "      <td>0.0</td>\n",
              "      <td>0.0</td>\n",
              "      <td>0.0</td>\n",
              "    </tr>\n",
              "  </tbody>\n",
              "</table>\n",
              "</div>"
            ],
            "text/plain": [
              "    Terms  Freq    1        2         9   10  ...   86   87   89   91   96   99\n",
              "0  diário  30.0  0.0  0.60206  0.477121  0.0  ...  0.0  0.0  0.0  0.0  0.0  0.0\n",
              "1  garoto  13.0  0.0  0.60206  0.000000  0.0  ...  0.0  0.0  0.0  0.0  0.0  0.0\n",
              "\n",
              "[2 rows x 42 columns]"
            ]
          },
          "metadata": {
            "tags": []
          },
          "execution_count": 540
        }
      ]
    },
    {
      "cell_type": "code",
      "metadata": {
        "id": "YxzvEXpnqPDr",
        "colab_type": "code",
        "outputId": "d954cdd4-a91b-4413-c7be-424ae9e44add",
        "colab": {
          "base_uri": "https://localhost:8080/",
          "height": 51
        }
      },
      "source": [
        "r_f_fs = calc_rank(df_f_fs, handlingQuery(fq), 'livre')\n",
        "print(r_f_fs)"
      ],
      "execution_count": 541,
      "outputs": [
        {
          "output_type": "stream",
          "text": [
            "['2', '9', '27', '66', '69', '92', '1', '10', '11', '12']\n"
          ],
          "name": "stdout"
        },
        {
          "output_type": "stream",
          "text": [
            "/usr/local/lib/python3.6/dist-packages/ipykernel_launcher.py:19: RuntimeWarning: invalid value encountered in double_scalars\n"
          ],
          "name": "stderr"
        }
      ]
    },
    {
      "cell_type": "code",
      "metadata": {
        "id": "vxIJjVbgjcJg",
        "colab_type": "code",
        "colab": {
          "base_uri": "https://localhost:8080/",
          "height": 54
        },
        "outputId": "823d8124-d0d3-44d2-c528-fbd33f7c72bb"
      },
      "source": [
        "rd_f_fs = ranking_dictionary(r_f_fs)\n",
        "print(rd_f_fs)"
      ],
      "execution_count": 542,
      "outputs": [
        {
          "output_type": "stream",
          "text": [
            "[{'title': 'Cotoco. O Diário De Um Garoto De 13 Anos', 'author': 'John Van de Ruit'}, {'title': 'Alice No País Das Maravilhas (Classic Edition)', 'author': 'Carroll,Lewis'}, {'title': 'A Casa Dos Budas Ditosos', 'author': 'João Ubaldo Ribeiro'}, {'title': 'O DIÁRIO DE ANNE FRANK', 'author': 'FRANK, ANNE'}, {'title': 'PRÓLOGO, ATO, EPÍLOGO', 'author': 'MONTENEGRO, FERNANDA'}, {'title': 'Luccas Neto em os aventureiros', 'author': 'Luccas Neto'}, {'title': 'Box - As Melhores Aventuras Do Sítio Do Picapau Amarelo', 'author': 'Monteiro Lobato'}, {'title': 'Steve Jobs - A Biografia', 'author': 'Isaacson,Walter, Isaacson,Walter'}, {'title': 'Vade Mecum Compacto   - Brochura  - 21ª Ed. 2019', 'author': 'Editora Saraiva'}, {'title': 'It - A Coisa', 'author': 'King,Stephen'}]\n"
          ],
          "name": "stdout"
        }
      ]
    },
    {
      "cell_type": "markdown",
      "metadata": {
        "id": "wu5s0NHTbPWF",
        "colab_type": "text"
      },
      "source": [
        "### Usando tf-idf"
      ]
    },
    {
      "cell_type": "code",
      "metadata": {
        "id": "NzvTXIiy3iVe",
        "colab_type": "code",
        "outputId": "481be7b8-4874-4611-90ad-d83faed1a907",
        "colab": {
          "base_uri": "https://localhost:8080/",
          "height": 131
        }
      },
      "source": [
        "df_tfidf_fs = calc_freq(dl_fs, df_fs, 'livre', fq)\n",
        "df_tfidf_fs = calc_tfidf(df_tfidf_fs)\n",
        "df_tfidf_fs.head(n=10)"
      ],
      "execution_count": 543,
      "outputs": [
        {
          "output_type": "execute_result",
          "data": {
            "text/html": [
              "<div>\n",
              "<style scoped>\n",
              "    .dataframe tbody tr th:only-of-type {\n",
              "        vertical-align: middle;\n",
              "    }\n",
              "\n",
              "    .dataframe tbody tr th {\n",
              "        vertical-align: top;\n",
              "    }\n",
              "\n",
              "    .dataframe thead th {\n",
              "        text-align: right;\n",
              "    }\n",
              "</style>\n",
              "<table border=\"1\" class=\"dataframe\">\n",
              "  <thead>\n",
              "    <tr style=\"text-align: right;\">\n",
              "      <th></th>\n",
              "      <th>Terms</th>\n",
              "      <th>Freq</th>\n",
              "      <th>1</th>\n",
              "      <th>2</th>\n",
              "      <th>9</th>\n",
              "      <th>10</th>\n",
              "      <th>11</th>\n",
              "      <th>12</th>\n",
              "      <th>13</th>\n",
              "      <th>14</th>\n",
              "      <th>15</th>\n",
              "      <th>16</th>\n",
              "      <th>19</th>\n",
              "      <th>27</th>\n",
              "      <th>28</th>\n",
              "      <th>29</th>\n",
              "      <th>30</th>\n",
              "      <th>31</th>\n",
              "      <th>32</th>\n",
              "      <th>33</th>\n",
              "      <th>34</th>\n",
              "      <th>35</th>\n",
              "      <th>36</th>\n",
              "      <th>38</th>\n",
              "      <th>52</th>\n",
              "      <th>55</th>\n",
              "      <th>64</th>\n",
              "      <th>65</th>\n",
              "      <th>66</th>\n",
              "      <th>69</th>\n",
              "      <th>90</th>\n",
              "      <th>92</th>\n",
              "      <th>18</th>\n",
              "      <th>53</th>\n",
              "      <th>56</th>\n",
              "      <th>82</th>\n",
              "      <th>86</th>\n",
              "      <th>87</th>\n",
              "      <th>89</th>\n",
              "      <th>91</th>\n",
              "      <th>96</th>\n",
              "      <th>99</th>\n",
              "    </tr>\n",
              "  </thead>\n",
              "  <tbody>\n",
              "    <tr>\n",
              "      <th>0</th>\n",
              "      <td>diário</td>\n",
              "      <td>0.531479</td>\n",
              "      <td>0.0</td>\n",
              "      <td>0.319982</td>\n",
              "      <td>0.25358</td>\n",
              "      <td>0.0</td>\n",
              "      <td>0.0</td>\n",
              "      <td>0.0</td>\n",
              "      <td>0.0</td>\n",
              "      <td>0.0</td>\n",
              "      <td>0.0</td>\n",
              "      <td>0.0</td>\n",
              "      <td>0.0</td>\n",
              "      <td>0.159991</td>\n",
              "      <td>0.0</td>\n",
              "      <td>0.0</td>\n",
              "      <td>0.0</td>\n",
              "      <td>0.0</td>\n",
              "      <td>0.0</td>\n",
              "      <td>0.0</td>\n",
              "      <td>0.0</td>\n",
              "      <td>0.0</td>\n",
              "      <td>0.0</td>\n",
              "      <td>0.0</td>\n",
              "      <td>0.0</td>\n",
              "      <td>0.0</td>\n",
              "      <td>0.0</td>\n",
              "      <td>0.0</td>\n",
              "      <td>0.413571</td>\n",
              "      <td>0.25358</td>\n",
              "      <td>0.0</td>\n",
              "      <td>0.159991</td>\n",
              "      <td>0.0</td>\n",
              "      <td>0.0</td>\n",
              "      <td>0.0</td>\n",
              "      <td>0.0</td>\n",
              "      <td>0.0</td>\n",
              "      <td>0.0</td>\n",
              "      <td>0.0</td>\n",
              "      <td>0.0</td>\n",
              "      <td>0.0</td>\n",
              "      <td>0.0</td>\n",
              "    </tr>\n",
              "    <tr>\n",
              "      <th>1</th>\n",
              "      <td>garoto</td>\n",
              "      <td>0.894657</td>\n",
              "      <td>0.0</td>\n",
              "      <td>0.538637</td>\n",
              "      <td>0.00000</td>\n",
              "      <td>0.0</td>\n",
              "      <td>0.0</td>\n",
              "      <td>0.0</td>\n",
              "      <td>0.0</td>\n",
              "      <td>0.0</td>\n",
              "      <td>0.0</td>\n",
              "      <td>0.0</td>\n",
              "      <td>0.0</td>\n",
              "      <td>0.000000</td>\n",
              "      <td>0.0</td>\n",
              "      <td>0.0</td>\n",
              "      <td>0.0</td>\n",
              "      <td>0.0</td>\n",
              "      <td>0.0</td>\n",
              "      <td>0.0</td>\n",
              "      <td>0.0</td>\n",
              "      <td>0.0</td>\n",
              "      <td>0.0</td>\n",
              "      <td>0.0</td>\n",
              "      <td>0.0</td>\n",
              "      <td>0.0</td>\n",
              "      <td>0.0</td>\n",
              "      <td>0.0</td>\n",
              "      <td>0.000000</td>\n",
              "      <td>0.00000</td>\n",
              "      <td>0.0</td>\n",
              "      <td>0.000000</td>\n",
              "      <td>0.0</td>\n",
              "      <td>0.0</td>\n",
              "      <td>0.0</td>\n",
              "      <td>0.0</td>\n",
              "      <td>0.0</td>\n",
              "      <td>0.0</td>\n",
              "      <td>0.0</td>\n",
              "      <td>0.0</td>\n",
              "      <td>0.0</td>\n",
              "      <td>0.0</td>\n",
              "    </tr>\n",
              "  </tbody>\n",
              "</table>\n",
              "</div>"
            ],
            "text/plain": [
              "    Terms      Freq    1         2        9   10  ...   86   87   89   91   96   99\n",
              "0  diário  0.531479  0.0  0.319982  0.25358  0.0  ...  0.0  0.0  0.0  0.0  0.0  0.0\n",
              "1  garoto  0.894657  0.0  0.538637  0.00000  0.0  ...  0.0  0.0  0.0  0.0  0.0  0.0\n",
              "\n",
              "[2 rows x 42 columns]"
            ]
          },
          "metadata": {
            "tags": []
          },
          "execution_count": 543
        }
      ]
    },
    {
      "cell_type": "code",
      "metadata": {
        "id": "z18Bc7YNaaWF",
        "colab_type": "code",
        "outputId": "6b401ac1-237d-4486-fedc-a18e0811fcf2",
        "colab": {
          "base_uri": "https://localhost:8080/",
          "height": 51
        }
      },
      "source": [
        "r_tfidf_fs = calc_rank(df_tfidf_fs, handlingQuery(fq), 'livre')\n",
        "print(r_tfidf_fs)"
      ],
      "execution_count": 544,
      "outputs": [
        {
          "output_type": "stream",
          "text": [
            "['2', '66', '9', '27', '69', '92', '1', '10', '11', '12']\n"
          ],
          "name": "stdout"
        },
        {
          "output_type": "stream",
          "text": [
            "/usr/local/lib/python3.6/dist-packages/ipykernel_launcher.py:19: RuntimeWarning: invalid value encountered in double_scalars\n"
          ],
          "name": "stderr"
        }
      ]
    },
    {
      "cell_type": "code",
      "metadata": {
        "id": "21qoXUtpjxHy",
        "colab_type": "code",
        "colab": {
          "base_uri": "https://localhost:8080/",
          "height": 54
        },
        "outputId": "d24207f7-3d33-4011-986e-87591af91a0f"
      },
      "source": [
        "rd_tfidf_fs = ranking_dictionary(r_tfidf_fs)\n",
        "print(rd_tfidf_fs)"
      ],
      "execution_count": 545,
      "outputs": [
        {
          "output_type": "stream",
          "text": [
            "[{'title': 'Cotoco. O Diário De Um Garoto De 13 Anos', 'author': 'John Van de Ruit'}, {'title': 'O DIÁRIO DE ANNE FRANK', 'author': 'FRANK, ANNE'}, {'title': 'Alice No País Das Maravilhas (Classic Edition)', 'author': 'Carroll,Lewis'}, {'title': 'A Casa Dos Budas Ditosos', 'author': 'João Ubaldo Ribeiro'}, {'title': 'PRÓLOGO, ATO, EPÍLOGO', 'author': 'MONTENEGRO, FERNANDA'}, {'title': 'Luccas Neto em os aventureiros', 'author': 'Luccas Neto'}, {'title': 'Box - As Melhores Aventuras Do Sítio Do Picapau Amarelo', 'author': 'Monteiro Lobato'}, {'title': 'Steve Jobs - A Biografia', 'author': 'Isaacson,Walter, Isaacson,Walter'}, {'title': 'Vade Mecum Compacto   - Brochura  - 21ª Ed. 2019', 'author': 'Editora Saraiva'}, {'title': 'It - A Coisa', 'author': 'King,Stephen'}]\n"
          ],
          "name": "stdout"
        }
      ]
    },
    {
      "cell_type": "markdown",
      "metadata": {
        "id": "nXKhZsXsPefj",
        "colab_type": "text"
      },
      "source": [
        "## Busca estruturada"
      ]
    },
    {
      "cell_type": "code",
      "metadata": {
        "id": "jYqNC6aCQTH-",
        "colab_type": "code",
        "outputId": "27b35785-c0a3-4684-c7b9-761498418f3c",
        "colab": {
          "base_uri": "https://localhost:8080/",
          "height": 266
        }
      },
      "source": [
        "sq = {\n",
        "    'title': 'sítio do picapau amarelo',\n",
        "    'author': 'monteiro lobato',\n",
        "    'isbn': '978-8520943519'\n",
        "}\n",
        "\n",
        "df_ss = structured_search(sq, df_campos)\n",
        "df_ss.head(n=10)"
      ],
      "execution_count": 546,
      "outputs": [
        {
          "output_type": "execute_result",
          "data": {
            "text/html": [
              "<div>\n",
              "<style scoped>\n",
              "    .dataframe tbody tr th:only-of-type {\n",
              "        vertical-align: middle;\n",
              "    }\n",
              "\n",
              "    .dataframe tbody tr th {\n",
              "        vertical-align: top;\n",
              "    }\n",
              "\n",
              "    .dataframe thead th {\n",
              "        text-align: right;\n",
              "    }\n",
              "</style>\n",
              "<table border=\"1\" class=\"dataframe\">\n",
              "  <thead>\n",
              "    <tr style=\"text-align: right;\">\n",
              "      <th></th>\n",
              "      <th>word</th>\n",
              "      <th>Field Text</th>\n",
              "      <th>Freq</th>\n",
              "      <th>Posting</th>\n",
              "      <th>Compress Posting</th>\n",
              "    </tr>\n",
              "  </thead>\n",
              "  <tbody>\n",
              "    <tr>\n",
              "      <th>0</th>\n",
              "      <td>306</td>\n",
              "      <td>sítio.title</td>\n",
              "      <td>1</td>\n",
              "      <td>[1]</td>\n",
              "      <td>[1]</td>\n",
              "    </tr>\n",
              "    <tr>\n",
              "      <th>1</th>\n",
              "      <td>58</td>\n",
              "      <td>capa.title</td>\n",
              "      <td>1</td>\n",
              "      <td>[45]</td>\n",
              "      <td>[45]</td>\n",
              "    </tr>\n",
              "    <tr>\n",
              "      <th>2</th>\n",
              "      <td>253</td>\n",
              "      <td>picapau.title</td>\n",
              "      <td>1</td>\n",
              "      <td>[1]</td>\n",
              "      <td>[1]</td>\n",
              "    </tr>\n",
              "    <tr>\n",
              "      <th>3</th>\n",
              "      <td>13</td>\n",
              "      <td>amarelo.title</td>\n",
              "      <td>1</td>\n",
              "      <td>[1]</td>\n",
              "      <td>[1]</td>\n",
              "    </tr>\n",
              "    <tr>\n",
              "      <th>4</th>\n",
              "      <td>147</td>\n",
              "      <td>monteiro.author</td>\n",
              "      <td>1</td>\n",
              "      <td>[1]</td>\n",
              "      <td>[1]</td>\n",
              "    </tr>\n",
              "    <tr>\n",
              "      <th>5</th>\n",
              "      <td>121</td>\n",
              "      <td>lobato.author</td>\n",
              "      <td>1</td>\n",
              "      <td>[1]</td>\n",
              "      <td>[1]</td>\n",
              "    </tr>\n",
              "    <tr>\n",
              "      <th>6</th>\n",
              "      <td>1</td>\n",
              "      <td>8520943519.isbn</td>\n",
              "      <td>1</td>\n",
              "      <td>[1]</td>\n",
              "      <td>[1]</td>\n",
              "    </tr>\n",
              "  </tbody>\n",
              "</table>\n",
              "</div>"
            ],
            "text/plain": [
              "   word       Field Text  Freq Posting Compress Posting\n",
              "0   306      sítio.title     1     [1]              [1]\n",
              "1    58       capa.title     1    [45]             [45]\n",
              "2   253    picapau.title     1     [1]              [1]\n",
              "3    13    amarelo.title     1     [1]              [1]\n",
              "4   147  monteiro.author     1     [1]              [1]\n",
              "5   121    lobato.author     1     [1]              [1]\n",
              "6     1  8520943519.isbn     1     [1]              [1]"
            ]
          },
          "metadata": {
            "tags": []
          },
          "execution_count": 546
        }
      ]
    },
    {
      "cell_type": "code",
      "metadata": {
        "id": "D1e7U5dhrMHu",
        "colab_type": "code",
        "colab": {
          "base_uri": "https://localhost:8080/",
          "height": 34
        },
        "outputId": "37dee392-c0ca-4596-cbfd-8561ff95e379"
      },
      "source": [
        "dl_ss = docs_list_OR(df_ss)\n",
        "print(dl_ss)"
      ],
      "execution_count": 547,
      "outputs": [
        {
          "output_type": "stream",
          "text": [
            "['1', '45']\n"
          ],
          "name": "stdout"
        }
      ]
    },
    {
      "cell_type": "markdown",
      "metadata": {
        "id": "XKXUEW5nOxRH",
        "colab_type": "text"
      },
      "source": [
        "### Usando a frequência (tf)"
      ]
    },
    {
      "cell_type": "code",
      "metadata": {
        "id": "O_IB5LpD7kX6",
        "colab_type": "code",
        "colab": {
          "base_uri": "https://localhost:8080/",
          "height": 266
        },
        "outputId": "6a18cbec-ab3f-4689-eaff-3445c8f64c7a"
      },
      "source": [
        "df_f_ss = calc_freq(dl_ss, df_ss, 'estruturada', sq)\n",
        "df_f_ss.head(n=10)"
      ],
      "execution_count": 548,
      "outputs": [
        {
          "output_type": "execute_result",
          "data": {
            "text/html": [
              "<div>\n",
              "<style scoped>\n",
              "    .dataframe tbody tr th:only-of-type {\n",
              "        vertical-align: middle;\n",
              "    }\n",
              "\n",
              "    .dataframe tbody tr th {\n",
              "        vertical-align: top;\n",
              "    }\n",
              "\n",
              "    .dataframe thead th {\n",
              "        text-align: right;\n",
              "    }\n",
              "</style>\n",
              "<table border=\"1\" class=\"dataframe\">\n",
              "  <thead>\n",
              "    <tr style=\"text-align: right;\">\n",
              "      <th></th>\n",
              "      <th>Field Text</th>\n",
              "      <th>Freq</th>\n",
              "      <th>1</th>\n",
              "      <th>45</th>\n",
              "    </tr>\n",
              "  </thead>\n",
              "  <tbody>\n",
              "    <tr>\n",
              "      <th>0</th>\n",
              "      <td>sítio.title</td>\n",
              "      <td>1.0</td>\n",
              "      <td>0.954243</td>\n",
              "      <td>0.000000</td>\n",
              "    </tr>\n",
              "    <tr>\n",
              "      <th>1</th>\n",
              "      <td>capa.title</td>\n",
              "      <td>1.0</td>\n",
              "      <td>1.491362</td>\n",
              "      <td>1.113943</td>\n",
              "    </tr>\n",
              "    <tr>\n",
              "      <th>2</th>\n",
              "      <td>picapau.title</td>\n",
              "      <td>1.0</td>\n",
              "      <td>0.778151</td>\n",
              "      <td>0.000000</td>\n",
              "    </tr>\n",
              "    <tr>\n",
              "      <th>3</th>\n",
              "      <td>amarelo.title</td>\n",
              "      <td>1.0</td>\n",
              "      <td>0.778151</td>\n",
              "      <td>0.000000</td>\n",
              "    </tr>\n",
              "    <tr>\n",
              "      <th>4</th>\n",
              "      <td>monteiro.author</td>\n",
              "      <td>1.0</td>\n",
              "      <td>1.278754</td>\n",
              "      <td>0.000000</td>\n",
              "    </tr>\n",
              "    <tr>\n",
              "      <th>5</th>\n",
              "      <td>lobato.author</td>\n",
              "      <td>1.0</td>\n",
              "      <td>1.301030</td>\n",
              "      <td>0.000000</td>\n",
              "    </tr>\n",
              "    <tr>\n",
              "      <th>6</th>\n",
              "      <td>8520943519.isbn</td>\n",
              "      <td>1.0</td>\n",
              "      <td>0.000000</td>\n",
              "      <td>0.000000</td>\n",
              "    </tr>\n",
              "  </tbody>\n",
              "</table>\n",
              "</div>"
            ],
            "text/plain": [
              "        Field Text  Freq         1        45\n",
              "0      sítio.title   1.0  0.954243  0.000000\n",
              "1       capa.title   1.0  1.491362  1.113943\n",
              "2    picapau.title   1.0  0.778151  0.000000\n",
              "3    amarelo.title   1.0  0.778151  0.000000\n",
              "4  monteiro.author   1.0  1.278754  0.000000\n",
              "5    lobato.author   1.0  1.301030  0.000000\n",
              "6  8520943519.isbn   1.0  0.000000  0.000000"
            ]
          },
          "metadata": {
            "tags": []
          },
          "execution_count": 548
        }
      ]
    },
    {
      "cell_type": "code",
      "metadata": {
        "id": "0feuPogXImqL",
        "colab_type": "code",
        "colab": {
          "base_uri": "https://localhost:8080/",
          "height": 34
        },
        "outputId": "8775437b-6b6e-4bfe-b0f5-d24e970031d8"
      },
      "source": [
        "r_f_ss = calc_rank(df_f_ss, getValues(sq), 'estruturada')\n",
        "print(r_f_ss)"
      ],
      "execution_count": 549,
      "outputs": [
        {
          "output_type": "stream",
          "text": [
            "['1', '45']\n"
          ],
          "name": "stdout"
        }
      ]
    },
    {
      "cell_type": "code",
      "metadata": {
        "id": "oKYRYGbKj0Rm",
        "colab_type": "code",
        "colab": {
          "base_uri": "https://localhost:8080/",
          "height": 54
        },
        "outputId": "5fb07679-4449-44f2-ae34-d1536f712ad0"
      },
      "source": [
        "rd_f_ss = ranking_dictionary(r_f_ss)\n",
        "print(rd_f_ss)"
      ],
      "execution_count": 550,
      "outputs": [
        {
          "output_type": "stream",
          "text": [
            "[{'title': 'Box - As Melhores Aventuras Do Sítio Do Picapau Amarelo', 'author': 'Monteiro Lobato'}, {'title': 'Manual do Arquiteto Descalço - Capa Dura', 'author': 'Johan Van Lengen'}]\n"
          ],
          "name": "stdout"
        }
      ]
    },
    {
      "cell_type": "markdown",
      "metadata": {
        "id": "bPj5AgWnO0ub",
        "colab_type": "text"
      },
      "source": [
        "### Usando tf-idf"
      ]
    },
    {
      "cell_type": "code",
      "metadata": {
        "id": "7mFNB6lDNS1m",
        "colab_type": "code",
        "colab": {
          "base_uri": "https://localhost:8080/",
          "height": 204
        },
        "outputId": "3474edfa-18ed-48b8-c9e7-f54dd88f6981"
      },
      "source": [
        "df_tfidf_ss = calc_freq(dl_ss, df_ss, 'estruturada', sq)\n",
        "df_tfidf_ss = calc_tfidf(df_tfidf_ss)\n",
        "df_tfidf_ss.head(n=10)"
      ],
      "execution_count": 551,
      "outputs": [
        {
          "output_type": "execute_result",
          "data": {
            "text/html": [
              "<div>\n",
              "<style scoped>\n",
              "    .dataframe tbody tr th:only-of-type {\n",
              "        vertical-align: middle;\n",
              "    }\n",
              "\n",
              "    .dataframe tbody tr th {\n",
              "        vertical-align: top;\n",
              "    }\n",
              "\n",
              "    .dataframe thead th {\n",
              "        text-align: right;\n",
              "    }\n",
              "</style>\n",
              "<table border=\"1\" class=\"dataframe\">\n",
              "  <thead>\n",
              "    <tr style=\"text-align: right;\">\n",
              "      <th></th>\n",
              "      <th>Field Text</th>\n",
              "      <th>Freq</th>\n",
              "      <th>1</th>\n",
              "      <th>45</th>\n",
              "    </tr>\n",
              "  </thead>\n",
              "  <tbody>\n",
              "    <tr>\n",
              "      <th>0</th>\n",
              "      <td>sítio.title</td>\n",
              "      <td>2.0086</td>\n",
              "      <td>1.916692</td>\n",
              "      <td>0.000000</td>\n",
              "    </tr>\n",
              "    <tr>\n",
              "      <th>1</th>\n",
              "      <td>capa.title</td>\n",
              "      <td>2.0086</td>\n",
              "      <td>2.995549</td>\n",
              "      <td>2.237467</td>\n",
              "    </tr>\n",
              "    <tr>\n",
              "      <th>2</th>\n",
              "      <td>picapau.title</td>\n",
              "      <td>2.0086</td>\n",
              "      <td>1.562995</td>\n",
              "      <td>0.000000</td>\n",
              "    </tr>\n",
              "    <tr>\n",
              "      <th>3</th>\n",
              "      <td>amarelo.title</td>\n",
              "      <td>2.0086</td>\n",
              "      <td>1.562995</td>\n",
              "      <td>0.000000</td>\n",
              "    </tr>\n",
              "    <tr>\n",
              "      <th>4</th>\n",
              "      <td>monteiro.author</td>\n",
              "      <td>2.0086</td>\n",
              "      <td>2.568505</td>\n",
              "      <td>0.000000</td>\n",
              "    </tr>\n",
              "  </tbody>\n",
              "</table>\n",
              "</div>"
            ],
            "text/plain": [
              "        Field Text    Freq         1        45\n",
              "0      sítio.title  2.0086  1.916692  0.000000\n",
              "1       capa.title  2.0086  2.995549  2.237467\n",
              "2    picapau.title  2.0086  1.562995  0.000000\n",
              "3    amarelo.title  2.0086  1.562995  0.000000\n",
              "4  monteiro.author  2.0086  2.568505  0.000000"
            ]
          },
          "metadata": {
            "tags": []
          },
          "execution_count": 551
        }
      ]
    },
    {
      "cell_type": "code",
      "metadata": {
        "id": "MkQL_gfBPEpa",
        "colab_type": "code",
        "colab": {
          "base_uri": "https://localhost:8080/",
          "height": 34
        },
        "outputId": "293d019b-12a5-4c9c-c78d-f1222405dd39"
      },
      "source": [
        "r_tfidf_ss = calc_rank(df_tfidf_ss, getValues(sq), 'estruturada')\n",
        "print(r_tfidf_ss)"
      ],
      "execution_count": 552,
      "outputs": [
        {
          "output_type": "stream",
          "text": [
            "['1', '45']\n"
          ],
          "name": "stdout"
        }
      ]
    },
    {
      "cell_type": "code",
      "metadata": {
        "id": "M0I6Y9EnQJGQ",
        "colab_type": "code",
        "colab": {
          "base_uri": "https://localhost:8080/",
          "height": 54
        },
        "outputId": "e4bf828d-4abc-4802-e75a-14ce405c4a19"
      },
      "source": [
        "rd_tfidf_ss = ranking_dictionary(r_tfidf_ss)\n",
        "print(rd_tfidf_ss)"
      ],
      "execution_count": 553,
      "outputs": [
        {
          "output_type": "stream",
          "text": [
            "[{'title': 'Box - As Melhores Aventuras Do Sítio Do Picapau Amarelo', 'author': 'Monteiro Lobato'}, {'title': 'Manual do Arquiteto Descalço - Capa Dura', 'author': 'Johan Van Lengen'}]\n"
          ],
          "name": "stdout"
        }
      ]
    }
  ]
}