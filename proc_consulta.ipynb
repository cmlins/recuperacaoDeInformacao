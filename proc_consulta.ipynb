{
  "nbformat": 4,
  "nbformat_minor": 0,
  "metadata": {
    "colab": {
      "name": "proc-consulta.ipynb",
      "provenance": [],
      "include_colab_link": true
    },
    "kernelspec": {
      "name": "python3",
      "display_name": "Python 3"
    }
  },
  "cells": [
    {
      "cell_type": "markdown",
      "metadata": {
        "id": "view-in-github",
        "colab_type": "text"
      },
      "source": [
        "<a href=\"https://colab.research.google.com/github/cmlins/recuperacaoDeInformacao/blob/master/proc_consulta.ipynb\" target=\"_parent\"><img src=\"https://colab.research.google.com/assets/colab-badge.svg\" alt=\"Open In Colab\"/></a>"
      ]
    },
    {
      "cell_type": "code",
      "metadata": {
        "id": "Yg1Zldzn83sU",
        "colab_type": "code",
        "colab": {}
      },
      "source": [
        "import pandas as pd\n",
        "import numpy as np\n",
        "import math\n",
        "\n",
        "from bs4 import BeautifulSoup as bs\n",
        "from bs4 import UnicodeDammit"
      ],
      "execution_count": 0,
      "outputs": []
    },
    {
      "cell_type": "code",
      "metadata": {
        "id": "idW0tzZy97j0",
        "colab_type": "code",
        "colab": {
          "base_uri": "https://localhost:8080/",
          "height": 34
        },
        "outputId": "59ec78e6-d2f9-4a6f-a46e-1226c79a698b"
      },
      "source": [
        "from google.colab import drive\n",
        "drive.mount('/content/drive', force_remount=True)"
      ],
      "execution_count": 167,
      "outputs": [
        {
          "output_type": "stream",
          "text": [
            "Mounted at /content/drive\n"
          ],
          "name": "stdout"
        }
      ]
    },
    {
      "cell_type": "markdown",
      "metadata": {
        "id": "LsXqZMt25kA6",
        "colab_type": "text"
      },
      "source": [
        "# Funções"
      ]
    },
    {
      "cell_type": "markdown",
      "metadata": {
        "id": "NO_fCKAo5pia",
        "colab_type": "text"
      },
      "source": [
        "## Parse HTML"
      ]
    },
    {
      "cell_type": "code",
      "metadata": {
        "id": "DxxL1-lIPZ-n",
        "colab_type": "code",
        "colab": {}
      },
      "source": [
        "symbolsToReplace = [\n",
        "    '(', ')', '!', '?', ':', ';', '*', '.', ',', '★', '|', '+', '[', ']', '{', '}', '/', 'ª', 'º', '°', '-',\n",
        "    '%', '—', '@', '#',  '\\\"','\\'', '<', '>', '=', '´', '`', '“', '$', '&', '’', '¡', '€', 'µ', '¦',\n",
        "    '\\\\', '®', '™', '”', '…', '‘', '•', '😍','😙', '❤', '–', '⭐️', '_', '️⭐', '😉', '👏', '¹', '²', '³',\n",
        "    \"£\", '¢', '¬', '§', '~', '^', '×', '÷',\n",
        "    '\\u200c', '\\u200f', '\\u200e', '\\t', '\\xa0', '\\x03', '\\u0301', '\\u0303'\n",
        "]\n",
        "\n",
        "allowedSmallTokens = [\n",
        "  'fio', 'box', 'god', 'key', 'bit', 'led', 'faq', 'dog', 'sim', 'ovo', 'pão', 'aba', 'new'\n",
        "]"
      ],
      "execution_count": 0,
      "outputs": []
    },
    {
      "cell_type": "code",
      "metadata": {
        "id": "JbvXBmpYOeFI",
        "colab_type": "code",
        "colab": {}
      },
      "source": [
        "def getAndCleanHTML(filepath):\n",
        "  \n",
        "  page = open(filepath, \"rb\")\n",
        "\n",
        "  page = page.read()\n",
        "\n",
        "  clearPage = UnicodeDammit.detwingle(page)\n",
        "  \n",
        "  doc = bs(clearPage, 'lxml')\n",
        "  \n",
        "  for script in doc([\"script\", \"style\"]):\n",
        "    script.extract()\n",
        "  \n",
        "  docText = doc.get_text(' ')\n",
        "  \n",
        "  docText = docText.translate({ord(ch): None for ch in '0123456789'})\n",
        "  \n",
        "  docText = docText.lower()\n",
        "  \n",
        "  docText = docText.replace(\"e-book\", \"ebook\")\n",
        "\n",
        "  docText = docText.replace(\"blu-ray\", \"bluray\")\n",
        "  \n",
        "  for symbol in symbolsToReplace:\n",
        "    docText = docText.replace(symbol, ' ')\n",
        "  \n",
        "  docText = docText.replace(\"  \", ' ')\n",
        "  \n",
        "  lines = (line.strip() for line in docText.splitlines())\n",
        "  \n",
        "  chunks = (phrase.strip() for line in lines for phrase in line.split(' '))\n",
        "\n",
        "  text = ' '.join(chunk for chunk in chunks if chunk)\n",
        "  \n",
        "  return text"
      ],
      "execution_count": 0,
      "outputs": []
    },
    {
      "cell_type": "markdown",
      "metadata": {
        "id": "BC7LP_8b5weU",
        "colab_type": "text"
      },
      "source": [
        "## Searching Index"
      ]
    },
    {
      "cell_type": "code",
      "metadata": {
        "id": "qIaJXNHhWsD5",
        "colab_type": "code",
        "colab": {}
      },
      "source": [
        "def handlingQuery(query):\n",
        "  hq = query.split()\n",
        "  return hq"
      ],
      "execution_count": 0,
      "outputs": []
    },
    {
      "cell_type": "code",
      "metadata": {
        "id": "n4t6OcJQUCY5",
        "colab_type": "code",
        "colab": {}
      },
      "source": [
        "def search(q, indice):\n",
        "  hq = handlingQuery(q)\n",
        "  df_search = pd.DataFrame()\n",
        "  for q in hq:\n",
        "    for w in df_indice['Terms'].values:\n",
        "      if w in q:\n",
        "        df_search = df_search.append(df_indice[df_indice['Terms'] == w], ignore_index=True)\n",
        "  return df_search"
      ],
      "execution_count": 0,
      "outputs": []
    },
    {
      "cell_type": "code",
      "metadata": {
        "id": "ujxc9R8kC_Fn",
        "colab_type": "code",
        "colab": {}
      },
      "source": [
        "def docs_list(df):\n",
        "  postings = list()\n",
        "  for r in df.index:\n",
        "    postings.append(df.loc[r,'Posting'])\n",
        "\n",
        "  for i in range(len(postings)):\n",
        "    new_postings = postings[i].split(', ')\n",
        "    new_postings[0] = new_postings[0][1:]\n",
        "    new_postings[len(new_postings)-1] = new_postings[len(new_postings)-1][:-1]\n",
        "    postings[i] = new_postings\n",
        "\n",
        "  p = list()\n",
        "  for i in range(len(postings)):\n",
        "    for j in range(len(postings[i])):\n",
        "      p.append(postings[i][j])\n",
        "\n",
        "  p = list(dict.fromkeys(p))\n",
        "  return p"
      ],
      "execution_count": 0,
      "outputs": []
    },
    {
      "cell_type": "markdown",
      "metadata": {
        "id": "F17dXwQY51ze",
        "colab_type": "text"
      },
      "source": [
        "## Calc Scores"
      ]
    },
    {
      "cell_type": "code",
      "metadata": {
        "id": "ncWI2lhKJjCC",
        "colab_type": "code",
        "colab": {}
      },
      "source": [
        "def calc_tfidf(df_freq):\n",
        "  for r in df_freq.index:\n",
        "    df_freq.at[r, 'Freq'] = math.log(df_arquivos.shape[0]/df_freq.at[r, 'Freq'],10)\n",
        "    for c in range(2, len(df_freq.columns)):\n",
        "      df_freq.iloc[r, c] = np.multiply(df_freq.at[r, 'Freq'], df_freq.iloc[r, c])\n",
        "\n",
        "  return df_freq"
      ],
      "execution_count": 0,
      "outputs": []
    },
    {
      "cell_type": "code",
      "metadata": {
        "id": "4OO3o25fdgWG",
        "colab_type": "code",
        "colab": {}
      },
      "source": [
        "def calc_freq(dl):\n",
        "  df_freq = pd.DataFrame(columns=dl)\n",
        "  df_freq = pd.concat([df_s['Terms'], df_s['Freq'], df_freq], axis=1)\n",
        "\n",
        "  for r in df_freq.index:\n",
        "    for c in range(2, len(df_freq.columns)):\n",
        "      df_freq.iloc[r, c] = 0\n",
        "\n",
        "  df_freq.iloc[:, 1:] = df_freq.iloc[:, 1:].astype(float)\n",
        "\n",
        "  queryl = handlingQuery(q)\n",
        "  for i in range(len(dl)):\n",
        "    doc = getAndCleanHTML(df_arquivos.loc[int(dl[i]),'0'])\n",
        "    doc = doc.split()\n",
        "    for w in doc:\n",
        "      for qw in range(len(queryl)):\n",
        "        if w in queryl[qw]:\n",
        "          df_freq.at[qw, dl[i]] += 1.0\n",
        "\n",
        "  df_freq.iloc[:, 2:] = np.log10(df_freq.iloc[:, 2:])\n",
        "  df_freq = calc_tfidf(df_freq)\n",
        "  return df_freq"
      ],
      "execution_count": 0,
      "outputs": []
    },
    {
      "cell_type": "markdown",
      "metadata": {
        "id": "jtmzUauR59oc",
        "colab_type": "text"
      },
      "source": [
        "## Calc Ranking"
      ]
    },
    {
      "cell_type": "code",
      "metadata": {
        "id": "Nn2u3PuzLkf4",
        "colab_type": "code",
        "colab": {}
      },
      "source": [
        "def calc_rank(df_freq, hq):\n",
        "  df_freq.at[len(df_freq.index),'Terms'] = 'cosine'\n",
        "  df_freq.index = df_freq['Terms']\n",
        "  df_freq = df_freq.iloc[:, 1:]\n",
        "\n",
        "  dv = []\n",
        "  qv = []\n",
        "  for q in hq:\n",
        "    qv.append(1)\n",
        "\n",
        "  for c in range(2, len(df_freq.columns)):\n",
        "    for r in range(len(df_freq.index[:-1])):\n",
        "      dv.append(df_freq.iloc[r,c])\n",
        "    df_freq.iloc[len(df_freq.index)-1, c] = (np.dot(dv, qv) / (np.linalg.norm(dv) * np.linalg.norm(qv)))\n",
        "    dv = []\n",
        "\n",
        "  df_rank = df_freq.sort_values(by='cosine', axis=1, ascending=False)\n",
        "  ranking = df_rank.columns.tolist()\n",
        "  ranking = ranking[:10]\n",
        "  return ranking"
      ],
      "execution_count": 0,
      "outputs": []
    },
    {
      "cell_type": "markdown",
      "metadata": {
        "id": "eC71-qUI6DMS",
        "colab_type": "text"
      },
      "source": [
        "# Main"
      ]
    },
    {
      "cell_type": "code",
      "metadata": {
        "id": "Z_ARdnhn_YV4",
        "colab_type": "code",
        "colab": {}
      },
      "source": [
        "df_indice = pd.read_csv('/content/drive/My Drive/indice_invertido.csv')"
      ],
      "execution_count": 0,
      "outputs": []
    },
    {
      "cell_type": "code",
      "metadata": {
        "id": "7USw5067_1q9",
        "colab_type": "code",
        "colab": {}
      },
      "source": [
        "df_arquivos = pd.read_csv('/content/drive/My Drive/positiveFilesList.csv')"
      ],
      "execution_count": 0,
      "outputs": []
    },
    {
      "cell_type": "code",
      "metadata": {
        "id": "Fk5SUkr1WfyK",
        "colab_type": "code",
        "colab": {
          "base_uri": "https://localhost:8080/",
          "height": 111
        },
        "outputId": "fc428267-8e78-4868-e2d2-6b4dcf152eff"
      },
      "source": [
        "q = 'vidas secas'\n",
        "df_s = search(q,df_indice)\n",
        "df_s.head()"
      ],
      "execution_count": 182,
      "outputs": [
        {
          "output_type": "execute_result",
          "data": {
            "text/html": [
              "<div>\n",
              "<style scoped>\n",
              "    .dataframe tbody tr th:only-of-type {\n",
              "        vertical-align: middle;\n",
              "    }\n",
              "\n",
              "    .dataframe tbody tr th {\n",
              "        vertical-align: top;\n",
              "    }\n",
              "\n",
              "    .dataframe thead th {\n",
              "        text-align: right;\n",
              "    }\n",
              "</style>\n",
              "<table border=\"1\" class=\"dataframe\">\n",
              "  <thead>\n",
              "    <tr style=\"text-align: right;\">\n",
              "      <th></th>\n",
              "      <th>Terms</th>\n",
              "      <th>Freq</th>\n",
              "      <th>Posting</th>\n",
              "      <th>Compress Posting</th>\n",
              "    </tr>\n",
              "  </thead>\n",
              "  <tbody>\n",
              "    <tr>\n",
              "      <th>0</th>\n",
              "      <td>vida</td>\n",
              "      <td>103</td>\n",
              "      <td>[0, 1, 3, 13, 14, 15, 16, 17, 20, 21, 25, 29, ...</td>\n",
              "      <td>[0, 1, 2, 10, 1, 1, 1, 1, 3, 1, 4, 4, 1, 1, 1,...</td>\n",
              "    </tr>\n",
              "    <tr>\n",
              "      <th>1</th>\n",
              "      <td>seca</td>\n",
              "      <td>26</td>\n",
              "      <td>[85, 88, 104, 125, 146, 147, 148, 149, 150, 15...</td>\n",
              "      <td>[85, 3, 16, 21, 21, 1, 1, 1, 1, 1, 1, 1, 1, 1,...</td>\n",
              "    </tr>\n",
              "  </tbody>\n",
              "</table>\n",
              "</div>"
            ],
            "text/plain": [
              "  Terms  ...                                   Compress Posting\n",
              "0  vida  ...  [0, 1, 2, 10, 1, 1, 1, 1, 3, 1, 4, 4, 1, 1, 1,...\n",
              "1  seca  ...  [85, 3, 16, 21, 21, 1, 1, 1, 1, 1, 1, 1, 1, 1,...\n",
              "\n",
              "[2 rows x 4 columns]"
            ]
          },
          "metadata": {
            "tags": []
          },
          "execution_count": 182
        }
      ]
    },
    {
      "cell_type": "code",
      "metadata": {
        "id": "cr7RC6hrcOBU",
        "colab_type": "code",
        "colab": {
          "base_uri": "https://localhost:8080/",
          "height": 54
        },
        "outputId": "245abfea-8d25-456e-afb3-93929d903c01"
      },
      "source": [
        "dl = docs_list(df_s)\n",
        "print(dl)"
      ],
      "execution_count": 183,
      "outputs": [
        {
          "output_type": "stream",
          "text": [
            "['0', '1', '3', '13', '14', '15', '16', '17', '20', '21', '25', '29', '30', '31', '32', '33', '35', '36', '37', '44', '47', '56', '57', '59', '60', '61', '62', '64', '65', '66', '68', '69', '72', '74', '78', '79', '80', '81', '84', '85', '87', '88', '89', '90', '91', '92', '93', '95', '96', '98', '99', '101', '102', '104', '106', '107', '112', '113', '114', '119', '120', '121', '122', '123', '125', '126', '130', '131', '134', '136', '137', '138', '140', '143', '145', '146', '147', '149', '150', '153', '154', '155', '157', '160', '162', '163', '165', '168', '172', '177', '185', '187', '190', '197', '199', '207', '208', '216', '225', '227', '233', '234', '235', '148', '151', '152', '156', '158', '159', '161', '164', '166', '167']\n"
          ],
          "name": "stdout"
        }
      ]
    },
    {
      "cell_type": "code",
      "metadata": {
        "id": "Ypx7TQoDjVQF",
        "colab_type": "code",
        "colab": {
          "base_uri": "https://localhost:8080/",
          "height": 160
        },
        "outputId": "41a09247-5015-4371-c6c1-0f88b58049ac"
      },
      "source": [
        "df_f = calc_freq(dl)\n",
        "df_f.head()"
      ],
      "execution_count": 184,
      "outputs": [
        {
          "output_type": "execute_result",
          "data": {
            "text/html": [
              "<div>\n",
              "<style scoped>\n",
              "    .dataframe tbody tr th:only-of-type {\n",
              "        vertical-align: middle;\n",
              "    }\n",
              "\n",
              "    .dataframe tbody tr th {\n",
              "        vertical-align: top;\n",
              "    }\n",
              "\n",
              "    .dataframe thead th {\n",
              "        text-align: right;\n",
              "    }\n",
              "</style>\n",
              "<table border=\"1\" class=\"dataframe\">\n",
              "  <thead>\n",
              "    <tr style=\"text-align: right;\">\n",
              "      <th></th>\n",
              "      <th>Terms</th>\n",
              "      <th>Freq</th>\n",
              "      <th>0</th>\n",
              "      <th>1</th>\n",
              "      <th>3</th>\n",
              "      <th>13</th>\n",
              "      <th>14</th>\n",
              "      <th>15</th>\n",
              "      <th>16</th>\n",
              "      <th>17</th>\n",
              "      <th>20</th>\n",
              "      <th>21</th>\n",
              "      <th>25</th>\n",
              "      <th>29</th>\n",
              "      <th>30</th>\n",
              "      <th>31</th>\n",
              "      <th>32</th>\n",
              "      <th>33</th>\n",
              "      <th>35</th>\n",
              "      <th>36</th>\n",
              "      <th>37</th>\n",
              "      <th>44</th>\n",
              "      <th>47</th>\n",
              "      <th>56</th>\n",
              "      <th>57</th>\n",
              "      <th>59</th>\n",
              "      <th>60</th>\n",
              "      <th>61</th>\n",
              "      <th>62</th>\n",
              "      <th>64</th>\n",
              "      <th>65</th>\n",
              "      <th>66</th>\n",
              "      <th>68</th>\n",
              "      <th>69</th>\n",
              "      <th>72</th>\n",
              "      <th>74</th>\n",
              "      <th>78</th>\n",
              "      <th>79</th>\n",
              "      <th>80</th>\n",
              "      <th>81</th>\n",
              "      <th>...</th>\n",
              "      <th>143</th>\n",
              "      <th>145</th>\n",
              "      <th>146</th>\n",
              "      <th>147</th>\n",
              "      <th>149</th>\n",
              "      <th>150</th>\n",
              "      <th>153</th>\n",
              "      <th>154</th>\n",
              "      <th>155</th>\n",
              "      <th>157</th>\n",
              "      <th>160</th>\n",
              "      <th>162</th>\n",
              "      <th>163</th>\n",
              "      <th>165</th>\n",
              "      <th>168</th>\n",
              "      <th>172</th>\n",
              "      <th>177</th>\n",
              "      <th>185</th>\n",
              "      <th>187</th>\n",
              "      <th>190</th>\n",
              "      <th>197</th>\n",
              "      <th>199</th>\n",
              "      <th>207</th>\n",
              "      <th>208</th>\n",
              "      <th>216</th>\n",
              "      <th>225</th>\n",
              "      <th>227</th>\n",
              "      <th>233</th>\n",
              "      <th>234</th>\n",
              "      <th>235</th>\n",
              "      <th>148</th>\n",
              "      <th>151</th>\n",
              "      <th>152</th>\n",
              "      <th>156</th>\n",
              "      <th>158</th>\n",
              "      <th>159</th>\n",
              "      <th>161</th>\n",
              "      <th>164</th>\n",
              "      <th>166</th>\n",
              "      <th>167</th>\n",
              "    </tr>\n",
              "  </thead>\n",
              "  <tbody>\n",
              "    <tr>\n",
              "      <th>0</th>\n",
              "      <td>vida</td>\n",
              "      <td>0.374553</td>\n",
              "      <td>0.700126</td>\n",
              "      <td>0.558593</td>\n",
              "      <td>0.688746</td>\n",
              "      <td>0.708689</td>\n",
              "      <td>0.728311</td>\n",
              "      <td>0.683961</td>\n",
              "      <td>0.660497</td>\n",
              "      <td>0.755485</td>\n",
              "      <td>0.764609</td>\n",
              "      <td>0.768986</td>\n",
              "      <td>0.771840</td>\n",
              "      <td>0.763123</td>\n",
              "      <td>0.673948</td>\n",
              "      <td>0.737300</td>\n",
              "      <td>0.740762</td>\n",
              "      <td>0.755485</td>\n",
              "      <td>0.639575</td>\n",
              "      <td>0.691086</td>\n",
              "      <td>0.607992</td>\n",
              "      <td>0.912471</td>\n",
              "      <td>0.495241</td>\n",
              "      <td>0.536121</td>\n",
              "      <td>0.429285</td>\n",
              "      <td>0.529982</td>\n",
              "      <td>0.510039</td>\n",
              "      <td>0.542037</td>\n",
              "      <td>0.510039</td>\n",
              "      <td>0.591712</td>\n",
              "      <td>0.542037</td>\n",
              "      <td>0.611820</td>\n",
              "      <td>0.573619</td>\n",
              "      <td>0.578335</td>\n",
              "      <td>0.516962</td>\n",
              "      <td>0.782779</td>\n",
              "      <td>0.766081</td>\n",
              "      <td>0.787985</td>\n",
              "      <td>0.832524</td>\n",
              "      <td>0.797922</td>\n",
              "      <td>...</td>\n",
              "      <td>0.568763</td>\n",
              "      <td>0.558593</td>\n",
              "      <td>0.636354</td>\n",
              "      <td>0.648873</td>\n",
              "      <td>0.642734</td>\n",
              "      <td>0.578335</td>\n",
              "      <td>0.611820</td>\n",
              "      <td>0.642734</td>\n",
              "      <td>0.645832</td>\n",
              "      <td>0.708689</td>\n",
              "      <td>0.657667</td>\n",
              "      <td>0.607992</td>\n",
              "      <td>0.679031</td>\n",
              "      <td>0.651857</td>\n",
              "      <td>0.404210</td>\n",
              "      <td>0.529982</td>\n",
              "      <td>0.429285</td>\n",
              "      <td>0.440508</td>\n",
              "      <td>0.470166</td>\n",
              "      <td>0.429285</td>\n",
              "      <td>0.417230</td>\n",
              "      <td>0.478960</td>\n",
              "      <td>0.495241</td>\n",
              "      <td>0.573619</td>\n",
              "      <td>0.516962</td>\n",
              "      <td>0.523602</td>\n",
              "      <td>0.529982</td>\n",
              "      <td>0.502808</td>\n",
              "      <td>0.523602</td>\n",
              "      <td>0.516962</td>\n",
              "      <td>0.578335</td>\n",
              "      <td>0.683961</td>\n",
              "      <td>0.626289</td>\n",
              "      <td>0.529982</td>\n",
              "      <td>0.639575</td>\n",
              "      <td>0.688746</td>\n",
              "      <td>0.693394</td>\n",
              "      <td>0.639575</td>\n",
              "      <td>0.619215</td>\n",
              "      <td>0.622790</td>\n",
              "    </tr>\n",
              "    <tr>\n",
              "      <th>1</th>\n",
              "      <td>seca</td>\n",
              "      <td>0.972416</td>\n",
              "      <td>2.028811</td>\n",
              "      <td>1.800194</td>\n",
              "      <td>2.039070</td>\n",
              "      <td>2.296583</td>\n",
              "      <td>2.336834</td>\n",
              "      <td>2.296583</td>\n",
              "      <td>2.331796</td>\n",
              "      <td>2.405969</td>\n",
              "      <td>2.266133</td>\n",
              "      <td>2.163927</td>\n",
              "      <td>2.266133</td>\n",
              "      <td>2.226867</td>\n",
              "      <td>2.077782</td>\n",
              "      <td>2.145954</td>\n",
              "      <td>2.183574</td>\n",
              "      <td>2.110398</td>\n",
              "      <td>2.035678</td>\n",
              "      <td>2.071572</td>\n",
              "      <td>1.895619</td>\n",
              "      <td>2.617711</td>\n",
              "      <td>1.463633</td>\n",
              "      <td>1.422060</td>\n",
              "      <td>1.722006</td>\n",
              "      <td>1.817672</td>\n",
              "      <td>1.800194</td>\n",
              "      <td>1.845284</td>\n",
              "      <td>1.781962</td>\n",
              "      <td>1.905004</td>\n",
              "      <td>1.876199</td>\n",
              "      <td>1.834455</td>\n",
              "      <td>1.676714</td>\n",
              "      <td>1.722006</td>\n",
              "      <td>1.578474</td>\n",
              "      <td>2.171402</td>\n",
              "      <td>2.237559</td>\n",
              "      <td>2.237559</td>\n",
              "      <td>2.241762</td>\n",
              "      <td>2.289174</td>\n",
              "      <td>...</td>\n",
              "      <td>1.775705</td>\n",
              "      <td>1.781962</td>\n",
              "      <td>1.977335</td>\n",
              "      <td>1.957316</td>\n",
              "      <td>2.000168</td>\n",
              "      <td>1.940589</td>\n",
              "      <td>1.949035</td>\n",
              "      <td>2.071572</td>\n",
              "      <td>2.035678</td>\n",
              "      <td>2.101750</td>\n",
              "      <td>2.035678</td>\n",
              "      <td>1.981227</td>\n",
              "      <td>2.055633</td>\n",
              "      <td>2.049086</td>\n",
              "      <td>0.821787</td>\n",
              "      <td>1.083217</td>\n",
              "      <td>1.049414</td>\n",
              "      <td>1.143651</td>\n",
              "      <td>1.083217</td>\n",
              "      <td>1.220648</td>\n",
              "      <td>1.170906</td>\n",
              "      <td>1.699967</td>\n",
              "      <td>1.692357</td>\n",
              "      <td>1.855842</td>\n",
              "      <td>1.699967</td>\n",
              "      <td>1.501477</td>\n",
              "      <td>1.588412</td>\n",
              "      <td>1.407240</td>\n",
              "      <td>1.588412</td>\n",
              "      <td>1.489235</td>\n",
              "      <td>1.931970</td>\n",
              "      <td>2.101750</td>\n",
              "      <td>1.988906</td>\n",
              "      <td>1.861024</td>\n",
              "      <td>2.042435</td>\n",
              "      <td>2.104652</td>\n",
              "      <td>2.028811</td>\n",
              "      <td>2.011138</td>\n",
              "      <td>1.985084</td>\n",
              "      <td>1.957316</td>\n",
              "    </tr>\n",
              "  </tbody>\n",
              "</table>\n",
              "<p>2 rows × 115 columns</p>\n",
              "</div>"
            ],
            "text/plain": [
              "  Terms      Freq         0         1  ...       161       164       166       167\n",
              "0  vida  0.374553  0.700126  0.558593  ...  0.693394  0.639575  0.619215  0.622790\n",
              "1  seca  0.972416  2.028811  1.800194  ...  2.028811  2.011138  1.985084  1.957316\n",
              "\n",
              "[2 rows x 115 columns]"
            ]
          },
          "metadata": {
            "tags": []
          },
          "execution_count": 184
        }
      ]
    },
    {
      "cell_type": "code",
      "metadata": {
        "id": "YxzvEXpnqPDr",
        "colab_type": "code",
        "colab": {
          "base_uri": "https://localhost:8080/",
          "height": 34
        },
        "outputId": "5df434bf-856a-4cfe-bc22-ee321d071874"
      },
      "source": [
        "r = calc_rank(df_f, hq)\n",
        "print(r)"
      ],
      "execution_count": 185,
      "outputs": [
        {
          "output_type": "stream",
          "text": [
            "['168', '172', '187', '177', '122', '185', '56', '120', '131', '80']\n"
          ],
          "name": "stdout"
        }
      ]
    },
    {
      "cell_type": "code",
      "metadata": {
        "id": "NzvTXIiy3iVe",
        "colab_type": "code",
        "colab": {}
      },
      "source": [
        ""
      ],
      "execution_count": 0,
      "outputs": []
    }
  ]
}